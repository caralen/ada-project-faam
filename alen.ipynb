{
 "cells": [
  {
   "cell_type": "code",
   "execution_count": 1,
   "metadata": {},
   "outputs": [],
   "source": [
    "#%matplotlib inline\n",
    "import pandas as pd\n",
    "import numpy as np\n",
    "import matplotlib.pyplot as plt\n",
    "#For interactive plots\n",
    "import ipywidgets as widgets\n",
    "from ipywidgets import interact, interact_manual"
   ]
  },
  {
   "cell_type": "code",
   "execution_count": 2,
   "metadata": {},
   "outputs": [
    {
     "data": {
      "text/html": [
       "<div>\n",
       "<style scoped>\n",
       "    .dataframe tbody tr th:only-of-type {\n",
       "        vertical-align: middle;\n",
       "    }\n",
       "\n",
       "    .dataframe tbody tr th {\n",
       "        vertical-align: top;\n",
       "    }\n",
       "\n",
       "    .dataframe thead th {\n",
       "        text-align: right;\n",
       "    }\n",
       "</style>\n",
       "<table border=\"1\" class=\"dataframe\">\n",
       "  <thead>\n",
       "    <tr style=\"text-align: right;\">\n",
       "      <th></th>\n",
       "      <th>Country</th>\n",
       "      <th>Value</th>\n",
       "    </tr>\n",
       "    <tr>\n",
       "      <th>Year</th>\n",
       "      <th></th>\n",
       "      <th></th>\n",
       "    </tr>\n",
       "  </thead>\n",
       "  <tbody>\n",
       "    <tr>\n",
       "      <th>1961-01-01</th>\n",
       "      <td>Albania</td>\n",
       "      <td>95100.0</td>\n",
       "    </tr>\n",
       "    <tr>\n",
       "      <th>1962-01-01</th>\n",
       "      <td>Albania</td>\n",
       "      <td>92800.0</td>\n",
       "    </tr>\n",
       "    <tr>\n",
       "      <th>1963-01-01</th>\n",
       "      <td>Albania</td>\n",
       "      <td>83500.0</td>\n",
       "    </tr>\n",
       "    <tr>\n",
       "      <th>1964-01-01</th>\n",
       "      <td>Albania</td>\n",
       "      <td>96500.0</td>\n",
       "    </tr>\n",
       "    <tr>\n",
       "      <th>1965-01-01</th>\n",
       "      <td>Albania</td>\n",
       "      <td>109800.0</td>\n",
       "    </tr>\n",
       "  </tbody>\n",
       "</table>\n",
       "</div>"
      ],
      "text/plain": [
       "            Country     Value\n",
       "Year                         \n",
       "1961-01-01  Albania   95100.0\n",
       "1962-01-01  Albania   92800.0\n",
       "1963-01-01  Albania   83500.0\n",
       "1964-01-01  Albania   96500.0\n",
       "1965-01-01  Albania  109800.0"
      ]
     },
     "execution_count": 2,
     "metadata": {},
     "output_type": "execute_result"
    }
   ],
   "source": [
    "livestock = pd.read_csv('data/Production_Livestock_E_All_Data_(Normalized).csv', parse_dates=[7], index_col=7,  encoding='iso-8859-1')\n",
    "beehives = livestock.loc[livestock['Item'] == 'Beehives', ['Area', 'Value']]\n",
    "beehives.columns = ['Country', 'Value']\n",
    "beehives.head()"
   ]
  },
  {
   "cell_type": "code",
   "execution_count": 4,
   "metadata": {},
   "outputs": [],
   "source": [
    "def percentage_change(df, countries, startYear, endYear):\n",
    "    df = df.loc[df.Country.isin(countries)]\n",
    "    \n",
    "    old = np.array(df.loc[df.index == startYear, 'Value'])\n",
    "    new = np.array(df.loc[df.index == endYear, 'Value'])\n",
    "    res = pd.DataFrame((new - old) / old) * 100\n",
    "    res.index = df.Country.unique()\n",
    "    res.columns = ['Value']\n",
    "    \n",
    "    fig = plt.figure(figsize=(15, 8))\n",
    "    plt.bar(x = res.index, height = res.Value, color=(res['Value'] > 0).map({True: 'b', False: 'r'}))\n",
    "    plt.axhline(y = 0,linewidth = 1, color = 'k');"
   ]
  },
  {
   "cell_type": "code",
   "execution_count": 5,
   "metadata": {},
   "outputs": [],
   "source": [
    "continents = ['Africa','Americas', 'Asia',  'Europe', 'Oceania']\n",
    "countries = ['Albania', 'Algeria', 'Angola', 'Argentina', 'Armenia','Australia', 'Austria', 'Azerbaijan', 'Belarus', 'Belgium','Belgium-Luxembourg', 'Belize', 'Bolivia (Plurinational State of)','Bosnia and Herzegovina', 'Brazil', 'Bulgaria', 'Burundi','Cameroon', 'Canada', 'Central African Republic', 'Chad', 'Chile','China', 'Colombia', 'Cook Islands', 'Costa Rica', 'Croatia', 'Cuba','Cyprus', 'Czechia', 'Czechoslovakia', 'Dominican Republic','Ecuador', 'Egypt', 'El Salvador', 'Estonia', 'Ethiopia','Ethiopia PDR', 'Fiji', 'Finland', 'France', 'French Polynesia','Georgia', 'Germany', 'Greece', 'Greenland', 'Guadeloupe', 'Guam','Guatemala', 'Guinea', 'Guinea-Bissau', 'Guyana', 'Haiti','Honduras', 'Hungary', 'India', 'Iran (Islamic Republic of)','Israel', 'Italy', 'Jamaica', 'Japan', 'Jordan', 'Kenya','Kyrgyzstan', 'Latvia', 'Lebanon', 'Libya', 'Liechtenstein','Lithuania', 'Luxembourg', 'Madagascar', 'Mali', 'Martinique','Mexico', 'Mongolia', 'Montenegro', 'Morocco', 'Mozambique','Myanmar', 'Netherlands', 'New Caledonia', 'New Zealand','Nigeria', 'Niue', 'Occupied Palestinian Territory', 'Oman','Pakistan', 'Paraguay', 'Poland', 'Portugal', 'Puerto Rico','Republic of Korea', 'Republic of Moldova', 'Romania','Russian Federation', 'Rwanda', 'Samoa', 'Senegal', 'Serbia','Serbia and Montenegro', 'Slovakia', 'Slovenia', 'South Africa','Spain', 'Sudan', 'Sudan (former)', 'Sweden', 'Switzerland','Syrian Arab Republic', 'Tajikistan','The former Yugoslav Republic of Macedonia', 'Timor-Leste','Tonga', 'Trinidad and Tobago', 'Tunisia', 'Turkey', 'Tuvalu','Uganda', 'Ukraine', 'United Kingdom','United Republic of Tanzania', 'United States of America','Uruguay', 'USSR', 'Uzbekistan','Venezuela (Bolivarian Republic of)', 'Viet Nam','Wallis and Futuna Islands', 'Yemen', 'Yugoslav SFR', 'Zambia']\n",
    "selected_countries = ['Austria', 'Bulgaria', 'Finland', 'France', 'Germany', 'Greece', 'Hungary', 'Italy', 'Poland', 'Portugal', 'Spain', 'Sweden', 'Switzerland', 'Canada', 'Mexico', 'United States of America']"
   ]
  },
  {
   "cell_type": "code",
   "execution_count": 6,
   "metadata": {},
   "outputs": [
    {
     "data": {
      "image/png": "[encoded data removed]",
      "text/plain": [
       "<Figure size 1080x576 with 1 Axes>"
      ]
     },
     "metadata": {
      "needs_background": "light"
     },
     "output_type": "display_data"
    }
   ],
   "source": [
    "percentage_change(beehives, continents, '1961', '2000')"
   ]
  },
  {
   "cell_type": "code",
   "execution_count": 7,
   "metadata": {},
   "outputs": [
    {
     "data": {
      "image/png": "[encoded data removed]",
      "text/plain": [
       "<Figure size 1080x576 with 1 Axes>"
      ]
     },
     "metadata": {
      "needs_background": "light"
     },
     "output_type": "display_data"
    }
   ],
   "source": [
    "percentage_change(beehives, selected_countries, '2010', '2017')"
   ]
  },
  {
   "cell_type": "markdown",
   "metadata": {},
   "source": [
    "# An interactive plot of percentage changes during the years"
   ]
  },
  {
   "cell_type": "code",
   "execution_count": 44,
   "metadata": {},
   "outputs": [
    {
     "data": {
      "application/vnd.jupyter.widget-view+json": {
       "model_id": "969f0bedd8de46c1919174e383332950",
       "version_major": 2,
       "version_minor": 0
      },
      "text/plain": [
       "interactive(children=(IntSlider(value=1961, description='Starting_Year', max=2016, min=1961), IntSlider(value=…"
      ]
     },
     "metadata": {},
     "output_type": "display_data"
    }
   ],
   "source": [
    "beehives_selected = beehives.loc[beehives.Country.isin(selected_countries)]\n",
    "\n",
    "@interact(Starting_Year=(1961, 2016, 1), End_Year=(1962, 2017, 1))\n",
    "def show_beehives_for_country(Starting_Year=1961, End_Year=2017):\n",
    "    \n",
    "    old = np.array(beehives_selected.loc[beehives_selected.index == str(Starting_Year), 'Value'])\n",
    "    new = np.array(beehives_selected.loc[beehives_selected.index == str(End_Year), 'Value'])\n",
    "    \n",
    "    res = pd.DataFrame((new - old) / old) * 100\n",
    "    res.index = beehives_selected.Country.unique()\n",
    "    res.columns = ['Value']\n",
    "    \n",
    "    fig = plt.figure(figsize=(15, 8))\n",
    "    plt.axis([0, len(selected_countries), -150, 500])\n",
    "    plt.bar(x = res.index, height = res.Value, color=(res['Value'] > 0).map({True: 'b', False: 'r'}))\n",
    "    plt.xticks(rotation=45)\n",
    "    plt.axhline(y = 0,linewidth = 1, color = 'k');"
   ]
  },
  {
   "cell_type": "markdown",
   "metadata": {},
   "source": [
    "Here we have a plot of percentage changes for some selected countries during the years. You can use the sliders to change years between which the percentage change is computed."
   ]
  },
  {
   "cell_type": "code",
   "execution_count": null,
   "metadata": {},
   "outputs": [],
   "source": [
    "# beehives_selected = beehives.loc[beehives.Area.isin(selected_countries)]\n",
    "\n",
    "# @interact(Starting_Year=(1961, 2016, 1), End_Year=(1962, 2017, 1))\n",
    "# def show_beehives_for_country(Starting_Year=1961, End_Year=2017):\n",
    "    \n",
    "#     old = np.array(beehives_selected.loc[beehives_selected.Year == Starting_Year, 'Value'])\n",
    "#     new = np.array(beehives_selected.loc[beehives_selected.Year == End_Year, 'Value'])\n",
    "    \n",
    "#     res = pd.DataFrame((new - old) / old) * 100\n",
    "#     res.index = beehives_selected.Area.unique()\n",
    "#     res.columns = ['Value']\n",
    "    \n",
    "#     fig = plt.figure(figsize=(15, 8))\n",
    "#     plt.axis([0, len(selected_countries), -150, 500])\n",
    "#     plt.bar(x = res.index, height = res.Value, color=(res['Value'] > 0).map({True: 'b', False: 'r'}))\n",
    "#     plt.xticks(rotation=45)\n",
    "#     plt.axhline(y = 0,linewidth = 1, color = 'k');"
   ]
  }
 ],
 "metadata": {
  "kernelspec": {
   "display_name": "Python [conda env:ada] *",
   "language": "python",
   "name": "conda-env-ada-py"
  },
  "language_info": {
   "codemirror_mode": {
    "name": "ipython",
    "version": 3
   },
   "file_extension": ".py",
   "mimetype": "text/x-python",
   "name": "python",
   "nbconvert_exporter": "python",
   "pygments_lexer": "ipython3",
   "version": "3.7.4"
  }
 },
 "nbformat": 4,
 "nbformat_minor": 4
}
