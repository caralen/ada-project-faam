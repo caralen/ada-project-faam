{
 "cells": [
  {
   "cell_type": "code",
   "execution_count": null,
   "metadata": {},
   "outputs": [],
   "source": [
    "#%matplotlib inline\n",
    "import pandas as pd\n",
    "import numpy as np\n",
    "import matplotlib.pyplot as plt\n",
    "#For interactive plots\n",
    "import ipywidgets as widgets\n",
    "from ipywidgets import interact, interact_manual"
   ]
  },
  {
   "cell_type": "code",
   "execution_count": null,
   "metadata": {},
   "outputs": [],
   "source": [
    "livestock = pd.read_csv('data/Production_Livestock_E_All_Data_(Normalized).csv', parse_dates=[7], index_col=7,  encoding='iso-8859-1')\n",
    "beehives = livestock.loc[livestock['Item'] == 'Beehives', ['Area', 'Value']]\n",
    "beehives.columns = ['Country', 'Value']\n",
    "beehives.head()"
   ]
  },
  {
   "cell_type": "code",
   "execution_count": null,
   "metadata": {},
   "outputs": [],
   "source": [
    "def percentage_change(df, countries, startYear, endYear):\n",
    "    df = df.loc[df.Country.isin(countries)]\n",
    "    \n",
    "    old = np.array(df.loc[df.index == startYear, 'Value'])\n",
    "    new = np.array(df.loc[df.index == endYear, 'Value'])\n",
    "    res = pd.DataFrame((new - old) / old) * 100\n",
    "    res.index = df.Country.unique()\n",
    "    res.columns = ['Value']\n",
    "    \n",
    "    fig = plt.figure(figsize=(15, 8))\n",
    "    plt.bar(x = res.index, height = res.Value, color=(res['Value'] > 0).map({True: 'b', False: 'r'}))\n",
    "    plt.axhline(y = 0,linewidth = 1, color = 'k');"
   ]
  },
  {
   "cell_type": "code",
   "execution_count": null,
   "metadata": {},
   "outputs": [],
   "source": [
    "continents = ['Africa','Americas', 'Asia',  'Europe', 'Oceania']\n",
    "countries = ['Albania', 'Algeria', 'Angola', 'Argentina', 'Armenia','Australia', 'Austria', 'Azerbaijan', 'Belarus', 'Belgium','Belgium-Luxembourg', 'Belize', 'Bolivia (Plurinational State of)','Bosnia and Herzegovina', 'Brazil', 'Bulgaria', 'Burundi','Cameroon', 'Canada', 'Central African Republic', 'Chad', 'Chile','China', 'Colombia', 'Cook Islands', 'Costa Rica', 'Croatia', 'Cuba','Cyprus', 'Czechia', 'Czechoslovakia', 'Dominican Republic','Ecuador', 'Egypt', 'El Salvador', 'Estonia', 'Ethiopia','Ethiopia PDR', 'Fiji', 'Finland', 'France', 'French Polynesia','Georgia', 'Germany', 'Greece', 'Greenland', 'Guadeloupe', 'Guam','Guatemala', 'Guinea', 'Guinea-Bissau', 'Guyana', 'Haiti','Honduras', 'Hungary', 'India', 'Iran (Islamic Republic of)','Israel', 'Italy', 'Jamaica', 'Japan', 'Jordan', 'Kenya','Kyrgyzstan', 'Latvia', 'Lebanon', 'Libya', 'Liechtenstein','Lithuania', 'Luxembourg', 'Madagascar', 'Mali', 'Martinique','Mexico', 'Mongolia', 'Montenegro', 'Morocco', 'Mozambique','Myanmar', 'Netherlands', 'New Caledonia', 'New Zealand','Nigeria', 'Niue', 'Occupied Palestinian Territory', 'Oman','Pakistan', 'Paraguay', 'Poland', 'Portugal', 'Puerto Rico','Republic of Korea', 'Republic of Moldova', 'Romania','Russian Federation', 'Rwanda', 'Samoa', 'Senegal', 'Serbia','Serbia and Montenegro', 'Slovakia', 'Slovenia', 'South Africa','Spain', 'Sudan', 'Sudan (former)', 'Sweden', 'Switzerland','Syrian Arab Republic', 'Tajikistan','The former Yugoslav Republic of Macedonia', 'Timor-Leste','Tonga', 'Trinidad and Tobago', 'Tunisia', 'Turkey', 'Tuvalu','Uganda', 'Ukraine', 'United Kingdom','United Republic of Tanzania', 'United States of America','Uruguay', 'USSR', 'Uzbekistan','Venezuela (Bolivarian Republic of)', 'Viet Nam','Wallis and Futuna Islands', 'Yemen', 'Yugoslav SFR', 'Zambia']\n",
    "selected_countries = ['Austria', 'Bulgaria', 'Finland', 'France', 'Germany', 'Greece', 'Hungary', 'Italy', 'Poland', 'Portugal', 'Spain', 'Sweden', 'Switzerland', 'Canada', 'Mexico', 'United States of America']"
   ]
  },
  {
   "cell_type": "code",
   "execution_count": null,
   "metadata": {},
   "outputs": [],
   "source": [
    "percentage_change(beehives, continents, '1961', '2000')"
   ]
  },
  {
   "cell_type": "code",
   "execution_count": null,
   "metadata": {},
   "outputs": [],
   "source": [
    "percentage_change(beehives, selected_countries, '2010', '2017')"
   ]
  },
  {
   "cell_type": "markdown",
   "metadata": {},
   "source": [
    "# An interactive plot of percentage changes during the years"
   ]
  },
  {
   "cell_type": "code",
   "execution_count": null,
   "metadata": {},
   "outputs": [],
   "source": [
    "beehives_selected = beehives.loc[beehives.Country.isin(selected_countries)]\n",
    "\n",
    "@interact(Starting_Year=(1961, 2016, 1), End_Year=(1962, 2017, 1))\n",
    "def show_beehives_for_country(Starting_Year=1961, End_Year=2017):\n",
    "    \n",
    "    old = np.array(beehives_selected.loc[beehives_selected.index == str(Starting_Year), 'Value'])\n",
    "    new = np.array(beehives_selected.loc[beehives_selected.index == str(End_Year), 'Value'])\n",
    "    \n",
    "    res = pd.DataFrame((new - old) / old) * 100\n",
    "    res.index = beehives_selected.Country.unique()\n",
    "    res.columns = ['Value']\n",
    "    \n",
    "    fig = plt.figure(figsize=(15, 8))\n",
    "    plt.axis([0, len(selected_countries), -150, 500])\n",
    "    plt.bar(x = res.index, height = res.Value, color=(res['Value'] > 0).map({True: 'b', False: 'r'}))\n",
    "    plt.xticks(rotation=45)\n",
    "    plt.axhline(y = 0,linewidth = 1, color = 'k');"
   ]
  },
  {
   "cell_type": "markdown",
   "metadata": {},
   "source": [
    "Here we have a plot of percentage changes for some selected countries during the years. You can use the sliders to change years between which the percentage change is computed."
   ]
  },
  {
   "cell_type": "markdown",
   "metadata": {},
   "source": [
    "# Fuck yea America"
   ]
  },
  {
   "cell_type": "markdown",
   "metadata": {},
   "source": [
    "Used data from https://www.nass.usda.gov/Surveys/Guide_to_NASS_Surveys/Bee_and_Honey/"
   ]
  },
  {
   "cell_type": "code",
   "execution_count": null,
   "metadata": {},
   "outputs": [],
   "source": [
    "import csv\n",
    "\n",
    "header = [['State', 'Colonies', 'Maximum', 'Lost', 'Percent lost', 'Added', 'Renovated', 'Percent renovated'],\n",
    "            ['State', 'Mites', 'Parasites', 'Diseases', 'Pesticides', 'Other', 'Unknown']]\n",
    "\n",
    "def create_dataframe(path, index):\n",
    "    \n",
    "    title = []\n",
    "    data = []\n",
    "    \n",
    "    with open(path, encoding=\"utf8\", errors='ignore') as input_file:\n",
    "        reader = csv.reader(input_file)\n",
    "        \n",
    "        for cnt, row in enumerate(reader):\n",
    "            \n",
    "            if row[1] == 't':\n",
    "                title.append(row)\n",
    "            \n",
    "#             if row[1] == 'h':\n",
    "#                 header.append(row[2:])\n",
    "                \n",
    "            if row[1] == 'd':\n",
    "                data.append(row[2:])\n",
    "\n",
    "    date = title[1][-1].split('-')[-1]\n",
    "    \n",
    "    df = pd.DataFrame(data)\n",
    "    df.columns = header[index]\n",
    "    df['Date'] = pd.to_datetime(date)\n",
    "    return df[df.State != '']"
   ]
  },
  {
   "cell_type": "code",
   "execution_count": null,
   "metadata": {},
   "outputs": [],
   "source": [
    "folder = 'data/Bees/'\n",
    "\n",
    "files = ['BeeColonies-05-12-2016/hcny_p01_t005.csv', 'BeeColonies-05-12-2016/hcny_p02_t001.csv',\n",
    "        'BeeColonies-05-12-2016/hcny_p03_t007.csv', 'BeeColonies-05-12-2016/hcny_p04_t008.csv',\n",
    "         \n",
    "        'BeeColonies-08-01-2017/hcny_p04_t005.csv', 'BeeColonies-08-01-2017/hcny_p05_t001.csv',\n",
    "        'BeeColonies-08-01-2017/hcny_p06_t007.csv', 'BeeColonies-08-01-2017/hcny_p07_t008.csv',\n",
    "         \n",
    "        'BeeColonies-08-01-2018/hcny_p04_t005.csv', 'BeeColonies-08-01-2018/hcny_p05_t001.csv',\n",
    "        'BeeColonies-08-01-2018/hcny_p06_t007.csv', 'BeeColonies-08-01-2018/hcny_p07_t008.csv',\n",
    "         \n",
    "        'BeeColonies-08-01-2019/hcny_p03_t005.csv', 'BeeColonies-08-01-2019/hcny_p04_t001.csv',\n",
    "        'BeeColonies-08-01-2019/hcny_p05_t007.csv', 'BeeColonies-08-01-2019/hcny_p06_t008.csv',\n",
    "        'BeeColonies-08-01-2019/hcny_p07_t011.csv']\n",
    "\n",
    "files2 = ['BeeColonies-05-12-2016/hcny_p06_t002.csv', 'BeeColonies-05-12-2016/hcny_p07_t013.csv',\n",
    "        'BeeColonies-05-12-2016/hcny_p08_t009.csv', 'BeeColonies-05-12-2016/hcny_p09_t010.csv',\n",
    "         \n",
    "        'BeeColonies-08-01-2017/hcny_p10_t002.csv', 'BeeColonies-08-01-2017/hcny_p11_t013.csv',\n",
    "        'BeeColonies-08-01-2017/hcny_p12_t009.csv', 'BeeColonies-08-01-2017/hcny_p13_t010.csv',\n",
    "         \n",
    "        'BeeColonies-08-01-2018/hcny_p10_t002.csv', 'BeeColonies-08-01-2018/hcny_p11_t013.csv',\n",
    "        'BeeColonies-08-01-2018/hcny_p12_t009.csv', 'BeeColonies-08-01-2018/hcny_p13_t010.csv',\n",
    "         \n",
    "        'BeeColonies-08-01-2019/hcny_p08_t002.csv', 'BeeColonies-08-01-2019/hcny_p09_t013.csv',\n",
    "        'BeeColonies-08-01-2019/hcny_p10_t009.csv', 'BeeColonies-08-01-2019/hcny_p11_t010.csv',\n",
    "        'BeeColonies-08-01-2019/hcny_p12_t012.csv']"
   ]
  },
  {
   "cell_type": "code",
   "execution_count": null,
   "metadata": {},
   "outputs": [],
   "source": [
    "colonies = pd.concat([create_dataframe(folder + file, index=0) for file in files], axis=0)\n",
    "colonies = colonies.reset_index(drop=True)\n",
    "colonies.replace(['(X)', '(Z)', '-'], 0, inplace=True)\n",
    "colonies.iloc[:, 1:-1] = colonies.iloc[:, 1:-1].astype(int)"
   ]
  },
  {
   "cell_type": "code",
   "execution_count": null,
   "metadata": {},
   "outputs": [],
   "source": [
    "colonies"
   ]
  },
  {
   "cell_type": "code",
   "execution_count": null,
   "metadata": {},
   "outputs": [],
   "source": [
    "colonies.loc[colonies.State == 'United States']"
   ]
  },
  {
   "cell_type": "markdown",
   "metadata": {},
   "source": [
    "The next plot shows the number of lost colonies of bees in the US during the period 2015-2019"
   ]
  },
  {
   "cell_type": "code",
   "execution_count": null,
   "metadata": {},
   "outputs": [],
   "source": [
    "column = 'Lost'\n",
    "state = colonies.loc[colonies.State == 'United States', ['Date', column]]\n",
    "plt.plot(state.Date, state[column], label=f'Change in number of colonies {column}')\n",
    "plt.plot(state.Date, [state[column].mean()] * len(state.Date), label=f'Mean number of colonies {column}')\n",
    "plt.xticks(rotation=45)\n",
    "plt.title(f'Number of colonies {column}')\n",
    "plt.xlabel('Date')\n",
    "plt.ylabel('Number of colonies')\n",
    "plt.legend();"
   ]
  },
  {
   "cell_type": "code",
   "execution_count": null,
   "metadata": {},
   "outputs": [],
   "source": [
    "disorder = pd.concat([create_dataframe(folder + file, index=1) for file in files2], axis=0)\n",
    "disorder = disorder.reset_index(drop=True)\n",
    "disorder.replace(['(X)', '(Z)', '-'], 0, inplace=True)\n",
    "disorder.iloc[:, 1:-1] = disorder.iloc[:, 1:-1].astype(float)"
   ]
  },
  {
   "cell_type": "code",
   "execution_count": null,
   "metadata": {},
   "outputs": [],
   "source": [
    "disorder.loc[disorder.State == 'United States']"
   ]
  },
  {
   "cell_type": "markdown",
   "metadata": {},
   "source": [
    "The next plot shows the the percentage of bees died because of mites in the US during the period 2015-2019"
   ]
  },
  {
   "cell_type": "code",
   "execution_count": null,
   "metadata": {},
   "outputs": [],
   "source": [
    "stressor = 'Pesticides'\n",
    "state = disorder.loc[disorder.State == 'United States', ['Date', stressor]]\n",
    "plt.plot(state.Date, state[stressor], label='Percentage change during time')\n",
    "plt.plot(state.Date, [state[stressor].mean()] * len(state.Date), label='Mean percentage')\n",
    "plt.xticks(rotation=45)\n",
    "plt.title(f'Percent of colonies affected by {stressor}')\n",
    "plt.xlabel('Date')\n",
    "plt.ylabel('Percent')\n",
    "plt.legend();"
   ]
  },
  {
   "cell_type": "markdown",
   "metadata": {},
   "source": [
    "Some of the known reasons for the colony losses are mites, parasites, pesticides and diseases. Using the disorder dataframe we can see how percentage of colonies affected by stressors. A colony can be affected by multiple stressors at the same time."
   ]
  },
  {
   "cell_type": "code",
   "execution_count": null,
   "metadata": {},
   "outputs": [],
   "source": [
    "stressor = 'Parasites'\n",
    "\n",
    "state_colonies = colonies.loc[colonies.State == 'United States', ['Date', 'Colonies', 'Lost', 'Percent lost', 'Added', 'Renovated', 'Percent renovated']]\n",
    "state_colonies.set_index('Date', inplace=True)\n",
    "state_disorder = disorder.loc[disorder.State == 'United States', :]\n",
    "state_disorder.set_index('Date', inplace=True)\n",
    "\n",
    "joined = state_colonies.join(state_disorder)\n",
    "joined.drop('State', axis=1, inplace=True)"
   ]
  },
  {
   "cell_type": "code",
   "execution_count": null,
   "metadata": {},
   "outputs": [],
   "source": [
    "joined[stressor] = joined[stressor]/100 * state_colonies['Colonies']"
   ]
  },
  {
   "cell_type": "code",
   "execution_count": null,
   "metadata": {},
   "outputs": [],
   "source": [
    "joined"
   ]
  },
  {
   "cell_type": "code",
   "execution_count": null,
   "metadata": {},
   "outputs": [],
   "source": [
    "joined.corr()"
   ]
  },
  {
   "cell_type": "markdown",
   "metadata": {},
   "source": [
    "Why the fuck are colonies lost and number of colonies positively correlated? Probably because the number of added colonies is correlated to colonies lost. Join the rest of the dataframe and check! Updated in the cells above."
   ]
  },
  {
   "cell_type": "markdown",
   "metadata": {},
   "source": [
    "It actually makes sense. You can look at this correlations from another point of view. If you have more colonies, then you could lose more of them and that's why it's negatively correlated. Why are the stressors and colonies lost negatively correlated? Maybe you can look at this this way: you loose colonies because of those stuff and the more you loose affected colonies, the less affected colonies you will have and that's why all of those are negatively correlated. Because you loose more affected colonies and less not affected!"
   ]
  },
  {
   "cell_type": "markdown",
   "metadata": {},
   "source": [
    "Maybe if I subtract the number of added and renovated colonies from the total number of colonies"
   ]
  },
  {
   "cell_type": "code",
   "execution_count": null,
   "metadata": {},
   "outputs": [],
   "source": [
    "subtracted = joined.copy()\n",
    "subtracted['Colonies'] = subtracted['Colonies'] - subtracted['Added'] - subtracted['Renovated']"
   ]
  },
  {
   "cell_type": "code",
   "execution_count": null,
   "metadata": {},
   "outputs": [],
   "source": [
    "subtracted"
   ]
  },
  {
   "cell_type": "code",
   "execution_count": null,
   "metadata": {},
   "outputs": [],
   "source": [
    "subtracted.corr()"
   ]
  },
  {
   "cell_type": "markdown",
   "metadata": {},
   "source": [
    "This is even worse, number of colonies and colonies lost is almost 70% positively correlated"
   ]
  },
  {
   "cell_type": "code",
   "execution_count": null,
   "metadata": {},
   "outputs": [],
   "source": [
    "plt.plot(subtracted[['Colonies', 'Lost']]);"
   ]
  },
  {
   "cell_type": "markdown",
   "metadata": {},
   "source": [
    "This is weird. I'm sick of this dataset"
   ]
  },
  {
   "cell_type": "markdown",
   "metadata": {},
   "source": [
    "# Government investments"
   ]
  },
  {
   "cell_type": "code",
   "execution_count": null,
   "metadata": {},
   "outputs": [],
   "source": [
    "def read_investments(path, index):\n",
    "    data = []\n",
    "    \n",
    "    with open(path, encoding=\"utf8\", errors='ignore') as input_file:\n",
    "        reader = csv.reader(input_file)\n",
    "        \n",
    "        for cnt, row in enumerate(reader):\n",
    "                \n",
    "            if row[1] == 'd':\n",
    "                data.append(row[2:])\n",
    "    df = pd.DataFrame(data).T[:3]\n",
    "    df.columns = df.iloc[0]\n",
    "    df.drop(0, inplace=True)\n",
    "    df.index = index\n",
    "    return df.astype(int)"
   ]
  },
  {
   "cell_type": "code",
   "execution_count": null,
   "metadata": {},
   "outputs": [],
   "source": [
    "investments = pd.concat([read_investments('data/Honey/Hone-03-22-2017/hony_p06a_t017.csv', [2015, 2016]),\n",
    "                        read_investments('data/Honey/hony0519/hony_p05a_t024.csv', [2017, 2018])])\n",
    "\n",
    "investments"
   ]
  },
  {
   "cell_type": "code",
   "execution_count": null,
   "metadata": {},
   "outputs": [],
   "source": [
    "mask = colonies['Date'].map(lambda x: x.month) == 3\n",
    "selected = colonies.loc[(mask) & (colonies.State == 'United States')].iloc[:-1]\n",
    "selected.index = investments.index\n",
    "selected"
   ]
  },
  {
   "cell_type": "code",
   "execution_count": null,
   "metadata": {},
   "outputs": [],
   "source": [
    "joined = selected.join(investments)\n",
    "joined.drop(['Date', 'State', 'Maximum'], axis=1, inplace=True)\n",
    "joined"
   ]
  },
  {
   "cell_type": "code",
   "execution_count": null,
   "metadata": {},
   "outputs": [],
   "source": [
    "joined.corr()"
   ]
  },
  {
   "cell_type": "markdown",
   "metadata": {},
   "source": [
    "# Fuck yea Europe"
   ]
  },
  {
   "cell_type": "code",
   "execution_count": null,
   "metadata": {},
   "outputs": [],
   "source": [
    "df2016 = pd.read_csv('data/Europe/T0001-10.1080_00218839.2016.1260240.csv')\n",
    "df2016['Year'] = 2016\n",
    "df2017 = pd.read_csv('data/Europe/T0001-10.1080_00218839.2018.1460911.csv')\n",
    "df2017['Year'] = 2017\n",
    "\n",
    "df2018 = pd.read_csv('data/Europe/t0001-10.1080_00218839.2019.1615661.csv')\n",
    "df2018['Year'] = 2018"
   ]
  },
  {
   "cell_type": "code",
   "execution_count": null,
   "metadata": {},
   "outputs": [],
   "source": [
    "df2016.columns = df2016.columns.str.lower()\n",
    "df2017.columns = df2017.columns.str.lower()\n",
    "df2018.columns = df2018.columns.str.lower()\n",
    "\n",
    "df2017 = df2017.loc[:, df2016.columns]\n",
    "df2018 = df2018.loc[:, df2016.columns]"
   ]
  },
  {
   "cell_type": "code",
   "execution_count": null,
   "metadata": {},
   "outputs": [],
   "source": [
    "joined = df2016.append(df2017.append(df2018))"
   ]
  },
  {
   "cell_type": "code",
   "execution_count": null,
   "metadata": {},
   "outputs": [],
   "source": [
    "joined.loc[joined['country'] == 'Croatia']"
   ]
  }
 ],
 "metadata": {
  "kernelspec": {
   "display_name": "Python 3",
   "language": "python",
   "name": "python3"
  },
  "language_info": {
   "codemirror_mode": {
    "name": "ipython",
    "version": 3
   },
   "file_extension": ".py",
   "mimetype": "text/x-python",
   "name": "python",
   "nbconvert_exporter": "python",
   "pygments_lexer": "ipython3",
   "version": "3.7.3"
  }
 },
 "nbformat": 4,
 "nbformat_minor": 4
}
