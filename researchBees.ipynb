{
 "cells": [
  {
   "cell_type": "code",
   "execution_count": 1,
   "metadata": {},
   "outputs": [],
   "source": [
    "# generally useful imports\n",
    "import pandas as pd\n",
    "import numpy as np\n",
    "import matplotlib.pyplot as plt\n",
    "\n",
    "# For interactive plots\n",
    "import ipywidgets as widgets\n",
    "from ipywidgets import interact, interact_manual"
   ]
  },
  {
   "cell_type": "markdown",
   "metadata": {},
   "source": [
    "# Introduction"
   ]
  },
  {
   "cell_type": "markdown",
   "metadata": {},
   "source": [
    "In our analysis we use multiple Datasets of the **Food and Agriculture Organization of the United Nations** (Faostat). \n",
    "We start by exploring the Production Livestock Dataset which gives us an broader view of the *Beehives Population* in the world and more fine grained in different continents and countries. \n",
    "The following cell describes the research question we plan to solve during our analysis. "
   ]
  },
  {
   "cell_type": "markdown",
   "metadata": {},
   "source": [
    "**Research questions**\n",
    "- How is the beehives population distributed throughout the world?\n",
    "- How is the population changing over time?\n",
    "- Influence of reduction/growth of beehives population?\n",
    "- Does the reduction/growth of beehives affect other factors?\n",
    "- Can we find patterns why beehives reduce/grow in population?\n",
    "- Will the bees survive?"
   ]
  },
  {
   "cell_type": "markdown",
   "metadata": {},
   "source": [
    "# Data Analysis"
   ]
  },
  {
   "cell_type": "markdown",
   "metadata": {},
   "source": [
    "### Load the data"
   ]
  },
  {
   "cell_type": "markdown",
   "metadata": {},
   "source": [
    "We simply start our analysis by loading the *Live Animals* dataset (called Production Livestock), which shows us the annual number of different animals between 1961 and 2017. Since we only care about beehives we have to filter our dataset according to this item. Within the group of animals are also beehives, which we us as a value of the total number of bees. Faostat defines beehives to be \"an artificial habitation for bees\".  \n",
    "\n"
   ]
  },
  {
   "cell_type": "code",
   "execution_count": 2,
   "metadata": {},
   "outputs": [],
   "source": [
    "#load the data\n",
    "livestock = pd.read_csv('data/Production_Livestock_E_All_Data_(Normalized).csv',  encoding='iso-8859-1')"
   ]
  },
  {
   "cell_type": "code",
   "execution_count": 3,
   "metadata": {},
   "outputs": [
    {
     "data": {
      "text/plain": [
       "array(['Asses', 'Camels', 'Cattle', 'Chickens', 'Goats', 'Horses',\n",
       "       'Mules', 'Sheep', 'Cattle and Buffaloes', 'Poultry Birds',\n",
       "       'Sheep and Goats', 'Beehives', 'Buffaloes', 'Ducks',\n",
       "       'Geese and guinea fowls', 'Pigs', 'Turkeys', 'Rabbits and hares',\n",
       "       'Camelids, other', 'Rodents, other', 'Animals live nes',\n",
       "       'Pigeons, other birds'], dtype=object)"
      ]
     },
     "execution_count": 3,
     "metadata": {},
     "output_type": "execute_result"
    }
   ],
   "source": [
    "livestock.Item.unique()"
   ]
  },
  {
   "cell_type": "code",
   "execution_count": 4,
   "metadata": {},
   "outputs": [
    {
     "data": {
      "text/html": [
       "<div>\n",
       "<style scoped>\n",
       "    .dataframe tbody tr th:only-of-type {\n",
       "        vertical-align: middle;\n",
       "    }\n",
       "\n",
       "    .dataframe tbody tr th {\n",
       "        vertical-align: top;\n",
       "    }\n",
       "\n",
       "    .dataframe thead th {\n",
       "        text-align: right;\n",
       "    }\n",
       "</style>\n",
       "<table border=\"1\" class=\"dataframe\">\n",
       "  <thead>\n",
       "    <tr style=\"text-align: right;\">\n",
       "      <th></th>\n",
       "      <th>Area Code</th>\n",
       "      <th>Area</th>\n",
       "      <th>Item Code</th>\n",
       "      <th>Item</th>\n",
       "      <th>Element Code</th>\n",
       "      <th>Element</th>\n",
       "      <th>Year Code</th>\n",
       "      <th>Year</th>\n",
       "      <th>Unit</th>\n",
       "      <th>Value</th>\n",
       "      <th>Flag</th>\n",
       "    </tr>\n",
       "  </thead>\n",
       "  <tbody>\n",
       "    <tr>\n",
       "      <th>684</th>\n",
       "      <td>3</td>\n",
       "      <td>Albania</td>\n",
       "      <td>1181</td>\n",
       "      <td>Beehives</td>\n",
       "      <td>5114</td>\n",
       "      <td>Stocks</td>\n",
       "      <td>1961</td>\n",
       "      <td>1961</td>\n",
       "      <td>No</td>\n",
       "      <td>95100.0</td>\n",
       "      <td>NaN</td>\n",
       "    </tr>\n",
       "    <tr>\n",
       "      <th>685</th>\n",
       "      <td>3</td>\n",
       "      <td>Albania</td>\n",
       "      <td>1181</td>\n",
       "      <td>Beehives</td>\n",
       "      <td>5114</td>\n",
       "      <td>Stocks</td>\n",
       "      <td>1962</td>\n",
       "      <td>1962</td>\n",
       "      <td>No</td>\n",
       "      <td>92800.0</td>\n",
       "      <td>NaN</td>\n",
       "    </tr>\n",
       "    <tr>\n",
       "      <th>686</th>\n",
       "      <td>3</td>\n",
       "      <td>Albania</td>\n",
       "      <td>1181</td>\n",
       "      <td>Beehives</td>\n",
       "      <td>5114</td>\n",
       "      <td>Stocks</td>\n",
       "      <td>1963</td>\n",
       "      <td>1963</td>\n",
       "      <td>No</td>\n",
       "      <td>83500.0</td>\n",
       "      <td>NaN</td>\n",
       "    </tr>\n",
       "    <tr>\n",
       "      <th>687</th>\n",
       "      <td>3</td>\n",
       "      <td>Albania</td>\n",
       "      <td>1181</td>\n",
       "      <td>Beehives</td>\n",
       "      <td>5114</td>\n",
       "      <td>Stocks</td>\n",
       "      <td>1964</td>\n",
       "      <td>1964</td>\n",
       "      <td>No</td>\n",
       "      <td>96500.0</td>\n",
       "      <td>NaN</td>\n",
       "    </tr>\n",
       "    <tr>\n",
       "      <th>688</th>\n",
       "      <td>3</td>\n",
       "      <td>Albania</td>\n",
       "      <td>1181</td>\n",
       "      <td>Beehives</td>\n",
       "      <td>5114</td>\n",
       "      <td>Stocks</td>\n",
       "      <td>1965</td>\n",
       "      <td>1965</td>\n",
       "      <td>No</td>\n",
       "      <td>109800.0</td>\n",
       "      <td>NaN</td>\n",
       "    </tr>\n",
       "  </tbody>\n",
       "</table>\n",
       "</div>"
      ],
      "text/plain": [
       "     Area Code     Area  Item Code      Item  Element Code Element  Year Code  \\\n",
       "684          3  Albania       1181  Beehives          5114  Stocks       1961   \n",
       "685          3  Albania       1181  Beehives          5114  Stocks       1962   \n",
       "686          3  Albania       1181  Beehives          5114  Stocks       1963   \n",
       "687          3  Albania       1181  Beehives          5114  Stocks       1964   \n",
       "688          3  Albania       1181  Beehives          5114  Stocks       1965   \n",
       "\n",
       "     Year Unit     Value Flag  \n",
       "684  1961   No   95100.0  NaN  \n",
       "685  1962   No   92800.0  NaN  \n",
       "686  1963   No   83500.0  NaN  \n",
       "687  1964   No   96500.0  NaN  \n",
       "688  1965   No  109800.0  NaN  "
      ]
     },
     "execution_count": 4,
     "metadata": {},
     "output_type": "execute_result"
    }
   ],
   "source": [
    "beehives = livestock.loc[livestock['Item'] == 'Beehives']\n",
    "beehives.head()"
   ]
  },
  {
   "cell_type": "markdown",
   "metadata": {},
   "source": [
    "## We further clean our Dataset"
   ]
  },
  {
   "cell_type": "markdown",
   "metadata": {},
   "source": [
    "During this process we are cleaning our dataset in order to be able to use throughout our analysis. \n",
    "We first observed the \"Area\" field not to be consistent and needed to split the dataset into smaller subcategories (i.e. countries, continent)."
   ]
  },
  {
   "cell_type": "code",
   "execution_count": 5,
   "metadata": {
    "scrolled": true
   },
   "outputs": [
    {
     "data": {
      "text/plain": [
       "array(['Albania', 'Algeria', 'Angola', 'Argentina', 'Armenia',\n",
       "       'Australia', 'Austria', 'Azerbaijan', 'Belarus', 'Belgium',\n",
       "       'Belgium-Luxembourg', 'Belize', 'Bolivia (Plurinational State of)',\n",
       "       'Bosnia and Herzegovina', 'Brazil', 'Bulgaria', 'Burundi',\n",
       "       'Cameroon', 'Canada', 'Central African Republic', 'Chad', 'Chile',\n",
       "       'China', 'China, mainland', 'China, Taiwan Province of',\n",
       "       'Colombia', 'Cook Islands', 'Costa Rica', 'Croatia', 'Cuba',\n",
       "       'Cyprus', 'Czechia', 'Czechoslovakia', 'Dominican Republic',\n",
       "       'Ecuador', 'Egypt', 'El Salvador', 'Estonia', 'Ethiopia',\n",
       "       'Ethiopia PDR', 'Fiji', 'Finland', 'France', 'French Polynesia',\n",
       "       'Georgia', 'Germany', 'Greece', 'Greenland', 'Guadeloupe', 'Guam',\n",
       "       'Guatemala', 'Guinea', 'Guinea-Bissau', 'Guyana', 'Haiti',\n",
       "       'Honduras', 'Hungary', 'India', 'Iran (Islamic Republic of)',\n",
       "       'Israel', 'Italy', 'Jamaica', 'Japan', 'Jordan', 'Kenya',\n",
       "       'Kyrgyzstan', 'Latvia', 'Lebanon', 'Libya', 'Liechtenstein',\n",
       "       'Lithuania', 'Luxembourg', 'Madagascar', 'Mali', 'Martinique',\n",
       "       'Mexico', 'Mongolia', 'Montenegro', 'Morocco', 'Mozambique',\n",
       "       'Myanmar', 'Netherlands', 'New Caledonia', 'New Zealand',\n",
       "       'Nigeria', 'Niue', 'Occupied Palestinian Territory', 'Oman',\n",
       "       'Pakistan', 'Paraguay', 'Poland', 'Portugal', 'Puerto Rico',\n",
       "       'Republic of Korea', 'Republic of Moldova', 'Romania',\n",
       "       'Russian Federation', 'Rwanda', 'Samoa', 'Senegal', 'Serbia',\n",
       "       'Serbia and Montenegro', 'Slovakia', 'Slovenia', 'South Africa',\n",
       "       'Spain', 'Sudan', 'Sudan (former)', 'Sweden', 'Switzerland',\n",
       "       'Syrian Arab Republic', 'Tajikistan',\n",
       "       'The former Yugoslav Republic of Macedonia', 'Timor-Leste',\n",
       "       'Tonga', 'Trinidad and Tobago', 'Tunisia', 'Turkey', 'Tuvalu',\n",
       "       'Uganda', 'Ukraine', 'United Kingdom',\n",
       "       'United Republic of Tanzania', 'United States of America',\n",
       "       'Uruguay', 'USSR', 'Uzbekistan',\n",
       "       'Venezuela (Bolivarian Republic of)', 'Viet Nam',\n",
       "       'Wallis and Futuna Islands', 'Yemen', 'Yugoslav SFR', 'Zambia',\n",
       "       'World', 'Africa', 'Eastern Africa', 'Middle Africa',\n",
       "       'Northern Africa', 'Southern Africa', 'Western Africa', 'Americas',\n",
       "       'Northern America', 'Central America', 'Caribbean',\n",
       "       'South America', 'Asia', 'Central Asia', 'Eastern Asia',\n",
       "       'Southern Asia', 'South-Eastern Asia', 'Western Asia', 'Europe',\n",
       "       'Eastern Europe', 'Northern Europe', 'Southern Europe',\n",
       "       'Western Europe', 'Oceania', 'Australia & New Zealand',\n",
       "       'Melanesia', 'Micronesia', 'Polynesia', 'European Union',\n",
       "       'Least Developed Countries', 'Land Locked Developing Countries',\n",
       "       'Small Island Developing States',\n",
       "       'Low Income Food Deficit Countries',\n",
       "       'Net Food Importing Developing Countries'], dtype=object)"
      ]
     },
     "execution_count": 5,
     "metadata": {},
     "output_type": "execute_result"
    }
   ],
   "source": [
    "beehives.Area.unique()"
   ]
  },
  {
   "cell_type": "markdown",
   "metadata": {},
   "source": [
    "This looks like a lot of countries.\n",
    "We can further split the countries and see that they actually have countries, continents, regions, consolidations and areas are already reasonably grouped within the data. \n",
    "We further explore that some of the countries do not exist anymore. We will take this as given. We could observe that USSR as well as Yugoslavia splitted in 1992. We can use this fact to have a look at the last 25 Years of bees. "
   ]
  },
  {
   "cell_type": "code",
   "execution_count": 143,
   "metadata": {},
   "outputs": [],
   "source": [
    "countries = ['Albania', 'Algeria', 'Angola', 'Argentina', 'Armenia','Australia', 'Austria', 'Azerbaijan', 'Belarus', 'Belgium','Belgium-Luxembourg', 'Belize', 'Bolivia (Plurinational State of)','Bosnia and Herzegovina', 'Brazil', 'Bulgaria', 'Burundi','Cameroon', 'Canada', 'Central African Republic', 'Chad', 'Chile','China', 'Colombia', 'Cook Islands', 'Costa Rica', 'Croatia', 'Cuba','Cyprus', 'Czechia', 'Czechoslovakia', 'Dominican Republic','Ecuador', 'Egypt', 'El Salvador', 'Estonia', 'Ethiopia','Ethiopia PDR', 'Fiji', 'Finland', 'France', 'French Polynesia','Georgia', 'Germany', 'Greece', 'Greenland', 'Guadeloupe', 'Guam','Guatemala', 'Guinea', 'Guinea-Bissau', 'Guyana', 'Haiti','Honduras', 'Hungary', 'India', 'Iran (Islamic Republic of)','Israel', 'Italy', 'Jamaica', 'Japan', 'Jordan', 'Kenya','Kyrgyzstan', 'Latvia', 'Lebanon', 'Libya', 'Liechtenstein','Lithuania', 'Luxembourg', 'Madagascar', 'Mali', 'Martinique','Mexico', 'Mongolia', 'Montenegro', 'Morocco', 'Mozambique','Myanmar', 'Netherlands', 'New Caledonia', 'New Zealand','Nigeria', 'Niue', 'Occupied Palestinian Territory', 'Oman','Pakistan', 'Paraguay', 'Poland', 'Portugal', 'Puerto Rico','Republic of Korea', 'Republic of Moldova', 'Romania','Russian Federation', 'Rwanda', 'Samoa', 'Senegal', 'Serbia','Serbia and Montenegro', 'Slovakia', 'Slovenia', 'South Africa','Spain', 'Sudan', 'Sudan (former)', 'Sweden', 'Switzerland','Syrian Arab Republic', 'Tajikistan','The former Yugoslav Republic of Macedonia', 'Timor-Leste','Tonga', 'Trinidad and Tobago', 'Tunisia', 'Turkey', 'Tuvalu','Uganda', 'Ukraine', 'United Kingdom','United Republic of Tanzania', 'United States of America','Uruguay', 'USSR', 'Uzbekistan','Venezuela (Bolivarian Republic of)', 'Viet Nam','Wallis and Futuna Islands', 'Yemen', 'Yugoslav SFR', 'Zambia']\n",
    "world = ['World']\n",
    "continents = ['Africa','Americas', 'Asia',  'Europe', 'Oceania']\n",
    "regions = ['Eastern Africa', 'Middle Africa', 'Northern Africa', 'Southern Africa', 'Western Africa', 'Northern America', 'South America', 'Central America', 'Caribbean','Central Asia', 'Eastern Asia', 'Southern Asia', 'South-Eastern Asia', 'Western Asia', 'Eastern Europe', 'Northern Europe', 'Southern Europe', 'Western Europe', 'Melanesia', 'Micronesia', 'Polynesia', 'Australia & New Zealand']\n",
    "consolidations = ['European Union', 'China, mainland', 'China, Taiwan Province of']\n",
    "index_based = ['Least Developed Countries', 'Land Locked Developing Countries','Small Island Developing States','Low Income Food Deficit Countries', 'Net Food Importing Developing Countries']"
   ]
  },
  {
   "cell_type": "code",
   "execution_count": 7,
   "metadata": {},
   "outputs": [],
   "source": [
    "beehives_countries = beehives[beehives['Area'].isin(countries)]\n",
    "beehives_world = beehives.loc[beehives['Area'] == 'World']\n",
    "beehives_continents = beehives[beehives['Area'].isin(continents)]\n",
    "beehives_regions = beehives[beehives['Area'].isin(regions)]\n",
    "beehives_consolidations = beehives.loc[beehives['Area'] == 'European Union']\n",
    "beehives_index_based = beehives[beehives['Area'].isin(index_based)]\n"
   ]
  },
  {
   "cell_type": "markdown",
   "metadata": {},
   "source": [
    "## Beehives population over time and area (Let us plot the world)"
   ]
  },
  {
   "cell_type": "markdown",
   "metadata": {},
   "source": [
    "Luckily we have a world column which is the sum of the number of beehives over all countries. \n",
    "So we first simply plot the world Distribution.  \n",
    "Like this we can start answering our first two research questions how is the bees population changing over time. Further analysis helped us answering how the bee population is distributed. "
   ]
  },
  {
   "cell_type": "markdown",
   "metadata": {},
   "source": [
    "First a world plot."
   ]
  },
  {
   "cell_type": "code",
   "execution_count": 8,
   "metadata": {},
   "outputs": [
    {
     "data": {
      "text/plain": [
       "(1960, 2020)"
      ]
     },
     "execution_count": 8,
     "metadata": {},
     "output_type": "execute_result"
    },
    {
     "data": {
      "image/png": "[encoded data removed]",
      "text/plain": [
       "<Figure size 432x288 with 1 Axes>"
      ]
     },
     "metadata": {
      "needs_background": "light"
     },
     "output_type": "display_data"
    }
   ],
   "source": [
    "plt.plot(beehives_world['Year'], beehives_world['Value'])\n",
    "plt.title('No of Beehives in the world per year')\n",
    "plt.xlabel('Years')\n",
    "plt.ylabel('No of Beehives')\n",
    "plt.xlim(1960, 2020)"
   ]
  },
  {
   "cell_type": "markdown",
   "metadata": {},
   "source": [
    "This plot gives us some useful information! This was not what we expected.   \n",
    "We observe an increasing number of beehives. But wasn't everyone saying bees are dying?  \n",
    "We can further notice a drop of beehives between 1991 and 2000. Where does this drop come from? "
   ]
  },
  {
   "cell_type": "markdown",
   "metadata": {},
   "source": [
    "## Oh we actually see the number of bees are increasing!"
   ]
  },
  {
   "cell_type": "markdown",
   "metadata": {},
   "source": [
    "By how much is the number increasing? "
   ]
  },
  {
   "cell_type": "code",
   "execution_count": 9,
   "metadata": {},
   "outputs": [
    {
     "data": {
      "text/plain": [
       "1.8505857822977034"
      ]
     },
     "execution_count": 9,
     "metadata": {},
     "output_type": "execute_result"
    }
   ],
   "source": [
    "firstYear = int(beehives_world[beehives_world['Year'] == 1961]['Value'])\n",
    "lastYear = int(beehives_world[beehives_world['Year'] == 2017]['Value'])\n",
    "lastYear/firstYear"
   ]
  },
  {
   "cell_type": "markdown",
   "metadata": {},
   "source": [
    "In fact we have an increase of 185.06% over the last 56 Years. "
   ]
  },
  {
   "cell_type": "markdown",
   "metadata": {},
   "source": [
    "Looking only at the world between 1990 and 2000 we actually see a drop. We ellaborate further on this. "
   ]
  },
  {
   "cell_type": "code",
   "execution_count": 10,
   "metadata": {},
   "outputs": [
    {
     "data": {
      "text/html": [
       "<div>\n",
       "<style scoped>\n",
       "    .dataframe tbody tr th:only-of-type {\n",
       "        vertical-align: middle;\n",
       "    }\n",
       "\n",
       "    .dataframe tbody tr th {\n",
       "        vertical-align: top;\n",
       "    }\n",
       "\n",
       "    .dataframe thead th {\n",
       "        text-align: right;\n",
       "    }\n",
       "</style>\n",
       "<table border=\"1\" class=\"dataframe\">\n",
       "  <thead>\n",
       "    <tr style=\"text-align: right;\">\n",
       "      <th></th>\n",
       "      <th>Area Code</th>\n",
       "      <th>Area</th>\n",
       "      <th>Item Code</th>\n",
       "      <th>Item</th>\n",
       "      <th>Element Code</th>\n",
       "      <th>Element</th>\n",
       "      <th>Year Code</th>\n",
       "      <th>Year</th>\n",
       "      <th>Unit</th>\n",
       "      <th>Value</th>\n",
       "      <th>Flag</th>\n",
       "    </tr>\n",
       "  </thead>\n",
       "  <tbody>\n",
       "    <tr>\n",
       "      <th>137264</th>\n",
       "      <td>5000</td>\n",
       "      <td>World</td>\n",
       "      <td>1181</td>\n",
       "      <td>Beehives</td>\n",
       "      <td>5114</td>\n",
       "      <td>Stocks</td>\n",
       "      <td>1990</td>\n",
       "      <td>1990</td>\n",
       "      <td>No</td>\n",
       "      <td>69237913.0</td>\n",
       "      <td>A</td>\n",
       "    </tr>\n",
       "    <tr>\n",
       "      <th>137265</th>\n",
       "      <td>5000</td>\n",
       "      <td>World</td>\n",
       "      <td>1181</td>\n",
       "      <td>Beehives</td>\n",
       "      <td>5114</td>\n",
       "      <td>Stocks</td>\n",
       "      <td>1991</td>\n",
       "      <td>1991</td>\n",
       "      <td>No</td>\n",
       "      <td>69952217.0</td>\n",
       "      <td>A</td>\n",
       "    </tr>\n",
       "    <tr>\n",
       "      <th>137266</th>\n",
       "      <td>5000</td>\n",
       "      <td>World</td>\n",
       "      <td>1181</td>\n",
       "      <td>Beehives</td>\n",
       "      <td>5114</td>\n",
       "      <td>Stocks</td>\n",
       "      <td>1992</td>\n",
       "      <td>1992</td>\n",
       "      <td>No</td>\n",
       "      <td>67491710.0</td>\n",
       "      <td>A</td>\n",
       "    </tr>\n",
       "    <tr>\n",
       "      <th>137267</th>\n",
       "      <td>5000</td>\n",
       "      <td>World</td>\n",
       "      <td>1181</td>\n",
       "      <td>Beehives</td>\n",
       "      <td>5114</td>\n",
       "      <td>Stocks</td>\n",
       "      <td>1993</td>\n",
       "      <td>1993</td>\n",
       "      <td>No</td>\n",
       "      <td>66704017.0</td>\n",
       "      <td>A</td>\n",
       "    </tr>\n",
       "    <tr>\n",
       "      <th>137268</th>\n",
       "      <td>5000</td>\n",
       "      <td>World</td>\n",
       "      <td>1181</td>\n",
       "      <td>Beehives</td>\n",
       "      <td>5114</td>\n",
       "      <td>Stocks</td>\n",
       "      <td>1994</td>\n",
       "      <td>1994</td>\n",
       "      <td>No</td>\n",
       "      <td>66102588.0</td>\n",
       "      <td>A</td>\n",
       "    </tr>\n",
       "    <tr>\n",
       "      <th>137269</th>\n",
       "      <td>5000</td>\n",
       "      <td>World</td>\n",
       "      <td>1181</td>\n",
       "      <td>Beehives</td>\n",
       "      <td>5114</td>\n",
       "      <td>Stocks</td>\n",
       "      <td>1995</td>\n",
       "      <td>1995</td>\n",
       "      <td>No</td>\n",
       "      <td>66163866.0</td>\n",
       "      <td>A</td>\n",
       "    </tr>\n",
       "    <tr>\n",
       "      <th>137270</th>\n",
       "      <td>5000</td>\n",
       "      <td>World</td>\n",
       "      <td>1181</td>\n",
       "      <td>Beehives</td>\n",
       "      <td>5114</td>\n",
       "      <td>Stocks</td>\n",
       "      <td>1996</td>\n",
       "      <td>1996</td>\n",
       "      <td>No</td>\n",
       "      <td>65992745.0</td>\n",
       "      <td>A</td>\n",
       "    </tr>\n",
       "    <tr>\n",
       "      <th>137271</th>\n",
       "      <td>5000</td>\n",
       "      <td>World</td>\n",
       "      <td>1181</td>\n",
       "      <td>Beehives</td>\n",
       "      <td>5114</td>\n",
       "      <td>Stocks</td>\n",
       "      <td>1997</td>\n",
       "      <td>1997</td>\n",
       "      <td>No</td>\n",
       "      <td>65933672.0</td>\n",
       "      <td>A</td>\n",
       "    </tr>\n",
       "    <tr>\n",
       "      <th>137272</th>\n",
       "      <td>5000</td>\n",
       "      <td>World</td>\n",
       "      <td>1181</td>\n",
       "      <td>Beehives</td>\n",
       "      <td>5114</td>\n",
       "      <td>Stocks</td>\n",
       "      <td>1998</td>\n",
       "      <td>1998</td>\n",
       "      <td>No</td>\n",
       "      <td>66607596.0</td>\n",
       "      <td>A</td>\n",
       "    </tr>\n",
       "    <tr>\n",
       "      <th>137273</th>\n",
       "      <td>5000</td>\n",
       "      <td>World</td>\n",
       "      <td>1181</td>\n",
       "      <td>Beehives</td>\n",
       "      <td>5114</td>\n",
       "      <td>Stocks</td>\n",
       "      <td>1999</td>\n",
       "      <td>1999</td>\n",
       "      <td>No</td>\n",
       "      <td>67072126.0</td>\n",
       "      <td>A</td>\n",
       "    </tr>\n",
       "    <tr>\n",
       "      <th>137274</th>\n",
       "      <td>5000</td>\n",
       "      <td>World</td>\n",
       "      <td>1181</td>\n",
       "      <td>Beehives</td>\n",
       "      <td>5114</td>\n",
       "      <td>Stocks</td>\n",
       "      <td>2000</td>\n",
       "      <td>2000</td>\n",
       "      <td>No</td>\n",
       "      <td>69300054.0</td>\n",
       "      <td>A</td>\n",
       "    </tr>\n",
       "  </tbody>\n",
       "</table>\n",
       "</div>"
      ],
      "text/plain": [
       "        Area Code   Area  Item Code      Item  Element Code Element  \\\n",
       "137264       5000  World       1181  Beehives          5114  Stocks   \n",
       "137265       5000  World       1181  Beehives          5114  Stocks   \n",
       "137266       5000  World       1181  Beehives          5114  Stocks   \n",
       "137267       5000  World       1181  Beehives          5114  Stocks   \n",
       "137268       5000  World       1181  Beehives          5114  Stocks   \n",
       "137269       5000  World       1181  Beehives          5114  Stocks   \n",
       "137270       5000  World       1181  Beehives          5114  Stocks   \n",
       "137271       5000  World       1181  Beehives          5114  Stocks   \n",
       "137272       5000  World       1181  Beehives          5114  Stocks   \n",
       "137273       5000  World       1181  Beehives          5114  Stocks   \n",
       "137274       5000  World       1181  Beehives          5114  Stocks   \n",
       "\n",
       "        Year Code  Year Unit       Value Flag  \n",
       "137264       1990  1990   No  69237913.0    A  \n",
       "137265       1991  1991   No  69952217.0    A  \n",
       "137266       1992  1992   No  67491710.0    A  \n",
       "137267       1993  1993   No  66704017.0    A  \n",
       "137268       1994  1994   No  66102588.0    A  \n",
       "137269       1995  1995   No  66163866.0    A  \n",
       "137270       1996  1996   No  65992745.0    A  \n",
       "137271       1997  1997   No  65933672.0    A  \n",
       "137272       1998  1998   No  66607596.0    A  \n",
       "137273       1999  1999   No  67072126.0    A  \n",
       "137274       2000  2000   No  69300054.0    A  "
      ]
     },
     "execution_count": 10,
     "metadata": {},
     "output_type": "execute_result"
    }
   ],
   "source": [
    "beehives_world[beehives_world['Year'].isin(range(1990,2001))]"
   ]
  },
  {
   "cell_type": "code",
   "execution_count": 11,
   "metadata": {},
   "outputs": [
    {
     "data": {
      "text/plain": [
       "5.744699985705958"
      ]
     },
     "execution_count": 11,
     "metadata": {},
     "output_type": "execute_result"
    }
   ],
   "source": [
    "(1-(65933672.0/69952217.0))*100 #taking into account the local maxima year 1991 and the local minima year 1997."
   ]
  },
  {
   "cell_type": "code",
   "execution_count": 12,
   "metadata": {},
   "outputs": [
    {
     "data": {
      "text/plain": [
       "4018545"
      ]
     },
     "execution_count": 12,
     "metadata": {},
     "output_type": "execute_result"
    }
   ],
   "source": [
    "69952217-65933672"
   ]
  },
  {
   "cell_type": "markdown",
   "metadata": {},
   "source": [
    "Looking only at these 10 Years (1990-2000) we se the population droped by a number of 4.018.545. Which is a drop of 5.74%\n",
    "Why is that? "
   ]
  },
  {
   "cell_type": "markdown",
   "metadata": {},
   "source": [
    "## Let us try to figure out what happened in between 1990 and 2000. We know there was war in Yugslavia (Bosnia and Herzegovina,  Croatia, Kosovo,  Montenegro,  North Macedonia,  Serbia, Slovenia)."
   ]
  },
  {
   "cell_type": "markdown",
   "metadata": {},
   "source": [
    "War could be one reason. "
   ]
  },
  {
   "cell_type": "code",
   "execution_count": 13,
   "metadata": {},
   "outputs": [],
   "source": [
    "beehives_yugoslav = beehives_countries.loc[beehives_countries['Area'] == 'Yugoslav SFR']"
   ]
  },
  {
   "cell_type": "code",
   "execution_count": 14,
   "metadata": {},
   "outputs": [
    {
     "data": {
      "text/html": [
       "<div>\n",
       "<style scoped>\n",
       "    .dataframe tbody tr th:only-of-type {\n",
       "        vertical-align: middle;\n",
       "    }\n",
       "\n",
       "    .dataframe tbody tr th {\n",
       "        vertical-align: top;\n",
       "    }\n",
       "\n",
       "    .dataframe thead th {\n",
       "        text-align: right;\n",
       "    }\n",
       "</style>\n",
       "<table border=\"1\" class=\"dataframe\">\n",
       "  <thead>\n",
       "    <tr style=\"text-align: right;\">\n",
       "      <th></th>\n",
       "      <th>Area Code</th>\n",
       "      <th>Area</th>\n",
       "      <th>Item Code</th>\n",
       "      <th>Item</th>\n",
       "      <th>Element Code</th>\n",
       "      <th>Element</th>\n",
       "      <th>Year Code</th>\n",
       "      <th>Year</th>\n",
       "      <th>Unit</th>\n",
       "      <th>Value</th>\n",
       "      <th>Flag</th>\n",
       "    </tr>\n",
       "  </thead>\n",
       "  <tbody>\n",
       "    <tr>\n",
       "      <th>135405</th>\n",
       "      <td>248</td>\n",
       "      <td>Yugoslav SFR</td>\n",
       "      <td>1181</td>\n",
       "      <td>Beehives</td>\n",
       "      <td>5114</td>\n",
       "      <td>Stocks</td>\n",
       "      <td>1990</td>\n",
       "      <td>1990</td>\n",
       "      <td>No</td>\n",
       "      <td>501349.0</td>\n",
       "      <td>*</td>\n",
       "    </tr>\n",
       "    <tr>\n",
       "      <th>135406</th>\n",
       "      <td>248</td>\n",
       "      <td>Yugoslav SFR</td>\n",
       "      <td>1181</td>\n",
       "      <td>Beehives</td>\n",
       "      <td>5114</td>\n",
       "      <td>Stocks</td>\n",
       "      <td>1991</td>\n",
       "      <td>1991</td>\n",
       "      <td>No</td>\n",
       "      <td>520275.0</td>\n",
       "      <td>*</td>\n",
       "    </tr>\n",
       "  </tbody>\n",
       "</table>\n",
       "</div>"
      ],
      "text/plain": [
       "        Area Code          Area  Item Code      Item  Element Code Element  \\\n",
       "135405        248  Yugoslav SFR       1181  Beehives          5114  Stocks   \n",
       "135406        248  Yugoslav SFR       1181  Beehives          5114  Stocks   \n",
       "\n",
       "        Year Code  Year Unit     Value Flag  \n",
       "135405       1990  1990   No  501349.0    *  \n",
       "135406       1991  1991   No  520275.0    *  "
      ]
     },
     "execution_count": 14,
     "metadata": {},
     "output_type": "execute_result"
    }
   ],
   "source": [
    "beehives_yugoslav[beehives_yugoslav['Year'].isin(range(1990,2001))]"
   ]
  },
  {
   "cell_type": "markdown",
   "metadata": {},
   "source": [
    "Here we only observe data until 1991. Which is because the countries in Yugoslavia announced independence. We will now look into the splitted countries to see what happened after."
   ]
  },
  {
   "cell_type": "code",
   "execution_count": 15,
   "metadata": {
    "scrolled": true
   },
   "outputs": [
    {
     "data": {
      "text/html": [
       "<div>\n",
       "<style scoped>\n",
       "    .dataframe tbody tr th:only-of-type {\n",
       "        vertical-align: middle;\n",
       "    }\n",
       "\n",
       "    .dataframe tbody tr th {\n",
       "        vertical-align: top;\n",
       "    }\n",
       "\n",
       "    .dataframe thead th {\n",
       "        text-align: right;\n",
       "    }\n",
       "</style>\n",
       "<table border=\"1\" class=\"dataframe\">\n",
       "  <thead>\n",
       "    <tr style=\"text-align: right;\">\n",
       "      <th></th>\n",
       "      <th>Area Code</th>\n",
       "      <th>Area</th>\n",
       "      <th>Item Code</th>\n",
       "      <th>Item</th>\n",
       "      <th>Element Code</th>\n",
       "      <th>Element</th>\n",
       "      <th>Year Code</th>\n",
       "      <th>Year</th>\n",
       "      <th>Unit</th>\n",
       "      <th>Value</th>\n",
       "      <th>Flag</th>\n",
       "    </tr>\n",
       "  </thead>\n",
       "  <tbody>\n",
       "    <tr>\n",
       "      <th>109557</th>\n",
       "      <td>186</td>\n",
       "      <td>Serbia and Montenegro</td>\n",
       "      <td>1181</td>\n",
       "      <td>Beehives</td>\n",
       "      <td>5114</td>\n",
       "      <td>Stocks</td>\n",
       "      <td>1992</td>\n",
       "      <td>1992</td>\n",
       "      <td>No</td>\n",
       "      <td>197000.0</td>\n",
       "      <td>NaN</td>\n",
       "    </tr>\n",
       "    <tr>\n",
       "      <th>109558</th>\n",
       "      <td>186</td>\n",
       "      <td>Serbia and Montenegro</td>\n",
       "      <td>1181</td>\n",
       "      <td>Beehives</td>\n",
       "      <td>5114</td>\n",
       "      <td>Stocks</td>\n",
       "      <td>1993</td>\n",
       "      <td>1993</td>\n",
       "      <td>No</td>\n",
       "      <td>196000.0</td>\n",
       "      <td>NaN</td>\n",
       "    </tr>\n",
       "    <tr>\n",
       "      <th>109559</th>\n",
       "      <td>186</td>\n",
       "      <td>Serbia and Montenegro</td>\n",
       "      <td>1181</td>\n",
       "      <td>Beehives</td>\n",
       "      <td>5114</td>\n",
       "      <td>Stocks</td>\n",
       "      <td>1994</td>\n",
       "      <td>1994</td>\n",
       "      <td>No</td>\n",
       "      <td>194000.0</td>\n",
       "      <td>NaN</td>\n",
       "    </tr>\n",
       "    <tr>\n",
       "      <th>109560</th>\n",
       "      <td>186</td>\n",
       "      <td>Serbia and Montenegro</td>\n",
       "      <td>1181</td>\n",
       "      <td>Beehives</td>\n",
       "      <td>5114</td>\n",
       "      <td>Stocks</td>\n",
       "      <td>1995</td>\n",
       "      <td>1995</td>\n",
       "      <td>No</td>\n",
       "      <td>205000.0</td>\n",
       "      <td>NaN</td>\n",
       "    </tr>\n",
       "    <tr>\n",
       "      <th>109561</th>\n",
       "      <td>186</td>\n",
       "      <td>Serbia and Montenegro</td>\n",
       "      <td>1181</td>\n",
       "      <td>Beehives</td>\n",
       "      <td>5114</td>\n",
       "      <td>Stocks</td>\n",
       "      <td>1996</td>\n",
       "      <td>1996</td>\n",
       "      <td>No</td>\n",
       "      <td>186000.0</td>\n",
       "      <td>NaN</td>\n",
       "    </tr>\n",
       "    <tr>\n",
       "      <th>109562</th>\n",
       "      <td>186</td>\n",
       "      <td>Serbia and Montenegro</td>\n",
       "      <td>1181</td>\n",
       "      <td>Beehives</td>\n",
       "      <td>5114</td>\n",
       "      <td>Stocks</td>\n",
       "      <td>1997</td>\n",
       "      <td>1997</td>\n",
       "      <td>No</td>\n",
       "      <td>197000.0</td>\n",
       "      <td>NaN</td>\n",
       "    </tr>\n",
       "    <tr>\n",
       "      <th>109563</th>\n",
       "      <td>186</td>\n",
       "      <td>Serbia and Montenegro</td>\n",
       "      <td>1181</td>\n",
       "      <td>Beehives</td>\n",
       "      <td>5114</td>\n",
       "      <td>Stocks</td>\n",
       "      <td>1998</td>\n",
       "      <td>1998</td>\n",
       "      <td>No</td>\n",
       "      <td>196000.0</td>\n",
       "      <td>NaN</td>\n",
       "    </tr>\n",
       "    <tr>\n",
       "      <th>109564</th>\n",
       "      <td>186</td>\n",
       "      <td>Serbia and Montenegro</td>\n",
       "      <td>1181</td>\n",
       "      <td>Beehives</td>\n",
       "      <td>5114</td>\n",
       "      <td>Stocks</td>\n",
       "      <td>1999</td>\n",
       "      <td>1999</td>\n",
       "      <td>No</td>\n",
       "      <td>190900.0</td>\n",
       "      <td>NaN</td>\n",
       "    </tr>\n",
       "    <tr>\n",
       "      <th>109565</th>\n",
       "      <td>186</td>\n",
       "      <td>Serbia and Montenegro</td>\n",
       "      <td>1181</td>\n",
       "      <td>Beehives</td>\n",
       "      <td>5114</td>\n",
       "      <td>Stocks</td>\n",
       "      <td>2000</td>\n",
       "      <td>2000</td>\n",
       "      <td>No</td>\n",
       "      <td>192000.0</td>\n",
       "      <td>NaN</td>\n",
       "    </tr>\n",
       "    <tr>\n",
       "      <th>109566</th>\n",
       "      <td>186</td>\n",
       "      <td>Serbia and Montenegro</td>\n",
       "      <td>1181</td>\n",
       "      <td>Beehives</td>\n",
       "      <td>5114</td>\n",
       "      <td>Stocks</td>\n",
       "      <td>2001</td>\n",
       "      <td>2001</td>\n",
       "      <td>No</td>\n",
       "      <td>221000.0</td>\n",
       "      <td>NaN</td>\n",
       "    </tr>\n",
       "    <tr>\n",
       "      <th>109567</th>\n",
       "      <td>186</td>\n",
       "      <td>Serbia and Montenegro</td>\n",
       "      <td>1181</td>\n",
       "      <td>Beehives</td>\n",
       "      <td>5114</td>\n",
       "      <td>Stocks</td>\n",
       "      <td>2002</td>\n",
       "      <td>2002</td>\n",
       "      <td>No</td>\n",
       "      <td>205000.0</td>\n",
       "      <td>NaN</td>\n",
       "    </tr>\n",
       "    <tr>\n",
       "      <th>109568</th>\n",
       "      <td>186</td>\n",
       "      <td>Serbia and Montenegro</td>\n",
       "      <td>1181</td>\n",
       "      <td>Beehives</td>\n",
       "      <td>5114</td>\n",
       "      <td>Stocks</td>\n",
       "      <td>2003</td>\n",
       "      <td>2003</td>\n",
       "      <td>No</td>\n",
       "      <td>245000.0</td>\n",
       "      <td>NaN</td>\n",
       "    </tr>\n",
       "    <tr>\n",
       "      <th>109569</th>\n",
       "      <td>186</td>\n",
       "      <td>Serbia and Montenegro</td>\n",
       "      <td>1181</td>\n",
       "      <td>Beehives</td>\n",
       "      <td>5114</td>\n",
       "      <td>Stocks</td>\n",
       "      <td>2004</td>\n",
       "      <td>2004</td>\n",
       "      <td>No</td>\n",
       "      <td>307000.0</td>\n",
       "      <td>NaN</td>\n",
       "    </tr>\n",
       "    <tr>\n",
       "      <th>109570</th>\n",
       "      <td>186</td>\n",
       "      <td>Serbia and Montenegro</td>\n",
       "      <td>1181</td>\n",
       "      <td>Beehives</td>\n",
       "      <td>5114</td>\n",
       "      <td>Stocks</td>\n",
       "      <td>2005</td>\n",
       "      <td>2005</td>\n",
       "      <td>No</td>\n",
       "      <td>308111.0</td>\n",
       "      <td>NaN</td>\n",
       "    </tr>\n",
       "  </tbody>\n",
       "</table>\n",
       "</div>"
      ],
      "text/plain": [
       "        Area Code                   Area  Item Code      Item  Element Code  \\\n",
       "109557        186  Serbia and Montenegro       1181  Beehives          5114   \n",
       "109558        186  Serbia and Montenegro       1181  Beehives          5114   \n",
       "109559        186  Serbia and Montenegro       1181  Beehives          5114   \n",
       "109560        186  Serbia and Montenegro       1181  Beehives          5114   \n",
       "109561        186  Serbia and Montenegro       1181  Beehives          5114   \n",
       "109562        186  Serbia and Montenegro       1181  Beehives          5114   \n",
       "109563        186  Serbia and Montenegro       1181  Beehives          5114   \n",
       "109564        186  Serbia and Montenegro       1181  Beehives          5114   \n",
       "109565        186  Serbia and Montenegro       1181  Beehives          5114   \n",
       "109566        186  Serbia and Montenegro       1181  Beehives          5114   \n",
       "109567        186  Serbia and Montenegro       1181  Beehives          5114   \n",
       "109568        186  Serbia and Montenegro       1181  Beehives          5114   \n",
       "109569        186  Serbia and Montenegro       1181  Beehives          5114   \n",
       "109570        186  Serbia and Montenegro       1181  Beehives          5114   \n",
       "\n",
       "       Element  Year Code  Year Unit     Value Flag  \n",
       "109557  Stocks       1992  1992   No  197000.0  NaN  \n",
       "109558  Stocks       1993  1993   No  196000.0  NaN  \n",
       "109559  Stocks       1994  1994   No  194000.0  NaN  \n",
       "109560  Stocks       1995  1995   No  205000.0  NaN  \n",
       "109561  Stocks       1996  1996   No  186000.0  NaN  \n",
       "109562  Stocks       1997  1997   No  197000.0  NaN  \n",
       "109563  Stocks       1998  1998   No  196000.0  NaN  \n",
       "109564  Stocks       1999  1999   No  190900.0  NaN  \n",
       "109565  Stocks       2000  2000   No  192000.0  NaN  \n",
       "109566  Stocks       2001  2001   No  221000.0  NaN  \n",
       "109567  Stocks       2002  2002   No  205000.0  NaN  \n",
       "109568  Stocks       2003  2003   No  245000.0  NaN  \n",
       "109569  Stocks       2004  2004   No  307000.0  NaN  \n",
       "109570  Stocks       2005  2005   No  308111.0  NaN  "
      ]
     },
     "execution_count": 15,
     "metadata": {},
     "output_type": "execute_result"
    }
   ],
   "source": [
    "beehives_countries.loc[beehives_countries['Area'] == 'Croatia']\n",
    "beehives_countries.loc[beehives_countries['Area'] == 'Bosnia and Herzegovina']\n",
    "beehives_countries.loc[beehives_countries['Area'] == 'Slovenia']\n",
    "beehives_countries.loc[beehives_countries['Area'] == 'The former Yugoslav Republic of Macedonia']\n",
    "beehives_countries.loc[beehives_countries['Area'] == 'Serbia and Montenegro']"
   ]
  },
  {
   "cell_type": "code",
   "execution_count": 16,
   "metadata": {},
   "outputs": [
    {
     "name": "stdout",
     "output_type": "stream",
     "text": [
      "Year: 1992, No of Beehives: 449211\n",
      "Year: 1993, No of Beehives: 496381\n",
      "Year: 1994, No of Beehives: 519883\n",
      "Year: 1995, No of Beehives: 534171\n",
      "Year: 1996, No of Beehives: 502684\n",
      "Year: 1997, No of Beehives: 550382\n",
      "Year: 1998, No of Beehives: 606355\n",
      "Year: 1999, No of Beehives: 545543\n",
      "Year: 2000, No of Beehives: 644972\n"
     ]
    }
   ],
   "source": [
    "for year in range(1992, 2001):\n",
    "    croatia = int(beehives_countries.loc[(beehives_countries['Area'] == 'Croatia') & (beehives_countries['Year'] == year)]['Value'])\n",
    "    bosnia = int(beehives_countries.loc[(beehives_countries['Area'] == 'Bosnia and Herzegovina') & (beehives_countries['Year'] == year)]['Value'])\n",
    "    slovenia = int(beehives_countries.loc[(beehives_countries['Area'] == 'Slovenia') & (beehives_countries['Year'] == year)]['Value'])\n",
    "    macedonia = int(beehives_countries.loc[(beehives_countries['Area'] == 'The former Yugoslav Republic of Macedonia') & (beehives_countries['Year'] == year)]['Value'])\n",
    "    sm = int(beehives_countries.loc[(beehives_countries['Area'] == 'Serbia and Montenegro') & (beehives_countries['Year'] == year)]['Value'])\n",
    "    print(\"Year: %s, No of Beehives: %s\" % (year , croatia+bosnia+slovenia+macedonia+sm))"
   ]
  },
  {
   "cell_type": "markdown",
   "metadata": {},
   "source": [
    "Looking at our data we see that this cannot be the reason and that war is not killing bees and even increase. Since the values stayed pretty stable. We will look into countries having greater drop between 1992 and 1995."
   ]
  },
  {
   "cell_type": "markdown",
   "metadata": {},
   "source": [
    "So in which other countries do bees decrease?"
   ]
  },
  {
   "cell_type": "markdown",
   "metadata": {},
   "source": [
    "## Decreasing Countries 1992-1997"
   ]
  },
  {
   "cell_type": "markdown",
   "metadata": {},
   "source": [
    "Let us now dive deeper into countries.  \n",
    "We try to figure out countries that experienced a significant drop of bees between 1992 and 1997."
   ]
  },
  {
   "cell_type": "code",
   "execution_count": 17,
   "metadata": {
    "scrolled": true
   },
   "outputs": [
    {
     "name": "stdout",
     "output_type": "stream",
     "text": [
      "Austria\n",
      "Ratio 1997/1992: -21.04%\n",
      "Number of Beehives in 1992: 483212\n",
      "Number of Beehives in 1997: 381567\n",
      "------------------\n",
      "Bulgaria\n",
      "Ratio 1997/1992: -46.11%\n",
      "Number of Beehives in 1992: 493540\n",
      "Number of Beehives in 1997: 265984\n",
      "------------------\n",
      "China\n",
      "Ratio 1997/1992: -10.08%\n",
      "Number of Beehives in 1992: 7700420\n",
      "Number of Beehives in 1997: 6924345\n",
      "------------------\n",
      "Egypt\n",
      "Ratio 1997/1992: -10.27%\n",
      "Number of Beehives in 1992: 1415000\n",
      "Number of Beehives in 1997: 1269730\n",
      "------------------\n",
      "Germany\n",
      "Ratio 1997/1992: -18.49%\n",
      "Number of Beehives in 1992: 1168000\n",
      "Number of Beehives in 1997: 952000\n",
      "------------------\n",
      "Guatemala\n",
      "Ratio 1997/1992: -59.97%\n",
      "Number of Beehives in 1992: 199830\n",
      "Number of Beehives in 1997: 80000\n",
      "------------------\n",
      "Honduras\n",
      "Ratio 1997/1992: -66.67%\n",
      "Number of Beehives in 1992: 30000\n",
      "Number of Beehives in 1997: 10000\n",
      "------------------\n",
      "Italy\n",
      "Ratio 1997/1992: -23.90%\n",
      "Number of Beehives in 1992: 1314000\n",
      "Number of Beehives in 1997: 1000000\n",
      "------------------\n",
      "Latvia\n",
      "Ratio 1997/1992: -66.29%\n",
      "Number of Beehives in 1992: 178\n",
      "Number of Beehives in 1997: 60\n",
      "------------------\n",
      "Lithuania\n",
      "Ratio 1997/1992: -65.42%\n",
      "Number of Beehives in 1992: 223800\n",
      "Number of Beehives in 1997: 77400\n",
      "------------------\n",
      "Mexico\n",
      "Ratio 1997/1992: -18.58%\n",
      "Number of Beehives in 1992: 2107618\n",
      "Number of Beehives in 1997: 1715948\n",
      "------------------\n",
      "Mongolia\n",
      "Ratio 1997/1992: -67.43%\n",
      "Number of Beehives in 1992: 3000\n",
      "Number of Beehives in 1997: 977\n",
      "------------------\n",
      "Poland\n",
      "Ratio 1997/1992: -12.50%\n",
      "Number of Beehives in 1992: 1600000\n",
      "Number of Beehives in 1997: 1400000\n",
      "------------------\n",
      "Romania\n",
      "Ratio 1997/1992: -45.65%\n",
      "Number of Beehives in 1992: 1207000\n",
      "Number of Beehives in 1997: 656000\n",
      "------------------\n",
      "Russian Federation\n",
      "Ratio 1997/1992: -18.54%\n",
      "Number of Beehives in 1992: 4593000\n",
      "Number of Beehives in 1997: 3741300\n",
      "------------------\n",
      "Tajikistan\n",
      "Ratio 1997/1992: -76.42%\n",
      "Number of Beehives in 1992: 61500\n",
      "Number of Beehives in 1997: 14500\n",
      "------------------\n",
      "United States of America\n",
      "Ratio 1997/1992: -13.60%\n",
      "Number of Beehives in 1992: 3045000\n",
      "Number of Beehives in 1997: 2631000\n",
      "------------------\n",
      "Uzbekistan\n",
      "Ratio 1997/1992: -36.72%\n",
      "Number of Beehives in 1992: 351000\n",
      "Number of Beehives in 1997: 222100\n",
      "------------------\n",
      "Venezuela (Bolivarian Republic of)\n",
      "Ratio 1997/1992: -66.67%\n",
      "Number of Beehives in 1992: 30000\n",
      "Number of Beehives in 1997: 10000\n",
      "------------------\n",
      "The number of beehives in the period from 1992-1997 decreased in 44 of 131 countries.\n"
     ]
    }
   ],
   "source": [
    "count_decreasingNumber = 0\n",
    "big_decrease = []\n",
    "for country in countries:\n",
    "    try:\n",
    "        sm1 = int(beehives_countries.loc[(beehives_countries['Area'] == country) & (beehives_countries['Year'] == 1992)]['Value'])\n",
    "        sm2 = int(beehives_countries.loc[(beehives_countries['Area'] == country) & (beehives_countries['Year'] == 1997)]['Value'])\n",
    "        if sm2/sm1 < 1:\n",
    "            count_decreasingNumber += 1\n",
    "        #if sm2-sm1<-100000:\n",
    "        if ((1-(sm2/sm1))*100)>66 or sm2-sm1<-100000:\n",
    "            print(country)\n",
    "            print(\"Ratio 1997/1992: -%.2f%%\" % ((1-(sm2/sm1))*100))\n",
    "            print(\"Number of Beehives in 1992: %d\" % sm1)\n",
    "            print(\"Number of Beehives in 1997: %d\" % sm2)\n",
    "            print(\"------------------\")\n",
    "            big_decrease.append(country)\n",
    "    except:\n",
    "        continue\n",
    "print(\"The number of beehives in the period from 1992-1997 decreased in %s of %s countries.\" % (count_decreasingNumber, len(countries)))"
   ]
  },
  {
   "cell_type": "markdown",
   "metadata": {},
   "source": [
    "A significant decrease >100.000 or over 66% beehives can be noticed in the following countries."
   ]
  },
  {
   "cell_type": "code",
   "execution_count": 18,
   "metadata": {},
   "outputs": [
    {
     "name": "stdout",
     "output_type": "stream",
     "text": [
      "Austria, Bulgaria, China, Egypt, Germany, Guatemala, Honduras, Italy, Latvia, Lithuania, Mexico, Mongolia, Poland, Romania, Russian Federation, Tajikistan, United States of America, Uzbekistan, Venezuela (Bolivarian Republic of)\n"
     ]
    }
   ],
   "source": [
    "print(*big_decrease, sep = \", \")  "
   ]
  },
  {
   "cell_type": "markdown",
   "metadata": {},
   "source": [
    "So now let us plot these countries. Are they seriously decreasing. "
   ]
  },
  {
   "cell_type": "code",
   "execution_count": 19,
   "metadata": {},
   "outputs": [
    {
     "data": {
      "application/vnd.jupyter.widget-view+json": {
       "model_id": "b9e9705231894d5289c6ca8870e26481",
       "version_major": 2,
       "version_minor": 0
      },
      "text/plain": [
       "interactive(children=(Dropdown(description='country', options=('Austria', 'Bulgaria', 'China', 'Egypt', 'Germa…"
      ]
     },
     "metadata": {},
     "output_type": "display_data"
    }
   ],
   "source": [
    "@interact\n",
    "def show_beehives_for_country(country=big_decrease):\n",
    "    beehives_country=beehives_countries.loc[beehives_countries['Area']==country]\n",
    "    \n",
    "    plt.plot(beehives_country['Year'],beehives_country['Value'],'-*')\n",
    "    plt.title('Country: '+country)\n",
    "    plt.xlabel('Years')\n",
    "    plt.ylabel('Number')\n",
    "    plt.xlim(1960, 2020)"
   ]
  },
  {
   "cell_type": "markdown",
   "metadata": {},
   "source": [
    "Looking at these plots we see that Bulgaria, China and Romania recovered quickly after the decline, while Egypt, Germany, Poland, Romania and the United States of America dropped the numbers continously."
   ]
  },
  {
   "cell_type": "markdown",
   "metadata": {},
   "source": [
    "Here we could talk about the number that each country reduced.\n",
    "Some of them increased even over 65 percent. "
   ]
  },
  {
   "cell_type": "markdown",
   "metadata": {},
   "source": [
    "## Is this trend continuing up to the year 2017?"
   ]
  },
  {
   "cell_type": "code",
   "execution_count": 20,
   "metadata": {
    "scrolled": true
   },
   "outputs": [
    {
     "name": "stdout",
     "output_type": "stream",
     "text": [
      "Austria\n",
      "Ratio 2017/1992: -26.89%\n",
      "Number of Beehives in 1992: 483212\n",
      "Number of Beehives in 2017: 353300\n",
      "------------------\n",
      "Egypt\n",
      "Ratio 2017/1992: -37.98%\n",
      "Number of Beehives in 1992: 1415000\n",
      "Number of Beehives in 2017: 877637\n",
      "------------------\n",
      "France\n",
      "Ratio 2017/1992: -25.95%\n",
      "Number of Beehives in 1992: 1061742\n",
      "Number of Beehives in 2017: 786172\n",
      "------------------\n",
      "Germany\n",
      "Ratio 2017/1992: -41.64%\n",
      "Number of Beehives in 1992: 1168000\n",
      "Number of Beehives in 2017: 681682\n",
      "------------------\n",
      "Italy\n",
      "Ratio 2017/1992: -67.40%\n",
      "Number of Beehives in 1992: 1314000\n",
      "Number of Beehives in 2017: 428300\n",
      "------------------\n",
      "Kenya\n",
      "Ratio 2017/1992: -26.23%\n",
      "Number of Beehives in 1992: 2200000\n",
      "Number of Beehives in 2017: 1623028\n",
      "------------------\n",
      "Mexico\n",
      "Ratio 2017/1992: -12.04%\n",
      "Number of Beehives in 1992: 2107618\n",
      "Number of Beehives in 2017: 1853807\n",
      "------------------\n",
      "Morocco\n",
      "Ratio 2017/1992: -32.79%\n",
      "Number of Beehives in 1992: 549000\n",
      "Number of Beehives in 2017: 368961\n",
      "------------------\n",
      "Russian Federation\n",
      "Ratio 2017/1992: -27.06%\n",
      "Number of Beehives in 1992: 4593000\n",
      "Number of Beehives in 2017: 3349976\n",
      "------------------\n",
      "Switzerland\n",
      "Ratio 2017/1992: -38.21%\n",
      "Number of Beehives in 1992: 272205\n",
      "Number of Beehives in 2017: 168200\n",
      "------------------\n",
      "United States of America\n",
      "Ratio 2017/1992: -12.35%\n",
      "Number of Beehives in 1992: 3045000\n",
      "Number of Beehives in 2017: 2669000\n",
      "------------------\n",
      "The number of beehives in the period from 1992-2017 decreased in 36 of 131 countries.\n"
     ]
    }
   ],
   "source": [
    "count_decreasingNumber2017 = 0\n",
    "big_decrease2017 = []\n",
    "for country in countries:\n",
    "    try:\n",
    "        sm1 = int(beehives_countries.loc[(beehives_countries['Area'] == country) & (beehives_countries['Year'] == 1992)]['Value'])\n",
    "        sm2 = int(beehives_countries.loc[(beehives_countries['Area'] == country) & (beehives_countries['Year'] == 2017)]['Value'])\n",
    "        if sm2/sm1 < 1:\n",
    "            count_decreasingNumber2017 += 1\n",
    "        if ((1-(sm2/sm1))*100)>66 or sm2-sm1<-100000:\n",
    "            print(country)\n",
    "            print(\"Ratio 2017/1992: -%.2f%%\" % ((1-(sm2/sm1))*100))\n",
    "            print(\"Number of Beehives in 1992: %d\" % sm1)\n",
    "            print(\"Number of Beehives in 2017: %d\" % sm2)\n",
    "            print(\"------------------\")\n",
    "            big_decrease2017.append(country)\n",
    "    except:\n",
    "        continue\n",
    "print(\"The number of beehives in the period from 1992-2017 decreased in %s of %s countries.\" % (count_decreasingNumber2017, len(countries)))"
   ]
  },
  {
   "cell_type": "markdown",
   "metadata": {},
   "source": [
    "Looking at our data we see now less countries decreasing. 19 compared to 26. But the ratio for some european countries increased a lot and switzerland appeared as a newcomer with a loss of 38.21%."
   ]
  },
  {
   "cell_type": "markdown",
   "metadata": {},
   "source": [
    "Now let us plot these again."
   ]
  },
  {
   "cell_type": "code",
   "execution_count": 21,
   "metadata": {},
   "outputs": [
    {
     "data": {
      "application/vnd.jupyter.widget-view+json": {
       "model_id": "31229708d81443adbbf16bba410aff7a",
       "version_major": 2,
       "version_minor": 0
      },
      "text/plain": [
       "interactive(children=(Dropdown(description='country', options=('Austria', 'Egypt', 'France', 'Germany', 'Italy…"
      ]
     },
     "metadata": {},
     "output_type": "display_data"
    }
   ],
   "source": [
    "@interact\n",
    "def show_beehives_for_country(country=big_decrease2017):\n",
    "    beehives_country=beehives_countries.loc[beehives_countries['Area']==country]\n",
    "    \n",
    "    plt.plot(beehives_country['Year'],beehives_country['Value'],'-*')\n",
    "    plt.title('Country: '+country)\n",
    "    plt.xlabel('Years')\n",
    "    plt.ylabel('Number')\n",
    "    plt.xlim(1992, 2017)"
   ]
  },
  {
   "cell_type": "code",
   "execution_count": 22,
   "metadata": {},
   "outputs": [
    {
     "name": "stdout",
     "output_type": "stream",
     "text": [
      "Austria, Egypt, France, Germany, Italy, Kenya, Mexico, Morocco, Russian Federation, Switzerland, United States of America\n"
     ]
    }
   ],
   "source": [
    "print(*big_decrease2017, sep = \", \")  "
   ]
  },
  {
   "cell_type": "markdown",
   "metadata": {},
   "source": [
    "These are the countries with a big decrease again. We notice that for the longterm trend the number of countries having a high percentage loss decreased. Mostly bigger countries struggle by loosing a high absolute  value of beehives. But looking into the percentage difference only Italy occurs loosing a higher percentage over 66%."
   ]
  },
  {
   "cell_type": "code",
   "execution_count": 23,
   "metadata": {},
   "outputs": [],
   "source": [
    "beehives_bigDecrease = beehives[beehives['Area'].isin(big_decrease2017)]"
   ]
  },
  {
   "cell_type": "code",
   "execution_count": 24,
   "metadata": {},
   "outputs": [
    {
     "data": {
      "text/html": [
       "<div>\n",
       "<style scoped>\n",
       "    .dataframe tbody tr th:only-of-type {\n",
       "        vertical-align: middle;\n",
       "    }\n",
       "\n",
       "    .dataframe tbody tr th {\n",
       "        vertical-align: top;\n",
       "    }\n",
       "\n",
       "    .dataframe thead th {\n",
       "        text-align: right;\n",
       "    }\n",
       "</style>\n",
       "<table border=\"1\" class=\"dataframe\">\n",
       "  <thead>\n",
       "    <tr style=\"text-align: right;\">\n",
       "      <th></th>\n",
       "      <th>Area Code</th>\n",
       "      <th>Area</th>\n",
       "      <th>Item Code</th>\n",
       "      <th>Item</th>\n",
       "      <th>Element Code</th>\n",
       "      <th>Element</th>\n",
       "      <th>Year Code</th>\n",
       "      <th>Year</th>\n",
       "      <th>Unit</th>\n",
       "      <th>Value</th>\n",
       "      <th>Flag</th>\n",
       "    </tr>\n",
       "  </thead>\n",
       "  <tbody>\n",
       "    <tr>\n",
       "      <th>6229</th>\n",
       "      <td>11</td>\n",
       "      <td>Austria</td>\n",
       "      <td>1181</td>\n",
       "      <td>Beehives</td>\n",
       "      <td>5114</td>\n",
       "      <td>Stocks</td>\n",
       "      <td>1961</td>\n",
       "      <td>1961</td>\n",
       "      <td>No</td>\n",
       "      <td>466619.0</td>\n",
       "      <td>NaN</td>\n",
       "    </tr>\n",
       "    <tr>\n",
       "      <th>6230</th>\n",
       "      <td>11</td>\n",
       "      <td>Austria</td>\n",
       "      <td>1181</td>\n",
       "      <td>Beehives</td>\n",
       "      <td>5114</td>\n",
       "      <td>Stocks</td>\n",
       "      <td>1962</td>\n",
       "      <td>1962</td>\n",
       "      <td>No</td>\n",
       "      <td>448670.0</td>\n",
       "      <td>NaN</td>\n",
       "    </tr>\n",
       "    <tr>\n",
       "      <th>6231</th>\n",
       "      <td>11</td>\n",
       "      <td>Austria</td>\n",
       "      <td>1181</td>\n",
       "      <td>Beehives</td>\n",
       "      <td>5114</td>\n",
       "      <td>Stocks</td>\n",
       "      <td>1963</td>\n",
       "      <td>1963</td>\n",
       "      <td>No</td>\n",
       "      <td>437232.0</td>\n",
       "      <td>NaN</td>\n",
       "    </tr>\n",
       "    <tr>\n",
       "      <th>6232</th>\n",
       "      <td>11</td>\n",
       "      <td>Austria</td>\n",
       "      <td>1181</td>\n",
       "      <td>Beehives</td>\n",
       "      <td>5114</td>\n",
       "      <td>Stocks</td>\n",
       "      <td>1964</td>\n",
       "      <td>1964</td>\n",
       "      <td>No</td>\n",
       "      <td>421750.0</td>\n",
       "      <td>NaN</td>\n",
       "    </tr>\n",
       "    <tr>\n",
       "      <th>6233</th>\n",
       "      <td>11</td>\n",
       "      <td>Austria</td>\n",
       "      <td>1181</td>\n",
       "      <td>Beehives</td>\n",
       "      <td>5114</td>\n",
       "      <td>Stocks</td>\n",
       "      <td>1965</td>\n",
       "      <td>1965</td>\n",
       "      <td>No</td>\n",
       "      <td>419560.0</td>\n",
       "      <td>NaN</td>\n",
       "    </tr>\n",
       "    <tr>\n",
       "      <th>...</th>\n",
       "      <td>...</td>\n",
       "      <td>...</td>\n",
       "      <td>...</td>\n",
       "      <td>...</td>\n",
       "      <td>...</td>\n",
       "      <td>...</td>\n",
       "      <td>...</td>\n",
       "      <td>...</td>\n",
       "      <td>...</td>\n",
       "      <td>...</td>\n",
       "      <td>...</td>\n",
       "    </tr>\n",
       "    <tr>\n",
       "      <th>128894</th>\n",
       "      <td>231</td>\n",
       "      <td>United States of America</td>\n",
       "      <td>1181</td>\n",
       "      <td>Beehives</td>\n",
       "      <td>5114</td>\n",
       "      <td>Stocks</td>\n",
       "      <td>2013</td>\n",
       "      <td>2013</td>\n",
       "      <td>No</td>\n",
       "      <td>2640000.0</td>\n",
       "      <td>NaN</td>\n",
       "    </tr>\n",
       "    <tr>\n",
       "      <th>128895</th>\n",
       "      <td>231</td>\n",
       "      <td>United States of America</td>\n",
       "      <td>1181</td>\n",
       "      <td>Beehives</td>\n",
       "      <td>5114</td>\n",
       "      <td>Stocks</td>\n",
       "      <td>2014</td>\n",
       "      <td>2014</td>\n",
       "      <td>No</td>\n",
       "      <td>2740000.0</td>\n",
       "      <td>NaN</td>\n",
       "    </tr>\n",
       "    <tr>\n",
       "      <th>128896</th>\n",
       "      <td>231</td>\n",
       "      <td>United States of America</td>\n",
       "      <td>1181</td>\n",
       "      <td>Beehives</td>\n",
       "      <td>5114</td>\n",
       "      <td>Stocks</td>\n",
       "      <td>2015</td>\n",
       "      <td>2015</td>\n",
       "      <td>No</td>\n",
       "      <td>2660000.0</td>\n",
       "      <td>NaN</td>\n",
       "    </tr>\n",
       "    <tr>\n",
       "      <th>128897</th>\n",
       "      <td>231</td>\n",
       "      <td>United States of America</td>\n",
       "      <td>1181</td>\n",
       "      <td>Beehives</td>\n",
       "      <td>5114</td>\n",
       "      <td>Stocks</td>\n",
       "      <td>2016</td>\n",
       "      <td>2016</td>\n",
       "      <td>No</td>\n",
       "      <td>2775000.0</td>\n",
       "      <td>NaN</td>\n",
       "    </tr>\n",
       "    <tr>\n",
       "      <th>128898</th>\n",
       "      <td>231</td>\n",
       "      <td>United States of America</td>\n",
       "      <td>1181</td>\n",
       "      <td>Beehives</td>\n",
       "      <td>5114</td>\n",
       "      <td>Stocks</td>\n",
       "      <td>2017</td>\n",
       "      <td>2017</td>\n",
       "      <td>No</td>\n",
       "      <td>2669000.0</td>\n",
       "      <td>NaN</td>\n",
       "    </tr>\n",
       "  </tbody>\n",
       "</table>\n",
       "<p>596 rows × 11 columns</p>\n",
       "</div>"
      ],
      "text/plain": [
       "        Area Code                      Area  Item Code      Item  \\\n",
       "6229           11                   Austria       1181  Beehives   \n",
       "6230           11                   Austria       1181  Beehives   \n",
       "6231           11                   Austria       1181  Beehives   \n",
       "6232           11                   Austria       1181  Beehives   \n",
       "6233           11                   Austria       1181  Beehives   \n",
       "...           ...                       ...        ...       ...   \n",
       "128894        231  United States of America       1181  Beehives   \n",
       "128895        231  United States of America       1181  Beehives   \n",
       "128896        231  United States of America       1181  Beehives   \n",
       "128897        231  United States of America       1181  Beehives   \n",
       "128898        231  United States of America       1181  Beehives   \n",
       "\n",
       "        Element Code Element  Year Code  Year Unit      Value Flag  \n",
       "6229            5114  Stocks       1961  1961   No   466619.0  NaN  \n",
       "6230            5114  Stocks       1962  1962   No   448670.0  NaN  \n",
       "6231            5114  Stocks       1963  1963   No   437232.0  NaN  \n",
       "6232            5114  Stocks       1964  1964   No   421750.0  NaN  \n",
       "6233            5114  Stocks       1965  1965   No   419560.0  NaN  \n",
       "...              ...     ...        ...   ...  ...        ...  ...  \n",
       "128894          5114  Stocks       2013  2013   No  2640000.0  NaN  \n",
       "128895          5114  Stocks       2014  2014   No  2740000.0  NaN  \n",
       "128896          5114  Stocks       2015  2015   No  2660000.0  NaN  \n",
       "128897          5114  Stocks       2016  2016   No  2775000.0  NaN  \n",
       "128898          5114  Stocks       2017  2017   No  2669000.0  NaN  \n",
       "\n",
       "[596 rows x 11 columns]"
      ]
     },
     "execution_count": 24,
     "metadata": {},
     "output_type": "execute_result"
    }
   ],
   "source": [
    "beehives_bigDecrease"
   ]
  },
  {
   "cell_type": "markdown",
   "metadata": {},
   "source": [
    "We can see the trend is continuing until 2017.  "
   ]
  },
  {
   "cell_type": "markdown",
   "metadata": {},
   "source": [
    "## And what about increasing countries?"
   ]
  },
  {
   "cell_type": "code",
   "execution_count": 166,
   "metadata": {},
   "outputs": [
    {
     "name": "stdout",
     "output_type": "stream",
     "text": [
      "Albania\n",
      "Ratio 2017/1992: 801.00%\n",
      "Number of Beehives in 1992: 36200\n",
      "Number of Beehives in 2017: 289962\n",
      "------------------\n",
      "Algeria\n",
      "Ratio 2017/1992: 236.71%\n",
      "Number of Beehives in 1992: 175000\n",
      "Number of Beehives in 2017: 414244\n",
      "------------------\n",
      "Argentina\n",
      "Ratio 2017/1992: 187.69%\n",
      "Number of Beehives in 1992: 1600000\n",
      "Number of Beehives in 2017: 3003036\n",
      "------------------\n",
      "Azerbaijan\n",
      "Ratio 2017/1992: 417.97%\n",
      "Number of Beehives in 1992: 65000\n",
      "Number of Beehives in 2017: 271682\n",
      "------------------\n",
      "Bosnia and Herzegovina\n",
      "Ratio 2017/1992: 941.16%\n",
      "Number of Beehives in 1992: 43000\n",
      "Number of Beehives in 2017: 404698\n",
      "------------------\n",
      "Bulgaria\n",
      "Ratio 2017/1992: 152.80%\n",
      "Number of Beehives in 1992: 493540\n",
      "Number of Beehives in 2017: 754105\n",
      "------------------\n",
      "Central African Republic\n",
      "Ratio 2017/1992: 129.61%\n",
      "Number of Beehives in 1992: 1284000\n",
      "Number of Beehives in 2017: 1664185\n",
      "------------------\n",
      "China\n",
      "Ratio 2017/1992: 118.91%\n",
      "Number of Beehives in 1992: 7700420\n",
      "Number of Beehives in 2017: 9156882\n",
      "------------------\n",
      "Croatia\n",
      "Ratio 2017/1992: 824.19%\n",
      "Number of Beehives in 1992: 59000\n",
      "Number of Beehives in 2017: 486271\n",
      "------------------\n",
      "Fiji\n",
      "Ratio 2017/1992: 405.62%\n",
      "Number of Beehives in 1992: 2722\n",
      "Number of Beehives in 2017: 11041\n",
      "------------------\n",
      "Georgia\n",
      "Ratio 2017/1992: 313.91%\n",
      "Number of Beehives in 1992: 65400\n",
      "Number of Beehives in 2017: 205300\n",
      "------------------\n",
      "Greece\n",
      "Ratio 2017/1992: 128.52%\n",
      "Number of Beehives in 1992: 1215000\n",
      "Number of Beehives in 2017: 1561498\n",
      "------------------\n",
      "Hungary\n",
      "Ratio 2017/1992: 163.20%\n",
      "Number of Beehives in 1992: 500000\n",
      "Number of Beehives in 2017: 816000\n",
      "------------------\n",
      "India\n",
      "Ratio 2017/1992: 131.58%\n",
      "Number of Beehives in 1992: 9700000\n",
      "Number of Beehives in 2017: 12763684\n",
      "------------------\n",
      "Iran (Islamic Republic of)\n",
      "Ratio 2017/1992: 382.73%\n",
      "Number of Beehives in 1992: 1900000\n",
      "Number of Beehives in 2017: 7271825\n",
      "------------------\n",
      "Jamaica\n",
      "Ratio 2017/1992: 6143600.00%\n",
      "Number of Beehives in 1992: 1\n",
      "Number of Beehives in 2017: 61436\n",
      "------------------\n",
      "Mongolia\n",
      "Ratio 2017/1992: 304.07%\n",
      "Number of Beehives in 1992: 3000\n",
      "Number of Beehives in 2017: 9122\n",
      "------------------\n",
      "Myanmar\n",
      "Ratio 2017/1992: 1411.55%\n",
      "Number of Beehives in 1992: 4763\n",
      "Number of Beehives in 2017: 67232\n",
      "------------------\n",
      "New Caledonia\n",
      "Ratio 2017/1992: 396.76%\n",
      "Number of Beehives in 1992: 1885\n",
      "Number of Beehives in 2017: 7479\n",
      "------------------\n",
      "New Zealand\n",
      "Ratio 2017/1992: 269.68%\n",
      "Number of Beehives in 1992: 304065\n",
      "Number of Beehives in 2017: 820000\n",
      "------------------\n",
      "Pakistan\n",
      "Ratio 2017/1992: 555.58%\n",
      "Number of Beehives in 1992: 72000\n",
      "Number of Beehives in 2017: 400019\n",
      "------------------\n",
      "Republic of Korea\n",
      "Ratio 2017/1992: 289.08%\n",
      "Number of Beehives in 1992: 596512\n",
      "Number of Beehives in 2017: 1724389\n",
      "------------------\n",
      "Romania\n",
      "Ratio 2017/1992: 120.08%\n",
      "Number of Beehives in 1992: 1207000\n",
      "Number of Beehives in 2017: 1449318\n",
      "------------------\n",
      "Senegal\n",
      "Ratio 2017/1992: 2763.79%\n",
      "Number of Beehives in 1992: 12100\n",
      "Number of Beehives in 2017: 334419\n",
      "------------------\n",
      "Spain\n",
      "Ratio 2017/1992: 179.21%\n",
      "Number of Beehives in 1992: 1621000\n",
      "Number of Beehives in 2017: 2904971\n",
      "------------------\n",
      "Syrian Arab Republic\n",
      "Ratio 2017/1992: 316.65%\n",
      "Number of Beehives in 1992: 164471\n",
      "Number of Beehives in 2017: 520795\n",
      "------------------\n",
      "Tajikistan\n",
      "Ratio 2017/1992: 361.60%\n",
      "Number of Beehives in 1992: 61500\n",
      "Number of Beehives in 2017: 222386\n",
      "------------------\n",
      "Tunisia\n",
      "Ratio 2017/1992: 504.39%\n",
      "Number of Beehives in 1992: 132000\n",
      "Number of Beehives in 2017: 665791\n",
      "------------------\n",
      "Turkey\n",
      "Ratio 2017/1992: 220.22%\n",
      "Number of Beehives in 1992: 3540328\n",
      "Number of Beehives in 2017: 7796666\n",
      "------------------\n",
      "United Republic of Tanzania\n",
      "Ratio 2017/1992: 129.26%\n",
      "Number of Beehives in 1992: 2320000\n",
      "Number of Beehives in 2017: 2998785\n",
      "------------------\n",
      "Yemen\n",
      "Ratio 2017/1992: 329.17%\n",
      "Number of Beehives in 1992: 48000\n",
      "Number of Beehives in 2017: 158000\n",
      "------------------\n",
      "The number of beehives in the period from 1992-2017 increased in 71 of 131 countries.\n"
     ]
    }
   ],
   "source": [
    "count_increasingNumber = 0\n",
    "big_increase = []\n",
    "for country in countries:\n",
    "    try:\n",
    "        sm1 = int(beehives_countries.loc[(beehives_countries['Area'] == country) & (beehives_countries['Year'] == 1992)]['Value'])\n",
    "        sm2 = int(beehives_countries.loc[(beehives_countries['Area'] == country) & (beehives_countries['Year'] == 2017)]['Value'])\n",
    "        if sm2/sm1 > 1:\n",
    "            count_increasingNumber += 1\n",
    "#         if sm2-sm1>100000:\n",
    "        if ((sm2/sm1)*100)>300 or sm2-sm1>200000:\n",
    "\n",
    "            print(country)\n",
    "            print(\"Ratio 2017/1992: %.2f%%\" % ((sm2/sm1)*100))\n",
    "            print(\"Number of Beehives in 1992: %d\" % sm1)\n",
    "            print(\"Number of Beehives in 2017: %d\" % sm2)\n",
    "            print(\"------------------\")\n",
    "            big_increase.append(country)\n",
    "    except:\n",
    "        continue\n",
    "print(\"The number of beehives in the period from 1992-2017 increased in %s of %s countries.\" % (count_increasingNumber, len(countries)))"
   ]
  },
  {
   "cell_type": "markdown",
   "metadata": {},
   "source": [
    "Notice: There is a difference in the total number countries. This is due to newcomers who were not considered a country in 1992. For example 'Serbia and Montenegro' split to 'Serbia' and 'Montenegro'.  "
   ]
  },
  {
   "cell_type": "code",
   "execution_count": 26,
   "metadata": {},
   "outputs": [
    {
     "data": {
      "application/vnd.jupyter.widget-view+json": {
       "model_id": "a80b4c668b2b407b9e465bd4d3ca5fcb",
       "version_major": 2,
       "version_minor": 0
      },
      "text/plain": [
       "interactive(children=(Dropdown(description='country', options=('Albania', 'Algeria', 'Angola', 'Argentina', 'A…"
      ]
     },
     "metadata": {},
     "output_type": "display_data"
    }
   ],
   "source": [
    "@interact\n",
    "def show_beehives_for_country(country=big_increase):\n",
    "    beehives_country=beehives_countries.loc[beehives_countries['Area']==country]\n",
    "    \n",
    "    plt.plot(beehives_country['Year'],beehives_country['Value'],'-*')\n",
    "    plt.title('Country: '+country)\n",
    "    plt.xlabel('Years')\n",
    "    plt.ylabel('Number')\n",
    "    plt.xlim(1992, 2020)"
   ]
  },
  {
   "cell_type": "markdown",
   "metadata": {},
   "source": [
    "Looking at these plots we can clearly observe a lot of countries having a growing bee population. More than countries decreasing.  \n",
    "We can also observe the countries are not specific to one continent but rather include different continents and areas. \n"
   ]
  },
  {
   "cell_type": "markdown",
   "metadata": {},
   "source": [
    "## Let us plot the continents"
   ]
  },
  {
   "cell_type": "markdown",
   "metadata": {},
   "source": [
    "Let us no take a step back and look from a higher perspective on continents.  "
   ]
  },
  {
   "cell_type": "markdown",
   "metadata": {},
   "source": [
    "We saw bees are increasing around the world. Is this also true for every continent?"
   ]
  },
  {
   "cell_type": "markdown",
   "metadata": {},
   "source": [
    "We first draw a stacked boxplot and continue to look at each country in an interactive plot. "
   ]
  },
  {
   "cell_type": "code",
   "execution_count": 27,
   "metadata": {},
   "outputs": [
    {
     "data": {
      "text/html": [
       "<div>\n",
       "<style scoped>\n",
       "    .dataframe tbody tr th:only-of-type {\n",
       "        vertical-align: middle;\n",
       "    }\n",
       "\n",
       "    .dataframe tbody tr th {\n",
       "        vertical-align: top;\n",
       "    }\n",
       "\n",
       "    .dataframe thead th {\n",
       "        text-align: right;\n",
       "    }\n",
       "</style>\n",
       "<table border=\"1\" class=\"dataframe\">\n",
       "  <thead>\n",
       "    <tr style=\"text-align: right;\">\n",
       "      <th></th>\n",
       "      <th>Area Code</th>\n",
       "      <th>Area</th>\n",
       "      <th>Item Code</th>\n",
       "      <th>Item</th>\n",
       "      <th>Element Code</th>\n",
       "      <th>Element</th>\n",
       "      <th>Year Code</th>\n",
       "      <th>Year</th>\n",
       "      <th>Unit</th>\n",
       "      <th>Value</th>\n",
       "      <th>Flag</th>\n",
       "    </tr>\n",
       "  </thead>\n",
       "  <tbody>\n",
       "    <tr>\n",
       "      <th>149488</th>\n",
       "      <td>5300</td>\n",
       "      <td>Asia</td>\n",
       "      <td>1181</td>\n",
       "      <td>Beehives</td>\n",
       "      <td>5114</td>\n",
       "      <td>Stocks</td>\n",
       "      <td>2017</td>\n",
       "      <td>2017</td>\n",
       "      <td>No</td>\n",
       "      <td>42372690.0</td>\n",
       "      <td>A</td>\n",
       "    </tr>\n",
       "    <tr>\n",
       "      <th>155293</th>\n",
       "      <td>5400</td>\n",
       "      <td>Europe</td>\n",
       "      <td>1181</td>\n",
       "      <td>Beehives</td>\n",
       "      <td>5114</td>\n",
       "      <td>Stocks</td>\n",
       "      <td>2017</td>\n",
       "      <td>2017</td>\n",
       "      <td>No</td>\n",
       "      <td>18764349.0</td>\n",
       "      <td>A</td>\n",
       "    </tr>\n",
       "    <tr>\n",
       "      <th>138489</th>\n",
       "      <td>5100</td>\n",
       "      <td>Africa</td>\n",
       "      <td>1181</td>\n",
       "      <td>Beehives</td>\n",
       "      <td>5114</td>\n",
       "      <td>Stocks</td>\n",
       "      <td>2017</td>\n",
       "      <td>2017</td>\n",
       "      <td>No</td>\n",
       "      <td>17507222.0</td>\n",
       "      <td>A</td>\n",
       "    </tr>\n",
       "    <tr>\n",
       "      <th>144531</th>\n",
       "      <td>5200</td>\n",
       "      <td>Americas</td>\n",
       "      <td>1181</td>\n",
       "      <td>Beehives</td>\n",
       "      <td>5114</td>\n",
       "      <td>Stocks</td>\n",
       "      <td>2017</td>\n",
       "      <td>2017</td>\n",
       "      <td>No</td>\n",
       "      <td>11139203.0</td>\n",
       "      <td>A</td>\n",
       "    </tr>\n",
       "    <tr>\n",
       "      <th>160449</th>\n",
       "      <td>5500</td>\n",
       "      <td>Oceania</td>\n",
       "      <td>1181</td>\n",
       "      <td>Beehives</td>\n",
       "      <td>5114</td>\n",
       "      <td>Stocks</td>\n",
       "      <td>2017</td>\n",
       "      <td>2017</td>\n",
       "      <td>No</td>\n",
       "      <td>1216267.0</td>\n",
       "      <td>A</td>\n",
       "    </tr>\n",
       "  </tbody>\n",
       "</table>\n",
       "</div>"
      ],
      "text/plain": [
       "        Area Code      Area  Item Code      Item  Element Code Element  \\\n",
       "149488       5300      Asia       1181  Beehives          5114  Stocks   \n",
       "155293       5400    Europe       1181  Beehives          5114  Stocks   \n",
       "138489       5100    Africa       1181  Beehives          5114  Stocks   \n",
       "144531       5200  Americas       1181  Beehives          5114  Stocks   \n",
       "160449       5500   Oceania       1181  Beehives          5114  Stocks   \n",
       "\n",
       "        Year Code  Year Unit       Value Flag  \n",
       "149488       2017  2017   No  42372690.0    A  \n",
       "155293       2017  2017   No  18764349.0    A  \n",
       "138489       2017  2017   No  17507222.0    A  \n",
       "144531       2017  2017   No  11139203.0    A  \n",
       "160449       2017  2017   No   1216267.0    A  "
      ]
     },
     "execution_count": 27,
     "metadata": {},
     "output_type": "execute_result"
    }
   ],
   "source": [
    "beehives_continents.loc[beehives_continents['Year'] == 2017].sort_values('Value', ascending=False)"
   ]
  },
  {
   "cell_type": "code",
   "execution_count": 28,
   "metadata": {},
   "outputs": [
    {
     "data": {
      "image/png": "[encoded data removed]",
      "text/plain": [
       "<Figure size 1440x720 with 1 Axes>"
      ]
     },
     "metadata": {
      "needs_background": "light"
     },
     "output_type": "display_data"
    }
   ],
   "source": [
    "N = len(beehives_continents[beehives_continents['Area'] == 'Africa']['Value'])\n",
    "africa = np.array(beehives_continents[beehives_continents['Area'] == 'Africa']['Value'])\n",
    "europe = np.array(beehives_continents[beehives_continents['Area'] == 'Europe']['Value'])\n",
    "america = np.array(beehives_continents[beehives_continents['Area'] == 'Americas']['Value'])\n",
    "oceania = np.array(beehives_continents[beehives_continents['Area'] == 'Oceania']['Value'])\n",
    "asia = np.array(beehives_continents[beehives_continents['Area'] == 'Asia']['Value'])\n",
    "\n",
    "ind = np.arange(N)    # the x locations for the groups\n",
    "width = 0.35       # the width of the bars: can also be len(x) sequence\n",
    "\n",
    "plt.figure(figsize=(20,10))\n",
    "\n",
    "p1 = plt.bar(ind, asia, width)\n",
    "p2 = plt.bar(ind, europe, width, bottom=asia)\n",
    "p3 = plt.bar(ind, africa, width, bottom=europe+asia)\n",
    "p4 = plt.bar(ind, america, width, bottom=asia+europe+africa)\n",
    "p5 = plt.bar(ind, oceania, width, bottom=asia+america+europe+africa)\n",
    "plt.ylabel('Number of Beehives')\n",
    "plt.xlabel('Year')\n",
    "plt.title('Distribution of Beehives in Europe')\n",
    "plt.xticks(ind, (range(1961, 2018)), rotation=45)\n",
    "plt.legend((p1[0], p2[0], p3[0], p4[0], p5[0]), ('Asia', 'Europe', 'Africa', 'America', 'Oceania'))\n",
    "\n",
    "plt.show()"
   ]
  },
  {
   "cell_type": "markdown",
   "metadata": {},
   "source": [
    "The plot reveals a lot about the distribution. We can observe that Asia on top is the biggest contributor of beehives, followed by a declining europe and an increasing Africa. America seems to be very stable while oceania is only responsible for a fairly small amount of beehives.  \n",
    "We further look into the curves more in detail. We also see a big drop in europe. Which could be responsible for the sudden drop in the world.  \n",
    "In fact Europe was the continent with the biggest bee population before the drop.  "
   ]
  },
  {
   "cell_type": "markdown",
   "metadata": {},
   "source": [
    "We will look more deeply into the continents change ove time by plotting their distribution individually. "
   ]
  },
  {
   "cell_type": "code",
   "execution_count": 29,
   "metadata": {},
   "outputs": [
    {
     "data": {
      "application/vnd.jupyter.widget-view+json": {
       "model_id": "2d4f01726de94969a50b6628d2de3665",
       "version_major": 2,
       "version_minor": 0
      },
      "text/plain": [
       "interactive(children=(Dropdown(description='continent', options=('Africa', 'Americas', 'Asia', 'Europe', 'Ocea…"
      ]
     },
     "metadata": {},
     "output_type": "display_data"
    }
   ],
   "source": [
    "@interact\n",
    "def show_beehives_for_country(continent=continents):\n",
    "    beehives_continent=beehives_continents.loc[beehives_continents['Area']==continent]\n",
    "    \n",
    "    plt.plot(beehives_continent['Year'],beehives_continent['Value'],'-*')\n",
    "    plt.title('Country: '+continent)\n",
    "    plt.xlabel('Years')\n",
    "    plt.ylabel('Number')\n",
    "    plt.xlim(1960, 2020)"
   ]
  },
  {
   "cell_type": "markdown",
   "metadata": {},
   "source": [
    "Looking at the plots individually we observe **Africa** is increasing it's beehives population as well as **Asia**. **Oceania** has a huge increase of beehives from 2012 to 2013, and from 2016 to 2017, we expect more to come.  \n",
    "**America** and **Europe** have an unproportional declining population between 1990 and 2000. America recovered again while Europe still lacks behind it's pre 1990 value. \n"
   ]
  },
  {
   "cell_type": "code",
   "execution_count": 30,
   "metadata": {},
   "outputs": [],
   "source": [
    "# beehives_continents.loc[(beehives_continents['Area'] == 'Europe') & ~(beehives_continents['Year'] < 1985) & ~(beehives_continents['Year'] > 1998)]"
   ]
  },
  {
   "cell_type": "markdown",
   "metadata": {},
   "source": [
    "## Conclusion"
   ]
  },
  {
   "cell_type": "markdown",
   "metadata": {},
   "source": [
    "Looking at the data we see that countries that have a lot of bees are increasing there effort in growing the population. While other western countries (Germany, Italy, France, Switzerland, Austria and USA) find themselves in a situation of decreasing population.  "
   ]
  },
  {
   "cell_type": "markdown",
   "metadata": {},
   "source": [
    "## Let us now also take a quick look on the 10 countries with the biggest beehives population in 2017"
   ]
  },
  {
   "cell_type": "code",
   "execution_count": 31,
   "metadata": {},
   "outputs": [
    {
     "data": {
      "text/html": [
       "<div>\n",
       "<style scoped>\n",
       "    .dataframe tbody tr th:only-of-type {\n",
       "        vertical-align: middle;\n",
       "    }\n",
       "\n",
       "    .dataframe tbody tr th {\n",
       "        vertical-align: top;\n",
       "    }\n",
       "\n",
       "    .dataframe thead th {\n",
       "        text-align: right;\n",
       "    }\n",
       "</style>\n",
       "<table border=\"1\" class=\"dataframe\">\n",
       "  <thead>\n",
       "    <tr style=\"text-align: right;\">\n",
       "      <th></th>\n",
       "      <th>Area</th>\n",
       "      <th>Value</th>\n",
       "    </tr>\n",
       "  </thead>\n",
       "  <tbody>\n",
       "    <tr>\n",
       "      <th>59382</th>\n",
       "      <td>India</td>\n",
       "      <td>12763684.0</td>\n",
       "    </tr>\n",
       "    <tr>\n",
       "      <th>24658</th>\n",
       "      <td>China</td>\n",
       "      <td>9156882.0</td>\n",
       "    </tr>\n",
       "    <tr>\n",
       "      <th>124390</th>\n",
       "      <td>Turkey</td>\n",
       "      <td>7796666.0</td>\n",
       "    </tr>\n",
       "    <tr>\n",
       "      <th>60864</th>\n",
       "      <td>Iran (Islamic Republic of)</td>\n",
       "      <td>7271825.0</td>\n",
       "    </tr>\n",
       "    <tr>\n",
       "      <th>42356</th>\n",
       "      <td>Ethiopia</td>\n",
       "      <td>6139990.0</td>\n",
       "    </tr>\n",
       "    <tr>\n",
       "      <th>103336</th>\n",
       "      <td>Russian Federation</td>\n",
       "      <td>3349976.0</td>\n",
       "    </tr>\n",
       "    <tr>\n",
       "      <th>4103</th>\n",
       "      <td>Argentina</td>\n",
       "      <td>3003036.0</td>\n",
       "    </tr>\n",
       "    <tr>\n",
       "      <th>128271</th>\n",
       "      <td>United Republic of Tanzania</td>\n",
       "      <td>2998785.0</td>\n",
       "    </tr>\n",
       "    <tr>\n",
       "      <th>114105</th>\n",
       "      <td>Spain</td>\n",
       "      <td>2904971.0</td>\n",
       "    </tr>\n",
       "    <tr>\n",
       "      <th>128898</th>\n",
       "      <td>United States of America</td>\n",
       "      <td>2669000.0</td>\n",
       "    </tr>\n",
       "  </tbody>\n",
       "</table>\n",
       "</div>"
      ],
      "text/plain": [
       "                               Area       Value\n",
       "59382                         India  12763684.0\n",
       "24658                         China   9156882.0\n",
       "124390                       Turkey   7796666.0\n",
       "60864    Iran (Islamic Republic of)   7271825.0\n",
       "42356                      Ethiopia   6139990.0\n",
       "103336           Russian Federation   3349976.0\n",
       "4103                      Argentina   3003036.0\n",
       "128271  United Republic of Tanzania   2998785.0\n",
       "114105                        Spain   2904971.0\n",
       "128898     United States of America   2669000.0"
      ]
     },
     "execution_count": 31,
     "metadata": {},
     "output_type": "execute_result"
    }
   ],
   "source": [
    "beehives_countries[beehives_countries['Year'] == 2017].sort_values('Value', ascending=False)[['Area','Value']].head(10)"
   ]
  },
  {
   "cell_type": "markdown",
   "metadata": {},
   "source": [
    "Looking at the top ten we can see that they are spread around the world. With this we mean there are contributors in Asia, Europe, America and Africa. Only Oceania is missing. "
   ]
  },
  {
   "cell_type": "code",
   "execution_count": 32,
   "metadata": {},
   "outputs": [
    {
     "name": "stdout",
     "output_type": "stream",
     "text": [
      "Here we can observe that our top ten contributors are responsible for 0.637966892868803% of the worlds population of beehives, which is 90999730 in total\n"
     ]
    }
   ],
   "source": [
    "topTenContributors = beehives_countries[beehives_countries['Year'] == 2017].sort_values('Value', ascending=False)['Value'].head(10).sum()\n",
    "worldPopulationBeehives = int(beehives_world[beehives_world['Year'] == 2017].Value)\n",
    "ratioTopTenWorld = topTenContributors/worldPopulationBeehives\n",
    "print(\"Here we can observe that our top ten contributors are responsible for %s%% of the worlds population of beehives, which is %s in total\" % (ratioTopTenWorld, worldPopulationBeehives))"
   ]
  },
  {
   "cell_type": "markdown",
   "metadata": {},
   "source": [
    "Let us now give some contribution to the smaller countries which support the beehives population as well. Therefore we add a column that is dividing the total number of beehives in the country divided by the estimate population. "
   ]
  },
  {
   "cell_type": "code",
   "execution_count": 33,
   "metadata": {},
   "outputs": [],
   "source": [
    "import geopandas as gpd\n",
    "from matplotlib.collections import PatchCollection"
   ]
  },
  {
   "cell_type": "code",
   "execution_count": 34,
   "metadata": {},
   "outputs": [],
   "source": [
    "world = gpd.read_file(gpd.datasets.get_path('naturalearth_lowres'))"
   ]
  },
  {
   "cell_type": "markdown",
   "metadata": {},
   "source": [
    "Let us just check our format."
   ]
  },
  {
   "cell_type": "code",
   "execution_count": 35,
   "metadata": {},
   "outputs": [
    {
     "data": {
      "text/html": [
       "<div>\n",
       "<style scoped>\n",
       "    .dataframe tbody tr th:only-of-type {\n",
       "        vertical-align: middle;\n",
       "    }\n",
       "\n",
       "    .dataframe tbody tr th {\n",
       "        vertical-align: top;\n",
       "    }\n",
       "\n",
       "    .dataframe thead th {\n",
       "        text-align: right;\n",
       "    }\n",
       "</style>\n",
       "<table border=\"1\" class=\"dataframe\">\n",
       "  <thead>\n",
       "    <tr style=\"text-align: right;\">\n",
       "      <th></th>\n",
       "      <th>pop_est</th>\n",
       "      <th>continent</th>\n",
       "      <th>name</th>\n",
       "      <th>iso_a3</th>\n",
       "      <th>gdp_md_est</th>\n",
       "      <th>geometry</th>\n",
       "    </tr>\n",
       "  </thead>\n",
       "  <tbody>\n",
       "    <tr>\n",
       "      <th>0</th>\n",
       "      <td>920938</td>\n",
       "      <td>Oceania</td>\n",
       "      <td>Fiji</td>\n",
       "      <td>FJI</td>\n",
       "      <td>8374.0</td>\n",
       "      <td>MULTIPOLYGON (((180.00000 -16.06713, 180.00000...</td>\n",
       "    </tr>\n",
       "    <tr>\n",
       "      <th>1</th>\n",
       "      <td>53950935</td>\n",
       "      <td>Africa</td>\n",
       "      <td>Tanzania</td>\n",
       "      <td>TZA</td>\n",
       "      <td>150600.0</td>\n",
       "      <td>POLYGON ((33.90371 -0.95000, 34.07262 -1.05982...</td>\n",
       "    </tr>\n",
       "    <tr>\n",
       "      <th>2</th>\n",
       "      <td>603253</td>\n",
       "      <td>Africa</td>\n",
       "      <td>W. Sahara</td>\n",
       "      <td>ESH</td>\n",
       "      <td>906.5</td>\n",
       "      <td>POLYGON ((-8.66559 27.65643, -8.66512 27.58948...</td>\n",
       "    </tr>\n",
       "    <tr>\n",
       "      <th>3</th>\n",
       "      <td>35623680</td>\n",
       "      <td>North America</td>\n",
       "      <td>Canada</td>\n",
       "      <td>CAN</td>\n",
       "      <td>1674000.0</td>\n",
       "      <td>MULTIPOLYGON (((-122.84000 49.00000, -122.9742...</td>\n",
       "    </tr>\n",
       "    <tr>\n",
       "      <th>4</th>\n",
       "      <td>326625791</td>\n",
       "      <td>North America</td>\n",
       "      <td>United States of America</td>\n",
       "      <td>USA</td>\n",
       "      <td>18560000.0</td>\n",
       "      <td>MULTIPOLYGON (((-122.84000 49.00000, -120.0000...</td>\n",
       "    </tr>\n",
       "  </tbody>\n",
       "</table>\n",
       "</div>"
      ],
      "text/plain": [
       "     pop_est      continent                      name iso_a3  gdp_md_est  \\\n",
       "0     920938        Oceania                      Fiji    FJI      8374.0   \n",
       "1   53950935         Africa                  Tanzania    TZA    150600.0   \n",
       "2     603253         Africa                 W. Sahara    ESH       906.5   \n",
       "3   35623680  North America                    Canada    CAN   1674000.0   \n",
       "4  326625791  North America  United States of America    USA  18560000.0   \n",
       "\n",
       "                                            geometry  \n",
       "0  MULTIPOLYGON (((180.00000 -16.06713, 180.00000...  \n",
       "1  POLYGON ((33.90371 -0.95000, 34.07262 -1.05982...  \n",
       "2  POLYGON ((-8.66559 27.65643, -8.66512 27.58948...  \n",
       "3  MULTIPOLYGON (((-122.84000 49.00000, -122.9742...  \n",
       "4  MULTIPOLYGON (((-122.84000 49.00000, -120.0000...  "
      ]
     },
     "execution_count": 35,
     "metadata": {},
     "output_type": "execute_result"
    }
   ],
   "source": [
    "world.head()"
   ]
  },
  {
   "cell_type": "markdown",
   "metadata": {},
   "source": [
    "We saw some differently spelled data, which we corrected in order to have correct the same names of countries."
   ]
  },
  {
   "cell_type": "code",
   "execution_count": 36,
   "metadata": {},
   "outputs": [],
   "source": [
    "beehives_perPopulation = beehives_countries.copy() \n",
    "beehives_perPopulation = beehives_perPopulation.replace({'Russian Federation': 'Russia', 'Bosnia and Herzegovina': 'Bosnia and Herz.', 'Belgium-Luxembourg': 'Luxembourg', 'Bolivia (Plurinational State of)':'Bolivia', 'Central African Republic':'Central African Rep.', 'China, Taiwan Province of': 'Taiwan', 'Dominican Republic': 'Dominican Rep.', 'Ethiopia PDR': 'Ethiopia', 'Iran (Islamic Republic of)':'Iran', 'Syrian Arab Republic':'Syria', 'North Macedonia':'Macedonia', 'Venezuela (Bolivarian Republic of)': 'Venezuela', 'Viet Nam':'Vietnam', 'Czechoslovakia':'Czechia'})\n",
    "beehives_perPopulation = world.set_index('name').join(beehives_perPopulation.set_index('Area'))"
   ]
  },
  {
   "cell_type": "code",
   "execution_count": 37,
   "metadata": {},
   "outputs": [],
   "source": [
    "beehives_perPopulation['Per_Population'] = beehives_perPopulation['Value']/beehives_perPopulation['pop_est']"
   ]
  },
  {
   "cell_type": "code",
   "execution_count": 38,
   "metadata": {},
   "outputs": [],
   "source": [
    "beehives_perPopulation['Area'] = beehives_perPopulation.index"
   ]
  },
  {
   "cell_type": "code",
   "execution_count": 39,
   "metadata": {},
   "outputs": [
    {
     "data": {
      "text/html": [
       "<div>\n",
       "<style scoped>\n",
       "    .dataframe tbody tr th:only-of-type {\n",
       "        vertical-align: middle;\n",
       "    }\n",
       "\n",
       "    .dataframe tbody tr th {\n",
       "        vertical-align: top;\n",
       "    }\n",
       "\n",
       "    .dataframe thead th {\n",
       "        text-align: right;\n",
       "    }\n",
       "</style>\n",
       "<table border=\"1\" class=\"dataframe\">\n",
       "  <thead>\n",
       "    <tr style=\"text-align: right;\">\n",
       "      <th></th>\n",
       "      <th>Value</th>\n",
       "    </tr>\n",
       "  </thead>\n",
       "  <tbody>\n",
       "    <tr>\n",
       "      <th>Central African Rep.</th>\n",
       "      <td>1664185.0</td>\n",
       "    </tr>\n",
       "    <tr>\n",
       "      <th>New Zealand</th>\n",
       "      <td>820000.0</td>\n",
       "    </tr>\n",
       "    <tr>\n",
       "      <th>Greece</th>\n",
       "      <td>1561498.0</td>\n",
       "    </tr>\n",
       "    <tr>\n",
       "      <th>Uruguay</th>\n",
       "      <td>480154.0</td>\n",
       "    </tr>\n",
       "    <tr>\n",
       "      <th>Montenegro</th>\n",
       "      <td>80620.0</td>\n",
       "    </tr>\n",
       "    <tr>\n",
       "      <th>Serbia</th>\n",
       "      <td>849280.0</td>\n",
       "    </tr>\n",
       "    <tr>\n",
       "      <th>Croatia</th>\n",
       "      <td>486271.0</td>\n",
       "    </tr>\n",
       "    <tr>\n",
       "      <th>Bulgaria</th>\n",
       "      <td>754105.0</td>\n",
       "    </tr>\n",
       "    <tr>\n",
       "      <th>Bosnia and Herz.</th>\n",
       "      <td>404698.0</td>\n",
       "    </tr>\n",
       "    <tr>\n",
       "      <th>Turkey</th>\n",
       "      <td>7796666.0</td>\n",
       "    </tr>\n",
       "  </tbody>\n",
       "</table>\n",
       "</div>"
      ],
      "text/plain": [
       "                          Value\n",
       "Central African Rep.  1664185.0\n",
       "New Zealand            820000.0\n",
       "Greece                1561498.0\n",
       "Uruguay                480154.0\n",
       "Montenegro              80620.0\n",
       "Serbia                 849280.0\n",
       "Croatia                486271.0\n",
       "Bulgaria               754105.0\n",
       "Bosnia and Herz.       404698.0\n",
       "Turkey                7796666.0"
      ]
     },
     "execution_count": 39,
     "metadata": {},
     "output_type": "execute_result"
    }
   ],
   "source": [
    "beehives_perPopulation[beehives_perPopulation['Year'] == 2017].sort_values('Per_Population', ascending=False)[['Value']].head(10)"
   ]
  },
  {
   "cell_type": "markdown",
   "metadata": {},
   "source": [
    "Now we see different countries and there is New Zealand. One of the Oceanian countries. Interestingly 7 out of 10 countries are considered to be in eastern europe. "
   ]
  },
  {
   "cell_type": "markdown",
   "metadata": {},
   "source": [
    "## EU27 Distribution"
   ]
  },
  {
   "cell_type": "code",
   "execution_count": 40,
   "metadata": {},
   "outputs": [],
   "source": [
    "eu27 = ['Austria', 'Italy', 'Belgium', 'Latvia', 'Bulgaria', 'Lithuania', 'Croatia', 'Luxembourg', 'Cyprus', 'Malta', 'Czechia', 'Netherlands', 'Denmark', 'Poland', 'Estonia', 'Portugal', 'Finland', 'Romania', 'France', 'Slovakia', 'Germany', 'Slovenia', 'Greece', 'Spain', 'Hungary', 'Sweden', 'Ireland', 'United Kingdom']\n",
    "\n",
    "beehives_eu27 = beehives[beehives['Area'].isin(eu27)]\n",
    "beehives_eu27_2017 = beehives_eu27.loc[beehives_eu27['Year']==2017]\n",
    "beehives_eu27_2017 = beehives_eu27_2017.dropna(subset=['Value'])\n",
    "\n"
   ]
  },
  {
   "cell_type": "code",
   "execution_count": 41,
   "metadata": {},
   "outputs": [
    {
     "data": {
      "image/png": "[encoded data removed]",
      "text/plain": [
       "<Figure size 1080x576 with 1 Axes>"
      ]
     },
     "metadata": {
      "needs_background": "light"
     },
     "output_type": "display_data"
    }
   ],
   "source": [
    "plt.figure(figsize=(15,8))\n",
    "plt.bar(beehives_eu27_2017['Area'], beehives_eu27_2017['Value'])\n",
    "plt.title('Bees Population EU27')\n",
    "plt.xlabel('Number of Beehives')\n",
    "plt.xticks(rotation=60);"
   ]
  },
  {
   "cell_type": "markdown",
   "metadata": {},
   "source": [
    "Looking at the dataset we observe Spain, Greece and Poland to have the three biggest bees population. "
   ]
  },
  {
   "cell_type": "markdown",
   "metadata": {},
   "source": [
    "## Let us now for aesthetic reasons plot a map "
   ]
  },
  {
   "cell_type": "markdown",
   "metadata": {},
   "source": [
    "There we can reuse our beehives_perPopulation DataFrame"
   ]
  },
  {
   "cell_type": "code",
   "execution_count": 42,
   "metadata": {},
   "outputs": [],
   "source": [
    "years = beehives_perPopulation.Year.unique()\n",
    "years = years[~np.isnan(years)]\n",
    "years = beehives_perPopulation.Year.unique()\n",
    "years = years[~np.isnan(years)]\n",
    "beehives_perPopulation.Year = beehives_perPopulation.Year.fillna(0)\n",
    "beehives_perPopulation.Year = beehives_perPopulation.Year.astype(int)\n",
    "beehives_perPopulation.Value = beehives_perPopulation.Value.fillna(0)"
   ]
  },
  {
   "cell_type": "code",
   "execution_count": 43,
   "metadata": {},
   "outputs": [],
   "source": [
    "beehives_perPopulation.Year.loc[beehives_perPopulation.Year == 0]\n",
    "newDF = beehives_perPopulation.loc[beehives_perPopulation['Year'] == 0].copy()\n",
    "for year in years: \n",
    "    newDF.Year = year\n",
    "    beehives_perPopulation = beehives_perPopulation.append(newDF, ignore_index = True)"
   ]
  },
  {
   "cell_type": "code",
   "execution_count": 44,
   "metadata": {},
   "outputs": [],
   "source": [
    "mapPlot_beehives = pd.DataFrame({})\n",
    "\n",
    "perc =[.10, .20,.30,.40,.50,.60,.70,.80,.90] \n",
    "for year in years:\n",
    "    beehives_splitted_inYears = beehives_perPopulation.loc[beehives_perPopulation['Year']==year].copy()\n",
    "    beehives_splitted_inYears['categorize value'] = np.where(beehives_splitted_inYears['Value']==0, 0, \\\n",
    "                                            np.where(beehives_splitted_inYears['Value']<=beehives_splitted_inYears.mask(beehives_splitted_inYears.Value == 0).Value.describe(percentiles = perc)['10%'], 1, \\\n",
    "                                                np.where(beehives_splitted_inYears['Value']<=beehives_splitted_inYears.mask(beehives_splitted_inYears.Value == 0).Value.describe(percentiles = perc)['20%'], 2, \\\n",
    "                                                         np.where(beehives_splitted_inYears['Value']<=beehives_splitted_inYears.mask(beehives_splitted_inYears.Value == 0).Value.describe(percentiles = perc)['30%'], 3, \\\n",
    "                                                                  np.where(beehives_splitted_inYears['Value']<=beehives_splitted_inYears.mask(beehives_splitted_inYears.Value == 0).Value.describe(percentiles = perc)['40%'], 4, \\\n",
    "                                                                           np.where(beehives_splitted_inYears['Value']<=beehives_splitted_inYears.mask(beehives_splitted_inYears.Value == 0).Value.describe(percentiles = perc)['50%'], 5, \\\n",
    "                                                                                    np.where(beehives_splitted_inYears['Value']<=beehives_splitted_inYears.mask(beehives_splitted_inYears.Value == 0).Value.describe(percentiles = perc)['60%'], 6, \\\n",
    "                                                                                             np.where(beehives_splitted_inYears['Value']<=beehives_splitted_inYears.mask(beehives_splitted_inYears.Value == 0).Value.describe(percentiles = perc)['70%'], 7, \\\n",
    "                                                                                                      np.where(beehives_splitted_inYears['Value']<=beehives_splitted_inYears.mask(beehives_splitted_inYears.Value == 0).Value.describe(percentiles = perc)['80%'], 8, \\\n",
    "                                                                                                            np.where(beehives_splitted_inYears['Value']<=beehives_splitted_inYears.mask(beehives_splitted_inYears.Value == 0).Value.describe(percentiles = perc)['90%'], 9, 10))))))))))\n",
    "    beehives_splitted_inYears['value percentile'] = np.where(beehives_splitted_inYears['Value']==0, 0, \\\n",
    "                                            np.where(beehives_splitted_inYears['Value']<=beehives_splitted_inYears.mask(beehives_splitted_inYears.Value == 0).Value.describe(percentiles = perc)['10%'], beehives_splitted_inYears.mask(beehives_splitted_inYears.Value == 0).Value.describe(percentiles = perc)['10%'], \\\n",
    "                                                np.where(beehives_splitted_inYears['Value']<=beehives_splitted_inYears.mask(beehives_splitted_inYears.Value == 0).Value.describe(percentiles = perc)['20%'], beehives_splitted_inYears.mask(beehives_splitted_inYears.Value == 0).Value.describe(percentiles = perc)['20%'], \\\n",
    "                                                         np.where(beehives_splitted_inYears['Value']<=beehives_splitted_inYears.mask(beehives_splitted_inYears.Value == 0).Value.describe(percentiles = perc)['30%'], beehives_splitted_inYears.mask(beehives_splitted_inYears.Value == 0).Value.describe(percentiles = perc)['30%'], \\\n",
    "                                                                  np.where(beehives_splitted_inYears['Value']<=beehives_splitted_inYears.mask(beehives_splitted_inYears.Value == 0).Value.describe(percentiles = perc)['40%'], beehives_splitted_inYears.mask(beehives_splitted_inYears.Value == 0).Value.describe(percentiles = perc)['40%'], \\\n",
    "                                                                           np.where(beehives_splitted_inYears['Value']<=beehives_splitted_inYears.mask(beehives_splitted_inYears.Value == 0).Value.describe(percentiles = perc)['50%'], beehives_splitted_inYears.mask(beehives_splitted_inYears.Value == 0).Value.describe(percentiles = perc)['50%'], \\\n",
    "                                                                                    np.where(beehives_splitted_inYears['Value']<=beehives_splitted_inYears.mask(beehives_splitted_inYears.Value == 0).Value.describe(percentiles = perc)['60%'], beehives_splitted_inYears.mask(beehives_splitted_inYears.Value == 0).Value.describe(percentiles = perc)['60%'], \\\n",
    "                                                                                             np.where(beehives_splitted_inYears['Value']<=beehives_splitted_inYears.mask(beehives_splitted_inYears.Value == 0).Value.describe(percentiles = perc)['70%'], beehives_splitted_inYears.mask(beehives_splitted_inYears.Value == 0).Value.describe(percentiles = perc)['70%'], \\\n",
    "                                                                                                      np.where(beehives_splitted_inYears['Value']<=beehives_splitted_inYears.mask(beehives_splitted_inYears.Value == 0).Value.describe(percentiles = perc)['80%'], beehives_splitted_inYears.mask(beehives_splitted_inYears.Value == 0).Value.describe(percentiles = perc)['80%'], \\\n",
    "                                                                                                            np.where(beehives_splitted_inYears['Value']<=beehives_splitted_inYears.mask(beehives_splitted_inYears.Value == 0).Value.describe(percentiles = perc)['90%'], beehives_splitted_inYears.mask(beehives_splitted_inYears.Value == 0).Value.describe(percentiles = perc)['90%'], beehives_splitted_inYears.Value.max()))))))))))\n",
    "    mapPlot_beehives = mapPlot_beehives.append(beehives_splitted_inYears, ignore_index = True)"
   ]
  },
  {
   "cell_type": "code",
   "execution_count": 45,
   "metadata": {
    "scrolled": false
   },
   "outputs": [
    {
     "data": {
      "application/vnd.jupyter.widget-view+json": {
       "model_id": "97cfcd5983ee4a318cc5f1f6279e20a1",
       "version_major": 2,
       "version_minor": 0
      },
      "text/plain": [
       "interactive(children=(Dropdown(description='year', options=(1992, 1993, 1994, 1995, 1996, 1997, 1998, 1999, 20…"
      ]
     },
     "metadata": {},
     "output_type": "display_data"
    }
   ],
   "source": [
    "years = range(1992,2018)\n",
    "@interact\n",
    "def show_beehives_for_country(year=years):\n",
    "    fig, ax = plt.subplots(1, figsize=(20, 12))\n",
    "    mapPlot_beehives_Year=mapPlot_beehives.loc[mapPlot_beehives['Year']==year]\n",
    "\n",
    "    mapPlot_beehives_Year.plot(column='categorize value',cmap='Blues', ax=ax, linewidth=0.8, edgecolor='0.8')\n",
    "    ax.axis('off')\n",
    "    ax.set_title('Beehives population in the world', fontdict={'fontsize': '50', 'fontweight' : '3'})\n",
    "    vmax = mapPlot_beehives_Year['value percentile'].max()\n",
    "    sm = plt.cm.ScalarMappable(cmap='Blues', norm=plt.Normalize(vmin=0, vmax=vmax))\n",
    "    #sm._A = []\n",
    "    #cbar = fig.colorbar(sm)\n"
   ]
  },
  {
   "cell_type": "code",
   "execution_count": 46,
   "metadata": {},
   "outputs": [
    {
     "data": {
      "text/html": [
       "<div>\n",
       "<style scoped>\n",
       "    .dataframe tbody tr th:only-of-type {\n",
       "        vertical-align: middle;\n",
       "    }\n",
       "\n",
       "    .dataframe tbody tr th {\n",
       "        vertical-align: top;\n",
       "    }\n",
       "\n",
       "    .dataframe thead th {\n",
       "        text-align: right;\n",
       "    }\n",
       "</style>\n",
       "<table border=\"1\" class=\"dataframe\">\n",
       "  <thead>\n",
       "    <tr style=\"text-align: right;\">\n",
       "      <th></th>\n",
       "      <th>pop_est</th>\n",
       "      <th>continent</th>\n",
       "      <th>iso_a3</th>\n",
       "      <th>gdp_md_est</th>\n",
       "      <th>geometry</th>\n",
       "      <th>Area Code</th>\n",
       "      <th>Item Code</th>\n",
       "      <th>Item</th>\n",
       "      <th>Element Code</th>\n",
       "      <th>Element</th>\n",
       "      <th>Year Code</th>\n",
       "      <th>Year</th>\n",
       "      <th>Unit</th>\n",
       "      <th>Value</th>\n",
       "      <th>Flag</th>\n",
       "      <th>Per_Population</th>\n",
       "      <th>Area</th>\n",
       "      <th>categorize value</th>\n",
       "      <th>value percentile</th>\n",
       "    </tr>\n",
       "  </thead>\n",
       "  <tbody>\n",
       "    <tr>\n",
       "      <th>0</th>\n",
       "      <td>3047987</td>\n",
       "      <td>Europe</td>\n",
       "      <td>ALB</td>\n",
       "      <td>33900.0</td>\n",
       "      <td>POLYGON ((21.02004 40.84273, 20.99999 40.58000...</td>\n",
       "      <td>3.0</td>\n",
       "      <td>1181.0</td>\n",
       "      <td>Beehives</td>\n",
       "      <td>5114.0</td>\n",
       "      <td>Stocks</td>\n",
       "      <td>1961.0</td>\n",
       "      <td>1961.0</td>\n",
       "      <td>No</td>\n",
       "      <td>95100.0</td>\n",
       "      <td>NaN</td>\n",
       "      <td>0.031201</td>\n",
       "      <td>Albania</td>\n",
       "      <td>5</td>\n",
       "      <td>100000.0</td>\n",
       "    </tr>\n",
       "    <tr>\n",
       "      <th>1</th>\n",
       "      <td>40969443</td>\n",
       "      <td>Africa</td>\n",
       "      <td>DZA</td>\n",
       "      <td>609400.0</td>\n",
       "      <td>POLYGON ((-8.68440 27.39574, -8.66512 27.58948...</td>\n",
       "      <td>4.0</td>\n",
       "      <td>1181.0</td>\n",
       "      <td>Beehives</td>\n",
       "      <td>5114.0</td>\n",
       "      <td>Stocks</td>\n",
       "      <td>1961.0</td>\n",
       "      <td>1961.0</td>\n",
       "      <td>No</td>\n",
       "      <td>100000.0</td>\n",
       "      <td>*</td>\n",
       "      <td>0.002441</td>\n",
       "      <td>Algeria</td>\n",
       "      <td>5</td>\n",
       "      <td>100000.0</td>\n",
       "    </tr>\n",
       "    <tr>\n",
       "      <th>2</th>\n",
       "      <td>29310273</td>\n",
       "      <td>Africa</td>\n",
       "      <td>AGO</td>\n",
       "      <td>189000.0</td>\n",
       "      <td>MULTIPOLYGON (((12.99552 -4.78110, 12.63161 -4...</td>\n",
       "      <td>7.0</td>\n",
       "      <td>1181.0</td>\n",
       "      <td>Beehives</td>\n",
       "      <td>5114.0</td>\n",
       "      <td>Stocks</td>\n",
       "      <td>1961.0</td>\n",
       "      <td>1961.0</td>\n",
       "      <td>No</td>\n",
       "      <td>1000000.0</td>\n",
       "      <td>F</td>\n",
       "      <td>0.034118</td>\n",
       "      <td>Angola</td>\n",
       "      <td>9</td>\n",
       "      <td>1040800.0</td>\n",
       "    </tr>\n",
       "    <tr>\n",
       "      <th>3</th>\n",
       "      <td>44293293</td>\n",
       "      <td>South America</td>\n",
       "      <td>ARG</td>\n",
       "      <td>879400.0</td>\n",
       "      <td>MULTIPOLYGON (((-68.63401 -52.63637, -68.25000...</td>\n",
       "      <td>9.0</td>\n",
       "      <td>1181.0</td>\n",
       "      <td>Beehives</td>\n",
       "      <td>5114.0</td>\n",
       "      <td>Stocks</td>\n",
       "      <td>1961.0</td>\n",
       "      <td>1961.0</td>\n",
       "      <td>No</td>\n",
       "      <td>650000.0</td>\n",
       "      <td>NaN</td>\n",
       "      <td>0.014675</td>\n",
       "      <td>Argentina</td>\n",
       "      <td>9</td>\n",
       "      <td>1040800.0</td>\n",
       "    </tr>\n",
       "    <tr>\n",
       "      <th>4</th>\n",
       "      <td>23232413</td>\n",
       "      <td>Oceania</td>\n",
       "      <td>AUS</td>\n",
       "      <td>1189000.0</td>\n",
       "      <td>MULTIPOLYGON (((147.68926 -40.80826, 148.28907...</td>\n",
       "      <td>10.0</td>\n",
       "      <td>1181.0</td>\n",
       "      <td>Beehives</td>\n",
       "      <td>5114.0</td>\n",
       "      <td>Stocks</td>\n",
       "      <td>1961.0</td>\n",
       "      <td>1961.0</td>\n",
       "      <td>No</td>\n",
       "      <td>323447.0</td>\n",
       "      <td>NaN</td>\n",
       "      <td>0.013922</td>\n",
       "      <td>Australia</td>\n",
       "      <td>7</td>\n",
       "      <td>344764.0</td>\n",
       "    </tr>\n",
       "  </tbody>\n",
       "</table>\n",
       "</div>"
      ],
      "text/plain": [
       "    pop_est      continent iso_a3  gdp_md_est  \\\n",
       "0   3047987         Europe    ALB     33900.0   \n",
       "1  40969443         Africa    DZA    609400.0   \n",
       "2  29310273         Africa    AGO    189000.0   \n",
       "3  44293293  South America    ARG    879400.0   \n",
       "4  23232413        Oceania    AUS   1189000.0   \n",
       "\n",
       "                                            geometry  Area Code  Item Code  \\\n",
       "0  POLYGON ((21.02004 40.84273, 20.99999 40.58000...        3.0     1181.0   \n",
       "1  POLYGON ((-8.68440 27.39574, -8.66512 27.58948...        4.0     1181.0   \n",
       "2  MULTIPOLYGON (((12.99552 -4.78110, 12.63161 -4...        7.0     1181.0   \n",
       "3  MULTIPOLYGON (((-68.63401 -52.63637, -68.25000...        9.0     1181.0   \n",
       "4  MULTIPOLYGON (((147.68926 -40.80826, 148.28907...       10.0     1181.0   \n",
       "\n",
       "       Item  Element Code Element  Year Code    Year Unit      Value Flag  \\\n",
       "0  Beehives        5114.0  Stocks     1961.0  1961.0   No    95100.0  NaN   \n",
       "1  Beehives        5114.0  Stocks     1961.0  1961.0   No   100000.0    *   \n",
       "2  Beehives        5114.0  Stocks     1961.0  1961.0   No  1000000.0    F   \n",
       "3  Beehives        5114.0  Stocks     1961.0  1961.0   No   650000.0  NaN   \n",
       "4  Beehives        5114.0  Stocks     1961.0  1961.0   No   323447.0  NaN   \n",
       "\n",
       "   Per_Population       Area  categorize value  value percentile  \n",
       "0        0.031201    Albania                 5          100000.0  \n",
       "1        0.002441    Algeria                 5          100000.0  \n",
       "2        0.034118     Angola                 9         1040800.0  \n",
       "3        0.014675  Argentina                 9         1040800.0  \n",
       "4        0.013922  Australia                 7          344764.0  "
      ]
     },
     "execution_count": 46,
     "metadata": {},
     "output_type": "execute_result"
    }
   ],
   "source": [
    "mapPlot_beehives.head()"
   ]
  },
  {
   "cell_type": "markdown",
   "metadata": {},
   "source": [
    "## We found out that pesticides are one of the worst killers for bees. These include Organo-phosphates, Carbamates and Pyrethroids. They are highly toxic."
   ]
  },
  {
   "cell_type": "code",
   "execution_count": 47,
   "metadata": {},
   "outputs": [],
   "source": [
    "pesticides = pd.read_csv('data/Inputs_Pesticides_Use_E_All_Data_(Normalized).csv',  encoding='iso-8859-1')"
   ]
  },
  {
   "cell_type": "markdown",
   "metadata": {},
   "source": [
    "Let us now first again preprocess the data, filter for our countries and then take a closer look if there is a correlation."
   ]
  },
  {
   "cell_type": "code",
   "execution_count": 48,
   "metadata": {
    "scrolled": true
   },
   "outputs": [
    {
     "data": {
      "text/html": [
       "<div>\n",
       "<style scoped>\n",
       "    .dataframe tbody tr th:only-of-type {\n",
       "        vertical-align: middle;\n",
       "    }\n",
       "\n",
       "    .dataframe tbody tr th {\n",
       "        vertical-align: top;\n",
       "    }\n",
       "\n",
       "    .dataframe thead th {\n",
       "        text-align: right;\n",
       "    }\n",
       "</style>\n",
       "<table border=\"1\" class=\"dataframe\">\n",
       "  <thead>\n",
       "    <tr style=\"text-align: right;\">\n",
       "      <th></th>\n",
       "      <th>Area Code</th>\n",
       "      <th>Area</th>\n",
       "      <th>Item Code</th>\n",
       "      <th>Item</th>\n",
       "      <th>Element Code</th>\n",
       "      <th>Element</th>\n",
       "      <th>Year Code</th>\n",
       "      <th>Year</th>\n",
       "      <th>Unit</th>\n",
       "      <th>Value</th>\n",
       "      <th>Flag</th>\n",
       "    </tr>\n",
       "  </thead>\n",
       "  <tbody>\n",
       "    <tr>\n",
       "      <th>0</th>\n",
       "      <td>3</td>\n",
       "      <td>Albania</td>\n",
       "      <td>1357</td>\n",
       "      <td>Pesticides (total)</td>\n",
       "      <td>5157</td>\n",
       "      <td>Agricultural Use</td>\n",
       "      <td>1990</td>\n",
       "      <td>1990</td>\n",
       "      <td>tonnes</td>\n",
       "      <td>121.0</td>\n",
       "      <td>A</td>\n",
       "    </tr>\n",
       "    <tr>\n",
       "      <th>1</th>\n",
       "      <td>3</td>\n",
       "      <td>Albania</td>\n",
       "      <td>1357</td>\n",
       "      <td>Pesticides (total)</td>\n",
       "      <td>5157</td>\n",
       "      <td>Agricultural Use</td>\n",
       "      <td>1991</td>\n",
       "      <td>1991</td>\n",
       "      <td>tonnes</td>\n",
       "      <td>121.0</td>\n",
       "      <td>A</td>\n",
       "    </tr>\n",
       "    <tr>\n",
       "      <th>2</th>\n",
       "      <td>3</td>\n",
       "      <td>Albania</td>\n",
       "      <td>1357</td>\n",
       "      <td>Pesticides (total)</td>\n",
       "      <td>5157</td>\n",
       "      <td>Agricultural Use</td>\n",
       "      <td>1992</td>\n",
       "      <td>1992</td>\n",
       "      <td>tonnes</td>\n",
       "      <td>121.0</td>\n",
       "      <td>A</td>\n",
       "    </tr>\n",
       "    <tr>\n",
       "      <th>3</th>\n",
       "      <td>3</td>\n",
       "      <td>Albania</td>\n",
       "      <td>1357</td>\n",
       "      <td>Pesticides (total)</td>\n",
       "      <td>5157</td>\n",
       "      <td>Agricultural Use</td>\n",
       "      <td>1993</td>\n",
       "      <td>1993</td>\n",
       "      <td>tonnes</td>\n",
       "      <td>121.0</td>\n",
       "      <td>A</td>\n",
       "    </tr>\n",
       "    <tr>\n",
       "      <th>4</th>\n",
       "      <td>3</td>\n",
       "      <td>Albania</td>\n",
       "      <td>1357</td>\n",
       "      <td>Pesticides (total)</td>\n",
       "      <td>5157</td>\n",
       "      <td>Agricultural Use</td>\n",
       "      <td>1994</td>\n",
       "      <td>1994</td>\n",
       "      <td>tonnes</td>\n",
       "      <td>201.0</td>\n",
       "      <td>A</td>\n",
       "    </tr>\n",
       "  </tbody>\n",
       "</table>\n",
       "</div>"
      ],
      "text/plain": [
       "   Area Code     Area  Item Code                Item  Element Code  \\\n",
       "0          3  Albania       1357  Pesticides (total)          5157   \n",
       "1          3  Albania       1357  Pesticides (total)          5157   \n",
       "2          3  Albania       1357  Pesticides (total)          5157   \n",
       "3          3  Albania       1357  Pesticides (total)          5157   \n",
       "4          3  Albania       1357  Pesticides (total)          5157   \n",
       "\n",
       "            Element  Year Code  Year    Unit  Value Flag  \n",
       "0  Agricultural Use       1990  1990  tonnes  121.0    A  \n",
       "1  Agricultural Use       1991  1991  tonnes  121.0    A  \n",
       "2  Agricultural Use       1992  1992  tonnes  121.0    A  \n",
       "3  Agricultural Use       1993  1993  tonnes  121.0    A  \n",
       "4  Agricultural Use       1994  1994  tonnes  201.0    A  "
      ]
     },
     "execution_count": 48,
     "metadata": {},
     "output_type": "execute_result"
    }
   ],
   "source": [
    "pesticides.head()"
   ]
  },
  {
   "cell_type": "code",
   "execution_count": 49,
   "metadata": {
    "scrolled": true
   },
   "outputs": [
    {
     "data": {
      "text/plain": [
       "array(['Pesticides (total)', 'Insecticides',\n",
       "       'Insecticides \\x96 Chlorinated Hydrocarbons',\n",
       "       'Insecticides \\x96 Organo-phosphates',\n",
       "       'Insecticides \\x96 Carbamates'], dtype=object)"
      ]
     },
     "execution_count": 49,
     "metadata": {},
     "output_type": "execute_result"
    }
   ],
   "source": [
    "pesticides.Item.unique()[range(5)]"
   ]
  },
  {
   "cell_type": "markdown",
   "metadata": {},
   "source": [
    "Oh! Our data looks bad formatted. Let us first fix this."
   ]
  },
  {
   "cell_type": "code",
   "execution_count": 50,
   "metadata": {},
   "outputs": [],
   "source": [
    "pesticides['Item'] = pesticides['Item'].str.replace('\\x96', '-')"
   ]
  },
  {
   "cell_type": "code",
   "execution_count": 51,
   "metadata": {},
   "outputs": [
    {
     "data": {
      "text/plain": [
       "array(['Pesticides (total)', 'Insecticides',\n",
       "       'Insecticides - Chlorinated Hydrocarbons',\n",
       "       'Insecticides - Organo-phosphates', 'Insecticides - Carbamates'],\n",
       "      dtype=object)"
      ]
     },
     "execution_count": 51,
     "metadata": {},
     "output_type": "execute_result"
    }
   ],
   "source": [
    "pesticides.Item.unique()[range(5)]"
   ]
  },
  {
   "cell_type": "markdown",
   "metadata": {},
   "source": [
    "Now this looks better."
   ]
  },
  {
   "cell_type": "markdown",
   "metadata": {},
   "source": [
    "For us interesting are Organo-phosphates, Carbamates and Pyrethroids as well as the total use in the countries where bees are decreasing."
   ]
  },
  {
   "cell_type": "code",
   "execution_count": 52,
   "metadata": {},
   "outputs": [],
   "source": [
    "pesticides_total = pesticides.loc[(pesticides['Item'] == 'Pesticides (total)') & (pesticides['Area'].isin(big_decrease))]\n",
    "pesticides_total_world = pesticides.loc[(pesticides['Item'] == 'Pesticides (total)') & (pesticides['Area'] == 'World')]"
   ]
  },
  {
   "cell_type": "code",
   "execution_count": 53,
   "metadata": {},
   "outputs": [],
   "source": [
    "pesticides_organoPhosphates = pesticides.loc[(pesticides['Item'] == 'Insecticides - Organo-phosphates') & (pesticides['Area'].isin(big_decrease))]\n",
    "pesticides_carbamates = pesticides.loc[(pesticides['Item'] == 'Insecticides - Carbamates') & (pesticides['Area'].isin(big_decrease))]\n",
    "pesticides_pyrethroids = pesticides.loc[(pesticides['Item'] == 'Insecticides - Pyrethroids') & (pesticides['Area'].isin(big_decrease))]"
   ]
  },
  {
   "cell_type": "markdown",
   "metadata": {},
   "source": [
    "Let us now first see how the use of pesticides across the world is. Unfortunately we only have data from 1990 to 2017."
   ]
  },
  {
   "cell_type": "code",
   "execution_count": 54,
   "metadata": {
    "scrolled": true
   },
   "outputs": [
    {
     "data": {
      "text/plain": [
       "(1990, 2020)"
      ]
     },
     "execution_count": 54,
     "metadata": {},
     "output_type": "execute_result"
    },
    {
     "data": {
      "image/png": "[encoded data removed]",
      "text/plain": [
       "<Figure size 432x288 with 1 Axes>"
      ]
     },
     "metadata": {
      "needs_background": "light"
     },
     "output_type": "display_data"
    }
   ],
   "source": [
    "plt.plot(pesticides_total_world['Year'], pesticides_total_world['Value'])\n",
    "plt.title('Use of Pesticides total in the world per year')\n",
    "plt.xlabel('Years')\n",
    "plt.ylabel('Use of pesticides in tonnes')\n",
    "plt.xlim(1990, 2020)"
   ]
  },
  {
   "cell_type": "markdown",
   "metadata": {},
   "source": [
    "### Here we see an increasing number of pesticides throughout the world. How is the increase considered only the toxic pesticides?"
   ]
  },
  {
   "cell_type": "code",
   "execution_count": 55,
   "metadata": {},
   "outputs": [
    {
     "data": {
      "application/vnd.jupyter.widget-view+json": {
       "model_id": "b35c1ce1ee444910b3443c332f5f9c9f",
       "version_major": 2,
       "version_minor": 0
      },
      "text/plain": [
       "interactive(children=(Dropdown(description='country', options=('Austria', 'Egypt', 'France', 'Germany', 'Italy…"
      ]
     },
     "metadata": {},
     "output_type": "display_data"
    }
   ],
   "source": [
    "@interact\n",
    "def show_beehives_for_country(country=big_decrease2017):\n",
    "    pesticides_organoPhosphates_country=pesticides_organoPhosphates.loc[pesticides_organoPhosphates['Area']==country]\n",
    "    plt.plot(pesticides_organoPhosphates_country['Year'],pesticides_organoPhosphates_country['Value'],'-*')\n",
    "    plt.title('Country: '+country)\n",
    "    plt.xlabel('Years')\n",
    "    plt.ylabel('Number')\n",
    "    plt.xlim(1990, 2020)"
   ]
  },
  {
   "cell_type": "code",
   "execution_count": 56,
   "metadata": {
    "scrolled": true
   },
   "outputs": [
    {
     "data": {
      "application/vnd.jupyter.widget-view+json": {
       "model_id": "c259410614d147a5b9e9a63b1946a8bc",
       "version_major": 2,
       "version_minor": 0
      },
      "text/plain": [
       "interactive(children=(Dropdown(description='country', options=('Austria', 'Egypt', 'France', 'Germany', 'Italy…"
      ]
     },
     "metadata": {},
     "output_type": "display_data"
    }
   ],
   "source": [
    "@interact\n",
    "def show_beehives_for_country(country=big_decrease2017):\n",
    "    pesticides_carbamates_country=pesticides_carbamates.loc[pesticides_carbamates['Area']==country]\n",
    "    plt.plot(pesticides_carbamates_country['Year'],pesticides_carbamates_country['Value'],'-*')\n",
    "    plt.title('Country: '+country)\n",
    "    plt.xlabel('Years')\n",
    "    plt.ylabel('Number')\n",
    "    plt.xlim(1990, 2020)"
   ]
  },
  {
   "cell_type": "code",
   "execution_count": 57,
   "metadata": {},
   "outputs": [
    {
     "data": {
      "application/vnd.jupyter.widget-view+json": {
       "model_id": "d94bde3d13d24adcad7759c5f8de20b9",
       "version_major": 2,
       "version_minor": 0
      },
      "text/plain": [
       "interactive(children=(Dropdown(description='country', options=('Austria', 'Egypt', 'France', 'Germany', 'Italy…"
      ]
     },
     "metadata": {},
     "output_type": "display_data"
    }
   ],
   "source": [
    "@interact\n",
    "def show_beehives_for_country(country=big_decrease2017):\n",
    "    pesticides_pyrethroids_country=pesticides_pyrethroids.loc[pesticides_pyrethroids['Area']==country]\n",
    "    plt.plot(pesticides_pyrethroids_country['Year'],pesticides_pyrethroids_country['Value'],'-*')\n",
    "    plt.title('Country: '+country)\n",
    "    plt.xlabel('Years')\n",
    "    plt.ylabel('Number')\n",
    "    plt.xlim(1990, 2020)"
   ]
  },
  {
   "cell_type": "markdown",
   "metadata": {},
   "source": [
    "This data does look hard to obtain since a lot of countries are not covered in this dataset. However some are. From looking at the three different pesticides we see that Pyrethroids are increasing in Austria, France, Germany, France, Italy and Switzerland. The two other pesticides decrease."
   ]
  },
  {
   "cell_type": "markdown",
   "metadata": {},
   "source": [
    "### But what are Pyrethroids and why is the number increasing this much? "
   ]
  },
  {
   "cell_type": "markdown",
   "metadata": {},
   "source": [
    "Insecticides in general are a substance to kill insects. Some of them are widely regarded as safe to the human but '2250 times more toxic to insects'. [https://www.ncbi.nlm.nih.gov/pmc/articles/PMC6174339/]. One of those is the Pyrethroid. It is recommendd for 'in-home insect control' to keep the house clean of insects and so widely spread. They can also be found in different products, like mosquito repellents, soap for pets or in our sprinkled in ones garden. [https://www.theverge.com/2014/2/19/5423480/popular-poison-pyrethroid-health-risks].\n",
    "The effects of pesticides on bees can weaken their immune system which makes them less productive and leads to a decline of bees population."
   ]
  },
  {
   "cell_type": "markdown",
   "metadata": {},
   "source": [
    "https://watermark.silverchair.com/pmx001.pdf?token=AQECAHi208BE49Ooan9kkhW_Ercy7Dm3ZL_9Cf3qfKAc485ysgAAAlQwggJQBgkqhkiG9w0BBwagggJBMIICPQIBADCCAjYGCSqGSIb3DQEHATAeBglghkgBZQMEAS4wEQQMGvLTcs3fYq9aJOsPAgEQgIICBzTd9jne1QhZ_T5fZzBIejx_R7LDpCR70ccn4KZibpaCo4F45_hIucK74pNxtlgBOWFrlm03VoNG0tMh0QGAzYE47EIXfjHnlzA8xRPZ5Be_kuhoJjz6m-ky_crQbSp6xS-KdmA0Yw5Ri2dhuRBhNqlH20SRQ0PPp8Q_dn21vWLUBWG89du7w-s47b9FxkM01oMreUHytIlJ0VJacrUH02EZTpHUVP6QxUvsacALAzH_MMWrJ9dI-6CUdObk5ghgMxrwaF3HJgK_fMurXweTB_vu7EOPLsw7AcIir1d6kHy-ybdwvAOzx9CVhbXheELEXKcNOUsGY6rIjdFBa84PuHgKCpf4NIwTLLbd45U5CVqM2hIU_hx_BMnO5kEo-0OPURrIqp2jWFrJ4CleqGz_9RlFeicnAKtn7OQ7ey6u-3LDQCEOwOUJL6_-JD5LSxGu2SWvUl5oGvnmS7A0H7W4HN_H1zJRQ_5ECvc1GNTJGFt26vuubDTiqn1UHG-kq8CDJNhjbbWsCJYh1mcqMj6Qn-sndPMek39tRcSmYRu7xtl-fohQDgF_pDOcqS_zmWL1COny0kIydigv64ouhDL0TGa-cJsa8_IFbRG0HTeVeScqSdAdImR3xgUXEn876JxyeSQrmZIF_56YFkIK9bsAHWdRehWDdD7ax9YX2bq8gia_lLtLvpUenA "
   ]
  },
  {
   "cell_type": "markdown",
   "metadata": {},
   "source": [
    "# An interactive plot of percentage changes during the years"
   ]
  },
  {
   "cell_type": "code",
   "execution_count": 58,
   "metadata": {},
   "outputs": [],
   "source": [
    "selected_countries = ['Austria', 'Bulgaria', 'Finland', 'France', 'Germany', 'Greece', 'Hungary', 'Italy', 'Poland', 'Portugal', 'Spain', 'Sweden', 'Switzerland', 'Canada', 'Mexico', 'United States of America']"
   ]
  },
  {
   "cell_type": "code",
   "execution_count": 59,
   "metadata": {},
   "outputs": [
    {
     "data": {
      "application/vnd.jupyter.widget-view+json": {
       "model_id": "b5e1d77949e54b8ca11778344b665c6e",
       "version_major": 2,
       "version_minor": 0
      },
      "text/plain": [
       "interactive(children=(IntSlider(value=1961, description='Starting_Year', max=2016, min=1961), IntSlider(value=…"
      ]
     },
     "metadata": {},
     "output_type": "display_data"
    }
   ],
   "source": [
    "beehives_selected = beehives.loc[beehives.Area.isin(selected_countries)]\n",
    "\n",
    "@interact(Starting_Year=(1961, 2016, 1), End_Year=(1962, 2017, 1))\n",
    "def show_beehives_for_country(Starting_Year=1961, End_Year=2017):\n",
    "    \n",
    "    old = np.array(beehives_selected.loc[beehives_selected.Year == Starting_Year, 'Value'])\n",
    "    new = np.array(beehives_selected.loc[beehives_selected.Year == End_Year, 'Value'])\n",
    "    \n",
    "    res = pd.DataFrame((new - old) / old) * 100\n",
    "    res.index = beehives_selected.Area.unique()\n",
    "    res.columns = ['Value']\n",
    "    \n",
    "    fig = plt.figure(figsize=(15, 8))\n",
    "    plt.axis([0, len(selected_countries), -150, 500])\n",
    "    plt.bar(x = res.index, height = res.Value, color=(res['Value'] > 0).map({True: 'b', False: 'r'}))\n",
    "    plt.xticks(rotation=45)\n",
    "    plt.axhline(y = 0,linewidth = 1, color = 'k');"
   ]
  },
  {
   "cell_type": "markdown",
   "metadata": {},
   "source": [
    "Here we have a plot of percentage changes for some selected countries during the years. You can use the sliders to change years between which the percentage change is computed."
   ]
  },
  {
   "cell_type": "markdown",
   "metadata": {},
   "source": [
    "# Looking at the correlation of the forest land and beehives  "
   ]
  },
  {
   "cell_type": "code",
   "execution_count": 60,
   "metadata": {
    "scrolled": true
   },
   "outputs": [
    {
     "data": {
      "text/html": [
       "<div>\n",
       "<style scoped>\n",
       "    .dataframe tbody tr th:only-of-type {\n",
       "        vertical-align: middle;\n",
       "    }\n",
       "\n",
       "    .dataframe tbody tr th {\n",
       "        vertical-align: top;\n",
       "    }\n",
       "\n",
       "    .dataframe thead th {\n",
       "        text-align: right;\n",
       "    }\n",
       "</style>\n",
       "<table border=\"1\" class=\"dataframe\">\n",
       "  <thead>\n",
       "    <tr style=\"text-align: right;\">\n",
       "      <th></th>\n",
       "      <th>Area Code</th>\n",
       "      <th>Area</th>\n",
       "      <th>Item Code</th>\n",
       "      <th>Item</th>\n",
       "      <th>Element Code</th>\n",
       "      <th>Element</th>\n",
       "      <th>Year Code</th>\n",
       "      <th>Year</th>\n",
       "      <th>Unit</th>\n",
       "      <th>Value</th>\n",
       "      <th>Flag</th>\n",
       "    </tr>\n",
       "  </thead>\n",
       "  <tbody>\n",
       "    <tr>\n",
       "      <th>684</th>\n",
       "      <td>3</td>\n",
       "      <td>Albania</td>\n",
       "      <td>1181</td>\n",
       "      <td>Beehives</td>\n",
       "      <td>5114</td>\n",
       "      <td>Stocks</td>\n",
       "      <td>1961</td>\n",
       "      <td>1961</td>\n",
       "      <td>No</td>\n",
       "      <td>95100.0</td>\n",
       "      <td>NaN</td>\n",
       "    </tr>\n",
       "    <tr>\n",
       "      <th>685</th>\n",
       "      <td>3</td>\n",
       "      <td>Albania</td>\n",
       "      <td>1181</td>\n",
       "      <td>Beehives</td>\n",
       "      <td>5114</td>\n",
       "      <td>Stocks</td>\n",
       "      <td>1962</td>\n",
       "      <td>1962</td>\n",
       "      <td>No</td>\n",
       "      <td>92800.0</td>\n",
       "      <td>NaN</td>\n",
       "    </tr>\n",
       "    <tr>\n",
       "      <th>686</th>\n",
       "      <td>3</td>\n",
       "      <td>Albania</td>\n",
       "      <td>1181</td>\n",
       "      <td>Beehives</td>\n",
       "      <td>5114</td>\n",
       "      <td>Stocks</td>\n",
       "      <td>1963</td>\n",
       "      <td>1963</td>\n",
       "      <td>No</td>\n",
       "      <td>83500.0</td>\n",
       "      <td>NaN</td>\n",
       "    </tr>\n",
       "    <tr>\n",
       "      <th>687</th>\n",
       "      <td>3</td>\n",
       "      <td>Albania</td>\n",
       "      <td>1181</td>\n",
       "      <td>Beehives</td>\n",
       "      <td>5114</td>\n",
       "      <td>Stocks</td>\n",
       "      <td>1964</td>\n",
       "      <td>1964</td>\n",
       "      <td>No</td>\n",
       "      <td>96500.0</td>\n",
       "      <td>NaN</td>\n",
       "    </tr>\n",
       "    <tr>\n",
       "      <th>688</th>\n",
       "      <td>3</td>\n",
       "      <td>Albania</td>\n",
       "      <td>1181</td>\n",
       "      <td>Beehives</td>\n",
       "      <td>5114</td>\n",
       "      <td>Stocks</td>\n",
       "      <td>1965</td>\n",
       "      <td>1965</td>\n",
       "      <td>No</td>\n",
       "      <td>109800.0</td>\n",
       "      <td>NaN</td>\n",
       "    </tr>\n",
       "    <tr>\n",
       "      <th>...</th>\n",
       "      <td>...</td>\n",
       "      <td>...</td>\n",
       "      <td>...</td>\n",
       "      <td>...</td>\n",
       "      <td>...</td>\n",
       "      <td>...</td>\n",
       "      <td>...</td>\n",
       "      <td>...</td>\n",
       "      <td>...</td>\n",
       "      <td>...</td>\n",
       "      <td>...</td>\n",
       "    </tr>\n",
       "    <tr>\n",
       "      <th>135919</th>\n",
       "      <td>251</td>\n",
       "      <td>Zambia</td>\n",
       "      <td>1181</td>\n",
       "      <td>Beehives</td>\n",
       "      <td>5114</td>\n",
       "      <td>Stocks</td>\n",
       "      <td>2013</td>\n",
       "      <td>2013</td>\n",
       "      <td>No</td>\n",
       "      <td>57000.0</td>\n",
       "      <td>F</td>\n",
       "    </tr>\n",
       "    <tr>\n",
       "      <th>135920</th>\n",
       "      <td>251</td>\n",
       "      <td>Zambia</td>\n",
       "      <td>1181</td>\n",
       "      <td>Beehives</td>\n",
       "      <td>5114</td>\n",
       "      <td>Stocks</td>\n",
       "      <td>2014</td>\n",
       "      <td>2014</td>\n",
       "      <td>No</td>\n",
       "      <td>57000.0</td>\n",
       "      <td>F</td>\n",
       "    </tr>\n",
       "    <tr>\n",
       "      <th>135921</th>\n",
       "      <td>251</td>\n",
       "      <td>Zambia</td>\n",
       "      <td>1181</td>\n",
       "      <td>Beehives</td>\n",
       "      <td>5114</td>\n",
       "      <td>Stocks</td>\n",
       "      <td>2015</td>\n",
       "      <td>2015</td>\n",
       "      <td>No</td>\n",
       "      <td>57194.0</td>\n",
       "      <td>Im</td>\n",
       "    </tr>\n",
       "    <tr>\n",
       "      <th>135922</th>\n",
       "      <td>251</td>\n",
       "      <td>Zambia</td>\n",
       "      <td>1181</td>\n",
       "      <td>Beehives</td>\n",
       "      <td>5114</td>\n",
       "      <td>Stocks</td>\n",
       "      <td>2016</td>\n",
       "      <td>2016</td>\n",
       "      <td>No</td>\n",
       "      <td>59696.0</td>\n",
       "      <td>Im</td>\n",
       "    </tr>\n",
       "    <tr>\n",
       "      <th>135923</th>\n",
       "      <td>251</td>\n",
       "      <td>Zambia</td>\n",
       "      <td>1181</td>\n",
       "      <td>Beehives</td>\n",
       "      <td>5114</td>\n",
       "      <td>Stocks</td>\n",
       "      <td>2017</td>\n",
       "      <td>2017</td>\n",
       "      <td>No</td>\n",
       "      <td>60357.0</td>\n",
       "      <td>Im</td>\n",
       "    </tr>\n",
       "  </tbody>\n",
       "</table>\n",
       "<p>6333 rows × 11 columns</p>\n",
       "</div>"
      ],
      "text/plain": [
       "        Area Code     Area  Item Code      Item  Element Code Element  \\\n",
       "684             3  Albania       1181  Beehives          5114  Stocks   \n",
       "685             3  Albania       1181  Beehives          5114  Stocks   \n",
       "686             3  Albania       1181  Beehives          5114  Stocks   \n",
       "687             3  Albania       1181  Beehives          5114  Stocks   \n",
       "688             3  Albania       1181  Beehives          5114  Stocks   \n",
       "...           ...      ...        ...       ...           ...     ...   \n",
       "135919        251   Zambia       1181  Beehives          5114  Stocks   \n",
       "135920        251   Zambia       1181  Beehives          5114  Stocks   \n",
       "135921        251   Zambia       1181  Beehives          5114  Stocks   \n",
       "135922        251   Zambia       1181  Beehives          5114  Stocks   \n",
       "135923        251   Zambia       1181  Beehives          5114  Stocks   \n",
       "\n",
       "        Year Code  Year Unit     Value Flag  \n",
       "684          1961  1961   No   95100.0  NaN  \n",
       "685          1962  1962   No   92800.0  NaN  \n",
       "686          1963  1963   No   83500.0  NaN  \n",
       "687          1964  1964   No   96500.0  NaN  \n",
       "688          1965  1965   No  109800.0  NaN  \n",
       "...           ...   ...  ...       ...  ...  \n",
       "135919       2013  2013   No   57000.0    F  \n",
       "135920       2014  2014   No   57000.0    F  \n",
       "135921       2015  2015   No   57194.0   Im  \n",
       "135922       2016  2016   No   59696.0   Im  \n",
       "135923       2017  2017   No   60357.0   Im  \n",
       "\n",
       "[6333 rows x 11 columns]"
      ]
     },
     "execution_count": 60,
     "metadata": {},
     "output_type": "execute_result"
    }
   ],
   "source": [
    "beehives_countries"
   ]
  },
  {
   "cell_type": "code",
   "execution_count": 80,
   "metadata": {},
   "outputs": [],
   "source": [
    "land_use = pd.read_csv('data/Inputs_LandUse_E_All_Data_(Normalized).csv',  encoding='iso-8859-1')\n",
    "#land_use_countries = land_use[land_use['Area'].isin(countries)]\n",
    "#land_use_continents = land_use[land_use['Area'].isin(continents)]"
   ]
  },
  {
   "cell_type": "markdown",
   "metadata": {},
   "source": [
    "Load datasets"
   ]
  },
  {
   "cell_type": "code",
   "execution_count": 104,
   "metadata": {
    "scrolled": true
   },
   "outputs": [],
   "source": [
    "# Forest land, Country Area, Agricultural land\n",
    "forest_land = land_use.loc[land_use['Item'] == 'Forest land'].copy()\n",
    "agricultural_land = land_use.loc[land_use['Item'] == 'Agricultural land'].copy()\n",
    "country_land = land_use.loc[land_use['Item'] == 'Country area'].copy()"
   ]
  },
  {
   "cell_type": "markdown",
   "metadata": {},
   "source": [
    "First look at the data"
   ]
  },
  {
   "cell_type": "code",
   "execution_count": 122,
   "metadata": {},
   "outputs": [],
   "source": [
    "forest_land.drop(forest_land[forest_land[\"Element\"] == \"Carbon stock in living biomass\"].index, inplace = True)"
   ]
  },
  {
   "cell_type": "code",
   "execution_count": 114,
   "metadata": {},
   "outputs": [
    {
     "data": {
      "text/html": [
       "<div>\n",
       "<style scoped>\n",
       "    .dataframe tbody tr th:only-of-type {\n",
       "        vertical-align: middle;\n",
       "    }\n",
       "\n",
       "    .dataframe tbody tr th {\n",
       "        vertical-align: top;\n",
       "    }\n",
       "\n",
       "    .dataframe thead th {\n",
       "        text-align: right;\n",
       "    }\n",
       "</style>\n",
       "<table border=\"1\" class=\"dataframe\">\n",
       "  <thead>\n",
       "    <tr style=\"text-align: right;\">\n",
       "      <th></th>\n",
       "      <th>Area Code</th>\n",
       "      <th>Area</th>\n",
       "      <th>Item Code</th>\n",
       "      <th>Item</th>\n",
       "      <th>Element Code</th>\n",
       "      <th>Element</th>\n",
       "      <th>Year Code</th>\n",
       "      <th>Year</th>\n",
       "      <th>Unit</th>\n",
       "      <th>Value</th>\n",
       "      <th>Flag</th>\n",
       "    </tr>\n",
       "  </thead>\n",
       "  <tbody>\n",
       "    <tr>\n",
       "      <th>0</th>\n",
       "      <td>2</td>\n",
       "      <td>Afghanistan</td>\n",
       "      <td>6600</td>\n",
       "      <td>Country area</td>\n",
       "      <td>5110</td>\n",
       "      <td>Area</td>\n",
       "      <td>1961</td>\n",
       "      <td>1961</td>\n",
       "      <td>1000 ha</td>\n",
       "      <td>65286.0</td>\n",
       "      <td>W</td>\n",
       "    </tr>\n",
       "    <tr>\n",
       "      <th>1</th>\n",
       "      <td>2</td>\n",
       "      <td>Afghanistan</td>\n",
       "      <td>6600</td>\n",
       "      <td>Country area</td>\n",
       "      <td>5110</td>\n",
       "      <td>Area</td>\n",
       "      <td>1962</td>\n",
       "      <td>1962</td>\n",
       "      <td>1000 ha</td>\n",
       "      <td>65286.0</td>\n",
       "      <td>W</td>\n",
       "    </tr>\n",
       "    <tr>\n",
       "      <th>2</th>\n",
       "      <td>2</td>\n",
       "      <td>Afghanistan</td>\n",
       "      <td>6600</td>\n",
       "      <td>Country area</td>\n",
       "      <td>5110</td>\n",
       "      <td>Area</td>\n",
       "      <td>1963</td>\n",
       "      <td>1963</td>\n",
       "      <td>1000 ha</td>\n",
       "      <td>65286.0</td>\n",
       "      <td>W</td>\n",
       "    </tr>\n",
       "    <tr>\n",
       "      <th>3</th>\n",
       "      <td>2</td>\n",
       "      <td>Afghanistan</td>\n",
       "      <td>6600</td>\n",
       "      <td>Country area</td>\n",
       "      <td>5110</td>\n",
       "      <td>Area</td>\n",
       "      <td>1964</td>\n",
       "      <td>1964</td>\n",
       "      <td>1000 ha</td>\n",
       "      <td>65286.0</td>\n",
       "      <td>W</td>\n",
       "    </tr>\n",
       "    <tr>\n",
       "      <th>4</th>\n",
       "      <td>2</td>\n",
       "      <td>Afghanistan</td>\n",
       "      <td>6600</td>\n",
       "      <td>Country area</td>\n",
       "      <td>5110</td>\n",
       "      <td>Area</td>\n",
       "      <td>1965</td>\n",
       "      <td>1965</td>\n",
       "      <td>1000 ha</td>\n",
       "      <td>65286.0</td>\n",
       "      <td>W</td>\n",
       "    </tr>\n",
       "  </tbody>\n",
       "</table>\n",
       "</div>"
      ],
      "text/plain": [
       "   Area Code         Area  Item Code          Item  Element Code Element  \\\n",
       "0          2  Afghanistan       6600  Country area          5110    Area   \n",
       "1          2  Afghanistan       6600  Country area          5110    Area   \n",
       "2          2  Afghanistan       6600  Country area          5110    Area   \n",
       "3          2  Afghanistan       6600  Country area          5110    Area   \n",
       "4          2  Afghanistan       6600  Country area          5110    Area   \n",
       "\n",
       "   Year Code  Year     Unit    Value Flag  \n",
       "0       1961  1961  1000 ha  65286.0    W  \n",
       "1       1962  1962  1000 ha  65286.0    W  \n",
       "2       1963  1963  1000 ha  65286.0    W  \n",
       "3       1964  1964  1000 ha  65286.0    W  \n",
       "4       1965  1965  1000 ha  65286.0    W  "
      ]
     },
     "execution_count": 114,
     "metadata": {},
     "output_type": "execute_result"
    }
   ],
   "source": [
    "country_land.head(5)"
   ]
  },
  {
   "cell_type": "markdown",
   "metadata": {},
   "source": [
    "Calculating ratio for forest land, agricultural land and beehives. These quantities are defined as:\n",
    "\n",
    "$$ Ratio_{forest} = \\frac{ForestArea}{TotalArea} $$\n",
    "\n",
    "$$ Ratio_{agriculture} = \\frac{AgriculturalArea}{TotalArea} $$\n",
    "\n",
    "$$ Ratio_{beehives} = \\frac{BeehivesNumber}{TotalArea} $$"
   ]
  },
  {
   "cell_type": "code",
   "execution_count": 133,
   "metadata": {
    "scrolled": true
   },
   "outputs": [],
   "source": [
    "years = range(1960, 2018)\n",
    "countries_world = countries\n",
    "countries_world.append('World')\n",
    "\n",
    "for country in countries_world:\n",
    "    #print(\"country: \", country)\n",
    "    for year in years:\n",
    "        # calculate and insert ratio in corresponding dataframe(for each country and year)\n",
    "        try:\n",
    "            country_elem = country_land.loc[(country_land[\"Area\"] == country) & (country_land[\"Year\"] == year), \"Value\"].values[0]\n",
    "\n",
    "            forest_elem = forest_land.loc[(forest_land[\"Area\"] == country) & (forest_land[\"Year\"] == year), \"Value\"].values[0]\n",
    "            forest_ratio = forest_elem / country_elem\n",
    "            forest_land.loc[(forest_land[\"Area\"] == country) & (forest_land[\"Year\"] == year),\"Ratio\"] = forest_ratio\n",
    "        \n",
    "            agricultural_elem = agricultural_land.loc[(agricultural_land[\"Area\"] == country) & (agricultural_land[\"Year\"] == year), \"Value\"].values[0]\n",
    "            agricultural_ratio = agricultural_elem / country_elem\n",
    "            agricultural_land.loc[(agricultural_land[\"Area\"] == country) & (agricultural_land[\"Year\"] == year),\"Ratio\"] = agricultural_ratio\n",
    "        \n",
    "            beehives_elem = beehives.loc[(beehives[\"Area\"] == country) & (beehives[\"Year\"] == year), \"Value\"].values[0]\n",
    "            beehives_ratio = beehives_elem / country_elem\n",
    "            beehives.loc[(beehives[\"Area\"] == country) & (beehives[\"Year\"] == year),\"Ratio\"] = beehives_ratio\n",
    "        except:\n",
    "            pass"
   ]
  },
  {
   "cell_type": "markdown",
   "metadata": {},
   "source": [
    "Visualizing correlation between forest ratio and beehives number, in countries and continents."
   ]
  },
  {
   "cell_type": "code",
   "execution_count": 134,
   "metadata": {},
   "outputs": [
    {
     "data": {
      "application/vnd.jupyter.widget-view+json": {
       "model_id": "7695b4deb88d49fead61fbea2bd71389",
       "version_major": 2,
       "version_minor": 0
      },
      "text/plain": [
       "interactive(children=(Dropdown(description='area', options=('Albania', 'Algeria', 'Angola', 'Argentina', 'Arme…"
      ]
     },
     "metadata": {},
     "output_type": "display_data"
    }
   ],
   "source": [
    "@interact\n",
    "def plot_agricultural_land(area=countries):\n",
    "    try:\n",
    "        #agricultural_tmp = agricultural_land[(agricultural_land[\"Country or Area\"] == area) & (agricultural_land[\"Element\"] == \"Area\")][[\"Value\",\"Year\"]]\n",
    "        forest_tmp = forest_land[forest_land[\"Area\"] == area][[\"Ratio\",\"Year\"]]\n",
    "        beehives_tmp = beehives[beehives[\"Area\"] == area][[\"Value\",\"Year\"]]\n",
    "    \n",
    "        fig, ax1 = plt.subplots()\n",
    "        \n",
    "        color = 'tab:red'\n",
    "        ax1.set_xlabel('Years')\n",
    "        ax1.set_ylabel('Beehives number', color=color)\n",
    "        beehives_tmp.plot(ax=ax1, x=\"Year\", y=\"Value\", color=color, label=\"Beehives number\")\n",
    "        ax1.tick_params(axis='y', labelcolor=color)\n",
    "\n",
    "        ax2 = ax1.twinx()  # instantiate a second axes that shares the same x-axis\n",
    "\n",
    "        color = 'tab:blue'\n",
    "        ax2.set_ylabel('Forest / Total land ratio', color=color)  # we already handled the x-label with ax1\n",
    "        forest_tmp.plot(ax=ax2, x=\"Year\", y=\"Ratio\", color=color, label=\"Forest ratio\")\n",
    "        ax2.tick_params(axis='y', labelcolor=color)\n",
    "        ax1.get_legend().remove()\n",
    "        ax2.get_legend().remove()\n",
    "        fig.tight_layout()  # otherwise the right y-label is slightly clipped\n",
    "        plt.show()\n",
    "    except:\n",
    "        pass"
   ]
  },
  {
   "cell_type": "markdown",
   "metadata": {},
   "source": [
    "## Forests analysis"
   ]
  },
  {
   "cell_type": "code",
   "execution_count": 135,
   "metadata": {},
   "outputs": [
    {
     "data": {
      "text/html": [
       "<div>\n",
       "<style scoped>\n",
       "    .dataframe tbody tr th:only-of-type {\n",
       "        vertical-align: middle;\n",
       "    }\n",
       "\n",
       "    .dataframe tbody tr th {\n",
       "        vertical-align: top;\n",
       "    }\n",
       "\n",
       "    .dataframe thead th {\n",
       "        text-align: right;\n",
       "    }\n",
       "</style>\n",
       "<table border=\"1\" class=\"dataframe\">\n",
       "  <thead>\n",
       "    <tr style=\"text-align: right;\">\n",
       "      <th></th>\n",
       "      <th>Area</th>\n",
       "      <th>Value</th>\n",
       "      <th>Ratio</th>\n",
       "    </tr>\n",
       "  </thead>\n",
       "  <tbody>\n",
       "    <tr>\n",
       "      <th>168004</th>\n",
       "      <td>World</td>\n",
       "      <td>3999133.622</td>\n",
       "      <td>0.296539</td>\n",
       "    </tr>\n",
       "  </tbody>\n",
       "</table>\n",
       "</div>"
      ],
      "text/plain": [
       "         Area        Value     Ratio\n",
       "168004  World  3999133.622  0.296539"
      ]
     },
     "execution_count": 135,
     "metadata": {},
     "output_type": "execute_result"
    }
   ],
   "source": [
    "forest_land.loc[(forest_land[\"Year\"] == 2017) & (forest_land[\"Area\"] == \"World\"), [\"Area\", \"Value\", \"Ratio\"]]"
   ]
  },
  {
   "cell_type": "markdown",
   "metadata": {},
   "source": [
    "This means that ~30% of the world land surface area is covered by forests.\n",
    "Visualizing forests area per continent. "
   ]
  },
  {
   "cell_type": "markdown",
   "metadata": {},
   "source": [
    "Visualizing forests area per continent. "
   ]
  },
  {
   "cell_type": "code",
   "execution_count": 136,
   "metadata": {},
   "outputs": [
    {
     "data": {
      "text/plain": [
       "<matplotlib.axes._subplots.AxesSubplot at 0x7f864b8f66a0>"
      ]
     },
     "execution_count": 136,
     "metadata": {},
     "output_type": "execute_result"
    },
    {
     "data": {
      "image/png": "[encoded data removed]",
      "text/plain": [
       "<Figure size 432x288 with 1 Axes>"
      ]
     },
     "metadata": {
      "needs_background": "light"
     },
     "output_type": "display_data"
    }
   ],
   "source": [
    "forest_land.sort_values(by=[\"Value\"], ascending=False)\\\n",
    "           .loc[(forest_land[\"Year\"] == 2017) & (forest_land[\"Area\"].isin(continents)), [\"Area\", \"Value\"]]\\\n",
    "           .plot.bar(x=\"Area\",y=\"Value\", label=\"Forests surface(Ha)\", title=\"Forests surface area per continent\")"
   ]
  },
  {
   "cell_type": "code",
   "execution_count": 137,
   "metadata": {},
   "outputs": [
    {
     "data": {
      "text/html": [
       "<div>\n",
       "<style scoped>\n",
       "    .dataframe tbody tr th:only-of-type {\n",
       "        vertical-align: middle;\n",
       "    }\n",
       "\n",
       "    .dataframe tbody tr th {\n",
       "        vertical-align: top;\n",
       "    }\n",
       "\n",
       "    .dataframe thead th {\n",
       "        text-align: right;\n",
       "    }\n",
       "</style>\n",
       "<table border=\"1\" class=\"dataframe\">\n",
       "  <thead>\n",
       "    <tr style=\"text-align: right;\">\n",
       "      <th></th>\n",
       "      <th>Area</th>\n",
       "      <th>Ratio</th>\n",
       "    </tr>\n",
       "  </thead>\n",
       "  <tbody>\n",
       "    <tr>\n",
       "      <th>168798</th>\n",
       "      <td>Africa</td>\n",
       "      <td>NaN</td>\n",
       "    </tr>\n",
       "    <tr>\n",
       "      <th>173543</th>\n",
       "      <td>Americas</td>\n",
       "      <td>NaN</td>\n",
       "    </tr>\n",
       "    <tr>\n",
       "      <th>177506</th>\n",
       "      <td>Asia</td>\n",
       "      <td>NaN</td>\n",
       "    </tr>\n",
       "    <tr>\n",
       "      <th>181926</th>\n",
       "      <td>Europe</td>\n",
       "      <td>NaN</td>\n",
       "    </tr>\n",
       "    <tr>\n",
       "      <th>185896</th>\n",
       "      <td>Oceania</td>\n",
       "      <td>NaN</td>\n",
       "    </tr>\n",
       "  </tbody>\n",
       "</table>\n",
       "</div>"
      ],
      "text/plain": [
       "            Area  Ratio\n",
       "168798    Africa    NaN\n",
       "173543  Americas    NaN\n",
       "177506      Asia    NaN\n",
       "181926    Europe    NaN\n",
       "185896   Oceania    NaN"
      ]
     },
     "execution_count": 137,
     "metadata": {},
     "output_type": "execute_result"
    }
   ],
   "source": [
    "forest_land.sort_values(by=[\"Ratio\"], ascending=False)\\\n",
    "           .loc[(forest_land[\"Year\"] == 2017) & (forest_land[\"Area\"].isin(continents)), [\"Area\", \"Ratio\"]]"
   ]
  },
  {
   "cell_type": "markdown",
   "metadata": {},
   "source": [
    "### Forests analysis per country"
   ]
  },
  {
   "cell_type": "markdown",
   "metadata": {},
   "source": [
    "Plotting countries with more forests."
   ]
  },
  {
   "cell_type": "code",
   "execution_count": 144,
   "metadata": {},
   "outputs": [
    {
     "data": {
      "text/plain": [
       "<matplotlib.axes._subplots.AxesSubplot at 0x7f864360a470>"
      ]
     },
     "execution_count": 144,
     "metadata": {},
     "output_type": "execute_result"
    },
    {
     "data": {
      "image/png": "[encoded data removed]",
      "text/plain": [
       "<Figure size 1152x288 with 1 Axes>"
      ]
     },
     "metadata": {
      "needs_background": "light"
     },
     "output_type": "display_data"
    }
   ],
   "source": [
    "forest_land.sort_values(by=[\"Value\"], ascending=False)\\\n",
    "           .loc[(forest_land[\"Year\"] == 2017) & (forest_land[\"Area\"].isin(countries)), [\"Area\", \"Value\"]]\\\n",
    "           .plot.bar(x=\"Area\", y=\"Value\", title=\"Top 15 countries for forest covered area\", label=\"Forests surface(Ha)\", figsize=(16,4))"
   ]
  },
  {
   "cell_type": "markdown",
   "metadata": {},
   "source": [
    "Plotting the total surface area in each country. we can observe a long tailed distribution."
   ]
  },
  {
   "cell_type": "code",
   "execution_count": 148,
   "metadata": {},
   "outputs": [
    {
     "data": {
      "text/plain": [
       "<matplotlib.axes._subplots.AxesSubplot at 0x7f8643ae3198>"
      ]
     },
     "execution_count": 148,
     "metadata": {},
     "output_type": "execute_result"
    },
    {
     "data": {
      "image/png": "[encoded data removed]",
      "text/plain": [
       "<Figure size 432x288 with 1 Axes>"
      ]
     },
     "metadata": {
      "needs_background": "light"
     },
     "output_type": "display_data"
    }
   ],
   "source": [
    "country_land.sort_values(by=[\"Value\"], ascending=False)\\\n",
    "           .loc[(country_land[\"Year\"] == 2017) & (country_land[\"Area\"].isin(countries)), [\"Area\", \"Value\"]]\\\n",
    "           .head(10)\\\n",
    "           .plot.barh(x=\"Area\", y=\"Value\", title=\"Total surface area in a country\", label=\"Country surface(Ha)\")"
   ]
  },
  {
   "cell_type": "markdown",
   "metadata": {},
   "source": [
    "It seems that Russia has almost the double of forests than any other country, but also the double in total area.\n",
    "We proceed by analysing the ratio between the area covered by forests and the total available surface."
   ]
  },
  {
   "cell_type": "code",
   "execution_count": 151,
   "metadata": {},
   "outputs": [
    {
     "data": {
      "text/html": [
       "<div>\n",
       "<style scoped>\n",
       "    .dataframe tbody tr th:only-of-type {\n",
       "        vertical-align: middle;\n",
       "    }\n",
       "\n",
       "    .dataframe tbody tr th {\n",
       "        vertical-align: top;\n",
       "    }\n",
       "\n",
       "    .dataframe thead th {\n",
       "        text-align: right;\n",
       "    }\n",
       "</style>\n",
       "<table border=\"1\" class=\"dataframe\">\n",
       "  <thead>\n",
       "    <tr style=\"text-align: right;\">\n",
       "      <th></th>\n",
       "      <th>Area</th>\n",
       "      <th>Ratio</th>\n",
       "    </tr>\n",
       "  </thead>\n",
       "  <tbody>\n",
       "    <tr>\n",
       "      <th>67185</th>\n",
       "      <td>Guyana</td>\n",
       "      <td>0.768758</td>\n",
       "    </tr>\n",
       "    <tr>\n",
       "      <th>110275</th>\n",
       "      <td>Niue</td>\n",
       "      <td>0.696154</td>\n",
       "    </tr>\n",
       "    <tr>\n",
       "      <th>78503</th>\n",
       "      <td>Japan</td>\n",
       "      <td>0.660317</td>\n",
       "    </tr>\n",
       "    <tr>\n",
       "      <th>53999</th>\n",
       "      <td>Finland</td>\n",
       "      <td>0.656463</td>\n",
       "    </tr>\n",
       "    <tr>\n",
       "      <th>166436</th>\n",
       "      <td>Zambia</td>\n",
       "      <td>0.646218</td>\n",
       "    </tr>\n",
       "    <tr>\n",
       "      <th>36192</th>\n",
       "      <td>Cook Islands</td>\n",
       "      <td>0.629167</td>\n",
       "    </tr>\n",
       "    <tr>\n",
       "      <th>144387</th>\n",
       "      <td>Sweden</td>\n",
       "      <td>0.627428</td>\n",
       "    </tr>\n",
       "    <tr>\n",
       "      <th>123805</th>\n",
       "      <td>Republic of Korea</td>\n",
       "      <td>0.616182</td>\n",
       "    </tr>\n",
       "    <tr>\n",
       "      <th>137940</th>\n",
       "      <td>Slovenia</td>\n",
       "      <td>0.609375</td>\n",
       "    </tr>\n",
       "    <tr>\n",
       "      <th>131489</th>\n",
       "      <td>Samoa</td>\n",
       "      <td>0.602113</td>\n",
       "    </tr>\n",
       "  </tbody>\n",
       "</table>\n",
       "</div>"
      ],
      "text/plain": [
       "                     Area     Ratio\n",
       "67185              Guyana  0.768758\n",
       "110275               Niue  0.696154\n",
       "78503               Japan  0.660317\n",
       "53999             Finland  0.656463\n",
       "166436             Zambia  0.646218\n",
       "36192        Cook Islands  0.629167\n",
       "144387             Sweden  0.627428\n",
       "123805  Republic of Korea  0.616182\n",
       "137940           Slovenia  0.609375\n",
       "131489              Samoa  0.602113"
      ]
     },
     "execution_count": 151,
     "metadata": {},
     "output_type": "execute_result"
    }
   ],
   "source": [
    "forest_land.sort_values(by=[\"Ratio\"], ascending=False)\\\n",
    "           .loc[(forest_land[\"Year\"] == 2017) & (forest_land[\"Area\"].isin(countries)), [\"Area\",\"Ratio\"]]\\\n",
    "           .head(10)"
   ]
  },
  {
   "cell_type": "code",
   "execution_count": 154,
   "metadata": {},
   "outputs": [
    {
     "data": {
      "text/plain": [
       "<matplotlib.axes._subplots.AxesSubplot at 0x7f8642f5d6a0>"
      ]
     },
     "execution_count": 154,
     "metadata": {},
     "output_type": "execute_result"
    },
    {
     "data": {
      "image/png": "[encoded data removed]",
      "text/plain": [
       "<Figure size 1152x288 with 1 Axes>"
      ]
     },
     "metadata": {
      "needs_background": "light"
     },
     "output_type": "display_data"
    }
   ],
   "source": [
    "forest_land.sort_values(by=[\"Ratio\"], ascending=False)\\\n",
    "           .loc[(forest_land[\"Year\"] == 2017) & (forest_land[\"Area\"].isin(countries)), [\"Area\", \"Ratio\"]]\\\n",
    "           .plot.bar(x=\"Area\", y=\"Ratio\", title=\"Forest ratio per country\", label=\"Forest ratio\", figsize=(16,4))"
   ]
  },
  {
   "cell_type": "markdown",
   "metadata": {},
   "source": [
    "### Discover trends in number of bees"
   ]
  },
  {
   "cell_type": "code",
   "execution_count": 158,
   "metadata": {},
   "outputs": [
    {
     "data": {
      "text/html": [
       "<div>\n",
       "<style scoped>\n",
       "    .dataframe tbody tr th:only-of-type {\n",
       "        vertical-align: middle;\n",
       "    }\n",
       "\n",
       "    .dataframe tbody tr th {\n",
       "        vertical-align: top;\n",
       "    }\n",
       "\n",
       "    .dataframe thead th {\n",
       "        text-align: right;\n",
       "    }\n",
       "</style>\n",
       "<table border=\"1\" class=\"dataframe\">\n",
       "  <thead>\n",
       "    <tr style=\"text-align: right;\">\n",
       "      <th></th>\n",
       "      <th>Area</th>\n",
       "      <th>Ratio</th>\n",
       "    </tr>\n",
       "  </thead>\n",
       "  <tbody>\n",
       "    <tr>\n",
       "      <th>126636</th>\n",
       "      <td>Russian Federation</td>\n",
       "      <td>0.476616</td>\n",
       "    </tr>\n",
       "    <tr>\n",
       "      <th>8729</th>\n",
       "      <td>Austria</td>\n",
       "      <td>0.461260</td>\n",
       "    </tr>\n",
       "    <tr>\n",
       "      <th>97453</th>\n",
       "      <td>Mexico</td>\n",
       "      <td>0.336188</td>\n",
       "    </tr>\n",
       "    <tr>\n",
       "      <th>59395</th>\n",
       "      <td>Germany</td>\n",
       "      <td>0.319341</td>\n",
       "    </tr>\n",
       "    <tr>\n",
       "      <th>158803</th>\n",
       "      <td>United States of America</td>\n",
       "      <td>0.315409</td>\n",
       "    </tr>\n",
       "    <tr>\n",
       "      <th>54908</th>\n",
       "      <td>France</td>\n",
       "      <td>0.309405</td>\n",
       "    </tr>\n",
       "    <tr>\n",
       "      <th>76876</th>\n",
       "      <td>Italy</td>\n",
       "      <td>0.308522</td>\n",
       "    </tr>\n",
       "    <tr>\n",
       "      <th>145312</th>\n",
       "      <td>Switzerland</td>\n",
       "      <td>0.303703</td>\n",
       "    </tr>\n",
       "    <tr>\n",
       "      <th>100271</th>\n",
       "      <td>Morocco</td>\n",
       "      <td>0.126122</td>\n",
       "    </tr>\n",
       "    <tr>\n",
       "      <th>80690</th>\n",
       "      <td>Kenya</td>\n",
       "      <td>0.076038</td>\n",
       "    </tr>\n",
       "    <tr>\n",
       "      <th>47199</th>\n",
       "      <td>Egypt</td>\n",
       "      <td>0.000729</td>\n",
       "    </tr>\n",
       "  </tbody>\n",
       "</table>\n",
       "</div>"
      ],
      "text/plain": [
       "                            Area     Ratio\n",
       "126636        Russian Federation  0.476616\n",
       "8729                     Austria  0.461260\n",
       "97453                     Mexico  0.336188\n",
       "59395                    Germany  0.319341\n",
       "158803  United States of America  0.315409\n",
       "54908                     France  0.309405\n",
       "76876                      Italy  0.308522\n",
       "145312               Switzerland  0.303703\n",
       "100271                   Morocco  0.126122\n",
       "80690                      Kenya  0.076038\n",
       "47199                      Egypt  0.000729"
      ]
     },
     "execution_count": 158,
     "metadata": {},
     "output_type": "execute_result"
    }
   ],
   "source": [
    "forest_land.sort_values(by=[\"Ratio\"], ascending=False)\\\n",
    "           .loc[(forest_land[\"Year\"] == 2017) & (forest_land[\"Area\"].isin(big_decrease2017)), [\"Area\",\"Ratio\"]]\\"
   ]
  },
  {
   "cell_type": "code",
   "execution_count": 165,
   "metadata": {},
   "outputs": [
    {
     "data": {
      "text/html": [
       "<div>\n",
       "<style scoped>\n",
       "    .dataframe tbody tr th:only-of-type {\n",
       "        vertical-align: middle;\n",
       "    }\n",
       "\n",
       "    .dataframe tbody tr th {\n",
       "        vertical-align: top;\n",
       "    }\n",
       "\n",
       "    .dataframe thead th {\n",
       "        text-align: right;\n",
       "    }\n",
       "</style>\n",
       "<table border=\"1\" class=\"dataframe\">\n",
       "  <thead>\n",
       "    <tr style=\"text-align: right;\">\n",
       "      <th></th>\n",
       "      <th>Area</th>\n",
       "      <th>Ratio</th>\n",
       "    </tr>\n",
       "  </thead>\n",
       "  <tbody>\n",
       "    <tr>\n",
       "      <th>123805</th>\n",
       "      <td>Republic of Korea</td>\n",
       "      <td>0.616182</td>\n",
       "    </tr>\n",
       "    <tr>\n",
       "      <th>19635</th>\n",
       "      <td>Brazil</td>\n",
       "      <td>0.579558</td>\n",
       "    </tr>\n",
       "    <tr>\n",
       "      <th>53219</th>\n",
       "      <td>Fiji</td>\n",
       "      <td>0.556757</td>\n",
       "    </tr>\n",
       "    <tr>\n",
       "      <th>157966</th>\n",
       "      <td>United Republic of Tanzania</td>\n",
       "      <td>0.486224</td>\n",
       "    </tr>\n",
       "    <tr>\n",
       "      <th>4199</th>\n",
       "      <td>Angola</td>\n",
       "      <td>0.464073</td>\n",
       "    </tr>\n",
       "    <tr>\n",
       "      <th>106321</th>\n",
       "      <td>New Caledonia</td>\n",
       "      <td>0.451561</td>\n",
       "    </tr>\n",
       "    <tr>\n",
       "      <th>163396</th>\n",
       "      <td>Viet Nam</td>\n",
       "      <td>0.446004</td>\n",
       "    </tr>\n",
       "    <tr>\n",
       "      <th>101874</th>\n",
       "      <td>Myanmar</td>\n",
       "      <td>0.429226</td>\n",
       "    </tr>\n",
       "    <tr>\n",
       "      <th>18066</th>\n",
       "      <td>Bosnia and Herzegovina</td>\n",
       "      <td>0.426674</td>\n",
       "    </tr>\n",
       "    <tr>\n",
       "      <th>134234</th>\n",
       "      <td>Senegal</td>\n",
       "      <td>0.420568</td>\n",
       "    </tr>\n",
       "  </tbody>\n",
       "</table>\n",
       "</div>"
      ],
      "text/plain": [
       "                               Area     Ratio\n",
       "123805            Republic of Korea  0.616182\n",
       "19635                        Brazil  0.579558\n",
       "53219                          Fiji  0.556757\n",
       "157966  United Republic of Tanzania  0.486224\n",
       "4199                         Angola  0.464073\n",
       "106321                New Caledonia  0.451561\n",
       "163396                     Viet Nam  0.446004\n",
       "101874                      Myanmar  0.429226\n",
       "18066        Bosnia and Herzegovina  0.426674\n",
       "134234                      Senegal  0.420568"
      ]
     },
     "execution_count": 165,
     "metadata": {},
     "output_type": "execute_result"
    }
   ],
   "source": [
    "forest_land.sort_values(by=[\"Ratio\"], ascending=False)\\\n",
    "            .loc[(forest_land[\"Year\"] == 2017) & (forest_land[\"Area\"].isin(big_increase)), [\"Area\",\"Ratio\"]]\\\n",
    "            .head(10)"
   ]
  },
  {
   "cell_type": "markdown",
   "metadata": {},
   "source": [
    "This result doesn't confirm the fact highlighted before, but could it still be some correlation? Let's check Spearman and Pearson correlations."
   ]
  },
  {
   "cell_type": "code",
   "execution_count": 169,
   "metadata": {},
   "outputs": [],
   "source": [
    "joined = beehives_countries.set_index([\"Area\",\"Year\"]).join(forest_land.set_index([\"Area\",\"Year\"]), lsuffix='_beehives', rsuffix='_forest')\n",
    "joined = joined.reset_index()"
   ]
  },
  {
   "cell_type": "code",
   "execution_count": 183,
   "metadata": {},
   "outputs": [],
   "source": [
    "joined = joined[['Year', 'Value_beehives', 'Ratio_beehives', 'Value_forest', 'Ratio_forest']]"
   ]
  },
  {
   "cell_type": "markdown",
   "metadata": {},
   "source": [
    "##### Pearson correlation"
   ]
  },
  {
   "cell_type": "code",
   "execution_count": 184,
   "metadata": {},
   "outputs": [
    {
     "data": {
      "text/plain": [
       "<matplotlib.axes._subplots.AxesSubplot at 0x7f863fcf2b00>"
      ]
     },
     "execution_count": 184,
     "metadata": {},
     "output_type": "execute_result"
    },
    {
     "data": {
      "image/png": "[encoded data removed]",
      "text/plain": [
       "<Figure size 432x288 with 2 Axes>"
      ]
     },
     "metadata": {
      "needs_background": "light"
     },
     "output_type": "display_data"
    }
   ],
   "source": [
    "import seaborn as sns\n",
    "pearson_corr = joined.corr(\"pearson\")\n",
    "sns.heatmap(pearson_corr, fmt='.2g',annot=True, cmap=\"OrRd\")"
   ]
  },
  {
   "cell_type": "markdown",
   "metadata": {},
   "source": [
    "##### Spearman correlation"
   ]
  },
  {
   "cell_type": "code",
   "execution_count": 185,
   "metadata": {},
   "outputs": [
    {
     "data": {
      "text/plain": [
       "<matplotlib.axes._subplots.AxesSubplot at 0x7f863fbfe978>"
      ]
     },
     "execution_count": 185,
     "metadata": {},
     "output_type": "execute_result"
    },
    {
     "data": {
      "image/png": "[encoded data removed]",
      "text/plain": [
       "<Figure size 432x288 with 2 Axes>"
      ]
     },
     "metadata": {
      "needs_background": "light"
     },
     "output_type": "display_data"
    }
   ],
   "source": [
    "spearman_corr = joined.corr(\"spearman\")\n",
    "sns.heatmap(spearman_corr, fmt='.2g',annot=True, cmap=\"OrRd\")"
   ]
  },
  {
   "cell_type": "markdown",
   "metadata": {},
   "source": [
    "##### Correlation per year"
   ]
  },
  {
   "cell_type": "code",
   "execution_count": 186,
   "metadata": {},
   "outputs": [
    {
     "data": {
      "application/vnd.jupyter.widget-view+json": {
       "model_id": "42529bdb37014d57b11ef8d4fa5291b5",
       "version_major": 2,
       "version_minor": 0
      },
      "text/plain": [
       "interactive(children=(IntSlider(value=1990, description='year', max=2017, min=1990), Dropdown(description='met…"
      ]
     },
     "metadata": {},
     "output_type": "display_data"
    }
   ],
   "source": [
    "def show_spearman(year=2017, method=[\"pearson\", \"spearman\"]):\n",
    "    corr_mat = joined.loc[joined[\"Year\"] == year].loc[:,joined.columns != \"Year\"].corr(method)\n",
    "    sns.heatmap(corr_mat, fmt='.2g',annot=True, cmap=\"OrRd\")\n",
    "    \n",
    "interact(show_spearman, year=widgets.IntSlider(min=1990, max=2017, step=1));"
   ]
  },
  {
   "cell_type": "markdown",
   "metadata": {},
   "source": [
    "We can see that we have some correlation (both for Pearson and Spearman) between forests surface area in a country and number of beehives in that country. \n",
    "\n",
    "For Spearman we also have a weaker correlation between ratio of forests and number of beehives.\n",
    "\n",
    "The forest concentration is probably not the only factor that influence the number of beehives, but it could have an impact on it."
   ]
  }
 ],
 "metadata": {
  "kernelspec": {
   "display_name": "Python 3",
   "language": "python",
   "name": "python3"
  },
  "language_info": {
   "codemirror_mode": {
    "name": "ipython",
    "version": 3
   },
   "file_extension": ".py",
   "mimetype": "text/x-python",
   "name": "python",
   "nbconvert_exporter": "python",
   "pygments_lexer": "ipython3",
   "version": "3.7.3"
  }
 },
 "nbformat": 4,
 "nbformat_minor": 4
}
