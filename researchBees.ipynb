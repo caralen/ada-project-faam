{
 "cells": [
  {
   "cell_type": "code",
   "execution_count": null,
   "metadata": {},
   "outputs": [],
   "source": [
    "# generally useful imports\n",
    "import pandas as pd\n",
    "import numpy as np\n",
    "import matplotlib.pyplot as plt\n",
    "\n",
    "import scipy.stats as  sc\n",
    "\n",
    "import geopandas as gpd\n",
    "from matplotlib.collections import PatchCollection\n",
    "\n",
    "# For interactive plots\n",
    "import ipywidgets as widgets\n",
    "from ipywidgets import interact, interact_manual"
   ]
  },
  {
   "cell_type": "markdown",
   "metadata": {},
   "source": [
    "# Introduction"
   ]
  },
  {
   "cell_type": "markdown",
   "metadata": {},
   "source": [
    "In our analysis we use multiple Datasets of the **Food and Agriculture Organization of the United Nations** (Faostat). \n",
    "We start by exploring the Production Livestock Dataset which gives us an broader view of the *Beehives Population* in the world and more fine grained in different continents and countries. \n",
    "The following cell describes the research question we plan to solve during our analysis. "
   ]
  },
  {
   "cell_type": "markdown",
   "metadata": {},
   "source": [
    "**Research questions**\n",
    "- How is the beehives population distributed throughout the world?\n",
    "- How is the population changing over time?\n",
    "- Influence of reduction/growth of beehives population?\n",
    "- Does the reduction/growth of beehives affect other factors?\n",
    "- Can we find patterns why beehives reduce/grow in population?\n",
    "- Will the bees survive?"
   ]
  },
  {
   "cell_type": "markdown",
   "metadata": {},
   "source": [
    "# Data Analysis"
   ]
  },
  {
   "cell_type": "markdown",
   "metadata": {},
   "source": [
    "### Load the data"
   ]
  },
  {
   "cell_type": "markdown",
   "metadata": {},
   "source": [
    "We simply start our analysis by loading the *Live Animals* dataset (called Production Livestock), which shows us the annual number of different animals between 1961 and 2017. Since we only care about beehives we have to filter our dataset according to this item. Within the group of animals are also beehives, which we us as a value of the total number of bees. Faostat defines beehives to be \"an artificial habitation for bees\".  \n",
    "\n"
   ]
  },
  {
   "cell_type": "code",
   "execution_count": null,
   "metadata": {},
   "outputs": [],
   "source": [
    "#load the data\n",
    "livestock = pd.read_csv('data/Production_Livestock_E_All_Data_(Normalized).csv',  encoding='iso-8859-1')"
   ]
  },
  {
   "cell_type": "code",
   "execution_count": null,
   "metadata": {},
   "outputs": [],
   "source": [
    "livestock.Item.unique()"
   ]
  },
  {
   "cell_type": "code",
   "execution_count": null,
   "metadata": {},
   "outputs": [],
   "source": [
    "beehives = livestock.loc[livestock['Item'] == 'Beehives']\n",
    "beehives.head()"
   ]
  },
  {
   "cell_type": "markdown",
   "metadata": {},
   "source": [
    "## We further clean our Dataset"
   ]
  },
  {
   "cell_type": "markdown",
   "metadata": {},
   "source": [
    "During this process we are cleaning our dataset in order to be able to use throughout our analysis. \n",
    "We first observed the \"Area\" field not to be consistent and needed to split the dataset into smaller subcategories (i.e. countries, continent)."
   ]
  },
  {
   "cell_type": "code",
   "execution_count": null,
   "metadata": {
    "scrolled": true
   },
   "outputs": [],
   "source": [
    "beehives.Area.unique()"
   ]
  },
  {
   "cell_type": "markdown",
   "metadata": {},
   "source": [
    "This looks like a lot of countries.\n",
    "We can further split the countries and see that they actually have countries, continents, regions, consolidations and areas are already reasonably grouped within the data. \n",
    "We further explore that some of the countries do not exist anymore. We will take this as given. We could observe that USSR as well as Yugoslavia splitted in 1992. We can use this fact to have a look at the last 25 Years of bees. "
   ]
  },
  {
   "cell_type": "code",
   "execution_count": null,
   "metadata": {},
   "outputs": [],
   "source": [
    "countries = ['Albania', 'Algeria', 'Angola', 'Argentina', 'Armenia','Australia', 'Austria', 'Azerbaijan', 'Belarus', 'Belgium','Belgium-Luxembourg', 'Belize', 'Bolivia (Plurinational State of)','Bosnia and Herzegovina', 'Brazil', 'Bulgaria', 'Burundi','Cameroon', 'Canada', 'Central African Republic', 'Chad', 'Chile','China', 'Colombia', 'Cook Islands', 'Costa Rica', 'Croatia', 'Cuba','Cyprus', 'Czechia', 'Czechoslovakia', 'Dominican Republic','Ecuador', 'Egypt', 'El Salvador', 'Estonia', 'Ethiopia','Ethiopia PDR', 'Fiji', 'Finland', 'France', 'French Polynesia','Georgia', 'Germany', 'Greece', 'Greenland', 'Guadeloupe', 'Guam','Guatemala', 'Guinea', 'Guinea-Bissau', 'Guyana', 'Haiti','Honduras', 'Hungary', 'India', 'Iran (Islamic Republic of)','Israel', 'Italy', 'Jamaica', 'Japan', 'Jordan', 'Kenya','Kyrgyzstan', 'Latvia', 'Lebanon', 'Libya', 'Liechtenstein','Lithuania', 'Luxembourg', 'Madagascar', 'Mali', 'Martinique','Mexico', 'Mongolia', 'Montenegro', 'Morocco', 'Mozambique','Myanmar', 'Netherlands', 'New Caledonia', 'New Zealand','Nigeria', 'Niue', 'Occupied Palestinian Territory', 'Oman','Pakistan', 'Paraguay', 'Poland', 'Portugal', 'Puerto Rico','Republic of Korea', 'Republic of Moldova', 'Romania','Russian Federation', 'Rwanda', 'Samoa', 'Senegal', 'Serbia','Serbia and Montenegro', 'Slovakia', 'Slovenia', 'South Africa','Spain', 'Sudan', 'Sudan (former)', 'Sweden', 'Switzerland','Syrian Arab Republic', 'Tajikistan','The former Yugoslav Republic of Macedonia', 'Timor-Leste','Tonga', 'Trinidad and Tobago', 'Tunisia', 'Turkey', 'Tuvalu','Uganda', 'Ukraine', 'United Kingdom','United Republic of Tanzania', 'United States of America','Uruguay', 'USSR', 'Uzbekistan','Venezuela (Bolivarian Republic of)', 'Viet Nam','Wallis and Futuna Islands', 'Yemen', 'Yugoslav SFR', 'Zambia']\n",
    "world = ['World']\n",
    "continents = ['Africa','Americas', 'Asia',  'Europe', 'Oceania']\n",
    "regions = ['Eastern Africa', 'Middle Africa', 'Northern Africa', 'Southern Africa', 'Western Africa', 'Northern America', 'South America', 'Central America', 'Caribbean','Central Asia', 'Eastern Asia', 'Southern Asia', 'South-Eastern Asia', 'Western Asia', 'Eastern Europe', 'Northern Europe', 'Southern Europe', 'Western Europe', 'Melanesia', 'Micronesia', 'Polynesia', 'Australia & New Zealand']\n",
    "consolidations = ['European Union', 'China, mainland', 'China, Taiwan Province of']\n",
    "index_based = ['Least Developed Countries', 'Land Locked Developing Countries','Small Island Developing States','Low Income Food Deficit Countries', 'Net Food Importing Developing Countries']"
   ]
  },
  {
   "cell_type": "code",
   "execution_count": null,
   "metadata": {},
   "outputs": [],
   "source": [
    "beehives_countries = beehives[beehives['Area'].isin(countries)]\n",
    "beehives_world = beehives.loc[beehives['Area'] == 'World']\n",
    "beehives_continents = beehives[beehives['Area'].isin(continents)]\n",
    "beehives_regions = beehives[beehives['Area'].isin(regions)]\n",
    "beehives_consolidations = beehives.loc[beehives['Area'] == 'European Union']\n",
    "beehives_index_based = beehives[beehives['Area'].isin(index_based)]"
   ]
  },
  {
   "cell_type": "markdown",
   "metadata": {},
   "source": [
    "## Beehives population over time and area (Let us plot the world)"
   ]
  },
  {
   "cell_type": "markdown",
   "metadata": {},
   "source": [
    "Luckily we have a world column which is the sum of the number of beehives over all countries. \n",
    "So we first simply plot the world Distribution.  \n",
    "Like this we can start answering our first two research questions how is the bees population changing over time. Further analysis helped us answering how the bee population is distributed. "
   ]
  },
  {
   "cell_type": "markdown",
   "metadata": {},
   "source": [
    "First a world plot."
   ]
  },
  {
   "cell_type": "code",
   "execution_count": null,
   "metadata": {},
   "outputs": [],
   "source": [
    "plt.plot(beehives_world['Year'], beehives_world['Value'])\n",
    "plt.title('No of Beehives in the world per year')\n",
    "plt.xlabel('Years')\n",
    "plt.ylabel('No of Beehives')\n",
    "plt.xlim(1960, 2020)"
   ]
  },
  {
   "cell_type": "markdown",
   "metadata": {},
   "source": [
    "This plot gives us some useful information! This was not what we expected.   \n",
    "We observe an increasing number of beehives. But wasn't everyone saying bees are dying?  \n",
    "We can further notice a drop of beehives between 1991 and 2000. Where does this drop come from? "
   ]
  },
  {
   "cell_type": "markdown",
   "metadata": {},
   "source": [
    "## Oh we actually see the number of bees are increasing!"
   ]
  },
  {
   "cell_type": "markdown",
   "metadata": {},
   "source": [
    "By how much is the number increasing? "
   ]
  },
  {
   "cell_type": "code",
   "execution_count": null,
   "metadata": {},
   "outputs": [],
   "source": [
    "firstYear = int(beehives_world[beehives_world['Year'] == 1961]['Value'])\n",
    "lastYear = int(beehives_world[beehives_world['Year'] == 2017]['Value'])\n",
    "lastYear/firstYear"
   ]
  },
  {
   "cell_type": "markdown",
   "metadata": {},
   "source": [
    "In fact we have an increase of 185.06% over the last 56 Years. "
   ]
  },
  {
   "cell_type": "markdown",
   "metadata": {},
   "source": [
    "Looking only at the world between 1990 and 2000 we actually see a drop. We ellaborate further on this. "
   ]
  },
  {
   "cell_type": "code",
   "execution_count": null,
   "metadata": {},
   "outputs": [],
   "source": [
    "beehives_world[beehives_world['Year'].isin(range(1990,2001))]"
   ]
  },
  {
   "cell_type": "code",
   "execution_count": null,
   "metadata": {},
   "outputs": [],
   "source": [
    "(1-(65933672.0/69952217.0))*100 #taking into account the local maxima year 1991 and the local minima year 1997."
   ]
  },
  {
   "cell_type": "code",
   "execution_count": null,
   "metadata": {},
   "outputs": [],
   "source": [
    "69952217-65933672"
   ]
  },
  {
   "cell_type": "markdown",
   "metadata": {},
   "source": [
    "Looking only at these 10 Years (1990-2000) we se the population droped by a number of 4.018.545. Which is a drop of 5.74%\n",
    "Why is that? "
   ]
  },
  {
   "cell_type": "markdown",
   "metadata": {},
   "source": [
    "## Let us try to figure out what happened in between 1990 and 2000. We know there was war in Yugslavia (Bosnia and Herzegovina,  Croatia, Kosovo,  Montenegro,  North Macedonia,  Serbia, Slovenia)."
   ]
  },
  {
   "cell_type": "markdown",
   "metadata": {},
   "source": [
    "War could be one reason. "
   ]
  },
  {
   "cell_type": "code",
   "execution_count": null,
   "metadata": {},
   "outputs": [],
   "source": [
    "beehives_yugoslav = beehives_countries.loc[beehives_countries['Area'] == 'Yugoslav SFR']"
   ]
  },
  {
   "cell_type": "code",
   "execution_count": null,
   "metadata": {},
   "outputs": [],
   "source": [
    "beehives_yugoslav[beehives_yugoslav['Year'].isin(range(1990,2001))]"
   ]
  },
  {
   "cell_type": "markdown",
   "metadata": {},
   "source": [
    "Here we only observe data until 1991. Which is because the countries in Yugoslavia announced independence. We will now look into the splitted countries to see what happened after."
   ]
  },
  {
   "cell_type": "code",
   "execution_count": null,
   "metadata": {
    "scrolled": true
   },
   "outputs": [],
   "source": [
    "beehives_countries.loc[beehives_countries['Area'] == 'Croatia']\n",
    "beehives_countries.loc[beehives_countries['Area'] == 'Bosnia and Herzegovina']\n",
    "beehives_countries.loc[beehives_countries['Area'] == 'Slovenia']\n",
    "beehives_countries.loc[beehives_countries['Area'] == 'The former Yugoslav Republic of Macedonia']\n",
    "beehives_countries.loc[beehives_countries['Area'] == 'Serbia and Montenegro']"
   ]
  },
  {
   "cell_type": "code",
   "execution_count": null,
   "metadata": {},
   "outputs": [],
   "source": [
    "for year in range(1992, 2001):\n",
    "    croatia = int(beehives_countries.loc[(beehives_countries['Area'] == 'Croatia') & (beehives_countries['Year'] == year)]['Value'])\n",
    "    bosnia = int(beehives_countries.loc[(beehives_countries['Area'] == 'Bosnia and Herzegovina') & (beehives_countries['Year'] == year)]['Value'])\n",
    "    slovenia = int(beehives_countries.loc[(beehives_countries['Area'] == 'Slovenia') & (beehives_countries['Year'] == year)]['Value'])\n",
    "    macedonia = int(beehives_countries.loc[(beehives_countries['Area'] == 'The former Yugoslav Republic of Macedonia') & (beehives_countries['Year'] == year)]['Value'])\n",
    "    sm = int(beehives_countries.loc[(beehives_countries['Area'] == 'Serbia and Montenegro') & (beehives_countries['Year'] == year)]['Value'])\n",
    "    print(\"Year: %s, No of Beehives: %s\" % (year , croatia+bosnia+slovenia+macedonia+sm))"
   ]
  },
  {
   "cell_type": "markdown",
   "metadata": {},
   "source": [
    "Looking at our data we see that this cannot be the reason and that war is not killing bees and even increase. Since the values stayed pretty stable. We will look into countries having greater drop between 1992 and 1995."
   ]
  },
  {
   "cell_type": "markdown",
   "metadata": {},
   "source": [
    "So in which other countries do bees decrease?"
   ]
  },
  {
   "cell_type": "markdown",
   "metadata": {},
   "source": [
    "## Decreasing Countries 1992-1997"
   ]
  },
  {
   "cell_type": "markdown",
   "metadata": {},
   "source": [
    "Let us now dive deeper into countries.  \n",
    "We try to figure out countries that experienced a significant drop of bees between 1992 and 1997."
   ]
  },
  {
   "cell_type": "code",
   "execution_count": null,
   "metadata": {
    "scrolled": true
   },
   "outputs": [],
   "source": [
    "count_decreasingNumber = 0\n",
    "big_decrease = []\n",
    "for country in countries:\n",
    "    try:\n",
    "        sm1 = int(beehives_countries.loc[(beehives_countries['Area'] == country) & (beehives_countries['Year'] == 1992)]['Value'])\n",
    "        sm2 = int(beehives_countries.loc[(beehives_countries['Area'] == country) & (beehives_countries['Year'] == 1997)]['Value'])\n",
    "        if sm2/sm1 < 1:\n",
    "            count_decreasingNumber += 1\n",
    "        #if sm2-sm1<-100000:\n",
    "        if ((1-(sm2/sm1))*100)>66 or sm2-sm1<-100000:\n",
    "            print(country)\n",
    "            print(\"Ratio 1997/1992: -%.2f%%\" % ((1-(sm2/sm1))*100))\n",
    "            print(\"Number of Beehives in 1992: %d\" % sm1)\n",
    "            print(\"Number of Beehives in 1997: %d\" % sm2)\n",
    "            print(\"------------------\")\n",
    "            big_decrease.append(country)\n",
    "    except:\n",
    "        continue\n",
    "print(\"The number of beehives in the period from 1992-1997 decreased in %s of %s countries.\" % (count_decreasingNumber, len(countries)))"
   ]
  },
  {
   "cell_type": "markdown",
   "metadata": {},
   "source": [
    "A significant decrease >100.000 or over 66% beehives can be noticed in the following countries."
   ]
  },
  {
   "cell_type": "code",
   "execution_count": null,
   "metadata": {},
   "outputs": [],
   "source": [
    "print(*big_decrease, sep = \", \")  "
   ]
  },
  {
   "cell_type": "markdown",
   "metadata": {},
   "source": [
    "So now let us plot these countries. Are they seriously decreasing. "
   ]
  },
  {
   "cell_type": "code",
   "execution_count": null,
   "metadata": {},
   "outputs": [],
   "source": [
    "@interact\n",
    "def show_beehives_for_country(country=big_decrease):\n",
    "    beehives_country=beehives_countries.loc[beehives_countries['Area']==country]\n",
    "    \n",
    "    plt.plot(beehives_country['Year'],beehives_country['Value'],'-*')\n",
    "    plt.title('Country: '+country)\n",
    "    plt.xlabel('Years')\n",
    "    plt.ylabel('Number')\n",
    "    plt.xlim(1960, 2020)"
   ]
  },
  {
   "cell_type": "markdown",
   "metadata": {},
   "source": [
    "Looking at these plots we see that Bulgaria, China and Romania recovered quickly after the decline, while Egypt, Germany, Poland, Romania and the United States of America dropped the numbers continously."
   ]
  },
  {
   "cell_type": "markdown",
   "metadata": {},
   "source": [
    "Here we could talk about the number that each country reduced.\n",
    "Some of them increased even over 65 percent. "
   ]
  },
  {
   "cell_type": "markdown",
   "metadata": {},
   "source": [
    "## Is this trend continuing up to the year 2017?"
   ]
  },
  {
   "cell_type": "code",
   "execution_count": null,
   "metadata": {
    "scrolled": true
   },
   "outputs": [],
   "source": [
    "count_decreasingNumber2017 = 0\n",
    "big_decrease2017 = []\n",
    "for country in countries:\n",
    "    try:\n",
    "        sm1 = int(beehives_countries.loc[(beehives_countries['Area'] == country) & (beehives_countries['Year'] == 1992)]['Value'])\n",
    "        sm2 = int(beehives_countries.loc[(beehives_countries['Area'] == country) & (beehives_countries['Year'] == 2017)]['Value'])\n",
    "        if sm2/sm1 < 1:\n",
    "            count_decreasingNumber2017 += 1\n",
    "        if ((1-(sm2/sm1))*100)>66 or sm2-sm1<-100000:\n",
    "            print(country)\n",
    "            print(\"Ratio 2017/1992: -%.2f%%\" % ((1-(sm2/sm1))*100))\n",
    "            print(\"Number of Beehives in 1992: %d\" % sm1)\n",
    "            print(\"Number of Beehives in 2017: %d\" % sm2)\n",
    "            print(\"------------------\")\n",
    "            big_decrease2017.append(country)\n",
    "    except:\n",
    "        continue\n",
    "print(\"The number of beehives in the period from 1992-2017 decreased in %s of %s countries.\" % (count_decreasingNumber2017, len(countries)))"
   ]
  },
  {
   "cell_type": "markdown",
   "metadata": {},
   "source": [
    "Looking at our data we see now less countries decreasing. 19 compared to 26. But the ratio for some european countries increased a lot and switzerland appeared as a newcomer with a loss of 38.21%."
   ]
  },
  {
   "cell_type": "markdown",
   "metadata": {},
   "source": [
    "Now let us plot these again."
   ]
  },
  {
   "cell_type": "code",
   "execution_count": null,
   "metadata": {},
   "outputs": [],
   "source": [
    "@interact\n",
    "def show_beehives_for_country(country=big_decrease2017):\n",
    "    beehives_country=beehives_countries.loc[beehives_countries['Area']==country]\n",
    "    \n",
    "    plt.plot(beehives_country['Year'],beehives_country['Value'],'-*')\n",
    "    plt.title('Country: '+country)\n",
    "    plt.xlabel('Years')\n",
    "    plt.ylabel('Number')\n",
    "    plt.xlim(1992, 2017)"
   ]
  },
  {
   "cell_type": "code",
   "execution_count": null,
   "metadata": {},
   "outputs": [],
   "source": [
    "print(*big_decrease2017, sep = \", \")  "
   ]
  },
  {
   "cell_type": "markdown",
   "metadata": {},
   "source": [
    "These are the countries with a big decrease again. We notice that for the longterm trend the number of countries having a high percentage loss decreased. Mostly bigger countries struggle by loosing a high absolute  value of beehives. But looking into the percentage difference only Italy occurs loosing a higher percentage over 66%."
   ]
  },
  {
   "cell_type": "code",
   "execution_count": null,
   "metadata": {},
   "outputs": [],
   "source": [
    "beehives_bigDecrease = beehives[beehives['Area'].isin(big_decrease2017)]"
   ]
  },
  {
   "cell_type": "code",
   "execution_count": null,
   "metadata": {},
   "outputs": [],
   "source": [
    "beehives_bigDecrease"
   ]
  },
  {
   "cell_type": "markdown",
   "metadata": {},
   "source": [
    "We can see the trend is continuing until 2017.  "
   ]
  },
  {
   "cell_type": "markdown",
   "metadata": {},
   "source": [
    "## And what about increasing countries?"
   ]
  },
  {
   "cell_type": "code",
   "execution_count": null,
   "metadata": {},
   "outputs": [],
   "source": [
    "count_increasingNumber = 0\n",
    "big_increase = []\n",
    "for country in countries:\n",
    "    try:\n",
    "        sm1 = int(beehives_countries.loc[(beehives_countries['Area'] == country) & (beehives_countries['Year'] == 1992)]['Value'])\n",
    "        sm2 = int(beehives_countries.loc[(beehives_countries['Area'] == country) & (beehives_countries['Year'] == 2017)]['Value'])\n",
    "        if sm2/sm1 > 1:\n",
    "            count_increasingNumber += 1\n",
    "#         if sm2-sm1>100000:\n",
    "        if ((sm2/sm1)*100)>300 or sm2-sm1>200000:\n",
    "\n",
    "            print(country)\n",
    "            print(\"Ratio 2017/1992: %.2f%%\" % ((sm2/sm1)*100))\n",
    "            print(\"Number of Beehives in 1992: %d\" % sm1)\n",
    "            print(\"Number of Beehives in 2017: %d\" % sm2)\n",
    "            print(\"------------------\")\n",
    "            big_increase.append(country)\n",
    "    except:\n",
    "        continue\n",
    "print(\"The number of beehives in the period from 1992-2017 increased in %s of %s countries.\" % (count_increasingNumber, len(countries)))"
   ]
  },
  {
   "cell_type": "markdown",
   "metadata": {},
   "source": [
    "Notice: There is a difference in the total number countries. This is due to newcomers who were not considered a country in 1992. For example 'Serbia and Montenegro' split to 'Serbia' and 'Montenegro'.  "
   ]
  },
  {
   "cell_type": "code",
   "execution_count": null,
   "metadata": {},
   "outputs": [],
   "source": [
    "@interact\n",
    "def show_beehives_for_country(country=big_increase):\n",
    "    beehives_country=beehives_countries.loc[beehives_countries['Area']==country]\n",
    "    \n",
    "    plt.plot(beehives_country['Year'],beehives_country['Value'],'-*')\n",
    "    plt.title('Country: '+country)\n",
    "    plt.xlabel('Years')\n",
    "    plt.ylabel('Number')\n",
    "    plt.xlim(1992, 2020)"
   ]
  },
  {
   "cell_type": "markdown",
   "metadata": {},
   "source": [
    "Looking at these plots we can clearly observe a lot of countries having a growing bee population. More than countries decreasing.  \n",
    "We can also observe the countries are not specific to one continent but rather include different continents and areas. \n"
   ]
  },
  {
   "cell_type": "markdown",
   "metadata": {},
   "source": [
    "## Let us plot the continents"
   ]
  },
  {
   "cell_type": "markdown",
   "metadata": {},
   "source": [
    "Let us no take a step back and look from a higher perspective on continents.  "
   ]
  },
  {
   "cell_type": "markdown",
   "metadata": {},
   "source": [
    "We saw bees are increasing around the world. Is this also true for every continent?"
   ]
  },
  {
   "cell_type": "markdown",
   "metadata": {},
   "source": [
    "We first draw a stacked boxplot and continue to look at each country in an interactive plot. "
   ]
  },
  {
   "cell_type": "code",
   "execution_count": null,
   "metadata": {},
   "outputs": [],
   "source": [
    "beehives_continents.loc[beehives_continents['Year'] == 2017].sort_values('Value', ascending=False)"
   ]
  },
  {
   "cell_type": "code",
   "execution_count": null,
   "metadata": {},
   "outputs": [],
   "source": [
    "N = len(beehives_continents[beehives_continents['Area'] == 'Africa']['Value'])\n",
    "africa = np.array(beehives_continents[beehives_continents['Area'] == 'Africa']['Value'])\n",
    "europe = np.array(beehives_continents[beehives_continents['Area'] == 'Europe']['Value'])\n",
    "america = np.array(beehives_continents[beehives_continents['Area'] == 'Americas']['Value'])\n",
    "oceania = np.array(beehives_continents[beehives_continents['Area'] == 'Oceania']['Value'])\n",
    "asia = np.array(beehives_continents[beehives_continents['Area'] == 'Asia']['Value'])\n",
    "\n",
    "ind = np.arange(N)    # the x locations for the groups\n",
    "width = 0.35       # the width of the bars: can also be len(x) sequence\n",
    "\n",
    "plt.figure(figsize=(20,10))\n",
    "\n",
    "p1 = plt.bar(ind, asia, width)\n",
    "p2 = plt.bar(ind, europe, width, bottom=asia)\n",
    "p3 = plt.bar(ind, africa, width, bottom=europe+asia)\n",
    "p4 = plt.bar(ind, america, width, bottom=asia+europe+africa)\n",
    "p5 = plt.bar(ind, oceania, width, bottom=asia+america+europe+africa)\n",
    "plt.ylabel('Number of Beehives')\n",
    "plt.xlabel('Year')\n",
    "plt.title('Distribution of Beehives in Europe')\n",
    "plt.xticks(ind, (range(1961, 2018)), rotation=45)\n",
    "plt.legend((p1[0], p2[0], p3[0], p4[0], p5[0]), ('Asia', 'Europe', 'Africa', 'America', 'Oceania'))\n",
    "\n",
    "plt.show()"
   ]
  },
  {
   "cell_type": "markdown",
   "metadata": {},
   "source": [
    "The plot reveals a lot about the distribution. We can observe that Asia on top is the biggest contributor of beehives, followed by a declining europe and an increasing Africa. America seems to be very stable while oceania is only responsible for a fairly small amount of beehives.  \n",
    "We further look into the curves more in detail. We also see a big drop in europe. Which could be responsible for the sudden drop in the world.  \n",
    "In fact Europe was the continent with the biggest bee population before the drop.  "
   ]
  },
  {
   "cell_type": "markdown",
   "metadata": {},
   "source": [
    "We will look more deeply into the continents change ove time by plotting their distribution individually. "
   ]
  },
  {
   "cell_type": "code",
   "execution_count": null,
   "metadata": {},
   "outputs": [],
   "source": [
    "@interact\n",
    "def show_beehives_for_country(continent=continents):\n",
    "    beehives_continent=beehives_continents.loc[beehives_continents['Area']==continent]\n",
    "    \n",
    "    plt.plot(beehives_continent['Year'],beehives_continent['Value'],'-*')\n",
    "    plt.title('Country: '+continent)\n",
    "    plt.xlabel('Years')\n",
    "    plt.ylabel('Number')\n",
    "    plt.xlim(1960, 2020)"
   ]
  },
  {
   "cell_type": "markdown",
   "metadata": {},
   "source": [
    "Looking at the plots individually we observe **Africa** is increasing it's beehives population as well as **Asia**. **Oceania** has a huge increase of beehives from 2012 to 2013, and from 2016 to 2017, we expect more to come.  \n",
    "**America** and **Europe** have an unproportional declining population between 1990 and 2000. America recovered again while Europe still lacks behind it's pre 1990 value. \n"
   ]
  },
  {
   "cell_type": "code",
   "execution_count": null,
   "metadata": {},
   "outputs": [],
   "source": [
    "# beehives_continents.loc[(beehives_continents['Area'] == 'Europe') & ~(beehives_continents['Year'] < 1985) & ~(beehives_continents['Year'] > 1998)]"
   ]
  },
  {
   "cell_type": "markdown",
   "metadata": {},
   "source": [
    "## Conclusion"
   ]
  },
  {
   "cell_type": "markdown",
   "metadata": {},
   "source": [
    "Looking at the data we see that countries that have a lot of bees are increasing there effort in growing the population. While other western countries (Germany, Italy, France, Switzerland, Austria and USA) find themselves in a situation of decreasing population.  "
   ]
  },
  {
   "cell_type": "markdown",
   "metadata": {},
   "source": [
    "## Let us now also take a quick look on the 10 countries with the biggest beehives population in 2017"
   ]
  },
  {
   "cell_type": "code",
   "execution_count": null,
   "metadata": {},
   "outputs": [],
   "source": [
    "beehives_countries[beehives_countries['Year'] == 2017].sort_values('Value', ascending=False)[['Area','Value']].head(10)"
   ]
  },
  {
   "cell_type": "markdown",
   "metadata": {},
   "source": [
    "Looking at the top ten we can see that they are spread around the world. With this we mean there are contributors in Asia, Europe, America and Africa. Only Oceania is missing. "
   ]
  },
  {
   "cell_type": "code",
   "execution_count": null,
   "metadata": {},
   "outputs": [],
   "source": [
    "topTenContributors = beehives_countries[beehives_countries['Year'] == 2017].sort_values('Value', ascending=False)['Value'].head(10).sum()\n",
    "worldPopulationBeehives = int(beehives_world[beehives_world['Year'] == 2017].Value)\n",
    "ratioTopTenWorld = topTenContributors/worldPopulationBeehives\n",
    "print(\"Here we can observe that our top ten contributors are responsible for %s%% of the worlds population of beehives, which is %s in total\" % (ratioTopTenWorld, worldPopulationBeehives))"
   ]
  },
  {
   "cell_type": "markdown",
   "metadata": {},
   "source": [
    "Let us now give some contribution to the smaller countries which support the beehives population as well. Therefore we add a column that is dividing the total number of beehives in the country divided by the estimate population. "
   ]
  },
  {
   "cell_type": "code",
   "execution_count": null,
   "metadata": {},
   "outputs": [],
   "source": [
    "world = gpd.read_file(gpd.datasets.get_path('naturalearth_lowres'))"
   ]
  },
  {
   "cell_type": "markdown",
   "metadata": {},
   "source": [
    "Let us just check our format."
   ]
  },
  {
   "cell_type": "code",
   "execution_count": null,
   "metadata": {},
   "outputs": [],
   "source": [
    "world.head()"
   ]
  },
  {
   "cell_type": "markdown",
   "metadata": {},
   "source": [
    "We saw some differently spelled data, which we corrected in order to have correct the same names of countries."
   ]
  },
  {
   "cell_type": "code",
   "execution_count": null,
   "metadata": {},
   "outputs": [],
   "source": [
    "beehives_perPopulation = beehives_countries.copy() \n",
    "beehives_perPopulation = beehives_perPopulation.replace({'Russian Federation': 'Russia', 'Bosnia and Herzegovina': 'Bosnia and Herz.', 'Belgium-Luxembourg': 'Luxembourg', 'Bolivia (Plurinational State of)':'Bolivia', 'Central African Republic':'Central African Rep.', 'China, Taiwan Province of': 'Taiwan', 'Dominican Republic': 'Dominican Rep.', 'Ethiopia PDR': 'Ethiopia', 'Iran (Islamic Republic of)':'Iran', 'Syrian Arab Republic':'Syria', 'North Macedonia':'Macedonia', 'Venezuela (Bolivarian Republic of)': 'Venezuela', 'Viet Nam':'Vietnam', 'Czechoslovakia':'Czechia'})\n",
    "beehives_perPopulation = world.set_index('name').join(beehives_perPopulation.set_index('Area'))"
   ]
  },
  {
   "cell_type": "code",
   "execution_count": null,
   "metadata": {},
   "outputs": [],
   "source": [
    "beehives_perPopulation['Per_Population'] = beehives_perPopulation['Value']/beehives_perPopulation['pop_est']"
   ]
  },
  {
   "cell_type": "code",
   "execution_count": null,
   "metadata": {},
   "outputs": [],
   "source": [
    "beehives_perPopulation['Area'] = beehives_perPopulation.index"
   ]
  },
  {
   "cell_type": "code",
   "execution_count": null,
   "metadata": {},
   "outputs": [],
   "source": [
    "beehives_perPopulation[beehives_perPopulation['Year'] == 2017].sort_values('Per_Population', ascending=False)[['Value']].head(10)"
   ]
  },
  {
   "cell_type": "markdown",
   "metadata": {},
   "source": [
    "Now we see different countries and there is New Zealand. One of the Oceanian countries. Interestingly 7 out of 10 countries are considered to be in eastern europe. "
   ]
  },
  {
   "cell_type": "markdown",
   "metadata": {},
   "source": [
    "## EU27 Distribution"
   ]
  },
  {
   "cell_type": "code",
   "execution_count": null,
   "metadata": {},
   "outputs": [],
   "source": [
    "eu27 = ['Austria', 'Italy', 'Belgium', 'Latvia', 'Bulgaria', 'Lithuania', 'Croatia', 'Luxembourg', 'Cyprus', 'Malta', 'Czechia', 'Netherlands', 'Denmark', 'Poland', 'Estonia', 'Portugal', 'Finland', 'Romania', 'France', 'Slovakia', 'Germany', 'Slovenia', 'Greece', 'Spain', 'Hungary', 'Sweden', 'Ireland', 'United Kingdom']\n",
    "\n",
    "beehives_eu27 = beehives[beehives['Area'].isin(eu27)]\n",
    "beehives_eu27_2017 = beehives_eu27.loc[beehives_eu27['Year']==2017]\n",
    "beehives_eu27_2017 = beehives_eu27_2017.dropna(subset=['Value'])\n",
    "\n"
   ]
  },
  {
   "cell_type": "code",
   "execution_count": null,
   "metadata": {},
   "outputs": [],
   "source": [
    "plt.figure(figsize=(15,8))\n",
    "plt.bar(beehives_eu27_2017['Area'], beehives_eu27_2017['Value'])\n",
    "plt.title('Bees Population EU27')\n",
    "plt.xlabel('Number of Beehives')\n",
    "plt.xticks(rotation=60);"
   ]
  },
  {
   "cell_type": "markdown",
   "metadata": {},
   "source": [
    "Looking at the dataset we observe Spain, Greece and Poland to have the three biggest bees population. "
   ]
  },
  {
   "cell_type": "markdown",
   "metadata": {},
   "source": [
    "## Let us now for aesthetic reasons plot a map "
   ]
  },
  {
   "cell_type": "markdown",
   "metadata": {},
   "source": [
    "There we can reuse our beehives_perPopulation DataFrame"
   ]
  },
  {
   "cell_type": "code",
   "execution_count": null,
   "metadata": {},
   "outputs": [],
   "source": [
    "years = beehives_perPopulation.Year.unique()\n",
    "years = years[~np.isnan(years)]\n",
    "years = beehives_perPopulation.Year.unique()\n",
    "years = years[~np.isnan(years)]\n",
    "beehives_perPopulation.Year = beehives_perPopulation.Year.fillna(0)\n",
    "beehives_perPopulation.Year = beehives_perPopulation.Year.astype(int)\n",
    "beehives_perPopulation.Value = beehives_perPopulation.Value.fillna(0)"
   ]
  },
  {
   "cell_type": "code",
   "execution_count": null,
   "metadata": {},
   "outputs": [],
   "source": [
    "beehives_perPopulation.Year.loc[beehives_perPopulation.Year == 0]\n",
    "newDF = beehives_perPopulation.loc[beehives_perPopulation['Year'] == 0].copy()\n",
    "for year in years: \n",
    "    newDF.Year = year\n",
    "    beehives_perPopulation = beehives_perPopulation.append(newDF, ignore_index = True)"
   ]
  },
  {
   "cell_type": "code",
   "execution_count": null,
   "metadata": {},
   "outputs": [],
   "source": [
    "mapPlot_beehives = pd.DataFrame({})\n",
    "\n",
    "perc =[.10, .20,.30,.40,.50,.60,.70,.80,.90] \n",
    "for year in years:\n",
    "    beehives_splitted_inYears = beehives_perPopulation.loc[beehives_perPopulation['Year']==year].copy()\n",
    "    beehives_splitted_inYears['categorize value'] = np.where(beehives_splitted_inYears['Value']==0, 0, \\\n",
    "                                            np.where(beehives_splitted_inYears['Value']<=beehives_splitted_inYears.mask(beehives_splitted_inYears.Value == 0).Value.describe(percentiles = perc)['10%'], 1, \\\n",
    "                                                np.where(beehives_splitted_inYears['Value']<=beehives_splitted_inYears.mask(beehives_splitted_inYears.Value == 0).Value.describe(percentiles = perc)['20%'], 2, \\\n",
    "                                                         np.where(beehives_splitted_inYears['Value']<=beehives_splitted_inYears.mask(beehives_splitted_inYears.Value == 0).Value.describe(percentiles = perc)['30%'], 3, \\\n",
    "                                                                  np.where(beehives_splitted_inYears['Value']<=beehives_splitted_inYears.mask(beehives_splitted_inYears.Value == 0).Value.describe(percentiles = perc)['40%'], 4, \\\n",
    "                                                                           np.where(beehives_splitted_inYears['Value']<=beehives_splitted_inYears.mask(beehives_splitted_inYears.Value == 0).Value.describe(percentiles = perc)['50%'], 5, \\\n",
    "                                                                                    np.where(beehives_splitted_inYears['Value']<=beehives_splitted_inYears.mask(beehives_splitted_inYears.Value == 0).Value.describe(percentiles = perc)['60%'], 6, \\\n",
    "                                                                                             np.where(beehives_splitted_inYears['Value']<=beehives_splitted_inYears.mask(beehives_splitted_inYears.Value == 0).Value.describe(percentiles = perc)['70%'], 7, \\\n",
    "                                                                                                      np.where(beehives_splitted_inYears['Value']<=beehives_splitted_inYears.mask(beehives_splitted_inYears.Value == 0).Value.describe(percentiles = perc)['80%'], 8, \\\n",
    "                                                                                                            np.where(beehives_splitted_inYears['Value']<=beehives_splitted_inYears.mask(beehives_splitted_inYears.Value == 0).Value.describe(percentiles = perc)['90%'], 9, 10))))))))))\n",
    "    beehives_splitted_inYears['value percentile'] = np.where(beehives_splitted_inYears['Value']==0, 0, \\\n",
    "                                            np.where(beehives_splitted_inYears['Value']<=beehives_splitted_inYears.mask(beehives_splitted_inYears.Value == 0).Value.describe(percentiles = perc)['10%'], beehives_splitted_inYears.mask(beehives_splitted_inYears.Value == 0).Value.describe(percentiles = perc)['10%'], \\\n",
    "                                                np.where(beehives_splitted_inYears['Value']<=beehives_splitted_inYears.mask(beehives_splitted_inYears.Value == 0).Value.describe(percentiles = perc)['20%'], beehives_splitted_inYears.mask(beehives_splitted_inYears.Value == 0).Value.describe(percentiles = perc)['20%'], \\\n",
    "                                                         np.where(beehives_splitted_inYears['Value']<=beehives_splitted_inYears.mask(beehives_splitted_inYears.Value == 0).Value.describe(percentiles = perc)['30%'], beehives_splitted_inYears.mask(beehives_splitted_inYears.Value == 0).Value.describe(percentiles = perc)['30%'], \\\n",
    "                                                                  np.where(beehives_splitted_inYears['Value']<=beehives_splitted_inYears.mask(beehives_splitted_inYears.Value == 0).Value.describe(percentiles = perc)['40%'], beehives_splitted_inYears.mask(beehives_splitted_inYears.Value == 0).Value.describe(percentiles = perc)['40%'], \\\n",
    "                                                                           np.where(beehives_splitted_inYears['Value']<=beehives_splitted_inYears.mask(beehives_splitted_inYears.Value == 0).Value.describe(percentiles = perc)['50%'], beehives_splitted_inYears.mask(beehives_splitted_inYears.Value == 0).Value.describe(percentiles = perc)['50%'], \\\n",
    "                                                                                    np.where(beehives_splitted_inYears['Value']<=beehives_splitted_inYears.mask(beehives_splitted_inYears.Value == 0).Value.describe(percentiles = perc)['60%'], beehives_splitted_inYears.mask(beehives_splitted_inYears.Value == 0).Value.describe(percentiles = perc)['60%'], \\\n",
    "                                                                                             np.where(beehives_splitted_inYears['Value']<=beehives_splitted_inYears.mask(beehives_splitted_inYears.Value == 0).Value.describe(percentiles = perc)['70%'], beehives_splitted_inYears.mask(beehives_splitted_inYears.Value == 0).Value.describe(percentiles = perc)['70%'], \\\n",
    "                                                                                                      np.where(beehives_splitted_inYears['Value']<=beehives_splitted_inYears.mask(beehives_splitted_inYears.Value == 0).Value.describe(percentiles = perc)['80%'], beehives_splitted_inYears.mask(beehives_splitted_inYears.Value == 0).Value.describe(percentiles = perc)['80%'], \\\n",
    "                                                                                                            np.where(beehives_splitted_inYears['Value']<=beehives_splitted_inYears.mask(beehives_splitted_inYears.Value == 0).Value.describe(percentiles = perc)['90%'], beehives_splitted_inYears.mask(beehives_splitted_inYears.Value == 0).Value.describe(percentiles = perc)['90%'], beehives_splitted_inYears.Value.max()))))))))))\n",
    "    mapPlot_beehives = mapPlot_beehives.append(beehives_splitted_inYears, ignore_index = True)"
   ]
  },
  {
   "cell_type": "code",
   "execution_count": null,
   "metadata": {},
   "outputs": [],
   "source": [
    "years = range(1992,2018)\n",
    "@interact\n",
    "def show_beehives_for_country(year=years):\n",
    "    fig, ax = plt.subplots(1, figsize=(20, 12))\n",
    "    mapPlot_beehives_Year=mapPlot_beehives.loc[mapPlot_beehives['Year']==year]\n",
    "\n",
    "    mapPlot_beehives_Year.plot(column='categorize value',cmap='Blues', ax=ax, linewidth=0.8, edgecolor='0.8')\n",
    "    ax.axis('off')\n",
    "    ax.set_title('Beehives population in the world', fontdict={'fontsize': '50', 'fontweight' : '3'})\n",
    "    vmax = mapPlot_beehives_Year['value percentile'].max()\n",
    "    sm = plt.cm.ScalarMappable(cmap='Blues', norm=plt.Normalize(vmin=0, vmax=vmax))\n",
    "    #sm._A = []\n",
    "    #cbar = fig.colorbar(sm)\n"
   ]
  },
  {
   "cell_type": "code",
   "execution_count": null,
   "metadata": {},
   "outputs": [],
   "source": [
    "mapPlot_beehives.head()"
   ]
  },
  {
   "cell_type": "markdown",
   "metadata": {},
   "source": [
    "## We found out that pesticides are one of the worst killers for bees. These include Organo-phosphates, Carbamates and Pyrethroids. They are highly toxic."
   ]
  },
  {
   "cell_type": "code",
   "execution_count": null,
   "metadata": {},
   "outputs": [],
   "source": [
    "pesticides = pd.read_csv('data/Inputs_Pesticides_Use_E_All_Data_(Normalized).csv',  encoding='iso-8859-1')"
   ]
  },
  {
   "cell_type": "markdown",
   "metadata": {},
   "source": [
    "Let us now first again preprocess the data, filter for our countries and then take a closer look if there is a correlation."
   ]
  },
  {
   "cell_type": "code",
   "execution_count": null,
   "metadata": {
    "scrolled": true
   },
   "outputs": [],
   "source": [
    "pesticides.head()"
   ]
  },
  {
   "cell_type": "code",
   "execution_count": null,
   "metadata": {
    "scrolled": true
   },
   "outputs": [],
   "source": [
    "pesticides.Item.unique()[range(5)]"
   ]
  },
  {
   "cell_type": "markdown",
   "metadata": {},
   "source": [
    "Oh! Our data looks bad formatted. Let us first fix this."
   ]
  },
  {
   "cell_type": "code",
   "execution_count": null,
   "metadata": {},
   "outputs": [],
   "source": [
    "pesticides['Item'] = pesticides['Item'].str.replace('\\x96', '-')"
   ]
  },
  {
   "cell_type": "code",
   "execution_count": null,
   "metadata": {},
   "outputs": [],
   "source": [
    "pesticides.Item.unique()[range(5)]"
   ]
  },
  {
   "cell_type": "markdown",
   "metadata": {},
   "source": [
    "Now this looks better."
   ]
  },
  {
   "cell_type": "markdown",
   "metadata": {},
   "source": [
    "For us interesting are Organo-phosphates, Carbamates and Pyrethroids as well as the total use in the countries where bees are decreasing."
   ]
  },
  {
   "cell_type": "code",
   "execution_count": null,
   "metadata": {},
   "outputs": [],
   "source": [
    "pesticides_total = pesticides.loc[(pesticides['Item'] == 'Pesticides (total)') & (pesticides['Area'].isin(big_decrease))]\n",
    "pesticides_total_world = pesticides.loc[(pesticides['Item'] == 'Pesticides (total)') & (pesticides['Area'] == 'World')]"
   ]
  },
  {
   "cell_type": "code",
   "execution_count": null,
   "metadata": {},
   "outputs": [],
   "source": [
    "pesticides_organoPhosphates = pesticides.loc[(pesticides['Item'] == 'Insecticides - Organo-phosphates') & (pesticides['Area'].isin(big_decrease))]\n",
    "pesticides_carbamates = pesticides.loc[(pesticides['Item'] == 'Insecticides - Carbamates') & (pesticides['Area'].isin(big_decrease))]\n",
    "pesticides_pyrethroids = pesticides.loc[(pesticides['Item'] == 'Insecticides - Pyrethroids') & (pesticides['Area'].isin(big_decrease))]"
   ]
  },
  {
   "cell_type": "markdown",
   "metadata": {},
   "source": [
    "Let us now first see how the use of pesticides across the world is. Unfortunately we only have data from 1990 to 2017."
   ]
  },
  {
   "cell_type": "code",
   "execution_count": null,
   "metadata": {
    "scrolled": true
   },
   "outputs": [],
   "source": [
    "plt.plot(pesticides_total_world['Year'], pesticides_total_world['Value'])\n",
    "plt.title('Use of Pesticides total in the world per year')\n",
    "plt.xlabel('Years')\n",
    "plt.ylabel('Use of pesticides in tonnes')\n",
    "plt.xlim(1990, 2020)"
   ]
  },
  {
   "cell_type": "markdown",
   "metadata": {},
   "source": [
    "### Here we see an increasing number of pesticides throughout the world. How is the increase considered only the toxic pesticides?"
   ]
  },
  {
   "cell_type": "code",
   "execution_count": null,
   "metadata": {},
   "outputs": [],
   "source": [
    "@interact\n",
    "def show_beehives_for_country(country=big_decrease2017):\n",
    "    pesticides_organoPhosphates_country=pesticides_organoPhosphates.loc[pesticides_organoPhosphates['Area']==country]\n",
    "    plt.plot(pesticides_organoPhosphates_country['Year'],pesticides_organoPhosphates_country['Value'],'-*')\n",
    "    plt.title('Country: '+country)\n",
    "    plt.xlabel('Years')\n",
    "    plt.ylabel('Number')\n",
    "    plt.xlim(1990, 2020)"
   ]
  },
  {
   "cell_type": "code",
   "execution_count": null,
   "metadata": {
    "scrolled": true
   },
   "outputs": [],
   "source": [
    "@interact\n",
    "def show_beehives_for_country(country=big_decrease2017):\n",
    "    pesticides_carbamates_country=pesticides_carbamates.loc[pesticides_carbamates['Area']==country]\n",
    "    plt.plot(pesticides_carbamates_country['Year'],pesticides_carbamates_country['Value'],'-*')\n",
    "    plt.title('Country: '+country)\n",
    "    plt.xlabel('Years')\n",
    "    plt.ylabel('Number')\n",
    "    plt.xlim(1990, 2020)"
   ]
  },
  {
   "cell_type": "code",
   "execution_count": null,
   "metadata": {},
   "outputs": [],
   "source": [
    "@interact\n",
    "def show_beehives_for_country(country=big_decrease2017):\n",
    "    pesticides_pyrethroids_country=pesticides_pyrethroids.loc[pesticides_pyrethroids['Area']==country]\n",
    "    plt.plot(pesticides_pyrethroids_country['Year'],pesticides_pyrethroids_country['Value'],'-*')\n",
    "    plt.title('Country: '+country)\n",
    "    plt.xlabel('Years')\n",
    "    plt.ylabel('Number')\n",
    "    plt.xlim(1990, 2020)"
   ]
  },
  {
   "cell_type": "markdown",
   "metadata": {},
   "source": [
    "This data does look hard to obtain since a lot of countries are not covered in this dataset. However some are. From looking at the three different pesticides we see that Pyrethroids are increasing in Austria, France, Germany, France, Italy and Switzerland. The two other pesticides decrease."
   ]
  },
  {
   "cell_type": "code",
   "execution_count": null,
   "metadata": {},
   "outputs": [],
   "source": [
    "joined = beehives.loc[beehives[\"Area\"].isin(countries)]\\\n",
    "                 .set_index([\"Area\",\"Year\"])\\\n",
    "                 .join(pesticides_total.loc[pesticides_total[\"Area\"].isin(countries)].set_index([\"Area\",\"Year\"]), lsuffix='_beehives', rsuffix='_pesticides')\n",
    "joined = joined.reset_index()\n",
    "joined = joined[['Area', 'Year', 'Value_beehives', 'Value_pesticides']]"
   ]
  },
  {
   "cell_type": "code",
   "execution_count": null,
   "metadata": {},
   "outputs": [],
   "source": [
    "import seaborn as sns\n",
    "pearson_corr = joined.corr(\"pearson\")\n",
    "sns.heatmap(pearson_corr, fmt='.2g',annot=True, cmap=\"OrRd\");"
   ]
  },
  {
   "cell_type": "markdown",
   "metadata": {},
   "source": [
    "## Looking into pesticides toxic for beehives"
   ]
  },
  {
   "cell_type": "code",
   "execution_count": null,
   "metadata": {},
   "outputs": [],
   "source": [
    "toxic_pesticides = ['Insecticides - Organo-phosphates', 'Insecticides - Carbamates', 'Insecticides - Pyrethroids']\n",
    "pesticides_toxic = pesticides.loc[(pesticides['Item'].isin(toxic_pesticides)) & (pesticides['Area'].isin(countries))]"
   ]
  },
  {
   "cell_type": "code",
   "execution_count": null,
   "metadata": {},
   "outputs": [],
   "source": [
    "joined = beehives.loc[beehives[\"Area\"].isin(countries)]\\\n",
    "                 .set_index([\"Area\",\"Year\"])\\\n",
    "                 .join(pesticides_toxic.loc[pesticides_toxic[\"Area\"].isin(countries)].set_index([\"Area\",\"Year\"]), lsuffix='_beehives', rsuffix='_pesticides_toxic')\n",
    "joined = joined.reset_index()\n",
    "joined = joined[['Area', 'Year', 'Value_beehives', 'Value_pesticides_toxic']]"
   ]
  },
  {
   "cell_type": "code",
   "execution_count": null,
   "metadata": {},
   "outputs": [],
   "source": [
    "import seaborn as sns\n",
    "pearson_corr = joined.corr(\"pearson\")\n",
    "sns.heatmap(pearson_corr, fmt='.2g',annot=True, cmap=\"OrRd\");"
   ]
  },
  {
   "cell_type": "markdown",
   "metadata": {},
   "source": [
    "### But what are Pyrethroids and why is the number increasing this much? "
   ]
  },
  {
   "cell_type": "markdown",
   "metadata": {},
   "source": [
    "Insecticides in general are a substance to kill insects. Some of them are widely regarded as safe to the human but '2250 times more toxic to insects'. [https://www.ncbi.nlm.nih.gov/pmc/articles/PMC6174339/]. One of those is the Pyrethroid. It is recommendd for 'in-home insect control' to keep the house clean of insects and so widely spread. They can also be found in different products, like mosquito repellents, soap for pets or in our sprinkled in ones garden. [https://www.theverge.com/2014/2/19/5423480/popular-poison-pyrethroid-health-risks].\n",
    "The effects of pesticides on bees can weaken their immune system which makes them less productive and leads to a decline of bees population."
   ]
  },
  {
   "cell_type": "markdown",
   "metadata": {},
   "source": [
    "# An interactive plot of percentage changes during the years"
   ]
  },
  {
   "cell_type": "code",
   "execution_count": null,
   "metadata": {},
   "outputs": [],
   "source": [
    "selected_countries = ['Austria', 'Bulgaria', 'Finland', 'France', 'Germany', 'Greece', 'Hungary', 'Italy', 'Poland', 'Portugal', 'Spain', 'Sweden', 'Switzerland', 'Canada', 'Mexico', 'United States of America']"
   ]
  },
  {
   "cell_type": "code",
   "execution_count": null,
   "metadata": {},
   "outputs": [],
   "source": [
    "beehives_selected = beehives.loc[beehives.Area.isin(selected_countries)]\n",
    "\n",
    "@interact(Starting_Year=(1961, 2016, 1), End_Year=(1962, 2017, 1))\n",
    "def show_beehives_for_country(Starting_Year=1961, End_Year=2017):\n",
    "    \n",
    "    old = np.array(beehives_selected.loc[beehives_selected.Year == Starting_Year, 'Value'])\n",
    "    new = np.array(beehives_selected.loc[beehives_selected.Year == End_Year, 'Value'])\n",
    "    \n",
    "    res = pd.DataFrame((new - old) / old) * 100\n",
    "    res.index = beehives_selected.Area.unique()\n",
    "    res.columns = ['Value']\n",
    "    \n",
    "    fig = plt.figure(figsize=(15, 8))\n",
    "    plt.axis([0, len(selected_countries), -150, 500])\n",
    "    plt.bar(x = res.index, height = res.Value, color=(res['Value'] > 0).map({True: 'b', False: 'r'}))\n",
    "    plt.xticks(rotation=45)\n",
    "    plt.axhline(y = 0,linewidth = 1, color = 'k');"
   ]
  },
  {
   "cell_type": "markdown",
   "metadata": {},
   "source": [
    "Here we have a plot of percentage changes for some selected countries during the years. You can use the sliders to change years between which the percentage change is computed."
   ]
  },
  {
   "cell_type": "markdown",
   "metadata": {},
   "source": [
    "# Looking at the correlation of the forest land and beehives  "
   ]
  },
  {
   "cell_type": "code",
   "execution_count": null,
   "metadata": {
    "scrolled": true
   },
   "outputs": [],
   "source": [
    "beehives_countries"
   ]
  },
  {
   "cell_type": "code",
   "execution_count": null,
   "metadata": {},
   "outputs": [],
   "source": [
    "land_use = pd.read_csv('data/Inputs_LandUse_E_All_Data_(Normalized).csv',  encoding='iso-8859-1')\n",
    "#land_use_countries = land_use[land_use['Area'].isin(countries)]\n",
    "#land_use_continents = land_use[land_use['Area'].isin(continents)]"
   ]
  },
  {
   "cell_type": "markdown",
   "metadata": {},
   "source": [
    "Load datasets"
   ]
  },
  {
   "cell_type": "code",
   "execution_count": null,
   "metadata": {
    "scrolled": true
   },
   "outputs": [],
   "source": [
    "# Forest land, Country Area, Agricultural land\n",
    "forest_land = land_use.loc[land_use['Item'] == 'Forest land'].copy()\n",
    "agricultural_land = land_use.loc[land_use['Item'] == 'Agricultural land'].copy()\n",
    "country_land = land_use.loc[land_use['Item'] == 'Country area'].copy()\n",
    "inland_waters = land_use.loc[land_use['Item'] == 'Inland waters'].copy()\n",
    "\n",
    "forest_land.drop(forest_land[forest_land[\"Element\"] == \"Carbon stock in living biomass\"].index, inplace = True)"
   ]
  },
  {
   "cell_type": "markdown",
   "metadata": {},
   "source": [
    "First look at the data"
   ]
  },
  {
   "cell_type": "code",
   "execution_count": null,
   "metadata": {},
   "outputs": [],
   "source": [
    "country_land.head(5)"
   ]
  },
  {
   "cell_type": "markdown",
   "metadata": {},
   "source": [
    "Calculating ratio for forest land, agricultural land and beehives. These quantities are defined as:\n",
    "\n",
    "$$ Ratio_{forest} = \\frac{ForestArea}{TotalArea} $$\n",
    "\n",
    "$$ Ratio_{agriculture} = \\frac{AgriculturalArea}{TotalArea} $$\n",
    "\n",
    "$$ Ratio_{beehives} = \\frac{BeehivesNumber}{TotalArea} $$"
   ]
  },
  {
   "cell_type": "code",
   "execution_count": null,
   "metadata": {
    "scrolled": true
   },
   "outputs": [],
   "source": [
    "years = range(1960, 2018)\n",
    "all_areas = countries + continents + [\"World\"]\n",
    "\n",
    "for country in all_areas:\n",
    "    #print(\"country: \", country)\n",
    "    for year in years:\n",
    "        # calculate and insert ratio in corresponding dataframe(for each country and year)\n",
    "        try:\n",
    "            country_elem = country_land.loc[(country_land[\"Area\"] == country) & (country_land[\"Year\"] == year), \"Value\"].values[0]\n",
    "            try:\n",
    "                forest_elem = forest_land.loc[(forest_land[\"Area\"] == country) & (forest_land[\"Year\"] == year), \"Value\"].values[0]\n",
    "                forest_ratio = forest_elem / country_elem\n",
    "                forest_land.loc[(forest_land[\"Area\"] == country) & (forest_land[\"Year\"] == year),\"Ratio\"] = forest_ratio\n",
    "            except:\n",
    "                pass\n",
    "            try:\n",
    "                agricultural_elem = agricultural_land.loc[(agricultural_land[\"Area\"] == country) & (agricultural_land[\"Year\"] == year), \"Value\"].values[0]\n",
    "                agricultural_ratio = agricultural_elem / country_elem\n",
    "                agricultural_land.loc[(agricultural_land[\"Area\"] == country) & (agricultural_land[\"Year\"] == year),\"Ratio\"] = agricultural_ratio\n",
    "            except:\n",
    "                pass\n",
    "            try:\n",
    "                waters_elem = inland_waters.loc[(inland_waters[\"Area\"] == country) & (inland_waters[\"Year\"] == year), \"Value\"].values[0]\n",
    "                waters_ratio = waters_elem / country_elem\n",
    "                inland_waters.loc[(inland_waters[\"Area\"] == country) & (inland_waters[\"Year\"] == year),\"Ratio\"] = waters_ratio\n",
    "            except:\n",
    "                pass\n",
    "            try:\n",
    "                beehives_elem = beehives.loc[(beehives[\"Area\"] == country) & (beehives[\"Year\"] == year), \"Value\"].values[0]\n",
    "                beehives_ratio = beehives_elem / country_elem\n",
    "                beehives.loc[(beehives[\"Area\"] == country) & (beehives[\"Year\"] == year),\"Ratio\"] = beehives_ratio\n",
    "            except:\n",
    "                pass\n",
    "        except:\n",
    "            pass"
   ]
  },
  {
   "cell_type": "markdown",
   "metadata": {},
   "source": [
    "Visualizing correlation between forest ratio and beehives number, in countries and continents."
   ]
  },
  {
   "cell_type": "code",
   "execution_count": null,
   "metadata": {},
   "outputs": [],
   "source": [
    "@interact\n",
    "def plot_agricultural_land(area=countries):\n",
    "    try:\n",
    "        #agricultural_tmp = agricultural_land[(agricultural_land[\"Country or Area\"] == area) & (agricultural_land[\"Element\"] == \"Area\")][[\"Value\",\"Year\"]]\n",
    "        forest_tmp = forest_land[forest_land[\"Area\"] == area][[\"Ratio\",\"Year\"]]\n",
    "        beehives_tmp = beehives[beehives[\"Area\"] == area][[\"Value\",\"Year\"]]\n",
    "    \n",
    "        fig, ax1 = plt.subplots()\n",
    "        \n",
    "        color = 'tab:red'\n",
    "        ax1.set_xlabel('Years')\n",
    "        ax1.set_ylabel('Beehives number', color=color)\n",
    "        beehives_tmp.plot(ax=ax1, x=\"Year\", y=\"Value\", color=color, label=\"Beehives number\")\n",
    "        ax1.tick_params(axis='y', labelcolor=color)\n",
    "\n",
    "        ax2 = ax1.twinx()  # instantiate a second axes that shares the same x-axis\n",
    "\n",
    "        color = 'tab:blue'\n",
    "        ax2.set_ylabel('Forest / Total land ratio', color=color)  # we already handled the x-label with ax1\n",
    "        forest_tmp.plot(ax=ax2, x=\"Year\", y=\"Ratio\", color=color, label=\"Forest ratio\")\n",
    "        ax2.tick_params(axis='y', labelcolor=color)\n",
    "        ax1.get_legend().remove()\n",
    "        ax2.get_legend().remove()\n",
    "        fig.tight_layout()  # otherwise the right y-label is slightly clipped\n",
    "        plt.show()\n",
    "    except:\n",
    "        pass"
   ]
  },
  {
   "cell_type": "markdown",
   "metadata": {},
   "source": [
    "## Forests analysis"
   ]
  },
  {
   "cell_type": "code",
   "execution_count": null,
   "metadata": {},
   "outputs": [],
   "source": [
    "forest_land.loc[(forest_land[\"Year\"] == 2017) & (forest_land[\"Area\"] == \"World\"), [\"Area\", \"Value\", \"Ratio\"]]"
   ]
  },
  {
   "cell_type": "markdown",
   "metadata": {},
   "source": [
    "This means that ~30% of the world land surface area is covered by forests.\n",
    "Visualizing forests area per continent. "
   ]
  },
  {
   "cell_type": "markdown",
   "metadata": {},
   "source": [
    "Visualizing forests area per continent. "
   ]
  },
  {
   "cell_type": "code",
   "execution_count": null,
   "metadata": {},
   "outputs": [],
   "source": [
    "forest_land.sort_values(by=[\"Value\"], ascending=False)\\\n",
    "           .loc[(forest_land[\"Year\"] == 2017) & (forest_land[\"Area\"].isin(continents)), [\"Area\", \"Value\"]]\\\n",
    "           .plot.bar(x=\"Area\",y=\"Value\", label=\"Forests surface(Ha)\", title=\"Forests surface area per continent\")"
   ]
  },
  {
   "cell_type": "code",
   "execution_count": null,
   "metadata": {},
   "outputs": [],
   "source": [
    "forest_land.sort_values(by=[\"Ratio\"], ascending=False)\\\n",
    "           .loc[(forest_land[\"Year\"] == 2017) & (forest_land[\"Area\"].isin(continents)), [\"Area\", \"Ratio\"]]"
   ]
  },
  {
   "cell_type": "markdown",
   "metadata": {},
   "source": [
    "### Forests analysis per country"
   ]
  },
  {
   "cell_type": "markdown",
   "metadata": {},
   "source": [
    "Plotting countries with more forests."
   ]
  },
  {
   "cell_type": "code",
   "execution_count": null,
   "metadata": {},
   "outputs": [],
   "source": [
    "forest_land.sort_values(by=[\"Value\"], ascending=False)\\\n",
    "           .loc[(forest_land[\"Year\"] == 2017) & (forest_land[\"Area\"].isin(countries)), [\"Area\", \"Value\"]]\\\n",
    "           .plot.bar(x=\"Area\", y=\"Value\", title=\"Top 15 countries for forest covered area\", label=\"Forests surface(Ha)\", figsize=(16,4))"
   ]
  },
  {
   "cell_type": "markdown",
   "metadata": {},
   "source": [
    "Plotting the total surface area in each country. we can observe a long tailed distribution."
   ]
  },
  {
   "cell_type": "code",
   "execution_count": null,
   "metadata": {},
   "outputs": [],
   "source": [
    "country_land.sort_values(by=[\"Value\"], ascending=False)\\\n",
    "           .loc[(country_land[\"Year\"] == 2017) & (country_land[\"Area\"].isin(countries)), [\"Area\", \"Value\"]]\\\n",
    "           .head(10)\\\n",
    "           .plot.barh(x=\"Area\", y=\"Value\", title=\"Total surface area in a country\", label=\"Country surface(Ha)\")"
   ]
  },
  {
   "cell_type": "markdown",
   "metadata": {},
   "source": [
    "It seems that Russia has almost the double of forests than any other country, but also the double in total area.\n",
    "We proceed by analysing the ratio between the area covered by forests and the total available surface."
   ]
  },
  {
   "cell_type": "code",
   "execution_count": null,
   "metadata": {},
   "outputs": [],
   "source": [
    "forest_land.sort_values(by=[\"Ratio\"], ascending=False)\\\n",
    "           .loc[(forest_land[\"Year\"] == 2017) & (forest_land[\"Area\"].isin(countries)), [\"Area\",\"Ratio\"]]\\\n",
    "           .head(10)"
   ]
  },
  {
   "cell_type": "code",
   "execution_count": null,
   "metadata": {},
   "outputs": [],
   "source": [
    "forest_land.sort_values(by=[\"Ratio\"], ascending=False)\\\n",
    "           .loc[(forest_land[\"Year\"] == 2017) & (forest_land[\"Area\"].isin(countries)), [\"Area\", \"Ratio\"]]\\\n",
    "           .plot.bar(x=\"Area\", y=\"Ratio\", title=\"Forest ratio per country\", label=\"Forest ratio\", figsize=(16,4))"
   ]
  },
  {
   "cell_type": "markdown",
   "metadata": {},
   "source": [
    "### Discover trends in number of bees"
   ]
  },
  {
   "cell_type": "code",
   "execution_count": null,
   "metadata": {},
   "outputs": [],
   "source": [
    "forest_land.sort_values(by=[\"Ratio\"], ascending=False)\\\n",
    "           .loc[(forest_land[\"Year\"] == 2017) & (forest_land[\"Area\"].isin(big_decrease2017)), [\"Area\",\"Ratio\"]]\\"
   ]
  },
  {
   "cell_type": "code",
   "execution_count": null,
   "metadata": {},
   "outputs": [],
   "source": [
    "forest_land.sort_values(by=[\"Ratio\"], ascending=False)\\\n",
    "            .loc[(forest_land[\"Year\"] == 2017) & (forest_land[\"Area\"].isin(big_increase)), [\"Area\",\"Ratio\"]]\\\n",
    "            .head(10)"
   ]
  },
  {
   "cell_type": "markdown",
   "metadata": {},
   "source": [
    "This result doesn't confirm the fact highlighted before, but could it still be some correlation? Let's check Spearman and Pearson correlations."
   ]
  },
  {
   "cell_type": "code",
   "execution_count": null,
   "metadata": {},
   "outputs": [],
   "source": [
    "joined = beehives.loc[beehives[\"Area\"].isin(countries)]\\\n",
    "                 .set_index([\"Area\",\"Year\"])\\\n",
    "                 .join(forest_land.loc[forest_land[\"Area\"].isin(countries)].set_index([\"Area\",\"Year\"]), lsuffix='_beehives', rsuffix='_forest')\n",
    "joined = joined.reset_index()"
   ]
  },
  {
   "cell_type": "code",
   "execution_count": null,
   "metadata": {},
   "outputs": [],
   "source": [
    "joined = joined[['Area', 'Year', 'Value_beehives', 'Ratio_beehives', 'Value_forest', 'Ratio_forest']]"
   ]
  },
  {
   "cell_type": "markdown",
   "metadata": {},
   "source": [
    "##### Pearson correlation"
   ]
  },
  {
   "cell_type": "code",
   "execution_count": null,
   "metadata": {
    "scrolled": true
   },
   "outputs": [],
   "source": [
    "import seaborn as sns\n",
    "pearson_corr = joined.corr(\"pearson\")\n",
    "sns.heatmap(pearson_corr, fmt='.2g',annot=True, cmap=\"OrRd\");"
   ]
  },
  {
   "cell_type": "markdown",
   "metadata": {},
   "source": [
    "We can see that we have some week correlation between forests surface area in a country and number of beehives in that country. \n",
    "\n",
    "The forest concentration is probably not the only factor that influence the number of beehives, but it could have an impact on it. \n",
    "\n",
    "Let's calculate the Pearson correlation for other factors that could have influence too, like agricultural land area and inland waters surface."
   ]
  },
  {
   "cell_type": "markdown",
   "metadata": {},
   "source": [
    "##### Analysis of agriculture and beehives correlation"
   ]
  },
  {
   "cell_type": "code",
   "execution_count": null,
   "metadata": {},
   "outputs": [],
   "source": [
    "joined = beehives.loc[beehives[\"Area\"].isin(countries)]\\\n",
    "                 .set_index([\"Area\",\"Year\"])\\\n",
    "                 .join(agricultural_land.loc[agricultural_land[\"Area\"].isin(countries)].set_index([\"Area\",\"Year\"]), lsuffix='_beehives', rsuffix='_agriculture')\n",
    "joined = joined.reset_index()\n",
    "\n",
    "joined = joined[['Area', 'Year', 'Value_beehives', 'Ratio_beehives', 'Value_agriculture', 'Ratio_agriculture']]\n",
    "spearman_corr = joined.corr(\"pearson\")\n",
    "sns.heatmap(spearman_corr, fmt='.2g',annot=True, cmap=\"OrRd\");"
   ]
  },
  {
   "cell_type": "markdown",
   "metadata": {},
   "source": [
    "It seems that we have a good correlation between the agricultural surface area and the number of beehives."
   ]
  },
  {
   "cell_type": "markdown",
   "metadata": {},
   "source": [
    "##### Analysis of inland water and beehives correlation"
   ]
  },
  {
   "cell_type": "code",
   "execution_count": null,
   "metadata": {},
   "outputs": [],
   "source": [
    "joined = beehives.loc[beehives[\"Area\"].isin(countries)]\\\n",
    "                 .set_index([\"Area\",\"Year\"])\\\n",
    "                 .join(inland_waters.loc[inland_waters[\"Area\"].isin(countries)].set_index([\"Area\",\"Year\"]), lsuffix='_beehives', rsuffix='_water')\n",
    "joined = joined.reset_index()\n",
    "\n",
    "joined = joined[['Area', 'Year', 'Value_beehives', 'Ratio_beehives', 'Value_water', 'Ratio_water']]\n",
    "spearman_corr = joined.corr(\"pearson\")\n",
    "sns.heatmap(spearman_corr, fmt='.2g',annot=True, cmap=\"OrRd\");"
   ]
  },
  {
   "cell_type": "markdown",
   "metadata": {},
   "source": [
    "It seems that also here we have a good correlation between the inland water covered surface and the number of beehives."
   ]
  },
  {
   "cell_type": "markdown",
   "metadata": {},
   "source": [
    "### We feel like we need some data about colony losses, which this dataset doesn't provide"
   ]
  },
  {
   "cell_type": "markdown",
   "metadata": {},
   "source": [
    "Colony loss disorder is an importan topic blabla...  \n",
    "We found data for the US provided by USDA: https://www.nass.usda.gov/Surveys/Guide_to_NASS_Surveys/Bee_and_Honey/  \n",
    "The data is poorly formatted so we will have to do a lot of preprocessing"
   ]
  },
  {
   "cell_type": "code",
   "execution_count": null,
   "metadata": {},
   "outputs": [],
   "source": [
    "import csv\n",
    "\n",
    "header = [['State', 'Colonies', 'Maximum', 'Lost', 'Percent lost', 'Added', 'Renovated', 'Percent renovated'],\n",
    "            ['State', 'Mites', 'Parasites', 'Diseases', 'Pesticides', 'Other', 'Unknown']]\n",
    "\n",
    "def create_dataframe(path, index):\n",
    "    \n",
    "    title = []\n",
    "    data = []\n",
    "    \n",
    "    with open(path, encoding=\"utf8\", errors='ignore') as input_file:\n",
    "        reader = csv.reader(input_file)\n",
    "        \n",
    "        for cnt, row in enumerate(reader):\n",
    "            \n",
    "            if row[1] == 't':\n",
    "                title.append(row)\n",
    "                \n",
    "            if row[1] == 'd':\n",
    "                data.append(row[2:])\n",
    "\n",
    "    date = title[1][-1].split('-')[-1]\n",
    "    \n",
    "    df = pd.DataFrame(data)\n",
    "    df.columns = header[index]\n",
    "    df['Date'] = pd.to_datetime(date)\n",
    "    return df[df.State != '']"
   ]
  },
  {
   "cell_type": "code",
   "execution_count": null,
   "metadata": {},
   "outputs": [],
   "source": [
    "folder = 'data/Bees/'\n",
    "\n",
    "files = ['BeeColonies-05-12-2016/hcny_p01_t005.csv', 'BeeColonies-05-12-2016/hcny_p02_t001.csv',\n",
    "        'BeeColonies-05-12-2016/hcny_p03_t007.csv', 'BeeColonies-05-12-2016/hcny_p04_t008.csv',\n",
    "         \n",
    "        'BeeColonies-08-01-2017/hcny_p04_t005.csv', 'BeeColonies-08-01-2017/hcny_p05_t001.csv',\n",
    "        'BeeColonies-08-01-2017/hcny_p06_t007.csv', 'BeeColonies-08-01-2017/hcny_p07_t008.csv',\n",
    "         \n",
    "        'BeeColonies-08-01-2018/hcny_p04_t005.csv', 'BeeColonies-08-01-2018/hcny_p05_t001.csv',\n",
    "        'BeeColonies-08-01-2018/hcny_p06_t007.csv', 'BeeColonies-08-01-2018/hcny_p07_t008.csv',\n",
    "         \n",
    "        'BeeColonies-08-01-2019/hcny_p03_t005.csv', 'BeeColonies-08-01-2019/hcny_p04_t001.csv',\n",
    "        'BeeColonies-08-01-2019/hcny_p05_t007.csv', 'BeeColonies-08-01-2019/hcny_p06_t008.csv',\n",
    "        'BeeColonies-08-01-2019/hcny_p07_t011.csv']\n",
    "\n",
    "files2 = ['BeeColonies-05-12-2016/hcny_p06_t002.csv', 'BeeColonies-05-12-2016/hcny_p07_t013.csv',\n",
    "        'BeeColonies-05-12-2016/hcny_p08_t009.csv', 'BeeColonies-05-12-2016/hcny_p09_t010.csv',\n",
    "         \n",
    "        'BeeColonies-08-01-2017/hcny_p10_t002.csv', 'BeeColonies-08-01-2017/hcny_p11_t013.csv',\n",
    "        'BeeColonies-08-01-2017/hcny_p12_t009.csv', 'BeeColonies-08-01-2017/hcny_p13_t010.csv',\n",
    "         \n",
    "        'BeeColonies-08-01-2018/hcny_p10_t002.csv', 'BeeColonies-08-01-2018/hcny_p11_t013.csv',\n",
    "        'BeeColonies-08-01-2018/hcny_p12_t009.csv', 'BeeColonies-08-01-2018/hcny_p13_t010.csv',\n",
    "         \n",
    "        'BeeColonies-08-01-2019/hcny_p08_t002.csv', 'BeeColonies-08-01-2019/hcny_p09_t013.csv',\n",
    "        'BeeColonies-08-01-2019/hcny_p10_t009.csv', 'BeeColonies-08-01-2019/hcny_p11_t010.csv',\n",
    "        'BeeColonies-08-01-2019/hcny_p12_t012.csv']"
   ]
  },
  {
   "cell_type": "code",
   "execution_count": null,
   "metadata": {},
   "outputs": [],
   "source": [
    "colonies = pd.concat([create_dataframe(folder + file, index=0) for file in files], axis=0)\n",
    "colonies = colonies.reset_index(drop=True)\n",
    "colonies.replace(['(X)', '(Z)', '-'], 0, inplace=True)\n",
    "colonies.iloc[:, 1:-1] = colonies.iloc[:, 1:-1].astype(int)\n",
    "colonies"
   ]
  },
  {
   "cell_type": "code",
   "execution_count": null,
   "metadata": {},
   "outputs": [],
   "source": [
    "colonies.loc[colonies.State == 'United States']"
   ]
  },
  {
   "cell_type": "markdown",
   "metadata": {},
   "source": [
    "Although the data provided is very recent it is only for the interval 2015-2019"
   ]
  },
  {
   "cell_type": "code",
   "execution_count": null,
   "metadata": {},
   "outputs": [],
   "source": [
    "column = 'Lost'\n",
    "state = colonies.loc[colonies.State == 'United States', ['Date', column]]\n",
    "plt.plot(state.Date, state[column], label=f'Change in number of colonies {column}')\n",
    "plt.plot(state.Date, [state[column].mean()] * len(state.Date), label=f'Mean number of colonies {column}')\n",
    "plt.xticks(rotation=45)\n",
    "plt.title(f'Number of colonies {column}')\n",
    "plt.xlabel('Date')\n",
    "plt.ylabel('Number of colonies')\n",
    "plt.legend();"
   ]
  },
  {
   "cell_type": "code",
   "execution_count": null,
   "metadata": {},
   "outputs": [],
   "source": [
    "disorder = pd.concat([create_dataframe(folder + file, index=1) for file in files2], axis=0)\n",
    "disorder = disorder.reset_index(drop=True)\n",
    "disorder.replace(['(X)', '(Z)', '-'], 0, inplace=True)\n",
    "disorder.iloc[:, 1:-1] = disorder.iloc[:, 1:-1].astype(float)\n",
    "disorder.loc[disorder.State == 'United States']"
   ]
  },
  {
   "cell_type": "code",
   "execution_count": null,
   "metadata": {},
   "outputs": [],
   "source": [
    "stressor = 'Pesticides'\n",
    "state = disorder.loc[disorder.State == 'United States', ['Date', stressor]]\n",
    "plt.plot(state.Date, state[stressor], label='Percentage change during time')\n",
    "plt.plot(state.Date, [state[stressor].mean()] * len(state.Date), label='Mean percentage')\n",
    "plt.xticks(rotation=45)\n",
    "plt.title(f'Percent of colonies affected by {stressor}')\n",
    "plt.xlabel('Date')\n",
    "plt.ylabel('Percent')\n",
    "plt.legend();"
   ]
  },
  {
   "cell_type": "markdown",
   "metadata": {},
   "source": [
    "Some of the known reasons for the colony losses are mites, parasites, pesticides and diseases. Using the disorder dataframe we can see how percentage of colonies affected by stressors. A colony can be affected by multiple stressors at the same time."
   ]
  },
  {
   "cell_type": "code",
   "execution_count": null,
   "metadata": {},
   "outputs": [],
   "source": [
    "stressor = 'Parasites'\n",
    "\n",
    "state_colonies = colonies.loc[colonies.State == 'United States', ['Date', 'Colonies', 'Lost', 'Percent lost', 'Added', 'Renovated', 'Percent renovated']]\n",
    "state_colonies.set_index('Date', inplace=True)\n",
    "state_disorder = disorder.loc[disorder.State == 'United States', :]\n",
    "state_disorder.set_index('Date', inplace=True)\n",
    "\n",
    "joined = state_colonies.join(state_disorder)\n",
    "joined.drop('State', axis=1, inplace=True)"
   ]
  },
  {
   "cell_type": "code",
   "execution_count": null,
   "metadata": {},
   "outputs": [],
   "source": [
    "joined[stressor] = joined[stressor]/100 * state_colonies['Colonies']\n",
    "joined"
   ]
  },
  {
   "cell_type": "code",
   "execution_count": null,
   "metadata": {},
   "outputs": [],
   "source": [
    "joined.corr()"
   ]
  },
  {
   "cell_type": "markdown",
   "metadata": {},
   "source": [
    "It actually makes sense. You can look at this correlations from another point of view. If you have more colonies, then you could lose more of them and that's why it's negatively correlated. Why are the stressors and colonies lost negatively correlated? Maybe you can look at this this way: you loose colonies because of those stuff and the more you loose affected colonies, the less affected colonies you will have and that's why all of those are negatively correlated. Because you loose more affected colonies and less not affected!"
   ]
  },
  {
   "cell_type": "markdown",
   "metadata": {},
   "source": [
    "### Government investments"
   ]
  },
  {
   "cell_type": "markdown",
   "metadata": {},
   "source": [
    "We talked to a specialist in the field working in the Swiss Bee Research Center and he told us that one of the reasons why bee colony numbers decline is because the government stops supporting beekepers. Since in this new dataset we have some data about government investments, we will try to analyze that."
   ]
  },
  {
   "cell_type": "code",
   "execution_count": null,
   "metadata": {},
   "outputs": [],
   "source": [
    "def read_investments(path, index):\n",
    "    data = []\n",
    "    \n",
    "    with open(path, encoding=\"utf8\", errors='ignore') as input_file:\n",
    "        reader = csv.reader(input_file)\n",
    "        \n",
    "        for cnt, row in enumerate(reader):\n",
    "                \n",
    "            if row[1] == 'd':\n",
    "                data.append(row[2:])\n",
    "    df = pd.DataFrame(data).T[:3]\n",
    "    df.columns = df.iloc[0]\n",
    "    df.drop(0, inplace=True)\n",
    "    df.index = index\n",
    "    return df.astype(int)"
   ]
  },
  {
   "cell_type": "code",
   "execution_count": null,
   "metadata": {},
   "outputs": [],
   "source": [
    "investments = pd.concat([read_investments('data/Honey/Hone-03-22-2017/hony_p06a_t017.csv', [2015, 2016]),\n",
    "                        read_investments('data/Honey/hony0519/hony_p05a_t024.csv', [2017, 2018])])\n",
    "\n",
    "investments"
   ]
  },
  {
   "cell_type": "code",
   "execution_count": null,
   "metadata": {},
   "outputs": [],
   "source": [
    "mask = colonies['Date'].map(lambda x: x.month) == 3\n",
    "selected = colonies.loc[(mask) & (colonies.State == 'United States')].iloc[:-1]\n",
    "selected.index = investments.index\n",
    "selected"
   ]
  },
  {
   "cell_type": "code",
   "execution_count": null,
   "metadata": {},
   "outputs": [],
   "source": [
    "joined = selected.join(investments)\n",
    "joined.drop(['Date', 'State', 'Maximum'], axis=1, inplace=True)\n",
    "joined"
   ]
  },
  {
   "cell_type": "code",
   "execution_count": null,
   "metadata": {},
   "outputs": [],
   "source": [
    "joined.corr()"
   ]
  },
  {
   "cell_type": "markdown",
   "metadata": {},
   "source": [
    "### Colony loss in Europe"
   ]
  },
  {
   "cell_type": "markdown",
   "metadata": {},
   "source": [
    "New dataset, again porrly formatted!"
   ]
  },
  {
   "cell_type": "code",
   "execution_count": null,
   "metadata": {},
   "outputs": [],
   "source": [
    "df2016 = pd.read_csv('data/Europe/T0001-10.1080_00218839.2016.1260240.csv')\n",
    "df2016['Year'] = 2016\n",
    "df2017 = pd.read_csv('data/Europe/T0001-10.1080_00218839.2018.1460911.csv')\n",
    "df2017['Year'] = 2017\n",
    "\n",
    "df2018 = pd.read_csv('data/Europe/t0001-10.1080_00218839.2019.1615661.csv')\n",
    "df2018['Year'] = 2018"
   ]
  },
  {
   "cell_type": "code",
   "execution_count": null,
   "metadata": {},
   "outputs": [],
   "source": [
    "df2016.columns = df2016.columns.str.lower()\n",
    "df2017.columns = df2017.columns.str.lower()\n",
    "df2018.columns = df2018.columns.str.lower()\n",
    "\n",
    "df2017 = df2017.loc[:, df2016.columns]\n",
    "df2018 = df2018.loc[:, df2016.columns]"
   ]
  },
  {
   "cell_type": "code",
   "execution_count": null,
   "metadata": {},
   "outputs": [],
   "source": [
    "joined = df2016.append(df2017.append(df2018))\n",
    "joined = joined.loc[~(joined.country.str.strip() == '')]\n",
    "joined.replace('\\(.*\\)', '', regex=True, inplace=True)\n",
    "joined.replace('\\(.*', '', regex=True, inplace=True)\n",
    "joined.replace(',', '', regex=True, inplace=True)\n",
    "joined.replace('Overall.*', 'Overall', regex=True, inplace=True)\n",
    "joined.replace('na', np.NaN, inplace=True)\n",
    "joined['year'] = pd.to_datetime(joined['year'].astype(str))\n",
    "joined.iloc[:,1:-3] = joined.iloc[:,1:-3].astype(float)\n",
    "joined"
   ]
  },
  {
   "cell_type": "code",
   "execution_count": null,
   "metadata": {},
   "outputs": [],
   "source": [
    "joined.corr()"
   ]
  },
  {
   "cell_type": "code",
   "execution_count": null,
   "metadata": {},
   "outputs": [],
   "source": [
    "winter_loss = joined.loc[:, ['country', 'overall winter loss rate (95% ci)', 'year']]"
   ]
  },
  {
   "cell_type": "code",
   "execution_count": null,
   "metadata": {},
   "outputs": [],
   "source": [
    "winter_loss.loc[winter_loss['year'] == '2018'].plot.barh(x='country', y='overall winter loss rate (95% ci)',\n",
    "                                                        figsize=(15,10));"
   ]
  },
  {
   "cell_type": "code",
   "execution_count": null,
   "metadata": {},
   "outputs": [],
   "source": [
    "def convert(data, mask, year):\n",
    "    df = data.copy()\n",
    "    df = df.loc[(df['year'] == year) & df['country'].isin(mask)].T\n",
    "    df.columns = list(df.iloc[0])\n",
    "    df.drop(df.index[0], inplace=True)\n",
    "    df.drop(df.index[1], inplace=True)\n",
    "    df.index = [year]\n",
    "    return df"
   ]
  },
  {
   "cell_type": "code",
   "execution_count": null,
   "metadata": {},
   "outputs": [],
   "source": [
    "mask = list(set(list(winter_loss.loc[winter_loss['year'] == '2016', 'country'])) \n",
    "            & set(list(winter_loss.loc[winter_loss['year'] == '2017', 'country'])) \n",
    "            & set(list(winter_loss.loc[winter_loss['year'] == '2018', 'country'])))"
   ]
  },
  {
   "cell_type": "code",
   "execution_count": null,
   "metadata": {},
   "outputs": [],
   "source": [
    "len(mask)"
   ]
  },
  {
   "cell_type": "markdown",
   "metadata": {},
   "source": [
    "This data is bad, only 22 countries in the intersection, out of 37 in 2018 data"
   ]
  },
  {
   "cell_type": "code",
   "execution_count": null,
   "metadata": {},
   "outputs": [],
   "source": [
    "countries16 = convert(winter_loss.loc[(winter_loss['year'] == '2016') & winter_loss['country'].isin(mask)], mask, '2016')\n",
    "countries17 = convert(winter_loss.loc[(winter_loss['year'] == '2017') & winter_loss['country'].isin(mask)], mask, '2017')\n",
    "countries18 = convert(winter_loss.loc[(winter_loss['year'] == '2018') & winter_loss['country'].isin(mask)], mask, '2018')"
   ]
  },
  {
   "cell_type": "code",
   "execution_count": null,
   "metadata": {},
   "outputs": [],
   "source": [
    "stack = pd.concat([countries16, countries17, countries18], sort=True)\n",
    "stack"
   ]
  },
  {
   "cell_type": "code",
   "execution_count": null,
   "metadata": {},
   "outputs": [],
   "source": [
    "stack.T.plot.bar(figsize=(10, 8), rot=60);"
   ]
  },
  {
   "cell_type": "markdown",
   "metadata": {},
   "source": [
    "We can see that this is just a mess and we cannot find any meaningful global trends."
   ]
  },
  {
   "cell_type": "markdown",
   "metadata": {},
   "source": [
    "# Looking at the price and production of natural honey\n",
    "\n",
    "Here we would like to see if we can correlate the price, the production of honey with the number of beehives for each country.\n",
    "\n",
    "First we get the data:"
   ]
  },
  {
   "cell_type": "code",
   "execution_count": null,
   "metadata": {},
   "outputs": [],
   "source": [
    "#load the data\n",
    "livestock = pd.read_csv('data/Production_Livestock_E_All_Data_(Normalized).csv',  encoding='iso-8859-1')\n",
    "bees=livestock.loc[livestock.Item=='Beehives']\n",
    "\n",
    "prices = pd.read_csv('data/Prices_E_All_Data_(Normalized).csv',  encoding='iso-8859-1')\n",
    "honey_price=prices.loc[prices.Item == 'Honey, natural']\n",
    "\n",
    "production=pd.read_csv('data/Production_LivestockPrimary_E_All_Data_(Normalized).csv', encoding='iso-8859-1')\n",
    "honey_production=production.loc[(production.Item=='Honey, natural')  & (production.Element=='Production')]"
   ]
  },
  {
   "cell_type": "code",
   "execution_count": null,
   "metadata": {},
   "outputs": [],
   "source": [
    "countries = ['Albania', 'Algeria', 'Angola', 'Argentina', 'Armenia','Australia', 'Austria', 'Azerbaijan', 'Belarus', 'Belgium','Belgium-Luxembourg', 'Belize', 'Bolivia (Plurinational State of)','Bosnia and Herzegovina', 'Brazil', 'Bulgaria', 'Burundi','Cameroon', 'Canada', 'Central African Republic', 'Chad', 'Chile','China', 'Colombia', 'Cook Islands', 'Costa Rica', 'Croatia', 'Cuba','Cyprus', 'Czechia', 'Czechoslovakia', 'Dominican Republic','Ecuador', 'Egypt', 'El Salvador', 'Estonia', 'Ethiopia','Ethiopia PDR', 'Fiji', 'Finland', 'France', 'French Polynesia','Georgia', 'Germany', 'Greece', 'Greenland', 'Guadeloupe', 'Guam','Guatemala', 'Guinea', 'Guinea-Bissau', 'Guyana', 'Haiti','Honduras', 'Hungary', 'India', 'Iran (Islamic Republic of)','Israel', 'Italy', 'Jamaica', 'Japan', 'Jordan', 'Kenya','Kyrgyzstan', 'Latvia', 'Lebanon', 'Libya', 'Liechtenstein','Lithuania', 'Luxembourg', 'Madagascar', 'Mali', 'Martinique','Mexico', 'Mongolia', 'Montenegro', 'Morocco', 'Mozambique','Myanmar', 'Netherlands', 'New Caledonia', 'New Zealand','Nigeria', 'Niue', 'Occupied Palestinian Territory', 'Oman','Pakistan', 'Paraguay', 'Poland', 'Portugal', 'Puerto Rico','Republic of Korea', 'Republic of Moldova', 'Romania','Russian Federation', 'Rwanda', 'Samoa', 'Senegal', 'Serbia','Serbia and Montenegro', 'Slovakia', 'Slovenia', 'South Africa','Spain', 'Sudan', 'Sudan (former)', 'Sweden', 'Switzerland','Syrian Arab Republic', 'Tajikistan','The former Yugoslav Republic of Macedonia', 'Timor-Leste','Tonga', 'Trinidad and Tobago', 'Tunisia', 'Turkey', 'Tuvalu','Uganda', 'Ukraine', 'United Kingdom','United Republic of Tanzania', 'United States of America','Uruguay', 'USSR', 'Uzbekistan','Venezuela (Bolivarian Republic of)', 'Viet Nam','Wallis and Futuna Islands', 'Yemen', 'Yugoslav SFR', 'Zambia']"
   ]
  },
  {
   "cell_type": "markdown",
   "metadata": {},
   "source": [
    "## Let's have a look a the data \n",
    "\n",
    "For each country, we plot the honey price and production on one figure and the number of beehives in a second one"
   ]
  },
  {
   "cell_type": "code",
   "execution_count": null,
   "metadata": {},
   "outputs": [],
   "source": [
    "@interact\n",
    "def HoneyPrice(country=countries):\n",
    "    h_p = honey_price.loc[(honey_price.Area == country) & (honey_price.Unit =='USD')]\n",
    "    b=bees.loc[bees.Area==country]\n",
    "    prod=honey_production.loc[(honey_production.Area==country)]\n",
    "    \n",
    "    fig, ax1 = plt.subplots(2)\n",
    "    \n",
    "    fig.set_size_inches(18, 10)\n",
    "\n",
    "    color = 'tab:red'\n",
    "    ax1[0].set_title('Honey price and Production')\n",
    "    ax1[0].set_xlabel('year')\n",
    "    ax1[0].set_ylabel('USD price', color=color)\n",
    "    ax1[0].plot(h_p.Year, h_p.Value, color=color)\n",
    "    ax1[0].tick_params(axis='y', labelcolor=color)\n",
    "\n",
    "    ax2 = ax1[0].twinx()  # instantiate a second axes that shares the same x-axis\n",
    "\n",
    "    color = 'tab:blue'\n",
    "    ax2.set_ylabel('Production in ', color=color)  # we already handled the x-label with ax1\n",
    "    ax2.plot(prod.Year, prod.Value, color=color)\n",
    "    ax2.tick_params(axis='y', labelcolor=color)\n",
    "\n",
    "    fig.tight_layout()  # otherwise the right y-label is slightly clipped\n",
    "    \n",
    "    \n",
    "    ax1[1].plot(b.Year,b.Value)\n",
    "    ax1[1].set_title('Number of beehives')"
   ]
  },
  {
   "cell_type": "markdown",
   "metadata": {},
   "source": [
    "We can see here that there is a lot of data missing, especilly for the prices. most of the time we have no price data or only chuncks of it, not even from the same time period.\n",
    "\n",
    "We can still try to correlate the data we have but we need to make sure that the series we are correlating have the same size and correspond to the same time period, in other case, it would not make any sense.\n",
    "\n"
   ]
  },
  {
   "cell_type": "markdown",
   "metadata": {},
   "source": [
    "This utilities functions compute the correlation between the price and production of honey and the number of beehives for a particular country.\n",
    "\n",
    "They check if correlation is possible and return the pearson's correlation of the extracted series\n",
    "A Nan is returned if the correlation was not possible."
   ]
  },
  {
   "cell_type": "code",
   "execution_count": null,
   "metadata": {},
   "outputs": [],
   "source": [
    "#Extract only the countries data\n",
    "bees_countries = bees[bees['Area'].isin(countries)]\n",
    "price_countries = honey_price[honey_price.Area.isin(countries)]\n",
    "prod_countries = honey_production[honey_production.Area.isin(countries)]"
   ]
  },
  {
   "cell_type": "code",
   "execution_count": null,
   "metadata": {},
   "outputs": [],
   "source": [
    "def price_beehives_corr(c):\n",
    "    bee = bees_countries.loc[bees_countries.Area == c]\n",
    "    prod = prod_countries.loc[(prod_countries.Area == c)]\n",
    "    \n",
    "    if len(prod)>0 and len(bee)>0:\n",
    "        min_year = max(bee.Year.min(),prod.Year.min())\n",
    "        max_year = min(bee.Year.max(),prod.Year.max())\n",
    "\n",
    "        bee = bee.loc[(bee.Year >= min_year) & (bee.Year<=max_year)]\n",
    "        prod = prod.loc[(prod.Year >= min_year) & (prod.Year<=max_year)]\n",
    "        \n",
    "        \n",
    "        if len(prod) == len(bee) and len(bee)  > 9: #we check only if we have at least tenyears of data\n",
    "            try:\n",
    "                return sc.stats.pearsonr(bee.Value,prod.Value)[0]\n",
    "            except:\n",
    "                return np.nan\n",
    "        else:\n",
    "            return np.nan\n",
    "    else:\n",
    "        return np.nan"
   ]
  },
  {
   "cell_type": "code",
   "execution_count": null,
   "metadata": {},
   "outputs": [],
   "source": [
    "def production_beehives_corr(c):\n",
    "    bee = bees_countries.loc[bees_countries.Area == c]\n",
    "    price = price_countries.loc[(price_countries.Area == c) & (price_countries.Unit == 'USD')]\n",
    "    \n",
    "    if len(price)>0 and len(bee)>0:\n",
    "        min_year = max(bee.Year.min(),price.Year.min())\n",
    "        max_year = min(bee.Year.max(),price.Year.max())\n",
    "\n",
    "        bee = bee.loc[(bee.Year >= min_year) & (bee.Year<=max_year)]\n",
    "        price = price.loc[(price.Year >= min_year) & (price.Year<=max_year)]\n",
    "        \n",
    "        \n",
    "        if len(price) == len(bee) and len(bee)  > 9: #we check only if we have at least tenyears of data\n",
    "            try:\n",
    "                return sc.stats.pearsonr(bee.Value,price.Value)[0]\n",
    "            except:\n",
    "                return np.nan\n",
    "        else:\n",
    "            return np.nan\n",
    "    else:\n",
    "        return np.nan"
   ]
  },
  {
   "cell_type": "code",
   "execution_count": null,
   "metadata": {},
   "outputs": [],
   "source": [
    "def price_production_corr(c):\n",
    "    prod = prod_countries.loc[prod_countries.Area == c]\n",
    "    price = price_countries.loc[(price_countries.Area == c) & (price_countries.Unit == 'USD')]\n",
    "    \n",
    "    if len(price)>0 and len(prod)>0:\n",
    "        min_year = max(prod.Year.min(),price.Year.min())\n",
    "        max_year = min(prod.Year.max(),price.Year.max())\n",
    "\n",
    "        prod = prod.loc[(prod.Year >= min_year) & (prod.Year<=max_year)]\n",
    "        price = price.loc[(price.Year >= min_year) & (price.Year<=max_year)]\n",
    "        \n",
    "        \n",
    "        if len(price) == len(prod) and len(prod)  > 9: #we check only if we have at least tenyears of data\n",
    "            try:\n",
    "                return sc.stats.pearsonr(prod.Value,price.Value)[0]\n",
    "            except:\n",
    "                return np.nan\n",
    "        else:\n",
    "            return np.nan\n",
    "    else:\n",
    "        return np.nan"
   ]
  },
  {
   "cell_type": "markdown",
   "metadata": {},
   "source": [
    "Now we can compute each of these correlation in a new dataFrame:"
   ]
  },
  {
   "cell_type": "code",
   "execution_count": null,
   "metadata": {},
   "outputs": [],
   "source": [
    "corrs = []\n",
    "index=[]\n",
    "for c in countries:\n",
    "    corr = []\n",
    "    corr.append(price_beehives_corr(c))\n",
    "    corr.append(price_production_corr(c))\n",
    "    corr.append(production_beehives_corr(c))\n",
    "    \n",
    "    corrs.append(corr)\n",
    "    index.append(c)\n",
    "    \n",
    "corrs = pd.DataFrame(data=corrs, columns=['price-beehives','price-prod','prod-beehives'],index=index)  "
   ]
  },
  {
   "cell_type": "code",
   "execution_count": null,
   "metadata": {},
   "outputs": [],
   "source": [
    "corrs.head(20)"
   ]
  },
  {
   "cell_type": "markdown",
   "metadata": {},
   "source": [
    "We can already see that a lot of data is missing."
   ]
  },
  {
   "cell_type": "markdown",
   "metadata": {},
   "source": [
    "Let's plot the distribution of the correlations "
   ]
  },
  {
   "cell_type": "code",
   "execution_count": null,
   "metadata": {},
   "outputs": [],
   "source": [
    "plt.figure(figsize=[20,20])\n",
    "plt.subplot(221)\n",
    "plt.hist(corrs['price-beehives'], bins=20)\n",
    "plt.title('Distribution of the price and \\n the number of beehives correlation\\n accross countries ')\n",
    "\n",
    "plt.subplot(222)\n",
    "plt.hist(corrs['price-prod'], bins=20)\n",
    "plt.title('Distribution of the price and \\n the honey production correlation\\n accross countries ')\n",
    "\n",
    "plt.subplot(223)\n",
    "plt.hist(corrs['prod-beehives'], bins=20)\n",
    "plt.title('Distribution of the number of beehives and \\n the honey production correlation\\n accross countries ')"
   ]
  },
  {
   "cell_type": "markdown",
   "metadata": {},
   "source": [
    "The distribution of the correlation of the honey price with the number of beehives seems to be left skewed, We can also distinguish the same pattern on the price/production plot. This could mean that, world wide, the number of beehives is generally dependent on the price of the honey.\n",
    "\n",
    "If we find a way to predict the price of honey in the next year, we could be able to deduce if the number of beehives is going to increase or decrease in the next years.\n",
    "\n",
    "This needs further research because too much data is missing, it's hard to say if those result are justified."
   ]
  },
  {
   "cell_type": "markdown",
   "metadata": {},
   "source": [
    "# Crops and beehives\n",
    "The bees are the most important insects in the pollination process and we read that the pollination market is much bigger than the honey market. We will try to find some correlations between the yield of crop production and the number of beehives."
   ]
  },
  {
   "cell_type": "code",
   "execution_count": null,
   "metadata": {},
   "outputs": [],
   "source": [
    "livestock = pd.read_csv('data/Production_Livestock_E_All_Data_(Normalized).csv', encoding='iso-8859-1')\n",
    "beehives = livestock.loc[livestock['Item'] == 'Beehives', ['Area', 'Value', 'Year']]\n",
    "beehives.columns = ['Area', 'Beehives', 'Year']\n",
    "beehives.reset_index(drop=True, inplace=True)\n",
    "beehives.head()"
   ]
  },
  {
   "cell_type": "code",
   "execution_count": null,
   "metadata": {},
   "outputs": [],
   "source": [
    "crops = pd.read_csv('data/FAOSTAT/Production_Crops_E_All_Data_(Normalized).csv', encoding='iso-8859-1')\n",
    "crops = crops.loc[(crops['Element'] == 'Yield'), ['Area', 'Item', 'Year', 'Value']]\n",
    "crops.reset_index(drop=True, inplace=True)\n",
    "crops.sort_values(inplace=True, by=['Area', 'Item', 'Year'])\n",
    "crops.columns = ['Area', 'Item', 'Year', 'Tonnes']\n",
    "crops.head()"
   ]
  },
  {
   "cell_type": "code",
   "execution_count": null,
   "metadata": {},
   "outputs": [],
   "source": [
    "joined = crops.merge(beehives, on=['Area', 'Year'])\n",
    "joined"
   ]
  },
  {
   "cell_type": "code",
   "execution_count": null,
   "metadata": {},
   "outputs": [],
   "source": [
    "run_this_cell = False\n",
    "\n",
    "if run_this_cell:\n",
    "    \n",
    "    crops_unique = crops['Item'].unique()\n",
    "    countries_unique = crops['Area'].unique()\n",
    "\n",
    "    countries_list = []\n",
    "    crops_list = []\n",
    "    corrs = []\n",
    "\n",
    "    for country in countries_unique:\n",
    "        for crop in crops_unique:\n",
    "\n",
    "            corr = joined.loc[(joined['Area'] == country) & (joined['Item'] == crop), \n",
    "                              ['Tonnes', 'Beehives']].corr().iloc[0, 1]\n",
    "\n",
    "            countries_list.append(country)\n",
    "            crops_list.append(crop)\n",
    "            corrs.append(corr)\n",
    "\n",
    "    correlations = pd.DataFrame({'country': countries_list, 'crop': crops_list, 'correlation': corrs})\n",
    "    correlations.to_pickle('crops_correlations')"
   ]
  },
  {
   "cell_type": "code",
   "execution_count": null,
   "metadata": {},
   "outputs": [],
   "source": [
    "correlations = pd.read_pickle('crops_correlations')"
   ]
  },
  {
   "cell_type": "markdown",
   "metadata": {},
   "source": [
    "We read that one of the crops for which the bees are very important are almonds, that's why we will look into correlations between almonds production per area and number of beehives for all the continents and the World."
   ]
  },
  {
   "cell_type": "code",
   "execution_count": null,
   "metadata": {},
   "outputs": [],
   "source": [
    "correlations.loc[(correlations['Crop'] == 'Almonds, with shell')]"
   ]
  },
  {
   "cell_type": "code",
   "execution_count": null,
   "metadata": {},
   "outputs": [],
   "source": [
    "continents = ['Africa', 'Europe', 'Asia', 'Central America', 'South America', 'Australia']\n",
    "\n",
    "cont_corr = correlations.loc[(correlations['Crop'] == 'Almonds, with shell') \n",
    "                 & (correlations['Area'].isin(continents)), ['Area', 'Correlation']]\n",
    "\n",
    "cont_corr.plot.bar(x='Area', y='Correlation', legend=False, rot=45);\n",
    "plt.title('Pearson correlation of beehives number and almonds yield (harvested production per unit of harvested area)');"
   ]
  },
  {
   "cell_type": "markdown",
   "metadata": {},
   "source": [
    "We can see that there are some very big correlations between those. It would make sense to this for other crops as well."
   ]
  },
  {
   "cell_type": "code",
   "execution_count": null,
   "metadata": {},
   "outputs": [],
   "source": [
    "correlations.loc[(correlations['Area'] == 'World')].plot.barh(x='Crop', y='Correlation', figsize=(10, 30));"
   ]
  },
  {
   "cell_type": "markdown",
   "metadata": {},
   "source": [
    "Wow!"
   ]
  },
  {
   "cell_type": "markdown",
   "metadata": {},
   "source": [
    "# Conclusion\n",
    "\n",
    "In this notebook we provide a descriptive analysis of the beehives dataset. Other datasets have also been analyzed in order to find correlations with the beehives data. The main discovery of this phase is that, against all our expectations, the number of beehives on the planet is increasing! This is good news! However, even if the global trend is increasing, in some countries the beehives population is decreasing. \n",
    "\n",
    "In the analysis we have then tried to find what factors could have an impact on this. In particular the factors taken into consideration are: \n",
    "- bees colonies stressers(parasites, diseases): datasets for USA and Europe only (interesting for knowledge about the topic, but not enough data to correlate to the FAO beehives dataset)\n",
    "- pesticides: dataset not rich enough to find real correlations\n",
    "- forests land: interesting correlation\n",
    "- inland waters: interesting correlation\n",
    "- agricultural land: interesting correlation\n",
    "- honey price: dataset not rich enough\n",
    "- government investments: not enough data(2015-2019 and just for USA)\n",
    "\n",
    "Our priority for the next step will be to focus on which of the so far collected information will actually be useful and necessary to build a data story. We will continue our research in this direction, following those factors that at the moment seem to be the more related to beehives population. \n",
    "In this regard, we need to improve some of the metrics used in the analysis, such as the ratio of beehives (now divided by total land country surface) and the measure of increasing/decreasing of beehives population over the years.\n",
    "\n",
    "Another step will be to use the most promising factors to find a model that is able to predict the number of beehives. We don't really know if this is feasible or not, but it would be nice to be able to determine the beehives population given some other external factors.\n",
    "\n",
    "Finally, for the last step we are going to summarize all the collected knowledge into a well structured data story, and after that present data in visually appealing plots and maps into a website."
   ]
  },
  {
   "cell_type": "markdown",
   "metadata": {},
   "source": [
    "# A list of internal milestones up until project milestone 3\n",
    "### 25. November (1st week)\n",
    "- Making the maps interactive\n",
    "- Building the website skeletton\n",
    "\n",
    "### 2. December (2nd week)\n",
    "- Selecting relevant parts for the datastory\n",
    "- Work on feedback\n",
    "- Create the story \n",
    "\n",
    "### 9. December (3rd week)\n",
    "- Continue on the story \n",
    "- Putting the story on the webpage\n",
    "- Clean the notebook so only relevant parts appear\n",
    "\n",
    "### 16. December (4th week)\n",
    "- Resolve issues on the page\n",
    "- Beautify the page \n",
    "- Clean code \n",
    "\n",
    "### 20. December (Deadline)\n"
   ]
  },
  {
   "cell_type": "code",
   "execution_count": null,
   "metadata": {},
   "outputs": [],
   "source": []
  }
 ],
 "metadata": {
  "kernelspec": {
   "display_name": "Python 3",
   "language": "python",
   "name": "python3"
  },
  "language_info": {
   "codemirror_mode": {
    "name": "ipython",
    "version": 3
   },
   "file_extension": ".py",
   "mimetype": "text/x-python",
   "name": "python",
   "nbconvert_exporter": "python",
   "pygments_lexer": "ipython3",
   "version": "3.7.3"
  }
 },
 "nbformat": 4,
 "nbformat_minor": 4
}
