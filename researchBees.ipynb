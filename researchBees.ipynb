{
 "cells": [
  {
   "cell_type": "code",
   "execution_count": 202,
   "metadata": {},
   "outputs": [],
   "source": [
    "#%matplotlib inline\n",
    "import pandas as pd\n",
    "import numpy as np\n",
    "import matplotlib.pyplot as plt\n",
    "#For interactive plots\n",
    "import ipywidgets as widgets\n",
    "from ipywidgets import interact, interact_manual"
   ]
  },
  {
   "cell_type": "code",
   "execution_count": 2,
   "metadata": {},
   "outputs": [],
   "source": [
    "#load the data\n",
    "livestock = pd.read_csv('data/Production_Livestock_E_All_Data_(Normalized).csv',  encoding='iso-8859-1')\n",
    "\n"
   ]
  },
  {
   "cell_type": "code",
   "execution_count": 3,
   "metadata": {},
   "outputs": [
    {
     "data": {
      "text/plain": [
       "array(['Asses', 'Camels', 'Cattle', 'Chickens', 'Goats', 'Horses',\n",
       "       'Mules', 'Sheep', 'Cattle and Buffaloes', 'Poultry Birds',\n",
       "       'Sheep and Goats', 'Beehives', 'Buffaloes', 'Ducks',\n",
       "       'Geese and guinea fowls', 'Pigs', 'Turkeys', 'Rabbits and hares',\n",
       "       'Camelids, other', 'Rodents, other', 'Animals live nes',\n",
       "       'Pigeons, other birds'], dtype=object)"
      ]
     },
     "execution_count": 3,
     "metadata": {},
     "output_type": "execute_result"
    }
   ],
   "source": [
    "livestock.Item.unique()"
   ]
  },
  {
   "cell_type": "markdown",
   "metadata": {},
   "source": [
    "## Now let us first extract all the beehives Element"
   ]
  },
  {
   "cell_type": "code",
   "execution_count": 4,
   "metadata": {},
   "outputs": [
    {
     "data": {
      "text/html": [
       "<div>\n",
       "<style scoped>\n",
       "    .dataframe tbody tr th:only-of-type {\n",
       "        vertical-align: middle;\n",
       "    }\n",
       "\n",
       "    .dataframe tbody tr th {\n",
       "        vertical-align: top;\n",
       "    }\n",
       "\n",
       "    .dataframe thead th {\n",
       "        text-align: right;\n",
       "    }\n",
       "</style>\n",
       "<table border=\"1\" class=\"dataframe\">\n",
       "  <thead>\n",
       "    <tr style=\"text-align: right;\">\n",
       "      <th></th>\n",
       "      <th>Area Code</th>\n",
       "      <th>Area</th>\n",
       "      <th>Item Code</th>\n",
       "      <th>Item</th>\n",
       "      <th>Element Code</th>\n",
       "      <th>Element</th>\n",
       "      <th>Year Code</th>\n",
       "      <th>Year</th>\n",
       "      <th>Unit</th>\n",
       "      <th>Value</th>\n",
       "      <th>Flag</th>\n",
       "    </tr>\n",
       "  </thead>\n",
       "  <tbody>\n",
       "    <tr>\n",
       "      <th>684</th>\n",
       "      <td>3</td>\n",
       "      <td>Albania</td>\n",
       "      <td>1181</td>\n",
       "      <td>Beehives</td>\n",
       "      <td>5114</td>\n",
       "      <td>Stocks</td>\n",
       "      <td>1961</td>\n",
       "      <td>1961</td>\n",
       "      <td>No</td>\n",
       "      <td>95100.0</td>\n",
       "      <td>NaN</td>\n",
       "    </tr>\n",
       "    <tr>\n",
       "      <th>685</th>\n",
       "      <td>3</td>\n",
       "      <td>Albania</td>\n",
       "      <td>1181</td>\n",
       "      <td>Beehives</td>\n",
       "      <td>5114</td>\n",
       "      <td>Stocks</td>\n",
       "      <td>1962</td>\n",
       "      <td>1962</td>\n",
       "      <td>No</td>\n",
       "      <td>92800.0</td>\n",
       "      <td>NaN</td>\n",
       "    </tr>\n",
       "    <tr>\n",
       "      <th>686</th>\n",
       "      <td>3</td>\n",
       "      <td>Albania</td>\n",
       "      <td>1181</td>\n",
       "      <td>Beehives</td>\n",
       "      <td>5114</td>\n",
       "      <td>Stocks</td>\n",
       "      <td>1963</td>\n",
       "      <td>1963</td>\n",
       "      <td>No</td>\n",
       "      <td>83500.0</td>\n",
       "      <td>NaN</td>\n",
       "    </tr>\n",
       "    <tr>\n",
       "      <th>687</th>\n",
       "      <td>3</td>\n",
       "      <td>Albania</td>\n",
       "      <td>1181</td>\n",
       "      <td>Beehives</td>\n",
       "      <td>5114</td>\n",
       "      <td>Stocks</td>\n",
       "      <td>1964</td>\n",
       "      <td>1964</td>\n",
       "      <td>No</td>\n",
       "      <td>96500.0</td>\n",
       "      <td>NaN</td>\n",
       "    </tr>\n",
       "    <tr>\n",
       "      <th>688</th>\n",
       "      <td>3</td>\n",
       "      <td>Albania</td>\n",
       "      <td>1181</td>\n",
       "      <td>Beehives</td>\n",
       "      <td>5114</td>\n",
       "      <td>Stocks</td>\n",
       "      <td>1965</td>\n",
       "      <td>1965</td>\n",
       "      <td>No</td>\n",
       "      <td>109800.0</td>\n",
       "      <td>NaN</td>\n",
       "    </tr>\n",
       "  </tbody>\n",
       "</table>\n",
       "</div>"
      ],
      "text/plain": [
       "     Area Code     Area  Item Code      Item  Element Code Element  Year Code  \\\n",
       "684          3  Albania       1181  Beehives          5114  Stocks       1961   \n",
       "685          3  Albania       1181  Beehives          5114  Stocks       1962   \n",
       "686          3  Albania       1181  Beehives          5114  Stocks       1963   \n",
       "687          3  Albania       1181  Beehives          5114  Stocks       1964   \n",
       "688          3  Albania       1181  Beehives          5114  Stocks       1965   \n",
       "\n",
       "     Year Unit     Value Flag  \n",
       "684  1961   No   95100.0  NaN  \n",
       "685  1962   No   92800.0  NaN  \n",
       "686  1963   No   83500.0  NaN  \n",
       "687  1964   No   96500.0  NaN  \n",
       "688  1965   No  109800.0  NaN  "
      ]
     },
     "execution_count": 4,
     "metadata": {},
     "output_type": "execute_result"
    }
   ],
   "source": [
    "beehives = livestock.loc[livestock['Item'] == 'Beehives']\n",
    "beehives.head()"
   ]
  },
  {
   "cell_type": "code",
   "execution_count": 5,
   "metadata": {
    "scrolled": true
   },
   "outputs": [
    {
     "data": {
      "text/plain": [
       "array(['Albania', 'Algeria', 'Angola', 'Argentina', 'Armenia',\n",
       "       'Australia', 'Austria', 'Azerbaijan', 'Belarus', 'Belgium',\n",
       "       'Belgium-Luxembourg', 'Belize', 'Bolivia (Plurinational State of)',\n",
       "       'Bosnia and Herzegovina', 'Brazil', 'Bulgaria', 'Burundi',\n",
       "       'Cameroon', 'Canada', 'Central African Republic', 'Chad', 'Chile',\n",
       "       'China', 'China, mainland', 'China, Taiwan Province of',\n",
       "       'Colombia', 'Cook Islands', 'Costa Rica', 'Croatia', 'Cuba',\n",
       "       'Cyprus', 'Czechia', 'Czechoslovakia', 'Dominican Republic',\n",
       "       'Ecuador', 'Egypt', 'El Salvador', 'Estonia', 'Ethiopia',\n",
       "       'Ethiopia PDR', 'Fiji', 'Finland', 'France', 'French Polynesia',\n",
       "       'Georgia', 'Germany', 'Greece', 'Greenland', 'Guadeloupe', 'Guam',\n",
       "       'Guatemala', 'Guinea', 'Guinea-Bissau', 'Guyana', 'Haiti',\n",
       "       'Honduras', 'Hungary', 'India', 'Iran (Islamic Republic of)',\n",
       "       'Israel', 'Italy', 'Jamaica', 'Japan', 'Jordan', 'Kenya',\n",
       "       'Kyrgyzstan', 'Latvia', 'Lebanon', 'Libya', 'Liechtenstein',\n",
       "       'Lithuania', 'Luxembourg', 'Madagascar', 'Mali', 'Martinique',\n",
       "       'Mexico', 'Mongolia', 'Montenegro', 'Morocco', 'Mozambique',\n",
       "       'Myanmar', 'Netherlands', 'New Caledonia', 'New Zealand',\n",
       "       'Nigeria', 'Niue', 'Occupied Palestinian Territory', 'Oman',\n",
       "       'Pakistan', 'Paraguay', 'Poland', 'Portugal', 'Puerto Rico',\n",
       "       'Republic of Korea', 'Republic of Moldova', 'Romania',\n",
       "       'Russian Federation', 'Rwanda', 'Samoa', 'Senegal', 'Serbia',\n",
       "       'Serbia and Montenegro', 'Slovakia', 'Slovenia', 'South Africa',\n",
       "       'Spain', 'Sudan', 'Sudan (former)', 'Sweden', 'Switzerland',\n",
       "       'Syrian Arab Republic', 'Tajikistan',\n",
       "       'The former Yugoslav Republic of Macedonia', 'Timor-Leste',\n",
       "       'Tonga', 'Trinidad and Tobago', 'Tunisia', 'Turkey', 'Tuvalu',\n",
       "       'Uganda', 'Ukraine', 'United Kingdom',\n",
       "       'United Republic of Tanzania', 'United States of America',\n",
       "       'Uruguay', 'USSR', 'Uzbekistan',\n",
       "       'Venezuela (Bolivarian Republic of)', 'Viet Nam',\n",
       "       'Wallis and Futuna Islands', 'Yemen', 'Yugoslav SFR', 'Zambia',\n",
       "       'World', 'Africa', 'Eastern Africa', 'Middle Africa',\n",
       "       'Northern Africa', 'Southern Africa', 'Western Africa', 'Americas',\n",
       "       'Northern America', 'Central America', 'Caribbean',\n",
       "       'South America', 'Asia', 'Central Asia', 'Eastern Asia',\n",
       "       'Southern Asia', 'South-Eastern Asia', 'Western Asia', 'Europe',\n",
       "       'Eastern Europe', 'Northern Europe', 'Southern Europe',\n",
       "       'Western Europe', 'Oceania', 'Australia & New Zealand',\n",
       "       'Melanesia', 'Micronesia', 'Polynesia', 'European Union',\n",
       "       'Least Developed Countries', 'Land Locked Developing Countries',\n",
       "       'Small Island Developing States',\n",
       "       'Low Income Food Deficit Countries',\n",
       "       'Net Food Importing Developing Countries'], dtype=object)"
      ]
     },
     "execution_count": 5,
     "metadata": {},
     "output_type": "execute_result"
    }
   ],
   "source": [
    "beehives.Area.unique()"
   ]
  },
  {
   "cell_type": "markdown",
   "metadata": {},
   "source": [
    "This looks like a lot of countries.\n",
    "We can further split the countries and see that they actually have countries, continents, regions, consolidations and areas based on indexes. \n",
    "We further explore that some of the countries do not exist anymore. Like USSR or Yugoslav SFR. We will handle these **later**."
   ]
  },
  {
   "cell_type": "code",
   "execution_count": 6,
   "metadata": {},
   "outputs": [],
   "source": [
    "countries = ['Albania', 'Algeria', 'Angola', 'Argentina', 'Armenia','Australia', 'Austria', 'Azerbaijan', 'Belarus', 'Belgium','Belgium-Luxembourg', 'Belize', 'Bolivia (Plurinational State of)','Bosnia and Herzegovina', 'Brazil', 'Bulgaria', 'Burundi','Cameroon', 'Canada', 'Central African Republic', 'Chad', 'Chile','China', 'Colombia', 'Cook Islands', 'Costa Rica', 'Croatia', 'Cuba','Cyprus', 'Czechia', 'Czechoslovakia', 'Dominican Republic','Ecuador', 'Egypt', 'El Salvador', 'Estonia', 'Ethiopia','Ethiopia PDR', 'Fiji', 'Finland', 'France', 'French Polynesia','Georgia', 'Germany', 'Greece', 'Greenland', 'Guadeloupe', 'Guam','Guatemala', 'Guinea', 'Guinea-Bissau', 'Guyana', 'Haiti','Honduras', 'Hungary', 'India', 'Iran (Islamic Republic of)','Israel', 'Italy', 'Jamaica', 'Japan', 'Jordan', 'Kenya','Kyrgyzstan', 'Latvia', 'Lebanon', 'Libya', 'Liechtenstein','Lithuania', 'Luxembourg', 'Madagascar', 'Mali', 'Martinique','Mexico', 'Mongolia', 'Montenegro', 'Morocco', 'Mozambique','Myanmar', 'Netherlands', 'New Caledonia', 'New Zealand','Nigeria', 'Niue', 'Occupied Palestinian Territory', 'Oman','Pakistan', 'Paraguay', 'Poland', 'Portugal', 'Puerto Rico','Republic of Korea', 'Republic of Moldova', 'Romania','Russian Federation', 'Rwanda', 'Samoa', 'Senegal', 'Serbia','Serbia and Montenegro', 'Slovakia', 'Slovenia', 'South Africa','Spain', 'Sudan', 'Sudan (former)', 'Sweden', 'Switzerland','Syrian Arab Republic', 'Tajikistan','The former Yugoslav Republic of Macedonia', 'Timor-Leste','Tonga', 'Trinidad and Tobago', 'Tunisia', 'Turkey', 'Tuvalu','Uganda', 'Ukraine', 'United Kingdom','United Republic of Tanzania', 'United States of America','Uruguay', 'USSR', 'Uzbekistan','Venezuela (Bolivarian Republic of)', 'Viet Nam','Wallis and Futuna Islands', 'Yemen', 'Yugoslav SFR', 'Zambia']\n",
    "world = ['World']\n",
    "continents = ['Africa','Americas', 'Asia',  'Europe', 'Oceania']\n",
    "regions = ['Eastern Africa', 'Middle Africa', 'Northern Africa', 'Southern Africa', 'Western Africa', 'Northern America', 'South America', 'Central America', 'Caribbean','Central Asia', 'Eastern Asia', 'Southern Asia', 'South-Eastern Asia', 'Western Asia', 'Eastern Europe', 'Northern Europe', 'Southern Europe', 'Western Europe', 'Melanesia', 'Micronesia', 'Polynesia', 'Australia & New Zealand']\n",
    "consolidations = ['European Union', 'China, mainland', 'China, Taiwan Province of',]\n",
    "index_based = ['Least Developed Countries', 'Land Locked Developing Countries','Small Island Developing States','Low Income Food Deficit Countries', 'Net Food Importing Developing Countries']"
   ]
  },
  {
   "cell_type": "markdown",
   "metadata": {},
   "source": [
    "It is important to split the data into these regions since they overlap and we would get the results were wrong"
   ]
  },
  {
   "cell_type": "code",
   "execution_count": 7,
   "metadata": {},
   "outputs": [],
   "source": [
    "beehives_countries = beehives[beehives['Area'].isin(countries)]\n",
    "beehives_world = beehives.loc[beehives['Area'] == 'World']\n",
    "beehives_continents = beehives[beehives['Area'].isin(continents)]\n",
    "beehives_regions = beehives[beehives['Area'].isin(regions)]\n",
    "beehives_consolidations = beehives.loc[beehives['Area'] == 'European Union']\n",
    "beehives_index_based = beehives[beehives['Area'].isin(index_based)]\n"
   ]
  },
  {
   "cell_type": "markdown",
   "metadata": {},
   "source": [
    "### We can see that the dataset gives us a lot of different categories.  We will as well do a beehives world plot and have a look at the continents."
   ]
  },
  {
   "cell_type": "markdown",
   "metadata": {},
   "source": [
    "So let us now start with looking at the world distribution of the world set and check out if bees in general are growing or declining."
   ]
  },
  {
   "cell_type": "code",
   "execution_count": 8,
   "metadata": {},
   "outputs": [
    {
     "data": {
      "text/plain": [
       "(1960, 2020)"
      ]
     },
     "execution_count": 8,
     "metadata": {},
     "output_type": "execute_result"
    },
    {
     "data": {
      "image/png": "[encoded data removed]",
      "text/plain": [
       "<Figure size 432x288 with 1 Axes>"
      ]
     },
     "metadata": {
      "needs_background": "light"
     },
     "output_type": "display_data"
    }
   ],
   "source": [
    "plt.plot(beehives_world['Year'], beehives_world['Value'])\n",
    "plt.title('No of Beehives in the world per year')\n",
    "plt.xlabel('Years')\n",
    "plt.ylabel('No of Beehives')\n",
    "plt.xlim(1960, 2020)"
   ]
  },
  {
   "cell_type": "markdown",
   "metadata": {},
   "source": [
    "We can also see that our dataset ranges from 1961 to 2017."
   ]
  },
  {
   "cell_type": "markdown",
   "metadata": {},
   "source": [
    "Bees are increasing around the world. What about the continents? "
   ]
  },
  {
   "cell_type": "code",
   "execution_count": 62,
   "metadata": {},
   "outputs": [
    {
     "data": {
      "application/vnd.jupyter.widget-view+json": {
       "model_id": "a8e141ec4c3643b094b3b7ad91bbea1f",
       "version_major": 2,
       "version_minor": 0
      },
      "text/plain": [
       "interactive(children=(Dropdown(description='continent', options=('Africa', 'Americas', 'Asia', 'Europe', 'Ocea…"
      ]
     },
     "metadata": {},
     "output_type": "display_data"
    }
   ],
   "source": [
    "@interact\n",
    "def show_beehives_for_country(continent=continents):\n",
    "    beehives_continent=beehives_continents.loc[beehives_continents['Area']==continent]\n",
    "    \n",
    "    plt.plot(beehives_continent['Year'],beehives_continent['Value'],'-*')\n",
    "    plt.title('Country: '+continent)\n",
    "    plt.xlabel('Years')\n",
    "    plt.ylabel('Number')\n",
    "    plt.xlim(1960, 2020)"
   ]
  },
  {
   "cell_type": "code",
   "execution_count": 218,
   "metadata": {},
   "outputs": [
    {
     "data": {
      "image/png": "[encoded data removed]",
      "text/plain": [
       "<Figure size 1440x720 with 1 Axes>"
      ]
     },
     "metadata": {
      "needs_background": "light"
     },
     "output_type": "display_data"
    }
   ],
   "source": [
    "N = len(beehives_continents[beehives_continents['Area'] == 'Africa']['Value'])\n",
    "africa = np.array(beehives_continents[beehives_continents['Area'] == 'Africa']['Value'])\n",
    "europe = np.array(beehives_continents[beehives_continents['Area'] == 'Europe']['Value'])\n",
    "america = np.array(beehives_continents[beehives_continents['Area'] == 'Americas']['Value'])\n",
    "oceania = np.array(beehives_continents[beehives_continents['Area'] == 'Oceania']['Value'])\n",
    "asia = np.array(beehives_continents[beehives_continents['Area'] == 'Asia']['Value'])\n",
    "\n",
    "ind = np.arange(N)    # the x locations for the groups\n",
    "width = 0.35       # the width of the bars: can also be len(x) sequence\n",
    "\n",
    "plt.figure(figsize=(20,10))\n",
    "\n",
    "p1 = plt.bar(ind, africa, width)\n",
    "p2 = plt.bar(ind, europe, width, bottom=africa)\n",
    "p3 = plt.bar(ind, america, width, bottom=europe+africa)\n",
    "p4 = plt.bar(ind, oceania, width, bottom=america+europe+africa)\n",
    "p5 = plt.bar(ind, asia, width, bottom=oceania+america+europe+africa)\n",
    "plt.ylabel('Number of Beehives')\n",
    "plt.xlabel('Year')\n",
    "plt.title('Distribution of Beehives in Europe')\n",
    "plt.xticks(ind, (range(1961, 2018)), rotation=45)\n",
    "plt.legend((p1[0], p2[0], p3[0], p4[0], p5[0]), ('Africa', 'Europe', 'America', 'Ozeania', 'Asia'))\n",
    "\n",
    "plt.show()"
   ]
  },
  {
   "cell_type": "code",
   "execution_count": 73,
   "metadata": {},
   "outputs": [
    {
     "data": {
      "text/html": [
       "<div>\n",
       "<style scoped>\n",
       "    .dataframe tbody tr th:only-of-type {\n",
       "        vertical-align: middle;\n",
       "    }\n",
       "\n",
       "    .dataframe tbody tr th {\n",
       "        vertical-align: top;\n",
       "    }\n",
       "\n",
       "    .dataframe thead th {\n",
       "        text-align: right;\n",
       "    }\n",
       "</style>\n",
       "<table border=\"1\" class=\"dataframe\">\n",
       "  <thead>\n",
       "    <tr style=\"text-align: right;\">\n",
       "      <th></th>\n",
       "      <th>Area Code</th>\n",
       "      <th>Area</th>\n",
       "      <th>Item Code</th>\n",
       "      <th>Item</th>\n",
       "      <th>Element Code</th>\n",
       "      <th>Element</th>\n",
       "      <th>Year Code</th>\n",
       "      <th>Year</th>\n",
       "      <th>Unit</th>\n",
       "      <th>Value</th>\n",
       "      <th>Flag</th>\n",
       "    </tr>\n",
       "  </thead>\n",
       "  <tbody>\n",
       "    <tr>\n",
       "      <th>144499</th>\n",
       "      <td>5200</td>\n",
       "      <td>Americas</td>\n",
       "      <td>1181</td>\n",
       "      <td>Beehives</td>\n",
       "      <td>5114</td>\n",
       "      <td>Stocks</td>\n",
       "      <td>1985</td>\n",
       "      <td>1985</td>\n",
       "      <td>No</td>\n",
       "      <td>11191497.0</td>\n",
       "      <td>A</td>\n",
       "    </tr>\n",
       "    <tr>\n",
       "      <th>144500</th>\n",
       "      <td>5200</td>\n",
       "      <td>Americas</td>\n",
       "      <td>1181</td>\n",
       "      <td>Beehives</td>\n",
       "      <td>5114</td>\n",
       "      <td>Stocks</td>\n",
       "      <td>1986</td>\n",
       "      <td>1986</td>\n",
       "      <td>No</td>\n",
       "      <td>10136840.0</td>\n",
       "      <td>A</td>\n",
       "    </tr>\n",
       "    <tr>\n",
       "      <th>144501</th>\n",
       "      <td>5200</td>\n",
       "      <td>Americas</td>\n",
       "      <td>1181</td>\n",
       "      <td>Beehives</td>\n",
       "      <td>5114</td>\n",
       "      <td>Stocks</td>\n",
       "      <td>1987</td>\n",
       "      <td>1987</td>\n",
       "      <td>No</td>\n",
       "      <td>9889730.0</td>\n",
       "      <td>A</td>\n",
       "    </tr>\n",
       "    <tr>\n",
       "      <th>144502</th>\n",
       "      <td>5200</td>\n",
       "      <td>Americas</td>\n",
       "      <td>1181</td>\n",
       "      <td>Beehives</td>\n",
       "      <td>5114</td>\n",
       "      <td>Stocks</td>\n",
       "      <td>1988</td>\n",
       "      <td>1988</td>\n",
       "      <td>No</td>\n",
       "      <td>10007266.0</td>\n",
       "      <td>A</td>\n",
       "    </tr>\n",
       "    <tr>\n",
       "      <th>144503</th>\n",
       "      <td>5200</td>\n",
       "      <td>Americas</td>\n",
       "      <td>1181</td>\n",
       "      <td>Beehives</td>\n",
       "      <td>5114</td>\n",
       "      <td>Stocks</td>\n",
       "      <td>1989</td>\n",
       "      <td>1989</td>\n",
       "      <td>No</td>\n",
       "      <td>10166748.0</td>\n",
       "      <td>A</td>\n",
       "    </tr>\n",
       "    <tr>\n",
       "      <th>144504</th>\n",
       "      <td>5200</td>\n",
       "      <td>Americas</td>\n",
       "      <td>1181</td>\n",
       "      <td>Beehives</td>\n",
       "      <td>5114</td>\n",
       "      <td>Stocks</td>\n",
       "      <td>1990</td>\n",
       "      <td>1990</td>\n",
       "      <td>No</td>\n",
       "      <td>9713442.0</td>\n",
       "      <td>A</td>\n",
       "    </tr>\n",
       "    <tr>\n",
       "      <th>144505</th>\n",
       "      <td>5200</td>\n",
       "      <td>Americas</td>\n",
       "      <td>1181</td>\n",
       "      <td>Beehives</td>\n",
       "      <td>5114</td>\n",
       "      <td>Stocks</td>\n",
       "      <td>1991</td>\n",
       "      <td>1991</td>\n",
       "      <td>No</td>\n",
       "      <td>9916445.0</td>\n",
       "      <td>A</td>\n",
       "    </tr>\n",
       "    <tr>\n",
       "      <th>144506</th>\n",
       "      <td>5200</td>\n",
       "      <td>Americas</td>\n",
       "      <td>1181</td>\n",
       "      <td>Beehives</td>\n",
       "      <td>5114</td>\n",
       "      <td>Stocks</td>\n",
       "      <td>1992</td>\n",
       "      <td>1992</td>\n",
       "      <td>No</td>\n",
       "      <td>9856679.0</td>\n",
       "      <td>A</td>\n",
       "    </tr>\n",
       "    <tr>\n",
       "      <th>144507</th>\n",
       "      <td>5200</td>\n",
       "      <td>Americas</td>\n",
       "      <td>1181</td>\n",
       "      <td>Beehives</td>\n",
       "      <td>5114</td>\n",
       "      <td>Stocks</td>\n",
       "      <td>1993</td>\n",
       "      <td>1993</td>\n",
       "      <td>No</td>\n",
       "      <td>9799190.0</td>\n",
       "      <td>A</td>\n",
       "    </tr>\n",
       "    <tr>\n",
       "      <th>144508</th>\n",
       "      <td>5200</td>\n",
       "      <td>Americas</td>\n",
       "      <td>1181</td>\n",
       "      <td>Beehives</td>\n",
       "      <td>5114</td>\n",
       "      <td>Stocks</td>\n",
       "      <td>1994</td>\n",
       "      <td>1994</td>\n",
       "      <td>No</td>\n",
       "      <td>9705044.0</td>\n",
       "      <td>A</td>\n",
       "    </tr>\n",
       "    <tr>\n",
       "      <th>144509</th>\n",
       "      <td>5200</td>\n",
       "      <td>Americas</td>\n",
       "      <td>1181</td>\n",
       "      <td>Beehives</td>\n",
       "      <td>5114</td>\n",
       "      <td>Stocks</td>\n",
       "      <td>1995</td>\n",
       "      <td>1995</td>\n",
       "      <td>No</td>\n",
       "      <td>9545575.0</td>\n",
       "      <td>A</td>\n",
       "    </tr>\n",
       "    <tr>\n",
       "      <th>144510</th>\n",
       "      <td>5200</td>\n",
       "      <td>Americas</td>\n",
       "      <td>1181</td>\n",
       "      <td>Beehives</td>\n",
       "      <td>5114</td>\n",
       "      <td>Stocks</td>\n",
       "      <td>1996</td>\n",
       "      <td>1996</td>\n",
       "      <td>No</td>\n",
       "      <td>9192806.0</td>\n",
       "      <td>A</td>\n",
       "    </tr>\n",
       "    <tr>\n",
       "      <th>144511</th>\n",
       "      <td>5200</td>\n",
       "      <td>Americas</td>\n",
       "      <td>1181</td>\n",
       "      <td>Beehives</td>\n",
       "      <td>5114</td>\n",
       "      <td>Stocks</td>\n",
       "      <td>1997</td>\n",
       "      <td>1997</td>\n",
       "      <td>No</td>\n",
       "      <td>9078162.0</td>\n",
       "      <td>A</td>\n",
       "    </tr>\n",
       "    <tr>\n",
       "      <th>144512</th>\n",
       "      <td>5200</td>\n",
       "      <td>Americas</td>\n",
       "      <td>1181</td>\n",
       "      <td>Beehives</td>\n",
       "      <td>5114</td>\n",
       "      <td>Stocks</td>\n",
       "      <td>1998</td>\n",
       "      <td>1998</td>\n",
       "      <td>No</td>\n",
       "      <td>9525451.0</td>\n",
       "      <td>A</td>\n",
       "    </tr>\n",
       "  </tbody>\n",
       "</table>\n",
       "</div>"
      ],
      "text/plain": [
       "        Area Code      Area  Item Code      Item  Element Code Element  \\\n",
       "144499       5200  Americas       1181  Beehives          5114  Stocks   \n",
       "144500       5200  Americas       1181  Beehives          5114  Stocks   \n",
       "144501       5200  Americas       1181  Beehives          5114  Stocks   \n",
       "144502       5200  Americas       1181  Beehives          5114  Stocks   \n",
       "144503       5200  Americas       1181  Beehives          5114  Stocks   \n",
       "144504       5200  Americas       1181  Beehives          5114  Stocks   \n",
       "144505       5200  Americas       1181  Beehives          5114  Stocks   \n",
       "144506       5200  Americas       1181  Beehives          5114  Stocks   \n",
       "144507       5200  Americas       1181  Beehives          5114  Stocks   \n",
       "144508       5200  Americas       1181  Beehives          5114  Stocks   \n",
       "144509       5200  Americas       1181  Beehives          5114  Stocks   \n",
       "144510       5200  Americas       1181  Beehives          5114  Stocks   \n",
       "144511       5200  Americas       1181  Beehives          5114  Stocks   \n",
       "144512       5200  Americas       1181  Beehives          5114  Stocks   \n",
       "\n",
       "        Year Code  Year Unit       Value Flag  \n",
       "144499       1985  1985   No  11191497.0    A  \n",
       "144500       1986  1986   No  10136840.0    A  \n",
       "144501       1987  1987   No   9889730.0    A  \n",
       "144502       1988  1988   No  10007266.0    A  \n",
       "144503       1989  1989   No  10166748.0    A  \n",
       "144504       1990  1990   No   9713442.0    A  \n",
       "144505       1991  1991   No   9916445.0    A  \n",
       "144506       1992  1992   No   9856679.0    A  \n",
       "144507       1993  1993   No   9799190.0    A  \n",
       "144508       1994  1994   No   9705044.0    A  \n",
       "144509       1995  1995   No   9545575.0    A  \n",
       "144510       1996  1996   No   9192806.0    A  \n",
       "144511       1997  1997   No   9078162.0    A  \n",
       "144512       1998  1998   No   9525451.0    A  "
      ]
     },
     "execution_count": 73,
     "metadata": {},
     "output_type": "execute_result"
    }
   ],
   "source": [
    "beehives_continents.loc[(beehives_continents['Area'] == 'Americas') & ~(beehives_continents['Year'] < 1985) & ~(beehives_continents['Year'] > 1998)]"
   ]
  },
  {
   "cell_type": "markdown",
   "metadata": {},
   "source": [
    "We can see that Americas (including Northern America, South America, Central America, Caribbean) has a huge drop from 1985 to 1997 and is then recovering very quickly."
   ]
  },
  {
   "cell_type": "markdown",
   "metadata": {},
   "source": []
  },
  {
   "cell_type": "markdown",
   "metadata": {},
   "source": [
    "## Let us now also take a quick look on the 10 countries with the biggest beehives population in 2017"
   ]
  },
  {
   "cell_type": "code",
   "execution_count": 74,
   "metadata": {},
   "outputs": [
    {
     "data": {
      "text/html": [
       "<div>\n",
       "<style scoped>\n",
       "    .dataframe tbody tr th:only-of-type {\n",
       "        vertical-align: middle;\n",
       "    }\n",
       "\n",
       "    .dataframe tbody tr th {\n",
       "        vertical-align: top;\n",
       "    }\n",
       "\n",
       "    .dataframe thead th {\n",
       "        text-align: right;\n",
       "    }\n",
       "</style>\n",
       "<table border=\"1\" class=\"dataframe\">\n",
       "  <thead>\n",
       "    <tr style=\"text-align: right;\">\n",
       "      <th></th>\n",
       "      <th>Area</th>\n",
       "      <th>Value</th>\n",
       "    </tr>\n",
       "  </thead>\n",
       "  <tbody>\n",
       "    <tr>\n",
       "      <th>59382</th>\n",
       "      <td>India</td>\n",
       "      <td>12763684.0</td>\n",
       "    </tr>\n",
       "    <tr>\n",
       "      <th>24658</th>\n",
       "      <td>China</td>\n",
       "      <td>9156882.0</td>\n",
       "    </tr>\n",
       "    <tr>\n",
       "      <th>124390</th>\n",
       "      <td>Turkey</td>\n",
       "      <td>7796666.0</td>\n",
       "    </tr>\n",
       "    <tr>\n",
       "      <th>60864</th>\n",
       "      <td>Iran (Islamic Republic of)</td>\n",
       "      <td>7271825.0</td>\n",
       "    </tr>\n",
       "    <tr>\n",
       "      <th>42356</th>\n",
       "      <td>Ethiopia</td>\n",
       "      <td>6139990.0</td>\n",
       "    </tr>\n",
       "    <tr>\n",
       "      <th>103336</th>\n",
       "      <td>Russian Federation</td>\n",
       "      <td>3349976.0</td>\n",
       "    </tr>\n",
       "    <tr>\n",
       "      <th>4103</th>\n",
       "      <td>Argentina</td>\n",
       "      <td>3003036.0</td>\n",
       "    </tr>\n",
       "    <tr>\n",
       "      <th>128271</th>\n",
       "      <td>United Republic of Tanzania</td>\n",
       "      <td>2998785.0</td>\n",
       "    </tr>\n",
       "    <tr>\n",
       "      <th>114105</th>\n",
       "      <td>Spain</td>\n",
       "      <td>2904971.0</td>\n",
       "    </tr>\n",
       "    <tr>\n",
       "      <th>128898</th>\n",
       "      <td>United States of America</td>\n",
       "      <td>2669000.0</td>\n",
       "    </tr>\n",
       "  </tbody>\n",
       "</table>\n",
       "</div>"
      ],
      "text/plain": [
       "                               Area       Value\n",
       "59382                         India  12763684.0\n",
       "24658                         China   9156882.0\n",
       "124390                       Turkey   7796666.0\n",
       "60864    Iran (Islamic Republic of)   7271825.0\n",
       "42356                      Ethiopia   6139990.0\n",
       "103336           Russian Federation   3349976.0\n",
       "4103                      Argentina   3003036.0\n",
       "128271  United Republic of Tanzania   2998785.0\n",
       "114105                        Spain   2904971.0\n",
       "128898     United States of America   2669000.0"
      ]
     },
     "execution_count": 74,
     "metadata": {},
     "output_type": "execute_result"
    }
   ],
   "source": [
    "beehives_countries[beehives_countries['Year'] == 2017].sort_values('Value', ascending=False)[['Area','Value']].head(10)"
   ]
  },
  {
   "cell_type": "markdown",
   "metadata": {},
   "source": [
    "Looking at the top ten we can see that they are spread around the world. With this we mean there are contributors in Asia, Europe, America and Africa. Only Oceania is missing. "
   ]
  },
  {
   "cell_type": "code",
   "execution_count": 10,
   "metadata": {},
   "outputs": [
    {
     "name": "stdout",
     "output_type": "stream",
     "text": [
      "Here we can observe that our top ten contributors are responsible for 0.637966892868803% of the worlds population of beehives, which is 90999730 in total\n"
     ]
    }
   ],
   "source": [
    "topTenContributors = beehives_countries[beehives_countries['Year'] == 2017].sort_values('Value', ascending=False)['Value'].head(10).sum()\n",
    "worldPopulationBeehives = int(beehives_world[beehives_world['Year'] == 2017].Value)\n",
    "ratioTopTenWorld = topTenContributors/worldPopulationBeehives\n",
    "print(\"Here we can observe that our top ten contributors are responsible for %s%% of the worlds population of beehives, which is %s in total\" % (ratioTopTenWorld, worldPopulationBeehives))"
   ]
  },
  {
   "cell_type": "markdown",
   "metadata": {},
   "source": [
    "Let us now give some contribution to the smaller countries which support the beehives population as well. Therefore we add a column that is dividing the total number of beehives in the country divided by the estimate population. "
   ]
  },
  {
   "cell_type": "code",
   "execution_count": 11,
   "metadata": {},
   "outputs": [],
   "source": [
    "import geopandas as gpd\n",
    "from matplotlib.collections import PatchCollection"
   ]
  },
  {
   "cell_type": "code",
   "execution_count": 12,
   "metadata": {},
   "outputs": [],
   "source": [
    "world = gpd.read_file(gpd.datasets.get_path('naturalearth_lowres'))"
   ]
  },
  {
   "cell_type": "markdown",
   "metadata": {},
   "source": [
    "Let us just check our format."
   ]
  },
  {
   "cell_type": "code",
   "execution_count": 13,
   "metadata": {},
   "outputs": [
    {
     "data": {
      "text/html": [
       "<div>\n",
       "<style scoped>\n",
       "    .dataframe tbody tr th:only-of-type {\n",
       "        vertical-align: middle;\n",
       "    }\n",
       "\n",
       "    .dataframe tbody tr th {\n",
       "        vertical-align: top;\n",
       "    }\n",
       "\n",
       "    .dataframe thead th {\n",
       "        text-align: right;\n",
       "    }\n",
       "</style>\n",
       "<table border=\"1\" class=\"dataframe\">\n",
       "  <thead>\n",
       "    <tr style=\"text-align: right;\">\n",
       "      <th></th>\n",
       "      <th>pop_est</th>\n",
       "      <th>continent</th>\n",
       "      <th>name</th>\n",
       "      <th>iso_a3</th>\n",
       "      <th>gdp_md_est</th>\n",
       "      <th>geometry</th>\n",
       "    </tr>\n",
       "  </thead>\n",
       "  <tbody>\n",
       "    <tr>\n",
       "      <th>0</th>\n",
       "      <td>920938</td>\n",
       "      <td>Oceania</td>\n",
       "      <td>Fiji</td>\n",
       "      <td>FJI</td>\n",
       "      <td>8374.0</td>\n",
       "      <td>MULTIPOLYGON (((180.00000 -16.06713, 180.00000...</td>\n",
       "    </tr>\n",
       "    <tr>\n",
       "      <th>1</th>\n",
       "      <td>53950935</td>\n",
       "      <td>Africa</td>\n",
       "      <td>Tanzania</td>\n",
       "      <td>TZA</td>\n",
       "      <td>150600.0</td>\n",
       "      <td>POLYGON ((33.90371 -0.95000, 34.07262 -1.05982...</td>\n",
       "    </tr>\n",
       "    <tr>\n",
       "      <th>2</th>\n",
       "      <td>603253</td>\n",
       "      <td>Africa</td>\n",
       "      <td>W. Sahara</td>\n",
       "      <td>ESH</td>\n",
       "      <td>906.5</td>\n",
       "      <td>POLYGON ((-8.66559 27.65643, -8.66512 27.58948...</td>\n",
       "    </tr>\n",
       "    <tr>\n",
       "      <th>3</th>\n",
       "      <td>35623680</td>\n",
       "      <td>North America</td>\n",
       "      <td>Canada</td>\n",
       "      <td>CAN</td>\n",
       "      <td>1674000.0</td>\n",
       "      <td>MULTIPOLYGON (((-122.84000 49.00000, -122.9742...</td>\n",
       "    </tr>\n",
       "    <tr>\n",
       "      <th>4</th>\n",
       "      <td>326625791</td>\n",
       "      <td>North America</td>\n",
       "      <td>United States of America</td>\n",
       "      <td>USA</td>\n",
       "      <td>18560000.0</td>\n",
       "      <td>MULTIPOLYGON (((-122.84000 49.00000, -120.0000...</td>\n",
       "    </tr>\n",
       "  </tbody>\n",
       "</table>\n",
       "</div>"
      ],
      "text/plain": [
       "     pop_est      continent                      name iso_a3  gdp_md_est  \\\n",
       "0     920938        Oceania                      Fiji    FJI      8374.0   \n",
       "1   53950935         Africa                  Tanzania    TZA    150600.0   \n",
       "2     603253         Africa                 W. Sahara    ESH       906.5   \n",
       "3   35623680  North America                    Canada    CAN   1674000.0   \n",
       "4  326625791  North America  United States of America    USA  18560000.0   \n",
       "\n",
       "                                            geometry  \n",
       "0  MULTIPOLYGON (((180.00000 -16.06713, 180.00000...  \n",
       "1  POLYGON ((33.90371 -0.95000, 34.07262 -1.05982...  \n",
       "2  POLYGON ((-8.66559 27.65643, -8.66512 27.58948...  \n",
       "3  MULTIPOLYGON (((-122.84000 49.00000, -122.9742...  \n",
       "4  MULTIPOLYGON (((-122.84000 49.00000, -120.0000...  "
      ]
     },
     "execution_count": 13,
     "metadata": {},
     "output_type": "execute_result"
    }
   ],
   "source": [
    "world.head()"
   ]
  },
  {
   "cell_type": "markdown",
   "metadata": {},
   "source": [
    "We saw some differently spelled data, which we corrected in order to have correct the same names of countries."
   ]
  },
  {
   "cell_type": "code",
   "execution_count": 14,
   "metadata": {},
   "outputs": [],
   "source": [
    "beehives_perPopulation = beehives_countries.copy() \n",
    "beehives_perPopulation = beehives_perPopulation.replace({'Russian Federation': 'Russia', 'Bosnia and Herzegovina': 'Bosnia and Herz.', 'Belgium-Luxembourg': 'Luxembourg', 'Bolivia (Plurinational State of)':'Bolivia', 'Central African Republic':'Central African Rep.', 'China, Taiwan Province of': 'Taiwan', 'Dominican Republic': 'Dominican Rep.', 'Ethiopia PDR': 'Ethiopia', 'Iran (Islamic Republic of)':'Iran', 'Syrian Arab Republic':'Syria', 'North Macedonia':'Macedonia', 'Venezuela (Bolivarian Republic of)': 'Venezuela', 'Viet Nam':'Vietnam', 'Czechoslovakia':'Czechia'})\n",
    "beehives_perPopulation = world.set_index('name').join(beehives_perPopulation.set_index('Area'))"
   ]
  },
  {
   "cell_type": "code",
   "execution_count": 15,
   "metadata": {},
   "outputs": [],
   "source": [
    "beehives_perPopulation['Per_Population'] = beehives_perPopulation['Value']/beehives_perPopulation['pop_est']"
   ]
  },
  {
   "cell_type": "code",
   "execution_count": 16,
   "metadata": {},
   "outputs": [],
   "source": [
    "beehives_perPopulation['Area'] = beehives_perPopulation.index"
   ]
  },
  {
   "cell_type": "code",
   "execution_count": 17,
   "metadata": {},
   "outputs": [
    {
     "data": {
      "text/html": [
       "<div>\n",
       "<style scoped>\n",
       "    .dataframe tbody tr th:only-of-type {\n",
       "        vertical-align: middle;\n",
       "    }\n",
       "\n",
       "    .dataframe tbody tr th {\n",
       "        vertical-align: top;\n",
       "    }\n",
       "\n",
       "    .dataframe thead th {\n",
       "        text-align: right;\n",
       "    }\n",
       "</style>\n",
       "<table border=\"1\" class=\"dataframe\">\n",
       "  <thead>\n",
       "    <tr style=\"text-align: right;\">\n",
       "      <th></th>\n",
       "      <th>Value</th>\n",
       "    </tr>\n",
       "  </thead>\n",
       "  <tbody>\n",
       "    <tr>\n",
       "      <th>Central African Rep.</th>\n",
       "      <td>1664185.0</td>\n",
       "    </tr>\n",
       "    <tr>\n",
       "      <th>New Zealand</th>\n",
       "      <td>820000.0</td>\n",
       "    </tr>\n",
       "    <tr>\n",
       "      <th>Greece</th>\n",
       "      <td>1561498.0</td>\n",
       "    </tr>\n",
       "    <tr>\n",
       "      <th>Uruguay</th>\n",
       "      <td>480154.0</td>\n",
       "    </tr>\n",
       "    <tr>\n",
       "      <th>Montenegro</th>\n",
       "      <td>80620.0</td>\n",
       "    </tr>\n",
       "    <tr>\n",
       "      <th>Serbia</th>\n",
       "      <td>849280.0</td>\n",
       "    </tr>\n",
       "    <tr>\n",
       "      <th>Croatia</th>\n",
       "      <td>486271.0</td>\n",
       "    </tr>\n",
       "    <tr>\n",
       "      <th>Bulgaria</th>\n",
       "      <td>754105.0</td>\n",
       "    </tr>\n",
       "    <tr>\n",
       "      <th>Bosnia and Herz.</th>\n",
       "      <td>404698.0</td>\n",
       "    </tr>\n",
       "    <tr>\n",
       "      <th>Turkey</th>\n",
       "      <td>7796666.0</td>\n",
       "    </tr>\n",
       "  </tbody>\n",
       "</table>\n",
       "</div>"
      ],
      "text/plain": [
       "                          Value\n",
       "Central African Rep.  1664185.0\n",
       "New Zealand            820000.0\n",
       "Greece                1561498.0\n",
       "Uruguay                480154.0\n",
       "Montenegro              80620.0\n",
       "Serbia                 849280.0\n",
       "Croatia                486271.0\n",
       "Bulgaria               754105.0\n",
       "Bosnia and Herz.       404698.0\n",
       "Turkey                7796666.0"
      ]
     },
     "execution_count": 17,
     "metadata": {},
     "output_type": "execute_result"
    }
   ],
   "source": [
    "beehives_perPopulation[beehives_perPopulation['Year'] == 2017].sort_values('Per_Population', ascending=False)[['Value']].head(10)"
   ]
  },
  {
   "cell_type": "markdown",
   "metadata": {},
   "source": [
    "Now we see different countries and there is New Zealand. One of the Oceanian countries. Interestingly 7 out of 10 countries are considered to be in eastern europe. "
   ]
  },
  {
   "cell_type": "markdown",
   "metadata": {},
   "source": [
    "## Oh we actually see the number of bees are increasing!\n",
    "What we can further notice besides the increasing number of bees is a sudden drop between 1990 and 2000. Why is that? "
   ]
  },
  {
   "cell_type": "code",
   "execution_count": 18,
   "metadata": {},
   "outputs": [
    {
     "data": {
      "text/plain": [
       "1.8505857822977034"
      ]
     },
     "execution_count": 18,
     "metadata": {},
     "output_type": "execute_result"
    }
   ],
   "source": [
    "firstYear = int(beehives_world[beehives_world['Year'] == 1961]['Value'])\n",
    "lastYear = int(beehives_world[beehives_world['Year'] == 2017]['Value'])\n",
    "lastYear/firstYear"
   ]
  },
  {
   "cell_type": "markdown",
   "metadata": {},
   "source": [
    "In fact we have an increase of 185.06% over the last 56 Years. \n",
    "But wasn't everyone telling bees are dying out? "
   ]
  },
  {
   "cell_type": "code",
   "execution_count": 19,
   "metadata": {
    "scrolled": false
   },
   "outputs": [
    {
     "data": {
      "text/html": [
       "<div>\n",
       "<style scoped>\n",
       "    .dataframe tbody tr th:only-of-type {\n",
       "        vertical-align: middle;\n",
       "    }\n",
       "\n",
       "    .dataframe tbody tr th {\n",
       "        vertical-align: top;\n",
       "    }\n",
       "\n",
       "    .dataframe thead th {\n",
       "        text-align: right;\n",
       "    }\n",
       "</style>\n",
       "<table border=\"1\" class=\"dataframe\">\n",
       "  <thead>\n",
       "    <tr style=\"text-align: right;\">\n",
       "      <th></th>\n",
       "      <th>Area Code</th>\n",
       "      <th>Area</th>\n",
       "      <th>Item Code</th>\n",
       "      <th>Item</th>\n",
       "      <th>Element Code</th>\n",
       "      <th>Element</th>\n",
       "      <th>Year Code</th>\n",
       "      <th>Year</th>\n",
       "      <th>Unit</th>\n",
       "      <th>Value</th>\n",
       "      <th>Flag</th>\n",
       "    </tr>\n",
       "  </thead>\n",
       "  <tbody>\n",
       "    <tr>\n",
       "      <th>137264</th>\n",
       "      <td>5000</td>\n",
       "      <td>World</td>\n",
       "      <td>1181</td>\n",
       "      <td>Beehives</td>\n",
       "      <td>5114</td>\n",
       "      <td>Stocks</td>\n",
       "      <td>1990</td>\n",
       "      <td>1990</td>\n",
       "      <td>No</td>\n",
       "      <td>69237913.0</td>\n",
       "      <td>A</td>\n",
       "    </tr>\n",
       "    <tr>\n",
       "      <th>137265</th>\n",
       "      <td>5000</td>\n",
       "      <td>World</td>\n",
       "      <td>1181</td>\n",
       "      <td>Beehives</td>\n",
       "      <td>5114</td>\n",
       "      <td>Stocks</td>\n",
       "      <td>1991</td>\n",
       "      <td>1991</td>\n",
       "      <td>No</td>\n",
       "      <td>69952217.0</td>\n",
       "      <td>A</td>\n",
       "    </tr>\n",
       "    <tr>\n",
       "      <th>137266</th>\n",
       "      <td>5000</td>\n",
       "      <td>World</td>\n",
       "      <td>1181</td>\n",
       "      <td>Beehives</td>\n",
       "      <td>5114</td>\n",
       "      <td>Stocks</td>\n",
       "      <td>1992</td>\n",
       "      <td>1992</td>\n",
       "      <td>No</td>\n",
       "      <td>67491710.0</td>\n",
       "      <td>A</td>\n",
       "    </tr>\n",
       "    <tr>\n",
       "      <th>137267</th>\n",
       "      <td>5000</td>\n",
       "      <td>World</td>\n",
       "      <td>1181</td>\n",
       "      <td>Beehives</td>\n",
       "      <td>5114</td>\n",
       "      <td>Stocks</td>\n",
       "      <td>1993</td>\n",
       "      <td>1993</td>\n",
       "      <td>No</td>\n",
       "      <td>66704017.0</td>\n",
       "      <td>A</td>\n",
       "    </tr>\n",
       "    <tr>\n",
       "      <th>137268</th>\n",
       "      <td>5000</td>\n",
       "      <td>World</td>\n",
       "      <td>1181</td>\n",
       "      <td>Beehives</td>\n",
       "      <td>5114</td>\n",
       "      <td>Stocks</td>\n",
       "      <td>1994</td>\n",
       "      <td>1994</td>\n",
       "      <td>No</td>\n",
       "      <td>66102588.0</td>\n",
       "      <td>A</td>\n",
       "    </tr>\n",
       "    <tr>\n",
       "      <th>137269</th>\n",
       "      <td>5000</td>\n",
       "      <td>World</td>\n",
       "      <td>1181</td>\n",
       "      <td>Beehives</td>\n",
       "      <td>5114</td>\n",
       "      <td>Stocks</td>\n",
       "      <td>1995</td>\n",
       "      <td>1995</td>\n",
       "      <td>No</td>\n",
       "      <td>66163866.0</td>\n",
       "      <td>A</td>\n",
       "    </tr>\n",
       "    <tr>\n",
       "      <th>137270</th>\n",
       "      <td>5000</td>\n",
       "      <td>World</td>\n",
       "      <td>1181</td>\n",
       "      <td>Beehives</td>\n",
       "      <td>5114</td>\n",
       "      <td>Stocks</td>\n",
       "      <td>1996</td>\n",
       "      <td>1996</td>\n",
       "      <td>No</td>\n",
       "      <td>65992745.0</td>\n",
       "      <td>A</td>\n",
       "    </tr>\n",
       "    <tr>\n",
       "      <th>137271</th>\n",
       "      <td>5000</td>\n",
       "      <td>World</td>\n",
       "      <td>1181</td>\n",
       "      <td>Beehives</td>\n",
       "      <td>5114</td>\n",
       "      <td>Stocks</td>\n",
       "      <td>1997</td>\n",
       "      <td>1997</td>\n",
       "      <td>No</td>\n",
       "      <td>65933672.0</td>\n",
       "      <td>A</td>\n",
       "    </tr>\n",
       "    <tr>\n",
       "      <th>137272</th>\n",
       "      <td>5000</td>\n",
       "      <td>World</td>\n",
       "      <td>1181</td>\n",
       "      <td>Beehives</td>\n",
       "      <td>5114</td>\n",
       "      <td>Stocks</td>\n",
       "      <td>1998</td>\n",
       "      <td>1998</td>\n",
       "      <td>No</td>\n",
       "      <td>66607596.0</td>\n",
       "      <td>A</td>\n",
       "    </tr>\n",
       "    <tr>\n",
       "      <th>137273</th>\n",
       "      <td>5000</td>\n",
       "      <td>World</td>\n",
       "      <td>1181</td>\n",
       "      <td>Beehives</td>\n",
       "      <td>5114</td>\n",
       "      <td>Stocks</td>\n",
       "      <td>1999</td>\n",
       "      <td>1999</td>\n",
       "      <td>No</td>\n",
       "      <td>67072126.0</td>\n",
       "      <td>A</td>\n",
       "    </tr>\n",
       "    <tr>\n",
       "      <th>137274</th>\n",
       "      <td>5000</td>\n",
       "      <td>World</td>\n",
       "      <td>1181</td>\n",
       "      <td>Beehives</td>\n",
       "      <td>5114</td>\n",
       "      <td>Stocks</td>\n",
       "      <td>2000</td>\n",
       "      <td>2000</td>\n",
       "      <td>No</td>\n",
       "      <td>69300054.0</td>\n",
       "      <td>A</td>\n",
       "    </tr>\n",
       "  </tbody>\n",
       "</table>\n",
       "</div>"
      ],
      "text/plain": [
       "        Area Code   Area  Item Code      Item  Element Code Element  \\\n",
       "137264       5000  World       1181  Beehives          5114  Stocks   \n",
       "137265       5000  World       1181  Beehives          5114  Stocks   \n",
       "137266       5000  World       1181  Beehives          5114  Stocks   \n",
       "137267       5000  World       1181  Beehives          5114  Stocks   \n",
       "137268       5000  World       1181  Beehives          5114  Stocks   \n",
       "137269       5000  World       1181  Beehives          5114  Stocks   \n",
       "137270       5000  World       1181  Beehives          5114  Stocks   \n",
       "137271       5000  World       1181  Beehives          5114  Stocks   \n",
       "137272       5000  World       1181  Beehives          5114  Stocks   \n",
       "137273       5000  World       1181  Beehives          5114  Stocks   \n",
       "137274       5000  World       1181  Beehives          5114  Stocks   \n",
       "\n",
       "        Year Code  Year Unit       Value Flag  \n",
       "137264       1990  1990   No  69237913.0    A  \n",
       "137265       1991  1991   No  69952217.0    A  \n",
       "137266       1992  1992   No  67491710.0    A  \n",
       "137267       1993  1993   No  66704017.0    A  \n",
       "137268       1994  1994   No  66102588.0    A  \n",
       "137269       1995  1995   No  66163866.0    A  \n",
       "137270       1996  1996   No  65992745.0    A  \n",
       "137271       1997  1997   No  65933672.0    A  \n",
       "137272       1998  1998   No  66607596.0    A  \n",
       "137273       1999  1999   No  67072126.0    A  \n",
       "137274       2000  2000   No  69300054.0    A  "
      ]
     },
     "execution_count": 19,
     "metadata": {},
     "output_type": "execute_result"
    }
   ],
   "source": [
    "beehives_world[beehives_world['Year'].isin(range(1990,2001))]"
   ]
  },
  {
   "cell_type": "markdown",
   "metadata": {},
   "source": [
    "Looking only at these 10 Years we se the population drops in a number of 3.304.241."
   ]
  },
  {
   "cell_type": "markdown",
   "metadata": {},
   "source": [
    "## Let us now try to figure out what happened in between 1990 and 2000. We know there was war in Yugslavia (Bosnia and Herzegovina,  Croatia, Kosovo,  Montenegro,  North Macedonia,  Serbia, Slovenia)."
   ]
  },
  {
   "cell_type": "code",
   "execution_count": 20,
   "metadata": {},
   "outputs": [],
   "source": [
    "beehives_yugoslav = beehives_countries.loc[beehives_countries['Area'] == 'Yugoslav SFR']"
   ]
  },
  {
   "cell_type": "code",
   "execution_count": 21,
   "metadata": {},
   "outputs": [
    {
     "data": {
      "text/html": [
       "<div>\n",
       "<style scoped>\n",
       "    .dataframe tbody tr th:only-of-type {\n",
       "        vertical-align: middle;\n",
       "    }\n",
       "\n",
       "    .dataframe tbody tr th {\n",
       "        vertical-align: top;\n",
       "    }\n",
       "\n",
       "    .dataframe thead th {\n",
       "        text-align: right;\n",
       "    }\n",
       "</style>\n",
       "<table border=\"1\" class=\"dataframe\">\n",
       "  <thead>\n",
       "    <tr style=\"text-align: right;\">\n",
       "      <th></th>\n",
       "      <th>Area Code</th>\n",
       "      <th>Area</th>\n",
       "      <th>Item Code</th>\n",
       "      <th>Item</th>\n",
       "      <th>Element Code</th>\n",
       "      <th>Element</th>\n",
       "      <th>Year Code</th>\n",
       "      <th>Year</th>\n",
       "      <th>Unit</th>\n",
       "      <th>Value</th>\n",
       "      <th>Flag</th>\n",
       "    </tr>\n",
       "  </thead>\n",
       "  <tbody>\n",
       "    <tr>\n",
       "      <th>135405</th>\n",
       "      <td>248</td>\n",
       "      <td>Yugoslav SFR</td>\n",
       "      <td>1181</td>\n",
       "      <td>Beehives</td>\n",
       "      <td>5114</td>\n",
       "      <td>Stocks</td>\n",
       "      <td>1990</td>\n",
       "      <td>1990</td>\n",
       "      <td>No</td>\n",
       "      <td>501349.0</td>\n",
       "      <td>*</td>\n",
       "    </tr>\n",
       "    <tr>\n",
       "      <th>135406</th>\n",
       "      <td>248</td>\n",
       "      <td>Yugoslav SFR</td>\n",
       "      <td>1181</td>\n",
       "      <td>Beehives</td>\n",
       "      <td>5114</td>\n",
       "      <td>Stocks</td>\n",
       "      <td>1991</td>\n",
       "      <td>1991</td>\n",
       "      <td>No</td>\n",
       "      <td>520275.0</td>\n",
       "      <td>*</td>\n",
       "    </tr>\n",
       "  </tbody>\n",
       "</table>\n",
       "</div>"
      ],
      "text/plain": [
       "        Area Code          Area  Item Code      Item  Element Code Element  \\\n",
       "135405        248  Yugoslav SFR       1181  Beehives          5114  Stocks   \n",
       "135406        248  Yugoslav SFR       1181  Beehives          5114  Stocks   \n",
       "\n",
       "        Year Code  Year Unit     Value Flag  \n",
       "135405       1990  1990   No  501349.0    *  \n",
       "135406       1991  1991   No  520275.0    *  "
      ]
     },
     "execution_count": 21,
     "metadata": {},
     "output_type": "execute_result"
    }
   ],
   "source": [
    "beehives_yugoslav[beehives_yugoslav['Year'].isin(range(1990,2001))]"
   ]
  },
  {
   "cell_type": "markdown",
   "metadata": {},
   "source": [
    "Here we only observe data until 1991. Which is because the countries in Yugoslavia announced independence. We will now look into the splitted countries to see what happened after."
   ]
  },
  {
   "cell_type": "code",
   "execution_count": 22,
   "metadata": {
    "scrolled": true
   },
   "outputs": [
    {
     "data": {
      "text/html": [
       "<div>\n",
       "<style scoped>\n",
       "    .dataframe tbody tr th:only-of-type {\n",
       "        vertical-align: middle;\n",
       "    }\n",
       "\n",
       "    .dataframe tbody tr th {\n",
       "        vertical-align: top;\n",
       "    }\n",
       "\n",
       "    .dataframe thead th {\n",
       "        text-align: right;\n",
       "    }\n",
       "</style>\n",
       "<table border=\"1\" class=\"dataframe\">\n",
       "  <thead>\n",
       "    <tr style=\"text-align: right;\">\n",
       "      <th></th>\n",
       "      <th>Area Code</th>\n",
       "      <th>Area</th>\n",
       "      <th>Item Code</th>\n",
       "      <th>Item</th>\n",
       "      <th>Element Code</th>\n",
       "      <th>Element</th>\n",
       "      <th>Year Code</th>\n",
       "      <th>Year</th>\n",
       "      <th>Unit</th>\n",
       "      <th>Value</th>\n",
       "      <th>Flag</th>\n",
       "    </tr>\n",
       "  </thead>\n",
       "  <tbody>\n",
       "    <tr>\n",
       "      <th>109557</th>\n",
       "      <td>186</td>\n",
       "      <td>Serbia and Montenegro</td>\n",
       "      <td>1181</td>\n",
       "      <td>Beehives</td>\n",
       "      <td>5114</td>\n",
       "      <td>Stocks</td>\n",
       "      <td>1992</td>\n",
       "      <td>1992</td>\n",
       "      <td>No</td>\n",
       "      <td>197000.0</td>\n",
       "      <td>NaN</td>\n",
       "    </tr>\n",
       "    <tr>\n",
       "      <th>109558</th>\n",
       "      <td>186</td>\n",
       "      <td>Serbia and Montenegro</td>\n",
       "      <td>1181</td>\n",
       "      <td>Beehives</td>\n",
       "      <td>5114</td>\n",
       "      <td>Stocks</td>\n",
       "      <td>1993</td>\n",
       "      <td>1993</td>\n",
       "      <td>No</td>\n",
       "      <td>196000.0</td>\n",
       "      <td>NaN</td>\n",
       "    </tr>\n",
       "    <tr>\n",
       "      <th>109559</th>\n",
       "      <td>186</td>\n",
       "      <td>Serbia and Montenegro</td>\n",
       "      <td>1181</td>\n",
       "      <td>Beehives</td>\n",
       "      <td>5114</td>\n",
       "      <td>Stocks</td>\n",
       "      <td>1994</td>\n",
       "      <td>1994</td>\n",
       "      <td>No</td>\n",
       "      <td>194000.0</td>\n",
       "      <td>NaN</td>\n",
       "    </tr>\n",
       "    <tr>\n",
       "      <th>109560</th>\n",
       "      <td>186</td>\n",
       "      <td>Serbia and Montenegro</td>\n",
       "      <td>1181</td>\n",
       "      <td>Beehives</td>\n",
       "      <td>5114</td>\n",
       "      <td>Stocks</td>\n",
       "      <td>1995</td>\n",
       "      <td>1995</td>\n",
       "      <td>No</td>\n",
       "      <td>205000.0</td>\n",
       "      <td>NaN</td>\n",
       "    </tr>\n",
       "    <tr>\n",
       "      <th>109561</th>\n",
       "      <td>186</td>\n",
       "      <td>Serbia and Montenegro</td>\n",
       "      <td>1181</td>\n",
       "      <td>Beehives</td>\n",
       "      <td>5114</td>\n",
       "      <td>Stocks</td>\n",
       "      <td>1996</td>\n",
       "      <td>1996</td>\n",
       "      <td>No</td>\n",
       "      <td>186000.0</td>\n",
       "      <td>NaN</td>\n",
       "    </tr>\n",
       "    <tr>\n",
       "      <th>109562</th>\n",
       "      <td>186</td>\n",
       "      <td>Serbia and Montenegro</td>\n",
       "      <td>1181</td>\n",
       "      <td>Beehives</td>\n",
       "      <td>5114</td>\n",
       "      <td>Stocks</td>\n",
       "      <td>1997</td>\n",
       "      <td>1997</td>\n",
       "      <td>No</td>\n",
       "      <td>197000.0</td>\n",
       "      <td>NaN</td>\n",
       "    </tr>\n",
       "    <tr>\n",
       "      <th>109563</th>\n",
       "      <td>186</td>\n",
       "      <td>Serbia and Montenegro</td>\n",
       "      <td>1181</td>\n",
       "      <td>Beehives</td>\n",
       "      <td>5114</td>\n",
       "      <td>Stocks</td>\n",
       "      <td>1998</td>\n",
       "      <td>1998</td>\n",
       "      <td>No</td>\n",
       "      <td>196000.0</td>\n",
       "      <td>NaN</td>\n",
       "    </tr>\n",
       "    <tr>\n",
       "      <th>109564</th>\n",
       "      <td>186</td>\n",
       "      <td>Serbia and Montenegro</td>\n",
       "      <td>1181</td>\n",
       "      <td>Beehives</td>\n",
       "      <td>5114</td>\n",
       "      <td>Stocks</td>\n",
       "      <td>1999</td>\n",
       "      <td>1999</td>\n",
       "      <td>No</td>\n",
       "      <td>190900.0</td>\n",
       "      <td>NaN</td>\n",
       "    </tr>\n",
       "    <tr>\n",
       "      <th>109565</th>\n",
       "      <td>186</td>\n",
       "      <td>Serbia and Montenegro</td>\n",
       "      <td>1181</td>\n",
       "      <td>Beehives</td>\n",
       "      <td>5114</td>\n",
       "      <td>Stocks</td>\n",
       "      <td>2000</td>\n",
       "      <td>2000</td>\n",
       "      <td>No</td>\n",
       "      <td>192000.0</td>\n",
       "      <td>NaN</td>\n",
       "    </tr>\n",
       "    <tr>\n",
       "      <th>109566</th>\n",
       "      <td>186</td>\n",
       "      <td>Serbia and Montenegro</td>\n",
       "      <td>1181</td>\n",
       "      <td>Beehives</td>\n",
       "      <td>5114</td>\n",
       "      <td>Stocks</td>\n",
       "      <td>2001</td>\n",
       "      <td>2001</td>\n",
       "      <td>No</td>\n",
       "      <td>221000.0</td>\n",
       "      <td>NaN</td>\n",
       "    </tr>\n",
       "    <tr>\n",
       "      <th>109567</th>\n",
       "      <td>186</td>\n",
       "      <td>Serbia and Montenegro</td>\n",
       "      <td>1181</td>\n",
       "      <td>Beehives</td>\n",
       "      <td>5114</td>\n",
       "      <td>Stocks</td>\n",
       "      <td>2002</td>\n",
       "      <td>2002</td>\n",
       "      <td>No</td>\n",
       "      <td>205000.0</td>\n",
       "      <td>NaN</td>\n",
       "    </tr>\n",
       "    <tr>\n",
       "      <th>109568</th>\n",
       "      <td>186</td>\n",
       "      <td>Serbia and Montenegro</td>\n",
       "      <td>1181</td>\n",
       "      <td>Beehives</td>\n",
       "      <td>5114</td>\n",
       "      <td>Stocks</td>\n",
       "      <td>2003</td>\n",
       "      <td>2003</td>\n",
       "      <td>No</td>\n",
       "      <td>245000.0</td>\n",
       "      <td>NaN</td>\n",
       "    </tr>\n",
       "    <tr>\n",
       "      <th>109569</th>\n",
       "      <td>186</td>\n",
       "      <td>Serbia and Montenegro</td>\n",
       "      <td>1181</td>\n",
       "      <td>Beehives</td>\n",
       "      <td>5114</td>\n",
       "      <td>Stocks</td>\n",
       "      <td>2004</td>\n",
       "      <td>2004</td>\n",
       "      <td>No</td>\n",
       "      <td>307000.0</td>\n",
       "      <td>NaN</td>\n",
       "    </tr>\n",
       "    <tr>\n",
       "      <th>109570</th>\n",
       "      <td>186</td>\n",
       "      <td>Serbia and Montenegro</td>\n",
       "      <td>1181</td>\n",
       "      <td>Beehives</td>\n",
       "      <td>5114</td>\n",
       "      <td>Stocks</td>\n",
       "      <td>2005</td>\n",
       "      <td>2005</td>\n",
       "      <td>No</td>\n",
       "      <td>308111.0</td>\n",
       "      <td>NaN</td>\n",
       "    </tr>\n",
       "  </tbody>\n",
       "</table>\n",
       "</div>"
      ],
      "text/plain": [
       "        Area Code                   Area  Item Code      Item  Element Code  \\\n",
       "109557        186  Serbia and Montenegro       1181  Beehives          5114   \n",
       "109558        186  Serbia and Montenegro       1181  Beehives          5114   \n",
       "109559        186  Serbia and Montenegro       1181  Beehives          5114   \n",
       "109560        186  Serbia and Montenegro       1181  Beehives          5114   \n",
       "109561        186  Serbia and Montenegro       1181  Beehives          5114   \n",
       "109562        186  Serbia and Montenegro       1181  Beehives          5114   \n",
       "109563        186  Serbia and Montenegro       1181  Beehives          5114   \n",
       "109564        186  Serbia and Montenegro       1181  Beehives          5114   \n",
       "109565        186  Serbia and Montenegro       1181  Beehives          5114   \n",
       "109566        186  Serbia and Montenegro       1181  Beehives          5114   \n",
       "109567        186  Serbia and Montenegro       1181  Beehives          5114   \n",
       "109568        186  Serbia and Montenegro       1181  Beehives          5114   \n",
       "109569        186  Serbia and Montenegro       1181  Beehives          5114   \n",
       "109570        186  Serbia and Montenegro       1181  Beehives          5114   \n",
       "\n",
       "       Element  Year Code  Year Unit     Value Flag  \n",
       "109557  Stocks       1992  1992   No  197000.0  NaN  \n",
       "109558  Stocks       1993  1993   No  196000.0  NaN  \n",
       "109559  Stocks       1994  1994   No  194000.0  NaN  \n",
       "109560  Stocks       1995  1995   No  205000.0  NaN  \n",
       "109561  Stocks       1996  1996   No  186000.0  NaN  \n",
       "109562  Stocks       1997  1997   No  197000.0  NaN  \n",
       "109563  Stocks       1998  1998   No  196000.0  NaN  \n",
       "109564  Stocks       1999  1999   No  190900.0  NaN  \n",
       "109565  Stocks       2000  2000   No  192000.0  NaN  \n",
       "109566  Stocks       2001  2001   No  221000.0  NaN  \n",
       "109567  Stocks       2002  2002   No  205000.0  NaN  \n",
       "109568  Stocks       2003  2003   No  245000.0  NaN  \n",
       "109569  Stocks       2004  2004   No  307000.0  NaN  \n",
       "109570  Stocks       2005  2005   No  308111.0  NaN  "
      ]
     },
     "execution_count": 22,
     "metadata": {},
     "output_type": "execute_result"
    }
   ],
   "source": [
    "beehives_countries.loc[beehives_countries['Area'] == 'Croatia']\n",
    "beehives_countries.loc[beehives_countries['Area'] == 'Bosnia and Herzegovina']\n",
    "beehives_countries.loc[beehives_countries['Area'] == 'Slovenia']\n",
    "beehives_countries.loc[beehives_countries['Area'] == 'The former Yugoslav Republic of Macedonia']\n",
    "beehives_countries.loc[beehives_countries['Area'] == 'Serbia and Montenegro']"
   ]
  },
  {
   "cell_type": "code",
   "execution_count": 23,
   "metadata": {},
   "outputs": [
    {
     "name": "stdout",
     "output_type": "stream",
     "text": [
      "Year: 1992, No of Beehives: 449211\n",
      "Year: 1993, No of Beehives: 496381\n",
      "Year: 1994, No of Beehives: 519883\n",
      "Year: 1995, No of Beehives: 534171\n",
      "Year: 1996, No of Beehives: 502684\n",
      "Year: 1997, No of Beehives: 550382\n",
      "Year: 1998, No of Beehives: 606355\n",
      "Year: 1999, No of Beehives: 545543\n",
      "Year: 2000, No of Beehives: 644972\n"
     ]
    }
   ],
   "source": [
    "for year in range(1992, 2001):\n",
    "    croatia = int(beehives_countries.loc[(beehives_countries['Area'] == 'Croatia') & (beehives_countries['Year'] == year)]['Value'])\n",
    "    bosnia = int(beehives_countries.loc[(beehives_countries['Area'] == 'Bosnia and Herzegovina') & (beehives_countries['Year'] == year)]['Value'])\n",
    "    slovenia = int(beehives_countries.loc[(beehives_countries['Area'] == 'Slovenia') & (beehives_countries['Year'] == year)]['Value'])\n",
    "    macedonia = int(beehives_countries.loc[(beehives_countries['Area'] == 'The former Yugoslav Republic of Macedonia') & (beehives_countries['Year'] == year)]['Value'])\n",
    "    sm = int(beehives_countries.loc[(beehives_countries['Area'] == 'Serbia and Montenegro') & (beehives_countries['Year'] == year)]['Value'])\n",
    "    print(\"Year: %s, No of Beehives: %s\" % (year , croatia+bosnia+slovenia+macedonia+sm))"
   ]
  },
  {
   "cell_type": "markdown",
   "metadata": {},
   "source": [
    "Looing at our data we see that this cannot be the reason. "
   ]
  },
  {
   "cell_type": "code",
   "execution_count": 24,
   "metadata": {
    "scrolled": true
   },
   "outputs": [
    {
     "name": "stdout",
     "output_type": "stream",
     "text": [
      "Bulgaria\n",
      "Ratio 1995/1992: 0.5019086598857235\n",
      "Number of Beehives in 1992: 493540\n",
      "Number of Beehives in 1995: 247712\n",
      "------------------\n",
      "China\n",
      "Ratio 1995/1992: 0.8351979502416751\n",
      "Number of Beehives in 1992: 7700420\n",
      "Number of Beehives in 1995: 6431375\n",
      "------------------\n",
      "Egypt\n",
      "Ratio 1995/1992: 0.8755031802120141\n",
      "Number of Beehives in 1992: 1415000\n",
      "Number of Beehives in 1995: 1238837\n",
      "------------------\n",
      "Germany\n",
      "Ratio 1995/1992: 0.896404109589041\n",
      "Number of Beehives in 1992: 1168000\n",
      "Number of Beehives in 1995: 1047000\n",
      "------------------\n",
      "Italy\n",
      "Ratio 1995/1992: 0.76103500761035\n",
      "Number of Beehives in 1992: 1314000\n",
      "Number of Beehives in 1995: 1000000\n",
      "------------------\n",
      "Lithuania\n",
      "Ratio 1995/1992: 0.4651474530831099\n",
      "Number of Beehives in 1992: 223800\n",
      "Number of Beehives in 1995: 104100\n",
      "------------------\n",
      "Poland\n",
      "Ratio 1995/1992: 0.875\n",
      "Number of Beehives in 1992: 1600000\n",
      "Number of Beehives in 1995: 1400000\n",
      "------------------\n",
      "Romania\n",
      "Ratio 1995/1992: 0.6188898094449047\n",
      "Number of Beehives in 1992: 1207000\n",
      "Number of Beehives in 1995: 747000\n",
      "------------------\n",
      "Russian Federation\n",
      "Ratio 1995/1992: 0.9369693011103853\n",
      "Number of Beehives in 1992: 4593000\n",
      "Number of Beehives in 1995: 4303500\n",
      "------------------\n",
      "United States of America\n",
      "Ratio 1995/1992: 0.8719211822660099\n",
      "Number of Beehives in 1992: 3045000\n",
      "Number of Beehives in 1995: 2655000\n",
      "------------------\n",
      "The number of beehives in the period from 1992-1995 decreased in 39 of 131 countries.\n"
     ]
    }
   ],
   "source": [
    "count_decreasingNumber = 0\n",
    "big_decrease = []\n",
    "for country in countries:\n",
    "    try:\n",
    "        sm1 = int(beehives_countries.loc[(beehives_countries['Area'] == country) & (beehives_countries['Year'] == 1992)]['Value'])\n",
    "        sm2 = int(beehives_countries.loc[(beehives_countries['Area'] == country) & (beehives_countries['Year'] == 1995)]['Value'])\n",
    "        if sm2/sm1 < 1:\n",
    "            count_decreasingNumber += 1\n",
    "        if sm2-sm1<-100000:\n",
    "            print(country)\n",
    "            print(\"Ratio 1995/1992: %s\" % (sm2/sm1))\n",
    "            print(\"Number of Beehives in 1992: %s\" % sm1)\n",
    "            print(\"Number of Beehives in 1995: %s\" % sm2)\n",
    "            print(\"------------------\")\n",
    "            big_decrease.append(country)\n",
    "    except:\n",
    "        continue\n",
    "print(\"The number of beehives in the period from 1992-1995 decreased in %s of %s countries.\" % (count_decreasingNumber, len(countries)))"
   ]
  },
  {
   "cell_type": "markdown",
   "metadata": {},
   "source": [
    "A significant decrease >500.000 can be noticed in the following countries."
   ]
  },
  {
   "cell_type": "code",
   "execution_count": 25,
   "metadata": {},
   "outputs": [
    {
     "name": "stdout",
     "output_type": "stream",
     "text": [
      "Bulgaria, China, Egypt, Germany, Italy, Lithuania, Poland, Romania, Russian Federation, United States of America\n"
     ]
    }
   ],
   "source": [
    "print(*big_decrease, sep = \", \")  \n"
   ]
  },
  {
   "cell_type": "markdown",
   "metadata": {},
   "source": [
    "So now let us plot these countries. Are they seriously decreasing. "
   ]
  },
  {
   "cell_type": "code",
   "execution_count": 26,
   "metadata": {},
   "outputs": [
    {
     "data": {
      "application/vnd.jupyter.widget-view+json": {
       "model_id": "e11a7052844c46f491b8011e5a1dc41f",
       "version_major": 2,
       "version_minor": 0
      },
      "text/plain": [
       "interactive(children=(Dropdown(description='country', options=('Bulgaria', 'China', 'Egypt', 'Germany', 'Italy…"
      ]
     },
     "metadata": {},
     "output_type": "display_data"
    }
   ],
   "source": [
    "@interact\n",
    "def show_beehives_for_country(country=big_decrease):\n",
    "    beehives_country=beehives_countries.loc[beehives_countries['Area']==country]\n",
    "    \n",
    "    plt.plot(beehives_country['Year'],beehives_country['Value'],'-*')\n",
    "    plt.title('Country: '+country)\n",
    "    plt.xlabel('Years')\n",
    "    plt.ylabel('Number')\n",
    "    plt.xlim(1960, 2020)"
   ]
  },
  {
   "cell_type": "markdown",
   "metadata": {},
   "source": [
    "Looking at these plots we see that Bulgaria, China and Romania recovered quickly, while Egypt, Germany, Poland, Romania and the United States of America dropped the numbers continously."
   ]
  },
  {
   "cell_type": "markdown",
   "metadata": {},
   "source": [
    "## Let us look at another range is this bigger than we thought? Can we find patterns? "
   ]
  },
  {
   "cell_type": "code",
   "execution_count": 27,
   "metadata": {
    "scrolled": true
   },
   "outputs": [
    {
     "name": "stdout",
     "output_type": "stream",
     "text": [
      "Austria\n",
      "Ratio 2017/1992: 0.7311490608676937\n",
      "Number of Beehives in 1992: 483212\n",
      "Number of Beehives in 2017: 353300\n",
      "------------------\n",
      "Egypt\n",
      "Ratio 2017/1992: 0.6202381625441696\n",
      "Number of Beehives in 1992: 1415000\n",
      "Number of Beehives in 2017: 877637\n",
      "------------------\n",
      "France\n",
      "Ratio 2017/1992: 0.7404548374275484\n",
      "Number of Beehives in 1992: 1061742\n",
      "Number of Beehives in 2017: 786172\n",
      "------------------\n",
      "Germany\n",
      "Ratio 2017/1992: 0.5836318493150685\n",
      "Number of Beehives in 1992: 1168000\n",
      "Number of Beehives in 2017: 681682\n",
      "------------------\n",
      "Italy\n",
      "Ratio 2017/1992: 0.32595129375951293\n",
      "Number of Beehives in 1992: 1314000\n",
      "Number of Beehives in 2017: 428300\n",
      "------------------\n",
      "Kenya\n",
      "Ratio 2017/1992: 0.73774\n",
      "Number of Beehives in 1992: 2200000\n",
      "Number of Beehives in 2017: 1623028\n",
      "------------------\n",
      "Mexico\n",
      "Ratio 2017/1992: 0.8795744769687865\n",
      "Number of Beehives in 1992: 2107618\n",
      "Number of Beehives in 2017: 1853807\n",
      "------------------\n",
      "Morocco\n",
      "Ratio 2017/1992: 0.6720601092896175\n",
      "Number of Beehives in 1992: 549000\n",
      "Number of Beehives in 2017: 368961\n",
      "------------------\n",
      "Russian Federation\n",
      "Ratio 2017/1992: 0.7293655562812976\n",
      "Number of Beehives in 1992: 4593000\n",
      "Number of Beehives in 2017: 3349976\n",
      "------------------\n",
      "Switzerland\n",
      "Ratio 2017/1992: 0.6179166437060304\n",
      "Number of Beehives in 1992: 272205\n",
      "Number of Beehives in 2017: 168200\n",
      "------------------\n",
      "United States of America\n",
      "Ratio 2017/1992: 0.8765188834154352\n",
      "Number of Beehives in 1992: 3045000\n",
      "Number of Beehives in 2017: 2669000\n",
      "------------------\n",
      "The number of beehives in the period from 1992-2017 decreased in 36 of 131 countries.\n"
     ]
    }
   ],
   "source": [
    "count_decreasingNumber = 0\n",
    "big_decrease = []\n",
    "for country in countries:\n",
    "    try:\n",
    "        sm1 = int(beehives_countries.loc[(beehives_countries['Area'] == country) & (beehives_countries['Year'] == 1992)]['Value'])\n",
    "        sm2 = int(beehives_countries.loc[(beehives_countries['Area'] == country) & (beehives_countries['Year'] == 2017)]['Value'])\n",
    "        if sm2/sm1 < 1:\n",
    "            count_decreasingNumber += 1\n",
    "        if sm2-sm1<-100000:\n",
    "            print(country)\n",
    "            print(\"Ratio 2017/1992: %s\" % (sm2/sm1))\n",
    "            print(\"Number of Beehives in 1992: %s\" % sm1)\n",
    "            print(\"Number of Beehives in 2017: %s\" % sm2)\n",
    "            print(\"------------------\")\n",
    "            big_decrease.append(country)\n",
    "    except:\n",
    "        continue\n",
    "print(\"The number of beehives in the period from 1992-2017 decreased in %s of %s countries.\" % (count_decreasingNumber, len(countries)))"
   ]
  },
  {
   "cell_type": "markdown",
   "metadata": {},
   "source": [
    "Now let us plot these again."
   ]
  },
  {
   "cell_type": "code",
   "execution_count": 28,
   "metadata": {},
   "outputs": [
    {
     "data": {
      "application/vnd.jupyter.widget-view+json": {
       "model_id": "e4bd500e6a6146c9a23ac5e6bd0340e2",
       "version_major": 2,
       "version_minor": 0
      },
      "text/plain": [
       "interactive(children=(Dropdown(description='country', options=('Austria', 'Egypt', 'France', 'Germany', 'Italy…"
      ]
     },
     "metadata": {},
     "output_type": "display_data"
    }
   ],
   "source": [
    "@interact\n",
    "def show_beehives_for_country(country=big_decrease):\n",
    "    beehives_country=beehives_countries.loc[beehives_countries['Area']==country]\n",
    "    \n",
    "    plt.plot(beehives_country['Year'],beehives_country['Value'],'-*')\n",
    "    plt.title('Country: '+country)\n",
    "    plt.xlabel('Years')\n",
    "    plt.ylabel('Number')\n",
    "    plt.xlim(1960, 2020)"
   ]
  },
  {
   "cell_type": "markdown",
   "metadata": {},
   "source": [
    "And what about increasing countries?"
   ]
  },
  {
   "cell_type": "code",
   "execution_count": 29,
   "metadata": {},
   "outputs": [
    {
     "name": "stdout",
     "output_type": "stream",
     "text": [
      "Albania\n",
      "Ratio 2017/1992: 8.01\n",
      "Number of Beehives in 1992: 36200\n",
      "Number of Beehives in 2017: 289962\n",
      "------------------\n",
      "Algeria\n",
      "Ratio 2017/1992: 2.3671085714285716\n",
      "Number of Beehives in 1992: 175000\n",
      "Number of Beehives in 2017: 414244\n",
      "------------------\n",
      "Angola\n",
      "Ratio 2017/1992: 1.154713\n",
      "Number of Beehives in 1992: 1000000\n",
      "Number of Beehives in 2017: 1154713\n",
      "------------------\n",
      "Argentina\n",
      "Ratio 2017/1992: 1.8768975\n",
      "Number of Beehives in 1992: 1600000\n",
      "Number of Beehives in 2017: 3003036\n",
      "------------------\n",
      "Armenia\n",
      "Ratio 2017/1992: 1.80976353928299\n",
      "Number of Beehives in 1992: 131100\n",
      "Number of Beehives in 2017: 237260\n",
      "------------------\n",
      "Azerbaijan\n",
      "Ratio 2017/1992: 4.179723076923077\n",
      "Number of Beehives in 1992: 65000\n",
      "Number of Beehives in 2017: 271682\n",
      "------------------\n",
      "Bosnia and Herzegovina\n",
      "Ratio 2017/1992: 9.411581395348838\n",
      "Number of Beehives in 1992: 43000\n",
      "Number of Beehives in 2017: 404698\n",
      "------------------\n",
      "Brazil\n",
      "Ratio 2017/1992: 1.2364981684981684\n",
      "Number of Beehives in 1992: 819000\n",
      "Number of Beehives in 2017: 1012692\n",
      "------------------\n",
      "Bulgaria\n",
      "Ratio 2017/1992: 1.52795112858127\n",
      "Number of Beehives in 1992: 493540\n",
      "Number of Beehives in 2017: 754105\n",
      "------------------\n",
      "Canada\n",
      "Ratio 2017/1992: 1.3809846805743138\n",
      "Number of Beehives in 1992: 501259\n",
      "Number of Beehives in 2017: 692231\n",
      "------------------\n",
      "Central African Republic\n",
      "Ratio 2017/1992: 1.2960942367601247\n",
      "Number of Beehives in 1992: 1284000\n",
      "Number of Beehives in 2017: 1664185\n",
      "------------------\n",
      "China\n",
      "Ratio 2017/1992: 1.1891405923313274\n",
      "Number of Beehives in 1992: 7700420\n",
      "Number of Beehives in 2017: 9156882\n",
      "------------------\n",
      "Croatia\n",
      "Ratio 2017/1992: 8.241881355932204\n",
      "Number of Beehives in 1992: 59000\n",
      "Number of Beehives in 2017: 486271\n",
      "------------------\n",
      "Georgia\n",
      "Ratio 2017/1992: 3.13914373088685\n",
      "Number of Beehives in 1992: 65400\n",
      "Number of Beehives in 2017: 205300\n",
      "------------------\n",
      "Greece\n",
      "Ratio 2017/1992: 1.2851835390946502\n",
      "Number of Beehives in 1992: 1215000\n",
      "Number of Beehives in 2017: 1561498\n",
      "------------------\n",
      "Hungary\n",
      "Ratio 2017/1992: 1.632\n",
      "Number of Beehives in 1992: 500000\n",
      "Number of Beehives in 2017: 816000\n",
      "------------------\n",
      "India\n",
      "Ratio 2017/1992: 1.3158437113402062\n",
      "Number of Beehives in 1992: 9700000\n",
      "Number of Beehives in 2017: 12763684\n",
      "------------------\n",
      "Iran (Islamic Republic of)\n",
      "Ratio 2017/1992: 3.8272763157894736\n",
      "Number of Beehives in 1992: 1900000\n",
      "Number of Beehives in 2017: 7271825\n",
      "------------------\n",
      "New Zealand\n",
      "Ratio 2017/1992: 2.696791804383931\n",
      "Number of Beehives in 1992: 304065\n",
      "Number of Beehives in 2017: 820000\n",
      "------------------\n",
      "Pakistan\n",
      "Ratio 2017/1992: 5.555819444444444\n",
      "Number of Beehives in 1992: 72000\n",
      "Number of Beehives in 2017: 400019\n",
      "------------------\n",
      "Republic of Korea\n",
      "Ratio 2017/1992: 2.8907867737782307\n",
      "Number of Beehives in 1992: 596512\n",
      "Number of Beehives in 2017: 1724389\n",
      "------------------\n",
      "Romania\n",
      "Ratio 2017/1992: 1.2007605633802816\n",
      "Number of Beehives in 1992: 1207000\n",
      "Number of Beehives in 2017: 1449318\n",
      "------------------\n",
      "Senegal\n",
      "Ratio 2017/1992: 27.63793388429752\n",
      "Number of Beehives in 1992: 12100\n",
      "Number of Beehives in 2017: 334419\n",
      "------------------\n",
      "Spain\n",
      "Ratio 2017/1992: 1.7920857495373226\n",
      "Number of Beehives in 1992: 1621000\n",
      "Number of Beehives in 2017: 2904971\n",
      "------------------\n",
      "Syrian Arab Republic\n",
      "Ratio 2017/1992: 3.166485277039721\n",
      "Number of Beehives in 1992: 164471\n",
      "Number of Beehives in 2017: 520795\n",
      "------------------\n",
      "Tajikistan\n",
      "Ratio 2017/1992: 3.616032520325203\n",
      "Number of Beehives in 1992: 61500\n",
      "Number of Beehives in 2017: 222386\n",
      "------------------\n",
      "Tunisia\n",
      "Ratio 2017/1992: 5.043871212121212\n",
      "Number of Beehives in 1992: 132000\n",
      "Number of Beehives in 2017: 665791\n",
      "------------------\n",
      "Turkey\n",
      "Ratio 2017/1992: 2.2022439728748298\n",
      "Number of Beehives in 1992: 3540328\n",
      "Number of Beehives in 2017: 7796666\n",
      "------------------\n",
      "United Republic of Tanzania\n",
      "Ratio 2017/1992: 1.2925797413793103\n",
      "Number of Beehives in 1992: 2320000\n",
      "Number of Beehives in 2017: 2998785\n",
      "------------------\n",
      "Uruguay\n",
      "Ratio 2017/1992: 1.6005133333333332\n",
      "Number of Beehives in 1992: 300000\n",
      "Number of Beehives in 2017: 480154\n",
      "------------------\n",
      "Uzbekistan\n",
      "Ratio 2017/1992: 1.390883190883191\n",
      "Number of Beehives in 1992: 351000\n",
      "Number of Beehives in 2017: 488200\n",
      "------------------\n",
      "Viet Nam\n",
      "Ratio 2017/1992: 2.931031578947368\n",
      "Number of Beehives in 1992: 95000\n",
      "Number of Beehives in 2017: 278448\n",
      "------------------\n",
      "Yemen\n",
      "Ratio 2017/1992: 3.2916666666666665\n",
      "Number of Beehives in 1992: 48000\n",
      "Number of Beehives in 2017: 158000\n",
      "------------------\n",
      "The number of beehives in the period from 1992-2017 increased in 71 of 131 countries.\n"
     ]
    }
   ],
   "source": [
    "count_increasingNumber = 0\n",
    "big_increase = []\n",
    "for country in countries:\n",
    "    try:\n",
    "        sm1 = int(beehives_countries.loc[(beehives_countries['Area'] == country) & (beehives_countries['Year'] == 1992)]['Value'])\n",
    "        sm2 = int(beehives_countries.loc[(beehives_countries['Area'] == country) & (beehives_countries['Year'] == 2017)]['Value'])\n",
    "        if sm2/sm1 > 1:\n",
    "            count_increasingNumber += 1\n",
    "        if sm2-sm1>100000:\n",
    "            print(country)\n",
    "            print(\"Ratio 2017/1992: %s\" % (sm2/sm1))\n",
    "            print(\"Number of Beehives in 1992: %s\" % sm1)\n",
    "            print(\"Number of Beehives in 2017: %s\" % sm2)\n",
    "            print(\"------------------\")\n",
    "            big_increase.append(country)\n",
    "    except:\n",
    "        continue\n",
    "print(\"The number of beehives in the period from 1992-2017 increased in %s of %s countries.\" % (count_increasingNumber, len(countries)))"
   ]
  },
  {
   "cell_type": "markdown",
   "metadata": {},
   "source": [
    "Notice: There is a difference in countries. This is due to newcomers who were not considered a country in 1992. For example 'Serbia and Montenegro' split to 'Serbia' and 'Montenegro'.  "
   ]
  },
  {
   "cell_type": "code",
   "execution_count": 30,
   "metadata": {},
   "outputs": [
    {
     "data": {
      "application/vnd.jupyter.widget-view+json": {
       "model_id": "830cb4910cd44d5ca7f2188510149665",
       "version_major": 2,
       "version_minor": 0
      },
      "text/plain": [
       "interactive(children=(Dropdown(description='country', options=('Albania', 'Algeria', 'Angola', 'Argentina', 'A…"
      ]
     },
     "metadata": {},
     "output_type": "display_data"
    }
   ],
   "source": [
    "@interact\n",
    "def show_beehives_for_country(country=big_increase):\n",
    "    beehives_country=beehives_countries.loc[beehives_countries['Area']==country]\n",
    "    \n",
    "    plt.plot(beehives_country['Year'],beehives_country['Value'],'-*')\n",
    "    plt.title('Country: '+country)\n",
    "    plt.xlabel('Years')\n",
    "    plt.ylabel('Number')\n",
    "    plt.xlim(1960, 2020)"
   ]
  },
  {
   "cell_type": "markdown",
   "metadata": {},
   "source": [
    "## Conclusion"
   ]
  },
  {
   "cell_type": "markdown",
   "metadata": {},
   "source": [
    "Looking at the data we see that countries that have a lot of bees (top ten) are increasing there effort in growing the population. While other western countries (Germany, Italy, France, Switzerland, Austria and USA) find themselves in a situation of decreasing population. "
   ]
  },
  {
   "cell_type": "markdown",
   "metadata": {},
   "source": [
    "## Let us now for aesthetic reasons plot a map "
   ]
  },
  {
   "cell_type": "markdown",
   "metadata": {},
   "source": [
    "There we can reuse our beehives_perPopulation DataFrame"
   ]
  },
  {
   "cell_type": "code",
   "execution_count": 31,
   "metadata": {},
   "outputs": [],
   "source": [
    "years = beehives_perPopulation.Year.unique()\n",
    "years = years[~np.isnan(years)]\n",
    "years = beehives_perPopulation.Year.unique()\n",
    "years = years[~np.isnan(years)]\n",
    "beehives_perPopulation.Year = beehives_perPopulation.Year.fillna(0)\n",
    "beehives_perPopulation.Year = beehives_perPopulation.Year.astype(int)\n",
    "beehives_perPopulation.Value = beehives_perPopulation.Value.fillna(0)"
   ]
  },
  {
   "cell_type": "code",
   "execution_count": 32,
   "metadata": {},
   "outputs": [],
   "source": [
    "beehives_perPopulation.Year.loc[beehives_perPopulation.Year == 0]\n",
    "newDF = beehives_perPopulation.loc[beehives_perPopulation['Year'] == 0].copy()\n",
    "for year in years: \n",
    "    newDF.Year = year\n",
    "    beehives_perPopulation = beehives_perPopulation.append(newDF, ignore_index = True)"
   ]
  },
  {
   "cell_type": "code",
   "execution_count": 57,
   "metadata": {},
   "outputs": [],
   "source": [
    "mapPlot_beehives = pd.DataFrame({})\n",
    "\n",
    "perc =[.10, .20,.30,.40,.50,.60,.70,.80,.90] \n",
    "for year in years:\n",
    "    beehives_splitted_inYears = beehives_perPopulation.loc[beehives_perPopulation['Year']==year].copy()\n",
    "    beehives_splitted_inYears['categorize value'] = np.where(beehives_splitted_inYears['Value']==0, 0, \\\n",
    "                                            np.where(beehives_splitted_inYears['Value']<=beehives_splitted_inYears.mask(beehives_splitted_inYears.Value == 0).Value.describe(percentiles = perc)['10%'], 1, \\\n",
    "                                                np.where(beehives_splitted_inYears['Value']<=beehives_splitted_inYears.mask(beehives_splitted_inYears.Value == 0).Value.describe(percentiles = perc)['20%'], 2, \\\n",
    "                                                         np.where(beehives_splitted_inYears['Value']<=beehives_splitted_inYears.mask(beehives_splitted_inYears.Value == 0).Value.describe(percentiles = perc)['30%'], 3, \\\n",
    "                                                                  np.where(beehives_splitted_inYears['Value']<=beehives_splitted_inYears.mask(beehives_splitted_inYears.Value == 0).Value.describe(percentiles = perc)['40%'], 4, \\\n",
    "                                                                           np.where(beehives_splitted_inYears['Value']<=beehives_splitted_inYears.mask(beehives_splitted_inYears.Value == 0).Value.describe(percentiles = perc)['50%'], 5, \\\n",
    "                                                                                    np.where(beehives_splitted_inYears['Value']<=beehives_splitted_inYears.mask(beehives_splitted_inYears.Value == 0).Value.describe(percentiles = perc)['60%'], 6, \\\n",
    "                                                                                             np.where(beehives_splitted_inYears['Value']<=beehives_splitted_inYears.mask(beehives_splitted_inYears.Value == 0).Value.describe(percentiles = perc)['70%'], 7, \\\n",
    "                                                                                                      np.where(beehives_splitted_inYears['Value']<=beehives_splitted_inYears.mask(beehives_splitted_inYears.Value == 0).Value.describe(percentiles = perc)['80%'], 8, \\\n",
    "                                                                                                            np.where(beehives_splitted_inYears['Value']<=beehives_splitted_inYears.mask(beehives_splitted_inYears.Value == 0).Value.describe(percentiles = perc)['90%'], 9, 10))))))))))\n",
    "    beehives_splitted_inYears['value percentile'] = np.where(beehives_splitted_inYears['Value']==0, 0, \\\n",
    "                                            np.where(beehives_splitted_inYears['Value']<=beehives_splitted_inYears.mask(beehives_splitted_inYears.Value == 0).Value.describe(percentiles = perc)['10%'], beehives_splitted_inYears.mask(beehives_splitted_inYears.Value == 0).Value.describe(percentiles = perc)['10%'], \\\n",
    "                                                np.where(beehives_splitted_inYears['Value']<=beehives_splitted_inYears.mask(beehives_splitted_inYears.Value == 0).Value.describe(percentiles = perc)['20%'], beehives_splitted_inYears.mask(beehives_splitted_inYears.Value == 0).Value.describe(percentiles = perc)['20%'], \\\n",
    "                                                         np.where(beehives_splitted_inYears['Value']<=beehives_splitted_inYears.mask(beehives_splitted_inYears.Value == 0).Value.describe(percentiles = perc)['30%'], beehives_splitted_inYears.mask(beehives_splitted_inYears.Value == 0).Value.describe(percentiles = perc)['30%'], \\\n",
    "                                                                  np.where(beehives_splitted_inYears['Value']<=beehives_splitted_inYears.mask(beehives_splitted_inYears.Value == 0).Value.describe(percentiles = perc)['40%'], beehives_splitted_inYears.mask(beehives_splitted_inYears.Value == 0).Value.describe(percentiles = perc)['40%'], \\\n",
    "                                                                           np.where(beehives_splitted_inYears['Value']<=beehives_splitted_inYears.mask(beehives_splitted_inYears.Value == 0).Value.describe(percentiles = perc)['50%'], beehives_splitted_inYears.mask(beehives_splitted_inYears.Value == 0).Value.describe(percentiles = perc)['50%'], \\\n",
    "                                                                                    np.where(beehives_splitted_inYears['Value']<=beehives_splitted_inYears.mask(beehives_splitted_inYears.Value == 0).Value.describe(percentiles = perc)['60%'], beehives_splitted_inYears.mask(beehives_splitted_inYears.Value == 0).Value.describe(percentiles = perc)['60%'], \\\n",
    "                                                                                             np.where(beehives_splitted_inYears['Value']<=beehives_splitted_inYears.mask(beehives_splitted_inYears.Value == 0).Value.describe(percentiles = perc)['70%'], beehives_splitted_inYears.mask(beehives_splitted_inYears.Value == 0).Value.describe(percentiles = perc)['70%'], \\\n",
    "                                                                                                      np.where(beehives_splitted_inYears['Value']<=beehives_splitted_inYears.mask(beehives_splitted_inYears.Value == 0).Value.describe(percentiles = perc)['80%'], beehives_splitted_inYears.mask(beehives_splitted_inYears.Value == 0).Value.describe(percentiles = perc)['80%'], \\\n",
    "                                                                                                            np.where(beehives_splitted_inYears['Value']<=beehives_splitted_inYears.mask(beehives_splitted_inYears.Value == 0).Value.describe(percentiles = perc)['90%'], beehives_splitted_inYears.mask(beehives_splitted_inYears.Value == 0).Value.describe(percentiles = perc)['90%'], beehives_splitted_inYears.Value.max()))))))))))\n",
    "    mapPlot_beehives = mapPlot_beehives.append(beehives_splitted_inYears, ignore_index = True)"
   ]
  },
  {
   "cell_type": "code",
   "execution_count": 60,
   "metadata": {},
   "outputs": [
    {
     "data": {
      "application/vnd.jupyter.widget-view+json": {
       "model_id": "cd34faed810441c3b4f4c5e25d32ba3e",
       "version_major": 2,
       "version_minor": 0
      },
      "text/plain": [
       "interactive(children=(Dropdown(description='year', options=(1992, 1993, 1994, 1995, 1996, 1997, 1998, 1999, 20…"
      ]
     },
     "metadata": {},
     "output_type": "display_data"
    }
   ],
   "source": [
    "years = range(1992,2018)\n",
    "@interact\n",
    "def show_beehives_for_country(year=years):\n",
    "    fig, ax = plt.subplots(1, figsize=(20, 12))\n",
    "    mapPlot_beehives_Year=mapPlot_beehives.loc[mapPlot_beehives['Year']==year]\n",
    "\n",
    "    mapPlot_beehives_Year.plot(column='categorize value',cmap='Blues', ax=ax, linewidth=0.8, edgecolor='0.8')\n",
    "    ax.axis('off')\n",
    "    ax.set_title('Beehives population in the world', fontdict={'fontsize': '50', 'fontweight' : '3'})\n",
    "    vmax = mapPlot_beehives_Year['value percentile'].max()\n",
    "    #sm = plt.cm.ScalarMappable(cmap='Blues', norm=plt.Normalize(vmin=0, vmax=vmax))\n",
    "    #sm._A = []\n",
    "    #cbar = fig.colorbar(sm)\n"
   ]
  },
  {
   "cell_type": "markdown",
   "metadata": {},
   "source": [
    "## Now let us take a closer look on these countries the beehives population is actually significant decreasing "
   ]
  },
  {
   "cell_type": "markdown",
   "metadata": {},
   "source": [
    "Again these are"
   ]
  },
  {
   "cell_type": "code",
   "execution_count": 35,
   "metadata": {},
   "outputs": [
    {
     "name": "stdout",
     "output_type": "stream",
     "text": [
      "Austria, Egypt, France, Germany, Italy, Kenya, Mexico, Morocco, Russian Federation, Switzerland, United States of America\n"
     ]
    }
   ],
   "source": [
    "print(*big_decrease, sep = \", \")  "
   ]
  },
  {
   "cell_type": "code",
   "execution_count": 36,
   "metadata": {},
   "outputs": [],
   "source": [
    "beehives_bigDecrease = beehives[beehives['Area'].isin(big_decrease)]"
   ]
  },
  {
   "cell_type": "code",
   "execution_count": 37,
   "metadata": {
    "scrolled": false
   },
   "outputs": [
    {
     "data": {
      "text/html": [
       "<div>\n",
       "<style scoped>\n",
       "    .dataframe tbody tr th:only-of-type {\n",
       "        vertical-align: middle;\n",
       "    }\n",
       "\n",
       "    .dataframe tbody tr th {\n",
       "        vertical-align: top;\n",
       "    }\n",
       "\n",
       "    .dataframe thead th {\n",
       "        text-align: right;\n",
       "    }\n",
       "</style>\n",
       "<table border=\"1\" class=\"dataframe\">\n",
       "  <thead>\n",
       "    <tr style=\"text-align: right;\">\n",
       "      <th></th>\n",
       "      <th>Area Code</th>\n",
       "      <th>Area</th>\n",
       "      <th>Item Code</th>\n",
       "      <th>Item</th>\n",
       "      <th>Element Code</th>\n",
       "      <th>Element</th>\n",
       "      <th>Year Code</th>\n",
       "      <th>Year</th>\n",
       "      <th>Unit</th>\n",
       "      <th>Value</th>\n",
       "      <th>Flag</th>\n",
       "    </tr>\n",
       "  </thead>\n",
       "  <tbody>\n",
       "    <tr>\n",
       "      <th>6229</th>\n",
       "      <td>11</td>\n",
       "      <td>Austria</td>\n",
       "      <td>1181</td>\n",
       "      <td>Beehives</td>\n",
       "      <td>5114</td>\n",
       "      <td>Stocks</td>\n",
       "      <td>1961</td>\n",
       "      <td>1961</td>\n",
       "      <td>No</td>\n",
       "      <td>466619.0</td>\n",
       "      <td>NaN</td>\n",
       "    </tr>\n",
       "    <tr>\n",
       "      <th>6230</th>\n",
       "      <td>11</td>\n",
       "      <td>Austria</td>\n",
       "      <td>1181</td>\n",
       "      <td>Beehives</td>\n",
       "      <td>5114</td>\n",
       "      <td>Stocks</td>\n",
       "      <td>1962</td>\n",
       "      <td>1962</td>\n",
       "      <td>No</td>\n",
       "      <td>448670.0</td>\n",
       "      <td>NaN</td>\n",
       "    </tr>\n",
       "    <tr>\n",
       "      <th>6231</th>\n",
       "      <td>11</td>\n",
       "      <td>Austria</td>\n",
       "      <td>1181</td>\n",
       "      <td>Beehives</td>\n",
       "      <td>5114</td>\n",
       "      <td>Stocks</td>\n",
       "      <td>1963</td>\n",
       "      <td>1963</td>\n",
       "      <td>No</td>\n",
       "      <td>437232.0</td>\n",
       "      <td>NaN</td>\n",
       "    </tr>\n",
       "    <tr>\n",
       "      <th>6232</th>\n",
       "      <td>11</td>\n",
       "      <td>Austria</td>\n",
       "      <td>1181</td>\n",
       "      <td>Beehives</td>\n",
       "      <td>5114</td>\n",
       "      <td>Stocks</td>\n",
       "      <td>1964</td>\n",
       "      <td>1964</td>\n",
       "      <td>No</td>\n",
       "      <td>421750.0</td>\n",
       "      <td>NaN</td>\n",
       "    </tr>\n",
       "    <tr>\n",
       "      <th>6233</th>\n",
       "      <td>11</td>\n",
       "      <td>Austria</td>\n",
       "      <td>1181</td>\n",
       "      <td>Beehives</td>\n",
       "      <td>5114</td>\n",
       "      <td>Stocks</td>\n",
       "      <td>1965</td>\n",
       "      <td>1965</td>\n",
       "      <td>No</td>\n",
       "      <td>419560.0</td>\n",
       "      <td>NaN</td>\n",
       "    </tr>\n",
       "    <tr>\n",
       "      <th>...</th>\n",
       "      <td>...</td>\n",
       "      <td>...</td>\n",
       "      <td>...</td>\n",
       "      <td>...</td>\n",
       "      <td>...</td>\n",
       "      <td>...</td>\n",
       "      <td>...</td>\n",
       "      <td>...</td>\n",
       "      <td>...</td>\n",
       "      <td>...</td>\n",
       "      <td>...</td>\n",
       "    </tr>\n",
       "    <tr>\n",
       "      <th>128894</th>\n",
       "      <td>231</td>\n",
       "      <td>United States of America</td>\n",
       "      <td>1181</td>\n",
       "      <td>Beehives</td>\n",
       "      <td>5114</td>\n",
       "      <td>Stocks</td>\n",
       "      <td>2013</td>\n",
       "      <td>2013</td>\n",
       "      <td>No</td>\n",
       "      <td>2640000.0</td>\n",
       "      <td>NaN</td>\n",
       "    </tr>\n",
       "    <tr>\n",
       "      <th>128895</th>\n",
       "      <td>231</td>\n",
       "      <td>United States of America</td>\n",
       "      <td>1181</td>\n",
       "      <td>Beehives</td>\n",
       "      <td>5114</td>\n",
       "      <td>Stocks</td>\n",
       "      <td>2014</td>\n",
       "      <td>2014</td>\n",
       "      <td>No</td>\n",
       "      <td>2740000.0</td>\n",
       "      <td>NaN</td>\n",
       "    </tr>\n",
       "    <tr>\n",
       "      <th>128896</th>\n",
       "      <td>231</td>\n",
       "      <td>United States of America</td>\n",
       "      <td>1181</td>\n",
       "      <td>Beehives</td>\n",
       "      <td>5114</td>\n",
       "      <td>Stocks</td>\n",
       "      <td>2015</td>\n",
       "      <td>2015</td>\n",
       "      <td>No</td>\n",
       "      <td>2660000.0</td>\n",
       "      <td>NaN</td>\n",
       "    </tr>\n",
       "    <tr>\n",
       "      <th>128897</th>\n",
       "      <td>231</td>\n",
       "      <td>United States of America</td>\n",
       "      <td>1181</td>\n",
       "      <td>Beehives</td>\n",
       "      <td>5114</td>\n",
       "      <td>Stocks</td>\n",
       "      <td>2016</td>\n",
       "      <td>2016</td>\n",
       "      <td>No</td>\n",
       "      <td>2775000.0</td>\n",
       "      <td>NaN</td>\n",
       "    </tr>\n",
       "    <tr>\n",
       "      <th>128898</th>\n",
       "      <td>231</td>\n",
       "      <td>United States of America</td>\n",
       "      <td>1181</td>\n",
       "      <td>Beehives</td>\n",
       "      <td>5114</td>\n",
       "      <td>Stocks</td>\n",
       "      <td>2017</td>\n",
       "      <td>2017</td>\n",
       "      <td>No</td>\n",
       "      <td>2669000.0</td>\n",
       "      <td>NaN</td>\n",
       "    </tr>\n",
       "  </tbody>\n",
       "</table>\n",
       "<p>596 rows × 11 columns</p>\n",
       "</div>"
      ],
      "text/plain": [
       "        Area Code                      Area  Item Code      Item  \\\n",
       "6229           11                   Austria       1181  Beehives   \n",
       "6230           11                   Austria       1181  Beehives   \n",
       "6231           11                   Austria       1181  Beehives   \n",
       "6232           11                   Austria       1181  Beehives   \n",
       "6233           11                   Austria       1181  Beehives   \n",
       "...           ...                       ...        ...       ...   \n",
       "128894        231  United States of America       1181  Beehives   \n",
       "128895        231  United States of America       1181  Beehives   \n",
       "128896        231  United States of America       1181  Beehives   \n",
       "128897        231  United States of America       1181  Beehives   \n",
       "128898        231  United States of America       1181  Beehives   \n",
       "\n",
       "        Element Code Element  Year Code  Year Unit      Value Flag  \n",
       "6229            5114  Stocks       1961  1961   No   466619.0  NaN  \n",
       "6230            5114  Stocks       1962  1962   No   448670.0  NaN  \n",
       "6231            5114  Stocks       1963  1963   No   437232.0  NaN  \n",
       "6232            5114  Stocks       1964  1964   No   421750.0  NaN  \n",
       "6233            5114  Stocks       1965  1965   No   419560.0  NaN  \n",
       "...              ...     ...        ...   ...  ...        ...  ...  \n",
       "128894          5114  Stocks       2013  2013   No  2640000.0  NaN  \n",
       "128895          5114  Stocks       2014  2014   No  2740000.0  NaN  \n",
       "128896          5114  Stocks       2015  2015   No  2660000.0  NaN  \n",
       "128897          5114  Stocks       2016  2016   No  2775000.0  NaN  \n",
       "128898          5114  Stocks       2017  2017   No  2669000.0  NaN  \n",
       "\n",
       "[596 rows x 11 columns]"
      ]
     },
     "execution_count": 37,
     "metadata": {},
     "output_type": "execute_result"
    }
   ],
   "source": [
    "beehives_bigDecrease"
   ]
  },
  {
   "cell_type": "markdown",
   "metadata": {},
   "source": [
    "## We found out that pesticides are one of the worst killers for bees. These include Organo-phosphates, Carbamates and Pyrethroids. They are high toxic."
   ]
  },
  {
   "cell_type": "code",
   "execution_count": 38,
   "metadata": {},
   "outputs": [],
   "source": [
    "pesticides = pd.read_csv('data/Inputs_Pesticides_Use_E_All_Data_(Normalized).csv',  encoding='iso-8859-1')"
   ]
  },
  {
   "cell_type": "markdown",
   "metadata": {},
   "source": [
    "Let us now first again preprocess the data, filter for our countries and then take a closer look if there is a correlation."
   ]
  },
  {
   "cell_type": "code",
   "execution_count": 39,
   "metadata": {
    "scrolled": true
   },
   "outputs": [
    {
     "data": {
      "text/html": [
       "<div>\n",
       "<style scoped>\n",
       "    .dataframe tbody tr th:only-of-type {\n",
       "        vertical-align: middle;\n",
       "    }\n",
       "\n",
       "    .dataframe tbody tr th {\n",
       "        vertical-align: top;\n",
       "    }\n",
       "\n",
       "    .dataframe thead th {\n",
       "        text-align: right;\n",
       "    }\n",
       "</style>\n",
       "<table border=\"1\" class=\"dataframe\">\n",
       "  <thead>\n",
       "    <tr style=\"text-align: right;\">\n",
       "      <th></th>\n",
       "      <th>Area Code</th>\n",
       "      <th>Area</th>\n",
       "      <th>Item Code</th>\n",
       "      <th>Item</th>\n",
       "      <th>Element Code</th>\n",
       "      <th>Element</th>\n",
       "      <th>Year Code</th>\n",
       "      <th>Year</th>\n",
       "      <th>Unit</th>\n",
       "      <th>Value</th>\n",
       "      <th>Flag</th>\n",
       "    </tr>\n",
       "  </thead>\n",
       "  <tbody>\n",
       "    <tr>\n",
       "      <th>0</th>\n",
       "      <td>3</td>\n",
       "      <td>Albania</td>\n",
       "      <td>1357</td>\n",
       "      <td>Pesticides (total)</td>\n",
       "      <td>5157</td>\n",
       "      <td>Agricultural Use</td>\n",
       "      <td>1990</td>\n",
       "      <td>1990</td>\n",
       "      <td>tonnes</td>\n",
       "      <td>121.0</td>\n",
       "      <td>A</td>\n",
       "    </tr>\n",
       "    <tr>\n",
       "      <th>1</th>\n",
       "      <td>3</td>\n",
       "      <td>Albania</td>\n",
       "      <td>1357</td>\n",
       "      <td>Pesticides (total)</td>\n",
       "      <td>5157</td>\n",
       "      <td>Agricultural Use</td>\n",
       "      <td>1991</td>\n",
       "      <td>1991</td>\n",
       "      <td>tonnes</td>\n",
       "      <td>121.0</td>\n",
       "      <td>A</td>\n",
       "    </tr>\n",
       "    <tr>\n",
       "      <th>2</th>\n",
       "      <td>3</td>\n",
       "      <td>Albania</td>\n",
       "      <td>1357</td>\n",
       "      <td>Pesticides (total)</td>\n",
       "      <td>5157</td>\n",
       "      <td>Agricultural Use</td>\n",
       "      <td>1992</td>\n",
       "      <td>1992</td>\n",
       "      <td>tonnes</td>\n",
       "      <td>121.0</td>\n",
       "      <td>A</td>\n",
       "    </tr>\n",
       "    <tr>\n",
       "      <th>3</th>\n",
       "      <td>3</td>\n",
       "      <td>Albania</td>\n",
       "      <td>1357</td>\n",
       "      <td>Pesticides (total)</td>\n",
       "      <td>5157</td>\n",
       "      <td>Agricultural Use</td>\n",
       "      <td>1993</td>\n",
       "      <td>1993</td>\n",
       "      <td>tonnes</td>\n",
       "      <td>121.0</td>\n",
       "      <td>A</td>\n",
       "    </tr>\n",
       "    <tr>\n",
       "      <th>4</th>\n",
       "      <td>3</td>\n",
       "      <td>Albania</td>\n",
       "      <td>1357</td>\n",
       "      <td>Pesticides (total)</td>\n",
       "      <td>5157</td>\n",
       "      <td>Agricultural Use</td>\n",
       "      <td>1994</td>\n",
       "      <td>1994</td>\n",
       "      <td>tonnes</td>\n",
       "      <td>201.0</td>\n",
       "      <td>A</td>\n",
       "    </tr>\n",
       "  </tbody>\n",
       "</table>\n",
       "</div>"
      ],
      "text/plain": [
       "   Area Code     Area  Item Code                Item  Element Code  \\\n",
       "0          3  Albania       1357  Pesticides (total)          5157   \n",
       "1          3  Albania       1357  Pesticides (total)          5157   \n",
       "2          3  Albania       1357  Pesticides (total)          5157   \n",
       "3          3  Albania       1357  Pesticides (total)          5157   \n",
       "4          3  Albania       1357  Pesticides (total)          5157   \n",
       "\n",
       "            Element  Year Code  Year    Unit  Value Flag  \n",
       "0  Agricultural Use       1990  1990  tonnes  121.0    A  \n",
       "1  Agricultural Use       1991  1991  tonnes  121.0    A  \n",
       "2  Agricultural Use       1992  1992  tonnes  121.0    A  \n",
       "3  Agricultural Use       1993  1993  tonnes  121.0    A  \n",
       "4  Agricultural Use       1994  1994  tonnes  201.0    A  "
      ]
     },
     "execution_count": 39,
     "metadata": {},
     "output_type": "execute_result"
    }
   ],
   "source": [
    "pesticides.head()"
   ]
  },
  {
   "cell_type": "code",
   "execution_count": 40,
   "metadata": {
    "scrolled": true
   },
   "outputs": [
    {
     "data": {
      "text/plain": [
       "array(['Pesticides (total)', 'Insecticides',\n",
       "       'Insecticides \\x96 Chlorinated Hydrocarbons',\n",
       "       'Insecticides \\x96 Organo-phosphates',\n",
       "       'Insecticides \\x96 Carbamates', 'Insecticides \\x96 Pyrethroids',\n",
       "       'Insecticides \\x96 Other', 'Herbicides',\n",
       "       'Herbicides \\x96 Phenoxy hormone products',\n",
       "       'Herbicides \\x96 Triazines', 'Herbicides \\x96 Amides',\n",
       "       'Herbicides \\x96 Carbamates', 'Herbicides \\x96 Dinitroanilines',\n",
       "       'Herbicides \\x96 Sulfonyl ureas', 'Herbicides \\x96 Bipiridils',\n",
       "       'Herbicides \\x96 Other', 'Fungicides and Bactericides',\n",
       "       'Fung & Bact \\x96 Inorganics', 'Fung & Bact \\x96 Dithiocarbamates',\n",
       "       'Fung & Bact \\x96 Benzimidazoles',\n",
       "       'Fung & Bact \\x96 Triazoles, diazoles', 'Fung & Bact \\x96 Other',\n",
       "       'Insecticides \\x96 Seed Treatments', 'Plant Growth Regulators',\n",
       "       'Rodenticides', 'Rodenticides \\x96 Anti-coagulants',\n",
       "       'Rodenticides \\x96 Other', 'Other Pesticides nes',\n",
       "       'Insecticides \\x96 Botanical products and biologicals',\n",
       "       'Herbicides \\x96 Urea derivates', 'Herbicides \\x96 Uracil',\n",
       "       'Fung & Bact \\x96 Diazines, morpholines',\n",
       "       'Fungicides \\x96 Seed treatments',\n",
       "       'Seed Treat Fung \\x96 Dithiocarbamates',\n",
       "       'Seed Treat Fung \\x96 Benzimidazoles',\n",
       "       'Seed Treat Fung \\x96 Triazoles, diazoles',\n",
       "       'Seed Treat Fung \\x96 Botanical products and biologicals',\n",
       "       'Seed Treat Fung \\x96 Other', 'Seed Treat Insect \\x96 Carbamates',\n",
       "       'Seed Treat Insect \\x96 Pyrethroids',\n",
       "       'Seed Treat Insect \\x96 Other', 'Mineral Oils',\n",
       "       'Seed Treat Insect \\x96 Organo-phosphates',\n",
       "       'Rodenticides \\x96 Cyanide Generators', 'Disinfectants',\n",
       "       'Rodenticides \\x96 Narcotics', 'Rodenticides \\x96 Hypercalcaemics'],\n",
       "      dtype=object)"
      ]
     },
     "execution_count": 40,
     "metadata": {},
     "output_type": "execute_result"
    }
   ],
   "source": [
    "pesticides.Item.unique()"
   ]
  },
  {
   "cell_type": "markdown",
   "metadata": {},
   "source": [
    "Oh! Our data looks bad formatted. Let us first fix this."
   ]
  },
  {
   "cell_type": "code",
   "execution_count": 41,
   "metadata": {},
   "outputs": [],
   "source": [
    "pesticides['Item'] = pesticides['Item'].str.replace('\\x96', '-')"
   ]
  },
  {
   "cell_type": "code",
   "execution_count": 42,
   "metadata": {},
   "outputs": [
    {
     "data": {
      "text/plain": [
       "array(['Pesticides (total)', 'Insecticides',\n",
       "       'Insecticides - Chlorinated Hydrocarbons',\n",
       "       'Insecticides - Organo-phosphates', 'Insecticides - Carbamates',\n",
       "       'Insecticides - Pyrethroids', 'Insecticides - Other', 'Herbicides',\n",
       "       'Herbicides - Phenoxy hormone products', 'Herbicides - Triazines',\n",
       "       'Herbicides - Amides', 'Herbicides - Carbamates',\n",
       "       'Herbicides - Dinitroanilines', 'Herbicides - Sulfonyl ureas',\n",
       "       'Herbicides - Bipiridils', 'Herbicides - Other',\n",
       "       'Fungicides and Bactericides', 'Fung & Bact - Inorganics',\n",
       "       'Fung & Bact - Dithiocarbamates', 'Fung & Bact - Benzimidazoles',\n",
       "       'Fung & Bact - Triazoles, diazoles', 'Fung & Bact - Other',\n",
       "       'Insecticides - Seed Treatments', 'Plant Growth Regulators',\n",
       "       'Rodenticides', 'Rodenticides - Anti-coagulants',\n",
       "       'Rodenticides - Other', 'Other Pesticides nes',\n",
       "       'Insecticides - Botanical products and biologicals',\n",
       "       'Herbicides - Urea derivates', 'Herbicides - Uracil',\n",
       "       'Fung & Bact - Diazines, morpholines',\n",
       "       'Fungicides - Seed treatments',\n",
       "       'Seed Treat Fung - Dithiocarbamates',\n",
       "       'Seed Treat Fung - Benzimidazoles',\n",
       "       'Seed Treat Fung - Triazoles, diazoles',\n",
       "       'Seed Treat Fung - Botanical products and biologicals',\n",
       "       'Seed Treat Fung - Other', 'Seed Treat Insect - Carbamates',\n",
       "       'Seed Treat Insect - Pyrethroids', 'Seed Treat Insect - Other',\n",
       "       'Mineral Oils', 'Seed Treat Insect - Organo-phosphates',\n",
       "       'Rodenticides - Cyanide Generators', 'Disinfectants',\n",
       "       'Rodenticides - Narcotics', 'Rodenticides - Hypercalcaemics'],\n",
       "      dtype=object)"
      ]
     },
     "execution_count": 42,
     "metadata": {},
     "output_type": "execute_result"
    }
   ],
   "source": [
    "pesticides.Item.unique()"
   ]
  },
  {
   "cell_type": "markdown",
   "metadata": {},
   "source": [
    "Now this looks better."
   ]
  },
  {
   "cell_type": "markdown",
   "metadata": {},
   "source": [
    "For us interesting are Organo-phosphates, Carbamates and Pyrethroids as well as the total use in the countries where bees are decreasing."
   ]
  },
  {
   "cell_type": "code",
   "execution_count": 43,
   "metadata": {},
   "outputs": [],
   "source": [
    "pesticides_total = pesticides.loc[(pesticides['Item'] == 'Pesticides (total)') & (pesticides['Area'].isin(big_decrease))]\n",
    "pesticides_total_world = pesticides.loc[(pesticides['Item'] == 'Pesticides (total)') & (pesticides['Area'] == 'World')]"
   ]
  },
  {
   "cell_type": "code",
   "execution_count": 44,
   "metadata": {},
   "outputs": [],
   "source": [
    "pesticides_organoPhosphates = pesticides.loc[(pesticides['Item'] == 'Insecticides - Organo-phosphates') & (pesticides['Area'].isin(big_decrease))]\n",
    "pesticides_carbamates = pesticides.loc[(pesticides['Item'] == 'Insecticides - Carbamates') & (pesticides['Area'].isin(big_decrease))]\n",
    "pesticides_pyrethroids = pesticides.loc[(pesticides['Item'] == 'Insecticides - Pyrethroids') & (pesticides['Area'].isin(big_decrease))]"
   ]
  },
  {
   "cell_type": "markdown",
   "metadata": {},
   "source": [
    "Let us now first see how the use of pesticides across the world is. Unfortunately we only have data from 1990 to 2017."
   ]
  },
  {
   "cell_type": "code",
   "execution_count": 45,
   "metadata": {
    "scrolled": true
   },
   "outputs": [
    {
     "data": {
      "text/plain": [
       "(1990, 2020)"
      ]
     },
     "execution_count": 45,
     "metadata": {},
     "output_type": "execute_result"
    },
    {
     "data": {
      "image/png": "[encoded data removed]",
      "text/plain": [
       "<Figure size 432x288 with 1 Axes>"
      ]
     },
     "metadata": {
      "needs_background": "light"
     },
     "output_type": "display_data"
    }
   ],
   "source": [
    "plt.plot(pesticides_total_world['Year'], pesticides_total_world['Value'])\n",
    "plt.title('Use of Pesticides total in the world per year')\n",
    "plt.xlabel('Years')\n",
    "plt.ylabel('Use of pesticides in tonnes')\n",
    "plt.xlim(1990, 2020)"
   ]
  },
  {
   "cell_type": "markdown",
   "metadata": {},
   "source": [
    "### Here we see an increasing number of pesticides throughout the world. How is the increase considered only the toxic pesticides?"
   ]
  },
  {
   "cell_type": "code",
   "execution_count": 46,
   "metadata": {},
   "outputs": [
    {
     "data": {
      "application/vnd.jupyter.widget-view+json": {
       "model_id": "876c1f455b5f47fb8f60f4412b4fe00e",
       "version_major": 2,
       "version_minor": 0
      },
      "text/plain": [
       "interactive(children=(Dropdown(description='country', options=('Austria', 'Egypt', 'France', 'Germany', 'Italy…"
      ]
     },
     "metadata": {},
     "output_type": "display_data"
    }
   ],
   "source": [
    "@interact\n",
    "def show_beehives_for_country(country=big_decrease):\n",
    "    pesticides_organoPhosphates_country=pesticides_organoPhosphates.loc[pesticides_organoPhosphates['Area']==country]\n",
    "    plt.plot(pesticides_organoPhosphates_country['Year'],pesticides_organoPhosphates_country['Value'],'-*')\n",
    "    plt.title('Country: '+country)\n",
    "    plt.xlabel('Years')\n",
    "    plt.ylabel('Number')\n",
    "    plt.xlim(1990, 2020)"
   ]
  },
  {
   "cell_type": "code",
   "execution_count": 47,
   "metadata": {
    "scrolled": true
   },
   "outputs": [
    {
     "data": {
      "application/vnd.jupyter.widget-view+json": {
       "model_id": "a69e322cb7a942bebcbcf94ac81e09af",
       "version_major": 2,
       "version_minor": 0
      },
      "text/plain": [
       "interactive(children=(Dropdown(description='country', options=('Austria', 'Egypt', 'France', 'Germany', 'Italy…"
      ]
     },
     "metadata": {},
     "output_type": "display_data"
    }
   ],
   "source": [
    "@interact\n",
    "def show_beehives_for_country(country=big_decrease):\n",
    "    pesticides_carbamates_country=pesticides_carbamates.loc[pesticides_carbamates['Area']==country]\n",
    "    plt.plot(pesticides_carbamates_country['Year'],pesticides_carbamates_country['Value'],'-*')\n",
    "    plt.title('Country: '+country)\n",
    "    plt.xlabel('Years')\n",
    "    plt.ylabel('Number')\n",
    "    plt.xlim(1990, 2020)"
   ]
  },
  {
   "cell_type": "code",
   "execution_count": 48,
   "metadata": {},
   "outputs": [
    {
     "data": {
      "application/vnd.jupyter.widget-view+json": {
       "model_id": "c77a14b50b914e6aa4551646f9d00b3a",
       "version_major": 2,
       "version_minor": 0
      },
      "text/plain": [
       "interactive(children=(Dropdown(description='country', options=('Austria', 'Egypt', 'France', 'Germany', 'Italy…"
      ]
     },
     "metadata": {},
     "output_type": "display_data"
    }
   ],
   "source": [
    "@interact\n",
    "def show_beehives_for_country(country=big_decrease):\n",
    "    pesticides_pyrethroids_country=pesticides_pyrethroids.loc[pesticides_pyrethroids['Area']==country]\n",
    "    plt.plot(pesticides_pyrethroids_country['Year'],pesticides_pyrethroids_country['Value'],'-*')\n",
    "    plt.title('Country: '+country)\n",
    "    plt.xlabel('Years')\n",
    "    plt.ylabel('Number')\n",
    "    plt.xlim(1990, 2020)"
   ]
  },
  {
   "cell_type": "markdown",
   "metadata": {},
   "source": [
    "This data does look hard to obtain since a lot of countries are not covered in this dataset. However some are. From looking at the three different pesticides we see that Pyrethroids are increasing in Austria, France, Germany, France, Italy and Switzerland. The two other pesticides decrease."
   ]
  },
  {
   "cell_type": "markdown",
   "metadata": {},
   "source": [
    "### But what are Pyrethroids and why is the numer increasing this much? "
   ]
  },
  {
   "cell_type": "markdown",
   "metadata": {},
   "source": [
    "Insecticides in general are a substance to kill insects. Some of them are widely regarded as safe to the human but '2250 times more toxic to insects'. [https://www.ncbi.nlm.nih.gov/pmc/articles/PMC6174339/]. One of those is the Pyrethroid. It is recommendd for 'in-home insect control' to keep the house clean of insects and so widely spread. They can also be found in different products, like mosquito repellents, soap for pets or in our sprinkled in ones garden. [https://www.theverge.com/2014/2/19/5423480/popular-poison-pyrethroid-health-risks].\n",
    "The effects of pesticides on bees can weaken their immune system which makes them less productive and leads to a decline of bees population."
   ]
  },
  {
   "cell_type": "markdown",
   "metadata": {},
   "source": [
    "## Let us now take a closer look at the honey prize, can we see an increase in countries where bees are declining?"
   ]
  },
  {
   "cell_type": "code",
   "execution_count": 61,
   "metadata": {},
   "outputs": [],
   "source": [
    "#load the data\n",
    "honey_price = pd.read_csv('data/ .csv',  encoding='iso-8859-1')\n",
    "\n"
   ]
  },
  {
   "cell_type": "code",
   "execution_count": null,
   "metadata": {},
   "outputs": [],
   "source": []
  },
  {
   "cell_type": "markdown",
   "metadata": {},
   "source": [
    "https://watermark.silverchair.com/pmx001.pdf?token=AQECAHi208BE49Ooan9kkhW_Ercy7Dm3ZL_9Cf3qfKAc485ysgAAAlQwggJQBgkqhkiG9w0BBwagggJBMIICPQIBADCCAjYGCSqGSIb3DQEHATAeBglghkgBZQMEAS4wEQQMGvLTcs3fYq9aJOsPAgEQgIICBzTd9jne1QhZ_T5fZzBIejx_R7LDpCR70ccn4KZibpaCo4F45_hIucK74pNxtlgBOWFrlm03VoNG0tMh0QGAzYE47EIXfjHnlzA8xRPZ5Be_kuhoJjz6m-ky_crQbSp6xS-KdmA0Yw5Ri2dhuRBhNqlH20SRQ0PPp8Q_dn21vWLUBWG89du7w-s47b9FxkM01oMreUHytIlJ0VJacrUH02EZTpHUVP6QxUvsacALAzH_MMWrJ9dI-6CUdObk5ghgMxrwaF3HJgK_fMurXweTB_vu7EOPLsw7AcIir1d6kHy-ybdwvAOzx9CVhbXheELEXKcNOUsGY6rIjdFBa84PuHgKCpf4NIwTLLbd45U5CVqM2hIU_hx_BMnO5kEo-0OPURrIqp2jWFrJ4CleqGz_9RlFeicnAKtn7OQ7ey6u-3LDQCEOwOUJL6_-JD5LSxGu2SWvUl5oGvnmS7A0H7W4HN_H1zJRQ_5ECvc1GNTJGFt26vuubDTiqn1UHG-kq8CDJNhjbbWsCJYh1mcqMj6Qn-sndPMek39tRcSmYRu7xtl-fohQDgF_pDOcqS_zmWL1COny0kIydigv64ouhDL0TGa-cJsa8_IFbRG0HTeVeScqSdAdImR3xgUXEn876JxyeSQrmZIF_56YFkIK9bsAHWdRehWDdD7ax9YX2bq8gia_lLtLvpUenA "
   ]
  },
  {
   "cell_type": "code",
   "execution_count": null,
   "metadata": {},
   "outputs": [],
   "source": [
    "beehives_countries"
   ]
  }
 ],
 "metadata": {
  "kernelspec": {
   "display_name": "Python 3",
   "language": "python",
   "name": "python3"
  },
  "language_info": {
   "codemirror_mode": {
    "name": "ipython",
    "version": 3
   },
   "file_extension": ".py",
   "mimetype": "text/x-python",
   "name": "python",
   "nbconvert_exporter": "python",
   "pygments_lexer": "ipython3",
   "version": "3.7.3"
  }
 },
 "nbformat": 4,
 "nbformat_minor": 2
}
