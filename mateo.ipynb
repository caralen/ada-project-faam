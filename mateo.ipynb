{
 "cells": [
  {
   "cell_type": "code",
   "execution_count": 29,
   "metadata": {},
   "outputs": [],
   "source": [
    "%matplotlib inline\n",
    "import pandas as pd\n",
    "import numpy as np\n",
    "import scipy.stats as  sc\n",
    "import matplotlib.pyplot as plt\n",
    "#For interactive plots\n",
    "import ipywidgets as widgets\n",
    "from ipywidgets import interact, interact_manual"
   ]
  },
  {
   "cell_type": "markdown",
   "metadata": {},
   "source": [
    "# Trying to correlate the number of beehives with the honey price and prodcution"
   ]
  },
  {
   "cell_type": "code",
   "execution_count": 30,
   "metadata": {},
   "outputs": [],
   "source": [
    "#load the data\n",
    "fertilizers = pd.read_csv('data/Production_Livestock_E_All_Data_(Normalized).csv',  encoding='iso-8859-1')\n",
    "bees=fertilizers.loc[fertilizers.Item=='Beehives']\n",
    "\n",
    "stocks = pd.read_csv('data/Prices_E_All_Data_(Normalized).csv',  encoding='iso-8859-1')\n",
    "honey_price=stocks.loc[stocks.Item == 'Honey, natural']\n",
    "\n",
    "production=pd.read_csv('data/Production_LivestockPrimary_E_All_Data_(Normalized).csv', encoding='iso-8859-1')\n",
    "honey_production=production.loc[(production.Item=='Honey, natural')  & (honey_production.Element=='Production')]"
   ]
  },
  {
   "cell_type": "code",
   "execution_count": null,
   "metadata": {},
   "outputs": [],
   "source": []
  },
  {
   "cell_type": "markdown",
   "metadata": {},
   "source": [
    "### Countries and Areas"
   ]
  },
  {
   "cell_type": "code",
   "execution_count": 32,
   "metadata": {},
   "outputs": [],
   "source": [
    "countries = ['Albania', 'Algeria', 'Angola', 'Argentina', 'Armenia','Australia', 'Austria', 'Azerbaijan', 'Belarus', 'Belgium','Belgium-Luxembourg', 'Belize', 'Bolivia (Plurinational State of)','Bosnia and Herzegovina', 'Brazil', 'Bulgaria', 'Burundi','Cameroon', 'Canada', 'Central African Republic', 'Chad', 'Chile','China', 'Colombia', 'Cook Islands', 'Costa Rica', 'Croatia', 'Cuba','Cyprus', 'Czechia', 'Czechoslovakia', 'Dominican Republic','Ecuador', 'Egypt', 'El Salvador', 'Estonia', 'Ethiopia','Ethiopia PDR', 'Fiji', 'Finland', 'France', 'French Polynesia','Georgia', 'Germany', 'Greece', 'Greenland', 'Guadeloupe', 'Guam','Guatemala', 'Guinea', 'Guinea-Bissau', 'Guyana', 'Haiti','Honduras', 'Hungary', 'India', 'Iran (Islamic Republic of)','Israel', 'Italy', 'Jamaica', 'Japan', 'Jordan', 'Kenya','Kyrgyzstan', 'Latvia', 'Lebanon', 'Libya', 'Liechtenstein','Lithuania', 'Luxembourg', 'Madagascar', 'Mali', 'Martinique','Mexico', 'Mongolia', 'Montenegro', 'Morocco', 'Mozambique','Myanmar', 'Netherlands', 'New Caledonia', 'New Zealand','Nigeria', 'Niue', 'Occupied Palestinian Territory', 'Oman','Pakistan', 'Paraguay', 'Poland', 'Portugal', 'Puerto Rico','Republic of Korea', 'Republic of Moldova', 'Romania','Russian Federation', 'Rwanda', 'Samoa', 'Senegal', 'Serbia','Serbia and Montenegro', 'Slovakia', 'Slovenia', 'South Africa','Spain', 'Sudan', 'Sudan (former)', 'Sweden', 'Switzerland','Syrian Arab Republic', 'Tajikistan','The former Yugoslav Republic of Macedonia', 'Timor-Leste','Tonga', 'Trinidad and Tobago', 'Tunisia', 'Turkey', 'Tuvalu','Uganda', 'Ukraine', 'United Kingdom','United Republic of Tanzania', 'United States of America','Uruguay', 'USSR', 'Uzbekistan','Venezuela (Bolivarian Republic of)', 'Viet Nam','Wallis and Futuna Islands', 'Yemen', 'Yugoslav SFR', 'Zambia']\n",
    "world = ['World']\n",
    "continents = ['Africa','Americas', 'Asia',  'Europe', 'Oceania']\n",
    "regions = ['Eastern Africa', 'Middle Africa', 'Northern Africa', 'Southern Africa', 'Western Africa', 'Northern America', 'South America', 'Central America', 'Caribbean','Central Asia', 'Eastern Asia', 'Southern Asia', 'South-Eastern Asia', 'Western Asia', 'Eastern Europe', 'Northern Europe', 'Southern Europe', 'Western Europe', 'Melanesia', 'Micronesia', 'Polynesia', 'Australia & New Zealand']\n",
    "consolidations = ['European Union', 'China, mainland', 'China, Taiwan Province of',]\n",
    "index_based = ['Least Developed Countries', 'Land Locked Developing Countries','Small Island Developing States','Low Income Food Deficit Countries', 'Net Food Importing Developing Countries']"
   ]
  },
  {
   "cell_type": "markdown",
   "metadata": {},
   "source": [
    "## Let's have a look a the data \n",
    "\n",
    "For each country, we plot the honey price and production on one figure and the numberof beehives in a second one"
   ]
  },
  {
   "cell_type": "code",
   "execution_count": 107,
   "metadata": {},
   "outputs": [
    {
     "data": {
      "application/vnd.jupyter.widget-view+json": {
       "model_id": "bdd35629740f43d4a90095f3fa04a2cf",
       "version_major": 2,
       "version_minor": 0
      },
      "text/plain": [
       "interactive(children=(Dropdown(description='country', options=('Albania', 'Algeria', 'Angola', 'Argentina', 'A…"
      ]
     },
     "metadata": {},
     "output_type": "display_data"
    }
   ],
   "source": [
    "@interact\n",
    "def HoneyPrice(country=countries):\n",
    "    h_p = honey_price.loc[(honey_price.Area == country) & (honey_price.Unit =='USD')]\n",
    "    b=bees.loc[bees.Area==country]\n",
    "    prod=honey_production.loc[(honey_production.Area==country)]\n",
    "    \n",
    "    fig, ax1 = plt.subplots(2)\n",
    "    \n",
    "    fig.set_size_inches(18, 10)\n",
    "\n",
    "    color = 'tab:red'\n",
    "    ax1[0].set_title('Honey price and Production')\n",
    "    ax1[0].set_xlabel('year')\n",
    "    ax1[0].set_ylabel('USD price', color=color)\n",
    "    ax1[0].plot(h_p.Year, h_p.Value, color=color)\n",
    "    ax1[0].tick_params(axis='y', labelcolor=color)\n",
    "\n",
    "    ax2 = ax1[0].twinx()  # instantiate a second axes that shares the same x-axis\n",
    "\n",
    "    color = 'tab:blue'\n",
    "    ax2.set_ylabel('Production in ', color=color)  # we already handled the x-label with ax1\n",
    "    ax2.plot(prod.Year, prod.Value, color=color)\n",
    "    ax2.tick_params(axis='y', labelcolor=color)\n",
    "\n",
    "    fig.tight_layout()  # otherwise the right y-label is slightly clipped\n",
    "    \n",
    "    \n",
    "    ax1[1].plot(b.Year,b.Value)\n",
    "    ax1[1].set_title('Number of beehives')\n",
    "    \n",
    "    \n",
    "    \n",
    "    \n",
    "    "
   ]
  },
  {
   "cell_type": "markdown",
   "metadata": {},
   "source": [
    "## We can see here that there is a lot of data missing, especilly for the prices. most of the time we only have chuncks of the data, not even from the same time period "
   ]
  },
  {
   "cell_type": "markdown",
   "metadata": {},
   "source": [
    "Let's try to corellate the honey price with the number of beehives in the same time period.\n",
    "\n",
    "First we extract the "
   ]
  },
  {
   "cell_type": "code",
   "execution_count": 100,
   "metadata": {},
   "outputs": [],
   "source": [
    "#Extract only the countries data\n",
    "bees_countries = bees[bees['Area'].isin(countries)]\n",
    "price_countries = honey_price[honey_price.Area.isin(countries)]\n",
    "prod_countries = honey_production[honey_production.Area.isin(countries)]\n"
   ]
  },
  {
   "cell_type": "code",
   "execution_count": 117,
   "metadata": {},
   "outputs": [],
   "source": [
    "def price_beehives_corr(c):\n",
    "    bee = bees_countries.loc[bees_countries.Area == c]\n",
    "    prod = prod_countries.loc[(prod_countries.Area == c)]\n",
    "    \n",
    "    if len(prod)>0 and len(bee)>0:\n",
    "        min_year = max(bee.Year.min(),prod.Year.min())\n",
    "        max_year = min(bee.Year.max(),prod.Year.max())\n",
    "\n",
    "        bee = bee.loc[(bee.Year >= min_year) & (bee.Year<=max_year)]\n",
    "        prod = prod.loc[(prod.Year >= min_year) & (prod.Year<=max_year)]\n",
    "        \n",
    "        \n",
    "        if len(prod) == len(bee) and len(bee)  > 9: #we check only if we have at least tenyears of data\n",
    "            try:\n",
    "                return sc.stats.pearsonr(bee.Value,prod.Value)[0]\n",
    "            except:\n",
    "                return np.nan\n",
    "        else:\n",
    "            return np.nan\n",
    "    else:\n",
    "        return np.nan\n",
    "    "
   ]
  },
  {
   "cell_type": "code",
   "execution_count": 118,
   "metadata": {},
   "outputs": [],
   "source": [
    "def production_beehives_corr(c):\n",
    "    bee = bees_countries.loc[bees_countries.Area == c]\n",
    "    price = price_countries.loc[(price_countries.Area == c) & (price_countries.Unit == 'USD')]\n",
    "    \n",
    "    if len(price)>0 and len(bee)>0:\n",
    "        min_year = max(bee.Year.min(),price.Year.min())\n",
    "        max_year = min(bee.Year.max(),price.Year.max())\n",
    "\n",
    "        bee = bee.loc[(bee.Year >= min_year) & (bee.Year<=max_year)]\n",
    "        price = price.loc[(price.Year >= min_year) & (price.Year<=max_year)]\n",
    "        \n",
    "        \n",
    "        if len(price) == len(bee) and len(bee)  > 9: #we check only if we have at least tenyears of data\n",
    "            try:\n",
    "                return sc.stats.pearsonr(bee.Value,price.Value)[0]\n",
    "            except:\n",
    "                return np.nan\n",
    "        else:\n",
    "            return np.nan\n",
    "    else:\n",
    "        return np.nan\n",
    "    "
   ]
  },
  {
   "cell_type": "code",
   "execution_count": 119,
   "metadata": {},
   "outputs": [],
   "source": [
    "def price_production_corr(c):\n",
    "    prod = prod_countries.loc[prod_countries.Area == c]\n",
    "    price = price_countries.loc[(price_countries.Area == c) & (price_countries.Unit == 'USD')]\n",
    "    \n",
    "    if len(price)>0 and len(bee)>0:\n",
    "        min_year = max(prod.Year.min(),price.Year.min())\n",
    "        max_year = min(prod.Year.max(),price.Year.max())\n",
    "\n",
    "        prod = prod.loc[(prod.Year >= min_year) & (prod.Year<=max_year)]\n",
    "        price = price.loc[(price.Year >= min_year) & (price.Year<=max_year)]\n",
    "        \n",
    "        \n",
    "        if len(price) == len(prod) and len(prod)  > 9: #we check only if we have at least tenyears of data\n",
    "            try:\n",
    "                return sc.stats.pearsonr(prod.Value,price.Value)[0]\n",
    "            except:\n",
    "                return np.nan\n",
    "        else:\n",
    "            return np.nan\n",
    "    else:\n",
    "        return np.nan"
   ]
  },
  {
   "cell_type": "code",
   "execution_count": 131,
   "metadata": {},
   "outputs": [],
   "source": [
    "corrs = []\n",
    "index=[]\n",
    "for c in countries:\n",
    "    corr = []\n",
    "    corr.append(price_beehives_corr(c))\n",
    "    corr.append(price_production_corr(c))\n",
    "    corr.append(production_beehives_corr(c))\n",
    "    \n",
    "    corrs.append(corr)\n",
    "    index.append(c)\n",
    "    \n",
    "corrs = pd.DataFrame(data=corrs, columns=['price-beehives','price-prod','prod-beehives'],index=index)       "
   ]
  },
  {
   "cell_type": "code",
   "execution_count": 132,
   "metadata": {},
   "outputs": [
    {
     "data": {
      "text/html": [
       "<div>\n",
       "<style scoped>\n",
       "    .dataframe tbody tr th:only-of-type {\n",
       "        vertical-align: middle;\n",
       "    }\n",
       "\n",
       "    .dataframe tbody tr th {\n",
       "        vertical-align: top;\n",
       "    }\n",
       "\n",
       "    .dataframe thead th {\n",
       "        text-align: right;\n",
       "    }\n",
       "</style>\n",
       "<table border=\"1\" class=\"dataframe\">\n",
       "  <thead>\n",
       "    <tr style=\"text-align: right;\">\n",
       "      <th></th>\n",
       "      <th>price-beehives</th>\n",
       "      <th>price-prod</th>\n",
       "      <th>prod-beehives</th>\n",
       "    </tr>\n",
       "  </thead>\n",
       "  <tbody>\n",
       "    <tr>\n",
       "      <td>Albania</td>\n",
       "      <td>0.942499</td>\n",
       "      <td>NaN</td>\n",
       "      <td>NaN</td>\n",
       "    </tr>\n",
       "    <tr>\n",
       "      <td>Algeria</td>\n",
       "      <td>NaN</td>\n",
       "      <td>NaN</td>\n",
       "      <td>NaN</td>\n",
       "    </tr>\n",
       "    <tr>\n",
       "      <td>Angola</td>\n",
       "      <td>0.993842</td>\n",
       "      <td>NaN</td>\n",
       "      <td>NaN</td>\n",
       "    </tr>\n",
       "    <tr>\n",
       "      <td>Argentina</td>\n",
       "      <td>0.886085</td>\n",
       "      <td>NaN</td>\n",
       "      <td>NaN</td>\n",
       "    </tr>\n",
       "    <tr>\n",
       "      <td>Armenia</td>\n",
       "      <td>0.919345</td>\n",
       "      <td>0.816956</td>\n",
       "      <td>0.926064</td>\n",
       "    </tr>\n",
       "    <tr>\n",
       "      <td>...</td>\n",
       "      <td>...</td>\n",
       "      <td>...</td>\n",
       "      <td>...</td>\n",
       "    </tr>\n",
       "    <tr>\n",
       "      <td>Viet Nam</td>\n",
       "      <td>0.934601</td>\n",
       "      <td>0.618630</td>\n",
       "      <td>0.834061</td>\n",
       "    </tr>\n",
       "    <tr>\n",
       "      <td>Wallis and Futuna Islands</td>\n",
       "      <td>0.936978</td>\n",
       "      <td>NaN</td>\n",
       "      <td>NaN</td>\n",
       "    </tr>\n",
       "    <tr>\n",
       "      <td>Yemen</td>\n",
       "      <td>0.999599</td>\n",
       "      <td>NaN</td>\n",
       "      <td>NaN</td>\n",
       "    </tr>\n",
       "    <tr>\n",
       "      <td>Yugoslav SFR</td>\n",
       "      <td>0.276241</td>\n",
       "      <td>NaN</td>\n",
       "      <td>NaN</td>\n",
       "    </tr>\n",
       "    <tr>\n",
       "      <td>Zambia</td>\n",
       "      <td>NaN</td>\n",
       "      <td>NaN</td>\n",
       "      <td>NaN</td>\n",
       "    </tr>\n",
       "  </tbody>\n",
       "</table>\n",
       "<p>131 rows × 3 columns</p>\n",
       "</div>"
      ],
      "text/plain": [
       "                           price-beehives  price-prod  prod-beehives\n",
       "Albania                          0.942499         NaN            NaN\n",
       "Algeria                               NaN         NaN            NaN\n",
       "Angola                           0.993842         NaN            NaN\n",
       "Argentina                        0.886085         NaN            NaN\n",
       "Armenia                          0.919345    0.816956       0.926064\n",
       "...                                   ...         ...            ...\n",
       "Viet Nam                         0.934601    0.618630       0.834061\n",
       "Wallis and Futuna Islands        0.936978         NaN            NaN\n",
       "Yemen                            0.999599         NaN            NaN\n",
       "Yugoslav SFR                     0.276241         NaN            NaN\n",
       "Zambia                                NaN         NaN            NaN\n",
       "\n",
       "[131 rows x 3 columns]"
      ]
     },
     "execution_count": 132,
     "metadata": {},
     "output_type": "execute_result"
    }
   ],
   "source": [
    "corrs"
   ]
  },
  {
   "cell_type": "code",
   "execution_count": 141,
   "metadata": {},
   "outputs": [
    {
     "data": {
      "text/plain": [
       "Text(0.5, 1.0, 'Distribution of the number of beehives and \\n the honey production correlation\\n accross countries ')"
      ]
     },
     "execution_count": 141,
     "metadata": {},
     "output_type": "execute_result"
    },
    {
     "data": {
      "image/png": "[encoded data removed]",
      "text/plain": [
       "<Figure size 1440x1440 with 3 Axes>"
      ]
     },
     "metadata": {
      "needs_background": "light"
     },
     "output_type": "display_data"
    }
   ],
   "source": [
    "plt.figure(figsize=[20,20])\n",
    "plt.subplot(221)\n",
    "plt.hist(corrs['price-beehives'], bins=20)\n",
    "plt.title('Distribution of the price and \\n the number of beehives correlation\\n accross countries ')\n",
    "\n",
    "plt.subplot(222)\n",
    "plt.hist(corrs['price-prod'], bins=20)\n",
    "plt.title('Distribution of the price and \\n the honey production correlation\\n accross countries ')\n",
    "\n",
    "plt.subplot(223)\n",
    "plt.hist(corrs['prod-beehives'], bins=20)\n",
    "plt.title('Distribution of the number of beehives and \\n the honey production correlation\\n accross countries ')"
   ]
  },
  {
   "cell_type": "markdown",
   "metadata": {},
   "source": [
    "The distribution of the correlation of the honey price with the number of beehives seems to be left skewed, We can also distinguish the same pattern on the price/production plot. This could mean that, world wide, the number of beehives is dependent on the price of the honey. \n",
    "\n",
    "If we find a way to predict the price of honey in the next year, we could be able to deduce the number of beehives and the next years.\n",
    "\n",
    "This needs further research because too much data is missing, it's hard to say if those result are justified"
   ]
  },
  {
   "cell_type": "code",
   "execution_count": null,
   "metadata": {},
   "outputs": [],
   "source": []
  }
 ],
 "metadata": {
  "kernelspec": {
   "display_name": "Python 3",
   "language": "python",
   "name": "python3"
  },
  "language_info": {
   "codemirror_mode": {
    "name": "ipython",
    "version": 3
   },
   "file_extension": ".py",
   "mimetype": "text/x-python",
   "name": "python",
   "nbconvert_exporter": "python",
   "pygments_lexer": "ipython3",
   "version": "3.7.4"
  }
 },
 "nbformat": 4,
 "nbformat_minor": 2
}
