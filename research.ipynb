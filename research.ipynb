{
 "cells": [
  {
   "cell_type": "code",
   "execution_count": 1,
   "metadata": {},
   "outputs": [],
   "source": [
    "%matplotlib inline\n",
    "import pandas as pd\n",
    "import numpy as np\n",
    "import matplotlib.pyplot as plt\n",
    "#For interactive plots\n",
    "import ipywidgets as widgets\n",
    "from ipywidgets import interact, interact_manual"
   ]
  },
  {
   "cell_type": "code",
   "execution_count": 26,
   "metadata": {},
   "outputs": [
    {
     "data": {
      "text/html": [
       "<div>\n",
       "<style scoped>\n",
       "    .dataframe tbody tr th:only-of-type {\n",
       "        vertical-align: middle;\n",
       "    }\n",
       "\n",
       "    .dataframe tbody tr th {\n",
       "        vertical-align: top;\n",
       "    }\n",
       "\n",
       "    .dataframe thead th {\n",
       "        text-align: right;\n",
       "    }\n",
       "</style>\n",
       "<table border=\"1\" class=\"dataframe\">\n",
       "  <thead>\n",
       "    <tr style=\"text-align: right;\">\n",
       "      <th></th>\n",
       "      <th>country_or_area</th>\n",
       "      <th>element_code</th>\n",
       "      <th>element</th>\n",
       "      <th>year</th>\n",
       "      <th>unit</th>\n",
       "      <th>value</th>\n",
       "      <th>value_footnotes</th>\n",
       "      <th>category</th>\n",
       "    </tr>\n",
       "  </thead>\n",
       "  <tbody>\n",
       "    <tr>\n",
       "      <td>8042</td>\n",
       "      <td>Africa +</td>\n",
       "      <td>11</td>\n",
       "      <td>Stocks</td>\n",
       "      <td>2007.0</td>\n",
       "      <td>No</td>\n",
       "      <td>16199398.0</td>\n",
       "      <td>A</td>\n",
       "      <td>beehives</td>\n",
       "    </tr>\n",
       "    <tr>\n",
       "      <td>8043</td>\n",
       "      <td>Africa +</td>\n",
       "      <td>11</td>\n",
       "      <td>Stocks</td>\n",
       "      <td>2006.0</td>\n",
       "      <td>No</td>\n",
       "      <td>16214756.0</td>\n",
       "      <td>A</td>\n",
       "      <td>beehives</td>\n",
       "    </tr>\n",
       "    <tr>\n",
       "      <td>8044</td>\n",
       "      <td>Africa +</td>\n",
       "      <td>11</td>\n",
       "      <td>Stocks</td>\n",
       "      <td>2005.0</td>\n",
       "      <td>No</td>\n",
       "      <td>15362910.0</td>\n",
       "      <td>A</td>\n",
       "      <td>beehives</td>\n",
       "    </tr>\n",
       "    <tr>\n",
       "      <td>8045</td>\n",
       "      <td>Africa +</td>\n",
       "      <td>11</td>\n",
       "      <td>Stocks</td>\n",
       "      <td>2004.0</td>\n",
       "      <td>No</td>\n",
       "      <td>15803095.0</td>\n",
       "      <td>A</td>\n",
       "      <td>beehives</td>\n",
       "    </tr>\n",
       "    <tr>\n",
       "      <td>8046</td>\n",
       "      <td>Africa +</td>\n",
       "      <td>11</td>\n",
       "      <td>Stocks</td>\n",
       "      <td>2003.0</td>\n",
       "      <td>No</td>\n",
       "      <td>15465850.0</td>\n",
       "      <td>A</td>\n",
       "      <td>beehives</td>\n",
       "    </tr>\n",
       "  </tbody>\n",
       "</table>\n",
       "</div>"
      ],
      "text/plain": [
       "     country_or_area element_code element    year unit       value  \\\n",
       "8042        Africa +           11  Stocks  2007.0   No  16199398.0   \n",
       "8043        Africa +           11  Stocks  2006.0   No  16214756.0   \n",
       "8044        Africa +           11  Stocks  2005.0   No  15362910.0   \n",
       "8045        Africa +           11  Stocks  2004.0   No  15803095.0   \n",
       "8046        Africa +           11  Stocks  2003.0   No  15465850.0   \n",
       "\n",
       "     value_footnotes  category  \n",
       "8042              A   beehives  \n",
       "8043              A   beehives  \n",
       "8044              A   beehives  \n",
       "8045              A   beehives  \n",
       "8046              A   beehives  "
      ]
     },
     "execution_count": 26,
     "metadata": {},
     "output_type": "execute_result"
    }
   ],
   "source": [
    "#load the data\n",
    "df = pd.read_csv('data/fao_data_fertilizers_data.csv')\n",
    "\n",
    "\n",
    "beehives = df.loc[df['category']=='beehives']\n",
    "beehives.head()\n"
   ]
  },
  {
   "cell_type": "markdown",
   "metadata": {},
   "source": [
    "Separate the different countries and areas in two different lists"
   ]
  },
  {
   "cell_type": "code",
   "execution_count": 27,
   "metadata": {},
   "outputs": [
    {
     "name": "stdout",
     "output_type": "stream",
     "text": [
      "Countries: \n",
      "['Albania', 'Algeria', 'Angola', 'Argentina', 'Armenia', 'Australia', 'Austria', 'Azerbaijan', 'Belarus', 'Belgium', 'Belgium-Luxembourg', 'Belize', 'Bolivia', 'Bosnia and Herzegovina', 'Brazil', 'Bulgaria', 'Burundi', 'Cameroon', 'Canada', 'Central African Republic', 'Chad', 'Chile', 'China', 'China, mainland', 'Colombia', 'Cook Islands', 'Costa Rica', 'Croatia', 'Cuba', 'Cyprus', 'Czech Republic', 'Czechoslovakia', 'Dominican Republic', 'Ecuador', 'Egypt', 'El Salvador', 'Estonia', 'Ethiopia', 'Ethiopia PDR', 'Fiji', 'Finland', 'France', 'French Polynesia', 'Georgia', 'Germany', 'Greece', 'Greenland', 'Guadeloupe', 'Guam', 'Guatemala', 'Guinea', 'Guinea-Bissau', 'Guyana', 'Haiti', 'Honduras', 'Hungary', 'Iran, Islamic Republic of', 'Israel', 'Italy', 'Jamaica', 'Japan', 'Jordan', 'Kenya', 'Korea, Republic of', 'Kyrgyzstan', 'Latvia', 'Lebanon', 'Libyan Arab Jamahiriya', 'Liechtenstein', 'Lithuania', 'Luxembourg', 'Madagascar', 'Mali', 'Martinique', 'Mexico', 'Moldova', 'Mongolia', 'Montenegro', 'Morocco', 'Mozambique', 'Myanmar', 'Netherlands', 'New Caledonia', 'New Zealand', 'Nigeria', 'Niue', 'Occupied Palestinian Territory', 'Oman', 'Pakistan', 'Paraguay', 'Poland', 'Portugal', 'Puerto Rico', 'Romania', 'Russian Federation', 'Rwanda', 'Samoa', 'Senegal', 'Serbia', 'Serbia and Montenegro', 'Slovakia', 'Slovenia', 'South Africa', 'Spain', 'Sudan', 'Suriname', 'Sweden', 'Switzerland', 'Syrian Arab Republic', 'Tajikistan', 'Tanzania, United Republic of', 'The former Yugoslav Republic of Macedonia', 'Timor-Leste', 'Tonga', 'Trinidad and Tobago', 'Tunisia', 'Turkey', 'Tuvalu', 'Uganda', 'Ukraine', 'United Kingdom', 'United States of America', 'Uruguay', 'USSR', 'Uzbekistan', 'Venezuela, Bolivarian Republic of', 'Viet Nam', 'Wallis and Futuna Islands', 'Yemen', 'Yugoslav SFR', 'Zambia']\n",
      "\n",
      "Areas: \n",
      "['Africa +', 'Americas +', 'Asia +', 'Australia and New Zealand +', 'Caribbean +', 'Central America +', 'Central Asia +', 'Eastern Africa +', 'Eastern Asia +', 'Eastern Europe +', 'Europe +', 'European Union +', 'LandLocked developing countries +', 'Least Developed Countries +', 'Low Income Food Deficit Countries +', 'Melanesia +', 'Micronesia +', 'Middle Africa +', 'Net Food Importing Developing Countries +', 'Northern Africa +', 'Northern America +', 'Northern Europe +', 'Oceania +', 'Polynesia +', 'Small Island Developing States +', 'South America +', 'South-Eastern Asia +', 'Southern Africa +', 'Southern Asia +', 'Southern Europe +', 'Western Africa +', 'Western Asia +', 'Western Europe +', 'World +']\n",
      "\n",
      "Weird stuff: \n",
      "['fnSeqID', 'A ', 'NR', 'F ', '* ']\n"
     ]
    }
   ],
   "source": [
    "countries_and_areas=beehives['country_or_area'].unique()\n",
    "countries=countries_and_areas[[x.find('+')==-1 for x in countries_and_areas]]\n",
    "weird_stuff=countries[-5:]\n",
    "countries=countries[:-5]\n",
    "\n",
    "areas=countries_and_areas[[x.find('+')!=-1 for x in countries_and_areas]]\n",
    "print('Countries: ')\n",
    "print(countries.tolist())\n",
    "print('\\nAreas: ')\n",
    "print(areas.tolist())\n",
    "print('\\nWeird stuff: ')\n",
    "print(weird_stuff.tolist())"
   ]
  },
  {
   "cell_type": "markdown",
   "metadata": {},
   "source": [
    "I found some weird stuff as you can see, I don't know what it is. We should probably try to find out.\n",
    "\n",
    "We can split again the areas list: some areas are geographical others depend on the developping situation of the country.\n",
    "\n",
    "I'll check for the weird stuff first:"
   ]
  },
  {
   "cell_type": "code",
   "execution_count": 29,
   "metadata": {},
   "outputs": [
    {
     "data": {
      "text/html": [
       "<div>\n",
       "<style scoped>\n",
       "    .dataframe tbody tr th:only-of-type {\n",
       "        vertical-align: middle;\n",
       "    }\n",
       "\n",
       "    .dataframe tbody tr th {\n",
       "        vertical-align: top;\n",
       "    }\n",
       "\n",
       "    .dataframe thead th {\n",
       "        text-align: right;\n",
       "    }\n",
       "</style>\n",
       "<table border=\"1\" class=\"dataframe\">\n",
       "  <thead>\n",
       "    <tr style=\"text-align: right;\">\n",
       "      <th></th>\n",
       "      <th>country_or_area</th>\n",
       "      <th>element_code</th>\n",
       "      <th>element</th>\n",
       "      <th>year</th>\n",
       "      <th>unit</th>\n",
       "      <th>value</th>\n",
       "      <th>value_footnotes</th>\n",
       "      <th>category</th>\n",
       "    </tr>\n",
       "  </thead>\n",
       "  <tbody>\n",
       "    <tr>\n",
       "      <td>14903</td>\n",
       "      <td>fnSeqID</td>\n",
       "      <td>Footnote</td>\n",
       "      <td>NaN</td>\n",
       "      <td>NaN</td>\n",
       "      <td>NaN</td>\n",
       "      <td>NaN</td>\n",
       "      <td>NaN</td>\n",
       "      <td>beehives</td>\n",
       "    </tr>\n",
       "  </tbody>\n",
       "</table>\n",
       "</div>"
      ],
      "text/plain": [
       "      country_or_area element_code element  year unit  value value_footnotes  \\\n",
       "14903         fnSeqID     Footnote     NaN   NaN  NaN    NaN             NaN   \n",
       "\n",
       "       category  \n",
       "14903  beehives  "
      ]
     },
     "execution_count": 29,
     "metadata": {},
     "output_type": "execute_result"
    }
   ],
   "source": [
    "beehives.loc[beehives['country_or_area']==weird_stuff[0]]"
   ]
  },
  {
   "cell_type": "markdown",
   "metadata": {},
   "source": [
    "Ok, so there is no data in the weird stuff, let's forget about it and clean the data."
   ]
  },
  {
   "cell_type": "code",
   "execution_count": 30,
   "metadata": {},
   "outputs": [],
   "source": [
    "beehives = beehives[[name not in weird_stuff.tolist() for name in beehives['country_or_area']]]"
   ]
  },
  {
   "cell_type": "markdown",
   "metadata": {},
   "source": [
    "Let's split again our areas"
   ]
  },
  {
   "cell_type": "code",
   "execution_count": 39,
   "metadata": {},
   "outputs": [],
   "source": [
    "geo_areas=areas[[x.lower().find('developing')==-1 and x.lower().find('countries')==-1 for x in areas]]\n",
    "status_areas=areas[[x.lower().find('developing')!=-1 or x.lower().find('countries')!=-1 for x in areas]]"
   ]
  },
  {
   "cell_type": "code",
   "execution_count": 40,
   "metadata": {
    "scrolled": true
   },
   "outputs": [
    {
     "data": {
      "application/vnd.jupyter.widget-view+json": {
       "model_id": "d3d15efba9c6433883c88637bb891137",
       "version_major": 2,
       "version_minor": 0
      },
      "text/plain": [
       "interactive(children=(Dropdown(description='country', options=('Albania', 'Algeria', 'Angola', 'Argentina', 'A…"
      ]
     },
     "metadata": {},
     "output_type": "display_data"
    }
   ],
   "source": [
    "@interact\n",
    "def show_beehives_for_country(country=countries):\n",
    "    beehives_country=beehives.loc[beehives['country_or_area']==country]\n",
    "    plt.plot(beehives_country['year'],beehives_country['value'],'-*')\n",
    "    plt.title('Country: '+country)\n",
    "    plt.xlabel('Years')\n",
    "    plt.ylabel('Number')"
   ]
  },
  {
   "cell_type": "code",
   "execution_count": 41,
   "metadata": {
    "scrolled": true
   },
   "outputs": [
    {
     "data": {
      "application/vnd.jupyter.widget-view+json": {
       "model_id": "fcd91185e78c432caaeccd5e4df1c5c0",
       "version_major": 2,
       "version_minor": 0
      },
      "text/plain": [
       "interactive(children=(Dropdown(description='area', options=('Africa +', 'Americas +', 'Asia +', 'Australia and…"
      ]
     },
     "metadata": {},
     "output_type": "display_data"
    }
   ],
   "source": [
    "@interact\n",
    "def show_beehives_for_geo_area(area=geo_areas):\n",
    "    beehives_country=beehives.loc[beehives['country_or_area']==area]\n",
    "    plt.plot(beehives_country['year'],beehives_country['value'],'-*')\n",
    "    plt.title('Geographical area: '+area)\n",
    "    plt.xlabel('Years')\n",
    "    plt.ylabel('Number')"
   ]
  },
  {
   "cell_type": "code",
   "execution_count": 42,
   "metadata": {},
   "outputs": [
    {
     "data": {
      "application/vnd.jupyter.widget-view+json": {
       "model_id": "e0d6b67b961b47a2969587abcc0c9963",
       "version_major": 2,
       "version_minor": 0
      },
      "text/plain": [
       "interactive(children=(Dropdown(description='area', options=('LandLocked developing countries +', 'Least Develo…"
      ]
     },
     "metadata": {},
     "output_type": "display_data"
    }
   ],
   "source": [
    "@interact\n",
    "def show_beehives_for_status_area(area=status_areas):\n",
    "    beehives_country=beehives.loc[beehives['country_or_area']==area]\n",
    "    plt.plot(beehives_country['year'],beehives_country['value'],'-*')\n",
    "    plt.title('Status area: '+area)\n",
    "    plt.xlabel('Years')\n",
    "    plt.ylabel('Number')"
   ]
  },
  {
   "cell_type": "code",
   "execution_count": null,
   "metadata": {},
   "outputs": [],
   "source": []
  }
 ],
 "metadata": {
  "kernelspec": {
   "display_name": "Python 3",
   "language": "python",
   "name": "python3"
  },
  "language_info": {
   "codemirror_mode": {
    "name": "ipython",
    "version": 3
   },
   "file_extension": ".py",
   "mimetype": "text/x-python",
   "name": "python",
   "nbconvert_exporter": "python",
   "pygments_lexer": "ipython3",
   "version": "3.7.4"
  }
 },
 "nbformat": 4,
 "nbformat_minor": 4
}
