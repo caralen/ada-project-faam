{
 "cells": [
  {
   "cell_type": "code",
   "execution_count": null,
   "metadata": {},
   "outputs": [],
   "source": [
    "%matplotlib inline\n",
    "import pandas as pd\n",
    "import numpy as np\n",
    "import matplotlib.pyplot as plt\n",
    "#For interactive plots\n",
    "import ipywidgets as widgets\n",
    "from ipywidgets import interact, interact_manual"
   ]
  },
  {
   "cell_type": "code",
   "execution_count": null,
   "metadata": {},
   "outputs": [],
   "source": [
    "#load the data\n",
    "fertilizers = pd.read_csv('data/Production_Livestock_E_All_Data_(Normalized).csv',  encoding='iso-8859-1')\n",
    "beehives = fertilizers.loc[fertilizers['Item']=='Beehives']\n",
    "beehives.head()\n",
    "\n",
    "\n"
   ]
  },
  {
   "cell_type": "markdown",
   "metadata": {},
   "source": [
    "Separate the different countries and areas in two different lists"
   ]
  },
  {
   "cell_type": "code",
   "execution_count": null,
   "metadata": {},
   "outputs": [],
   "source": [
    "countries_and_areas=beehives['Area'].unique()\n",
    "countries=countries_and_areas[[x.find('+')==-1 for x in countries_and_areas]]\n",
    "weird_stuff=countries[-5:]\n",
    "countries=countries[:-5]\n",
    "\n",
    "areas=countries_and_areas[[x.find('+')!=-1 for x in countries_and_areas]]\n",
    "print('Countries: ')\n",
    "print(countries.tolist())\n",
    "print('\\nAreas: ')\n",
    "print(areas.tolist())\n",
    "print('\\nWeird stuff: ')\n",
    "print(weird_stuff.tolist())"
   ]
  },
  {
   "cell_type": "markdown",
   "metadata": {},
   "source": [
    "I found some weird stuff as you can see, I don't know what it is. We should probably try to find out.\n",
    "\n",
    "We can split again the areas list: some areas are geographical others depend on the developping situation of the country.\n",
    "\n",
    "I'll check for the weird stuff first:"
   ]
  },
  {
   "cell_type": "code",
   "execution_count": null,
   "metadata": {},
   "outputs": [],
   "source": [
    "beehives.loc[beehives['Area']==weird_stuff[0]]"
   ]
  },
  {
   "cell_type": "markdown",
   "metadata": {},
   "source": [
    "Ok, so there is no data in the weird stuff, let's forget about it and clean the data."
   ]
  },
  {
   "cell_type": "code",
   "execution_count": null,
   "metadata": {},
   "outputs": [],
   "source": [
    "beehives = beehives[[name not in weird_stuff.tolist() for name in beehives['Area']]]"
   ]
  },
  {
   "cell_type": "markdown",
   "metadata": {},
   "source": [
    "Let's split again our areas"
   ]
  },
  {
   "cell_type": "code",
   "execution_count": null,
   "metadata": {},
   "outputs": [],
   "source": [
    "geo_areas=areas[[x.lower().find('developing')==-1 and x.lower().find('countries')==-1 for x in areas]]\n",
    "status_areas=areas[[x.lower().find('developing')!=-1 or x.lower().find('countries')!=-1 for x in areas]]"
   ]
  },
  {
   "cell_type": "code",
   "execution_count": null,
   "metadata": {
    "scrolled": true
   },
   "outputs": [],
   "source": [
    "@interact\n",
    "def show_beehives_for_country(country=countries):\n",
    "    beehives_country=beehives.loc[beehives['Area']==country]\n",
    "    plt.plot(beehives_country['Year'],beehives_country['Value'],'-*')\n",
    "    plt.title('Country: '+country)\n",
    "    plt.xlabel('Years')\n",
    "    #plt.ylim(0,1.2e7)\n",
    "    plt.ylabel('Number')\n",
    "    plt.xlim(1960, 2010)"
   ]
  },
  {
   "cell_type": "code",
   "execution_count": null,
   "metadata": {
    "scrolled": true
   },
   "outputs": [],
   "source": [
    "@interact\n",
    "def show_beehives_for_geo_area(area=geo_areas):\n",
    "    beehives_country=beehives.loc[beehives['country_or_area']==area]\n",
    "    plt.plot(beehives_country['year'],beehives_country['value'],'-*')\n",
    "    plt.title('Geographical area: '+area)\n",
    "    plt.xlabel('Years')\n",
    "    plt.ylabel('Number')\n",
    "    plt.xlim(1960, 2010)"
   ]
  },
  {
   "cell_type": "code",
   "execution_count": null,
   "metadata": {},
   "outputs": [],
   "source": [
    "@interact\n",
    "def show_beehives_for_status_area(area=status_areas):\n",
    "    beehives_country=beehives.loc[beehives['country_or_area']==area]\n",
    "    plt.plot(beehives_country['year'],beehives_country['value'],'-*')\n",
    "    plt.title('Status area: '+area)\n",
    "    plt.xlabel('Years')\n",
    "    plt.ylabel('Number')\n",
    "    plt.xlim(1960, 2010)"
   ]
  },
  {
   "cell_type": "markdown",
   "metadata": {},
   "source": []
  },
  {
   "cell_type": "markdown",
   "metadata": {},
   "source": [
    "Other categories in the fertilizer data frame"
   ]
  },
  {
   "cell_type": "code",
   "execution_count": null,
   "metadata": {},
   "outputs": [],
   "source": [
    "fertilizers['category'].unique()"
   ]
  },
  {
   "cell_type": "markdown",
   "metadata": {},
   "source": [
    "Basic ranking of number of beehives per country.  \n",
    "We could divide by the area of the country to make it more fair?"
   ]
  },
  {
   "cell_type": "code",
   "execution_count": null,
   "metadata": {},
   "outputs": [],
   "source": [
    "years=beehives['year'].unique()\n",
    "@interact\n",
    "def country_ranking_over_year(year = years ):\n",
    "    bee_year=beehives[[c in countries for c in beehives['country_or_area']]]\n",
    "    bee_year=bee_year.loc[beehives['year']==year]\n",
    "    val=bee_year['value']\n",
    "    country=bee_year['country_or_area']\n",
    "    ranking= pd.concat([country, val], axis=1)\n",
    "    ranking=ranking.sort_values(by='value',ascending=False)\n",
    "    plt.figure(figsize=(20,10))\n",
    "    plt.xlim(0, 1.2e7)\n",
    "    plt.barh(ranking['country_or_area'][:10],ranking['value'][:10])\n",
    "    plt.xlabel('number of beehives')\n",
    "    plt.title('top 10')\n",
    "    plt.gca().invert_yaxis()"
   ]
  },
  {
   "cell_type": "markdown",
   "metadata": {},
   "source": [
    "Distribution of number of beehives per country over year.\n",
    "Again we could divide by the area of the country"
   ]
  },
  {
   "cell_type": "code",
   "execution_count": null,
   "metadata": {},
   "outputs": [],
   "source": [
    "@interact\n",
    "def dist_over_year(year=years):\n",
    "    bee_year=beehives[[c in countries for c in beehives['country_or_area']]]\n",
    "    bee_year=bee_year.loc[beehives['year']==year]\n",
    "    plt.hist(bee_year['value'],bins=20)\n",
    "    plt.yscale('log')\n",
    "    #plt.xscale('log')\n",
    "    plt.xlim(1e-20,1.2e7)\n",
    "    plt.ylabel('number of countries')\n",
    "    plt.xlabel('number of beehives')\n",
    "    plt.title('beehives distribuion across countries')"
   ]
  },
  {
   "cell_type": "code",
   "execution_count": null,
   "metadata": {
    "scrolled": true
   },
   "outputs": [],
   "source": [
    "show_outliers=False\n",
    "beehives.boxplot(column=['value'],by='year',figsize=(10,20),showfliers=show_outliers,vert=False)"
   ]
  },
  {
   "cell_type": "code",
   "execution_count": null,
   "metadata": {},
   "outputs": [],
   "source": [
    "land = pd.read_csv('data/fao_data_land_data.csv')\n",
    "land.head()"
   ]
  },
  {
   "cell_type": "code",
   "execution_count": null,
   "metadata": {},
   "outputs": [],
   "source": [
    "land.category.unique()"
   ]
  },
  {
   "cell_type": "code",
   "execution_count": null,
   "metadata": {},
   "outputs": [],
   "source": [
    "land.loc[land.category=='land_area'].loc[land.country_or_area=='China'].head()"
   ]
  },
  {
   "cell_type": "code",
   "execution_count": null,
   "metadata": {},
   "outputs": [],
   "source": [
    "land.loc[land.category=='land_area'].unit.unique()"
   ]
  },
  {
   "cell_type": "code",
   "execution_count": null,
   "metadata": {},
   "outputs": [],
   "source": [
    "#compute normalized number of beehives (number of beehives / land area in 1000 Ha)\n",
    "land_area=land.loc[land.category=='land_area']\n",
    "land_area=land_area[['country_or_area','year','value']]\n",
    "land_area.columns=['country_or_area','year','land_area']\n",
    "\n",
    "beehives=pd.merge(beehives,land_area,on=['country_or_area','year'])\n",
    "beehives['norm_value']=beehives['value']/beehives['land_area']\n",
    "beehives.head()"
   ]
  },
  {
   "cell_type": "code",
   "execution_count": null,
   "metadata": {},
   "outputs": [],
   "source": [
    "years=beehives['year'].unique()\n",
    "@interact(top=(3,100,1))\n",
    "def normalized_country_ranking_over_year(year = years ,top=10):\n",
    "    #get the country data\n",
    "    bee_year=beehives[[c in countries for c in beehives['country_or_area']]]\n",
    "    #get data of the seected year\n",
    "    bee_year=bee_year.loc[beehives['year']==year]\n",
    "    \n",
    "    #prepare the ranking \n",
    "    bee_year=bee_year.sort_values(by='norm_value',ascending=False)\n",
    "    \n",
    "    #plotting\n",
    "    plt.figure(figsize=(15,top))\n",
    "    plt.barh(bee_year['country_or_area'][:top],bee_year['norm_value'][:top])\n",
    "    plt.xlabel('number of beehives/land area')\n",
    "    plt.title('Number of beehives per 1000Ha\\ntop %d' % top)\n",
    "    plt.gca().invert_yaxis()\n",
    "    plt.xlim(0,250)"
   ]
  },
  {
   "cell_type": "code",
   "execution_count": null,
   "metadata": {},
   "outputs": [],
   "source": [
    "show_outliers=False\n",
    "beehives.boxplot(column=['norm_value'],by='year',figsize=(10,20),showfliers=show_outliers,vert=False)"
   ]
  },
  {
   "cell_type": "code",
   "execution_count": null,
   "metadata": {},
   "outputs": [],
   "source": [
    "@interact\n",
    "def dist_over_year(year=years):\n",
    "    bee_year=beehives[[c in countries for c in beehives['country_or_area']]]\n",
    "    bee_year=bee_year.loc[beehives['year']==year]\n",
    "    plt.hist(bee_year['norm_value'],bins=20)\n",
    "    plt.yscale('log')\n",
    "    #plt.xscale('log')\n",
    "    #plt.xlim(1e-20,1.2e7)\n",
    "    plt.ylabel('number of countries')\n",
    "    plt.xlabel('number of beehives per 1000 Ha')\n",
    "    plt.title('Normalized beehives distribuion across countries')"
   ]
  },
  {
   "cell_type": "code",
   "execution_count": null,
   "metadata": {},
   "outputs": [],
   "source": [
    "beehives_onlyCountries = beehives[~beehives.country_or_area.str.contains(\"\\+\", na = False)]"
   ]
  },
  {
   "cell_type": "markdown",
   "metadata": {},
   "source": [
    "Number of Beehives around the world grouped by year "
   ]
  },
  {
   "cell_type": "code",
   "execution_count": null,
   "metadata": {
    "scrolled": false
   },
   "outputs": [],
   "source": [
    "beehives_onlyCountries.groupby('year')['value'].apply(lambda x : x.astype(int).sum()).plot()"
   ]
  },
  {
   "cell_type": "code",
   "execution_count": null,
   "metadata": {},
   "outputs": [],
   "source": [
    "harvest_data = pd.read_csv('data/fao_data_crops_data.csv')\n"
   ]
  },
  {
   "cell_type": "code",
   "execution_count": null,
   "metadata": {},
   "outputs": [],
   "source": [
    "harvest_data.head()"
   ]
  },
  {
   "cell_type": "code",
   "execution_count": null,
   "metadata": {},
   "outputs": [],
   "source": [
    "harvest_data.element.unique()"
   ]
  },
  {
   "cell_type": "code",
   "execution_count": null,
   "metadata": {},
   "outputs": [],
   "source": [
    "areaHarvested = harvest_data.loc[harvest_data['element']=='Area Harvested']"
   ]
  },
  {
   "cell_type": "code",
   "execution_count": null,
   "metadata": {},
   "outputs": [],
   "source": [
    "@interact\n",
    "def show_beehives_for_country(country=countries):\n",
    "    areaHarvested_country=areaHarvested.loc[areaHarvested['country_or_area']==country]\n",
    "    plt.plot(areaHarvested_country['year'],areaHarvested_country['value'],'-*')\n",
    "    plt.title('Country: '+country)\n",
    "    plt.xlabel('Years')\n",
    "    #plt.ylim(0,1.2e7)\n",
    "    plt.ylabel('Number')\n",
    "    plt.xlim(1960, 2010)"
   ]
  },
  {
   "cell_type": "code",
   "execution_count": null,
   "metadata": {},
   "outputs": [],
   "source": [
    "harvested_onlyCountries = areaHarvested[~areaHarvested.country_or_area.str.contains(\"\\+\", na = False)]\n",
    "harvested_onlyCountries.groupby('year')['value'].apply(lambda x : x.astype(int).sum()).plot()"
   ]
  },
  {
   "cell_type": "code",
   "execution_count": null,
   "metadata": {},
   "outputs": [],
   "source": [
    "@interact\n",
    "def show_beehives_for_geo_area(area=geo_areas):\n",
    "    areaHarvested_continent=areaHarvested.loc[areaHarvested['country_or_area']==area]\n",
    "    plt.plot(areaHarvested_continent['year'],areaHarvested_continent['value'],'-*')\n",
    "    plt.title('Geographical area: '+area)\n",
    "    plt.xlabel('Years')\n",
    "    plt.ylabel('Number')\n",
    "    plt.xlim(1960, 2010)"
   ]
  },
  {
   "cell_type": "code",
   "execution_count": null,
   "metadata": {},
   "outputs": [],
   "source": []
  }
 ],
 "metadata": {
  "kernelspec": {
   "display_name": "Python 3",
   "language": "python",
   "name": "python3"
  },
  "language_info": {
   "codemirror_mode": {
    "name": "ipython",
    "version": 3
   },
   "file_extension": ".py",
   "mimetype": "text/x-python",
   "name": "python",
   "nbconvert_exporter": "python",
   "pygments_lexer": "ipython3",
   "version": "3.7.3"
  }
 },
 "nbformat": 4,
 "nbformat_minor": 4
}
