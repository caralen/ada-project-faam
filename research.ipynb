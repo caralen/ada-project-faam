{
 "cells": [
  {
   "cell_type": "code",
   "execution_count": 1,
   "metadata": {},
   "outputs": [],
   "source": [
    "%matplotlib inline\n",
    "import pandas as pd\n",
    "import numpy as np\n",
    "import matplotlib.pyplot as plt\n",
    "#For interactive plots\n",
    "import ipywidgets as widgets\n",
    "from ipywidgets import interact, interact_manual"
   ]
  },
  {
   "cell_type": "code",
   "execution_count": 6,
   "metadata": {},
   "outputs": [
    {
     "data": {
      "text/html": [
       "<div>\n",
       "<style scoped>\n",
       "    .dataframe tbody tr th:only-of-type {\n",
       "        vertical-align: middle;\n",
       "    }\n",
       "\n",
       "    .dataframe tbody tr th {\n",
       "        vertical-align: top;\n",
       "    }\n",
       "\n",
       "    .dataframe thead th {\n",
       "        text-align: right;\n",
       "    }\n",
       "</style>\n",
       "<table border=\"1\" class=\"dataframe\">\n",
       "  <thead>\n",
       "    <tr style=\"text-align: right;\">\n",
       "      <th></th>\n",
       "      <th>country_or_area</th>\n",
       "      <th>element_code</th>\n",
       "      <th>element</th>\n",
       "      <th>year</th>\n",
       "      <th>unit</th>\n",
       "      <th>value</th>\n",
       "      <th>value_footnotes</th>\n",
       "      <th>category</th>\n",
       "    </tr>\n",
       "  </thead>\n",
       "  <tbody>\n",
       "    <tr>\n",
       "      <th>8042</th>\n",
       "      <td>Africa +</td>\n",
       "      <td>11</td>\n",
       "      <td>Stocks</td>\n",
       "      <td>2007.0</td>\n",
       "      <td>No</td>\n",
       "      <td>16199398.0</td>\n",
       "      <td>A</td>\n",
       "      <td>beehives</td>\n",
       "    </tr>\n",
       "    <tr>\n",
       "      <th>8043</th>\n",
       "      <td>Africa +</td>\n",
       "      <td>11</td>\n",
       "      <td>Stocks</td>\n",
       "      <td>2006.0</td>\n",
       "      <td>No</td>\n",
       "      <td>16214756.0</td>\n",
       "      <td>A</td>\n",
       "      <td>beehives</td>\n",
       "    </tr>\n",
       "    <tr>\n",
       "      <th>8044</th>\n",
       "      <td>Africa +</td>\n",
       "      <td>11</td>\n",
       "      <td>Stocks</td>\n",
       "      <td>2005.0</td>\n",
       "      <td>No</td>\n",
       "      <td>15362910.0</td>\n",
       "      <td>A</td>\n",
       "      <td>beehives</td>\n",
       "    </tr>\n",
       "    <tr>\n",
       "      <th>8045</th>\n",
       "      <td>Africa +</td>\n",
       "      <td>11</td>\n",
       "      <td>Stocks</td>\n",
       "      <td>2004.0</td>\n",
       "      <td>No</td>\n",
       "      <td>15803095.0</td>\n",
       "      <td>A</td>\n",
       "      <td>beehives</td>\n",
       "    </tr>\n",
       "    <tr>\n",
       "      <th>8046</th>\n",
       "      <td>Africa +</td>\n",
       "      <td>11</td>\n",
       "      <td>Stocks</td>\n",
       "      <td>2003.0</td>\n",
       "      <td>No</td>\n",
       "      <td>15465850.0</td>\n",
       "      <td>A</td>\n",
       "      <td>beehives</td>\n",
       "    </tr>\n",
       "  </tbody>\n",
       "</table>\n",
       "</div>"
      ],
      "text/plain": [
       "     country_or_area element_code element    year unit       value  \\\n",
       "8042        Africa +           11  Stocks  2007.0   No  16199398.0   \n",
       "8043        Africa +           11  Stocks  2006.0   No  16214756.0   \n",
       "8044        Africa +           11  Stocks  2005.0   No  15362910.0   \n",
       "8045        Africa +           11  Stocks  2004.0   No  15803095.0   \n",
       "8046        Africa +           11  Stocks  2003.0   No  15465850.0   \n",
       "\n",
       "     value_footnotes  category  \n",
       "8042              A   beehives  \n",
       "8043              A   beehives  \n",
       "8044              A   beehives  \n",
       "8045              A   beehives  \n",
       "8046              A   beehives  "
      ]
     },
     "execution_count": 6,
     "metadata": {},
     "output_type": "execute_result"
    }
   ],
   "source": [
    "#load the data\n",
    "fertilizers = pd.read_csv('data/fao_data_fertilizers_data.csv')\n",
    "beehives = fertilizers.loc[fertilizers['category']=='beehives']\n",
    "beehives.head()\n",
    "\n",
    "\n"
   ]
  },
  {
   "cell_type": "markdown",
   "metadata": {},
   "source": [
    "Separate the different countries and areas in two different lists"
   ]
  },
  {
   "cell_type": "code",
   "execution_count": 7,
   "metadata": {},
   "outputs": [
    {
     "name": "stdout",
     "output_type": "stream",
     "text": [
      "Countries: \n",
      "['Albania', 'Algeria', 'Angola', 'Argentina', 'Armenia', 'Australia', 'Austria', 'Azerbaijan', 'Belarus', 'Belgium', 'Belgium-Luxembourg', 'Belize', 'Bolivia', 'Bosnia and Herzegovina', 'Brazil', 'Bulgaria', 'Burundi', 'Cameroon', 'Canada', 'Central African Republic', 'Chad', 'Chile', 'China', 'China, mainland', 'Colombia', 'Cook Islands', 'Costa Rica', 'Croatia', 'Cuba', 'Cyprus', 'Czech Republic', 'Czechoslovakia', 'Dominican Republic', 'Ecuador', 'Egypt', 'El Salvador', 'Estonia', 'Ethiopia', 'Ethiopia PDR', 'Fiji', 'Finland', 'France', 'French Polynesia', 'Georgia', 'Germany', 'Greece', 'Greenland', 'Guadeloupe', 'Guam', 'Guatemala', 'Guinea', 'Guinea-Bissau', 'Guyana', 'Haiti', 'Honduras', 'Hungary', 'Iran, Islamic Republic of', 'Israel', 'Italy', 'Jamaica', 'Japan', 'Jordan', 'Kenya', 'Korea, Republic of', 'Kyrgyzstan', 'Latvia', 'Lebanon', 'Libyan Arab Jamahiriya', 'Liechtenstein', 'Lithuania', 'Luxembourg', 'Madagascar', 'Mali', 'Martinique', 'Mexico', 'Moldova', 'Mongolia', 'Montenegro', 'Morocco', 'Mozambique', 'Myanmar', 'Netherlands', 'New Caledonia', 'New Zealand', 'Nigeria', 'Niue', 'Occupied Palestinian Territory', 'Oman', 'Pakistan', 'Paraguay', 'Poland', 'Portugal', 'Puerto Rico', 'Romania', 'Russian Federation', 'Rwanda', 'Samoa', 'Senegal', 'Serbia', 'Serbia and Montenegro', 'Slovakia', 'Slovenia', 'South Africa', 'Spain', 'Sudan', 'Suriname', 'Sweden', 'Switzerland', 'Syrian Arab Republic', 'Tajikistan', 'Tanzania, United Republic of', 'The former Yugoslav Republic of Macedonia', 'Timor-Leste', 'Tonga', 'Trinidad and Tobago', 'Tunisia', 'Turkey', 'Tuvalu', 'Uganda', 'Ukraine', 'United Kingdom', 'United States of America', 'Uruguay', 'USSR', 'Uzbekistan', 'Venezuela, Bolivarian Republic of', 'Viet Nam', 'Wallis and Futuna Islands', 'Yemen', 'Yugoslav SFR', 'Zambia']\n",
      "\n",
      "Areas: \n",
      "['Africa +', 'Americas +', 'Asia +', 'Australia and New Zealand +', 'Caribbean +', 'Central America +', 'Central Asia +', 'Eastern Africa +', 'Eastern Asia +', 'Eastern Europe +', 'Europe +', 'European Union +', 'LandLocked developing countries +', 'Least Developed Countries +', 'Low Income Food Deficit Countries +', 'Melanesia +', 'Micronesia +', 'Middle Africa +', 'Net Food Importing Developing Countries +', 'Northern Africa +', 'Northern America +', 'Northern Europe +', 'Oceania +', 'Polynesia +', 'Small Island Developing States +', 'South America +', 'South-Eastern Asia +', 'Southern Africa +', 'Southern Asia +', 'Southern Europe +', 'Western Africa +', 'Western Asia +', 'Western Europe +', 'World +']\n",
      "\n",
      "Weird stuff: \n",
      "['fnSeqID', 'A ', 'NR', 'F ', '* ']\n"
     ]
    }
   ],
   "source": [
    "countries_and_areas=beehives['country_or_area'].unique()\n",
    "countries=countries_and_areas[[x.find('+')==-1 for x in countries_and_areas]]\n",
    "weird_stuff=countries[-5:]\n",
    "countries=countries[:-5]\n",
    "\n",
    "areas=countries_and_areas[[x.find('+')!=-1 for x in countries_and_areas]]\n",
    "print('Countries: ')\n",
    "print(countries.tolist())\n",
    "print('\\nAreas: ')\n",
    "print(areas.tolist())\n",
    "print('\\nWeird stuff: ')\n",
    "print(weird_stuff.tolist())"
   ]
  },
  {
   "cell_type": "markdown",
   "metadata": {},
   "source": [
    "I found some weird stuff as you can see, I don't know what it is. We should probably try to find out.\n",
    "\n",
    "We can split again the areas list: some areas are geographical others depend on the developping situation of the country.\n",
    "\n",
    "I'll check for the weird stuff first:"
   ]
  },
  {
   "cell_type": "code",
   "execution_count": 8,
   "metadata": {},
   "outputs": [
    {
     "data": {
      "text/html": [
       "<div>\n",
       "<style scoped>\n",
       "    .dataframe tbody tr th:only-of-type {\n",
       "        vertical-align: middle;\n",
       "    }\n",
       "\n",
       "    .dataframe tbody tr th {\n",
       "        vertical-align: top;\n",
       "    }\n",
       "\n",
       "    .dataframe thead th {\n",
       "        text-align: right;\n",
       "    }\n",
       "</style>\n",
       "<table border=\"1\" class=\"dataframe\">\n",
       "  <thead>\n",
       "    <tr style=\"text-align: right;\">\n",
       "      <th></th>\n",
       "      <th>country_or_area</th>\n",
       "      <th>element_code</th>\n",
       "      <th>element</th>\n",
       "      <th>year</th>\n",
       "      <th>unit</th>\n",
       "      <th>value</th>\n",
       "      <th>value_footnotes</th>\n",
       "      <th>category</th>\n",
       "    </tr>\n",
       "  </thead>\n",
       "  <tbody>\n",
       "    <tr>\n",
       "      <th>14903</th>\n",
       "      <td>fnSeqID</td>\n",
       "      <td>Footnote</td>\n",
       "      <td>NaN</td>\n",
       "      <td>NaN</td>\n",
       "      <td>NaN</td>\n",
       "      <td>NaN</td>\n",
       "      <td>NaN</td>\n",
       "      <td>beehives</td>\n",
       "    </tr>\n",
       "  </tbody>\n",
       "</table>\n",
       "</div>"
      ],
      "text/plain": [
       "      country_or_area element_code element  year unit  value value_footnotes  \\\n",
       "14903         fnSeqID     Footnote     NaN   NaN  NaN    NaN             NaN   \n",
       "\n",
       "       category  \n",
       "14903  beehives  "
      ]
     },
     "execution_count": 8,
     "metadata": {},
     "output_type": "execute_result"
    }
   ],
   "source": [
    "beehives.loc[beehives['country_or_area']==weird_stuff[0]]"
   ]
  },
  {
   "cell_type": "markdown",
   "metadata": {},
   "source": [
    "Ok, so there is no data in the weird stuff, let's forget about it and clean the data."
   ]
  },
  {
   "cell_type": "code",
   "execution_count": 9,
   "metadata": {},
   "outputs": [],
   "source": [
    "beehives = beehives[[name not in weird_stuff.tolist() for name in beehives['country_or_area']]]"
   ]
  },
  {
   "cell_type": "markdown",
   "metadata": {},
   "source": [
    "Let's split again our areas"
   ]
  },
  {
   "cell_type": "code",
   "execution_count": 10,
   "metadata": {},
   "outputs": [],
   "source": [
    "geo_areas=areas[[x.lower().find('developing')==-1 and x.lower().find('countries')==-1 for x in areas]]\n",
    "status_areas=areas[[x.lower().find('developing')!=-1 or x.lower().find('countries')!=-1 for x in areas]]"
   ]
  },
  {
   "cell_type": "code",
   "execution_count": 11,
   "metadata": {
    "scrolled": true
   },
   "outputs": [
    {
     "data": {
      "application/vnd.jupyter.widget-view+json": {
       "model_id": "604656fa2efe441493894e02fdc90dc7",
       "version_major": 2,
       "version_minor": 0
      },
      "text/plain": [
       "interactive(children=(Dropdown(description='country', options=('Albania', 'Algeria', 'Angola', 'Argentina', 'A…"
      ]
     },
     "metadata": {},
     "output_type": "display_data"
    }
   ],
   "source": [
    "@interact\n",
    "def show_beehives_for_country(country=countries):\n",
    "    beehives_country=beehives.loc[beehives['country_or_area']==country]\n",
    "    plt.plot(beehives_country['year'],beehives_country['value'],'-*')\n",
    "    plt.title('Country: '+country)\n",
    "    plt.xlabel('Years')\n",
    "    #plt.ylim(0,1.2e7)\n",
    "    plt.ylabel('Number')\n",
    "    plt.xlim(1960, 2010)"
   ]
  },
  {
   "cell_type": "code",
   "execution_count": 12,
   "metadata": {
    "scrolled": true
   },
   "outputs": [
    {
     "data": {
      "application/vnd.jupyter.widget-view+json": {
       "model_id": "8c9d779477284120a9c371e7da4420db",
       "version_major": 2,
       "version_minor": 0
      },
      "text/plain": [
       "interactive(children=(Dropdown(description='area', options=('Africa +', 'Americas +', 'Asia +', 'Australia and…"
      ]
     },
     "metadata": {},
     "output_type": "display_data"
    }
   ],
   "source": [
    "@interact\n",
    "def show_beehives_for_geo_area(area=geo_areas):\n",
    "    beehives_country=beehives.loc[beehives['country_or_area']==area]\n",
    "    plt.plot(beehives_country['year'],beehives_country['value'],'-*')\n",
    "    plt.title('Geographical area: '+area)\n",
    "    plt.xlabel('Years')\n",
    "    plt.ylabel('Number')\n",
    "    plt.xlim(1960, 2010)"
   ]
  },
  {
   "cell_type": "code",
   "execution_count": 13,
   "metadata": {},
   "outputs": [
    {
     "data": {
      "application/vnd.jupyter.widget-view+json": {
       "model_id": "4f64d5acbfbb4e549b3a073b4df8edc7",
       "version_major": 2,
       "version_minor": 0
      },
      "text/plain": [
       "interactive(children=(Dropdown(description='area', options=('LandLocked developing countries +', 'Least Develo…"
      ]
     },
     "metadata": {},
     "output_type": "display_data"
    }
   ],
   "source": [
    "@interact\n",
    "def show_beehives_for_status_area(area=status_areas):\n",
    "    beehives_country=beehives.loc[beehives['country_or_area']==area]\n",
    "    plt.plot(beehives_country['year'],beehives_country['value'],'-*')\n",
    "    plt.title('Status area: '+area)\n",
    "    plt.xlabel('Years')\n",
    "    plt.ylabel('Number')\n",
    "    plt.xlim(1960, 2010)"
   ]
  },
  {
   "cell_type": "markdown",
   "metadata": {},
   "source": []
  },
  {
   "cell_type": "markdown",
   "metadata": {},
   "source": [
    "Other categories in the fertilizer data frame"
   ]
  },
  {
   "cell_type": "code",
   "execution_count": 27,
   "metadata": {},
   "outputs": [
    {
     "data": {
      "text/plain": [
       "array(['animals_live_nes', 'asses', 'beehives', 'buffaloes', 'camels',\n",
       "       'cattle', 'chickens', 'ducks', 'geese_and_guinea_fowls', 'goats',\n",
       "       'horses', 'mules', 'other_camelids', 'other_rodents', 'pigs',\n",
       "       'sheep', 'turkeys'], dtype=object)"
      ]
     },
     "execution_count": 27,
     "metadata": {},
     "output_type": "execute_result"
    }
   ],
   "source": [
    "fertilizers['category'].unique()"
   ]
  },
  {
   "cell_type": "markdown",
   "metadata": {},
   "source": [
    "Basic ranking of number of beehives per country.  \n",
    "We could divide by the area of the country to make it more fair?"
   ]
  },
  {
   "cell_type": "code",
   "execution_count": 28,
   "metadata": {},
   "outputs": [
    {
     "data": {
      "application/vnd.jupyter.widget-view+json": {
       "model_id": "38b1aa4ae7f54c1fb482093b5df142cb",
       "version_major": 2,
       "version_minor": 0
      },
      "text/plain": [
       "interactive(children=(Dropdown(description='year', options=(2007.0, 2006.0, 2005.0, 2004.0, 2003.0, 2002.0, 20…"
      ]
     },
     "metadata": {},
     "output_type": "display_data"
    }
   ],
   "source": [
    "years=beehives['year'].unique()\n",
    "@interact\n",
    "def country_ranking_over_year(year = years ):\n",
    "    bee_year=beehives[[c in countries for c in beehives['country_or_area']]]\n",
    "    bee_year=bee_year.loc[beehives['year']==year]\n",
    "    val=bee_year['value']\n",
    "    country=bee_year['country_or_area']\n",
    "    ranking= pd.concat([country, val], axis=1)\n",
    "    ranking=ranking.sort_values(by='value',ascending=False)\n",
    "    plt.figure(figsize=(20,10))\n",
    "    plt.xlim(0, 1.2e7)\n",
    "    plt.barh(ranking['country_or_area'][:10],ranking['value'][:10])\n",
    "    plt.xlabel('number of beehives')\n",
    "    plt.title('top 10')\n",
    "    plt.gca().invert_yaxis()"
   ]
  },
  {
   "cell_type": "markdown",
   "metadata": {},
   "source": [
    "Distribution of number of beehives per country over year.\n",
    "Again we could divide by the area of the country"
   ]
  },
  {
   "cell_type": "code",
   "execution_count": 30,
   "metadata": {},
   "outputs": [
    {
     "data": {
      "application/vnd.jupyter.widget-view+json": {
       "model_id": "ba6024d4aa3c4ae6b6ab7b8a3e448e50",
       "version_major": 2,
       "version_minor": 0
      },
      "text/plain": [
       "interactive(children=(Dropdown(description='year', options=(2007.0, 2006.0, 2005.0, 2004.0, 2003.0, 2002.0, 20…"
      ]
     },
     "metadata": {},
     "output_type": "display_data"
    }
   ],
   "source": [
    "@interact\n",
    "def dist_over_year(year=years):\n",
    "    bee_year=beehives[[c in countries for c in beehives['country_or_area']]]\n",
    "    bee_year=bee_year.loc[beehives['year']==year]\n",
    "    plt.hist(bee_year['value'],bins=20)\n",
    "    plt.yscale('log')\n",
    "    #plt.xscale('log')\n",
    "    plt.xlim(1e-20,1.2e7)\n",
    "    plt.ylabel('number of countries')\n",
    "    plt.xlabel('number of beehives')\n",
    "    plt.title('beehives distribuion across countries')"
   ]
  },
  {
   "cell_type": "code",
   "execution_count": 31,
   "metadata": {
    "scrolled": true
   },
   "outputs": [
    {
     "data": {
      "text/plain": [
       "<matplotlib.axes._subplots.AxesSubplot at 0x7f1e6f0275c0>"
      ]
     },
     "execution_count": 31,
     "metadata": {},
     "output_type": "execute_result"
    },
    {
     "data": {
      "image/png": "[encoded data removed]",
      "text/plain": [
       "<Figure size 720x1440 with 1 Axes>"
      ]
     },
     "metadata": {
      "needs_background": "light"
     },
     "output_type": "display_data"
    }
   ],
   "source": [
    "show_outliers=False\n",
    "beehives.boxplot(column=['value'],by='year',figsize=(10,20),showfliers=show_outliers,vert=False)"
   ]
  },
  {
   "cell_type": "code",
   "execution_count": 32,
   "metadata": {},
   "outputs": [
    {
     "data": {
      "text/html": [
       "<div>\n",
       "<style scoped>\n",
       "    .dataframe tbody tr th:only-of-type {\n",
       "        vertical-align: middle;\n",
       "    }\n",
       "\n",
       "    .dataframe tbody tr th {\n",
       "        vertical-align: top;\n",
       "    }\n",
       "\n",
       "    .dataframe thead th {\n",
       "        text-align: right;\n",
       "    }\n",
       "</style>\n",
       "<table border=\"1\" class=\"dataframe\">\n",
       "  <thead>\n",
       "    <tr style=\"text-align: right;\">\n",
       "      <th></th>\n",
       "      <th>country_or_area</th>\n",
       "      <th>element_code</th>\n",
       "      <th>element</th>\n",
       "      <th>year</th>\n",
       "      <th>unit</th>\n",
       "      <th>value</th>\n",
       "      <th>value_footnotes</th>\n",
       "      <th>category</th>\n",
       "    </tr>\n",
       "  </thead>\n",
       "  <tbody>\n",
       "    <tr>\n",
       "      <th>0</th>\n",
       "      <td>Afghanistan</td>\n",
       "      <td>11</td>\n",
       "      <td>Area</td>\n",
       "      <td>2007.0</td>\n",
       "      <td>1000 Ha</td>\n",
       "      <td>38661.0</td>\n",
       "      <td>Q</td>\n",
       "      <td>agricultural_area</td>\n",
       "    </tr>\n",
       "    <tr>\n",
       "      <th>1</th>\n",
       "      <td>Afghanistan</td>\n",
       "      <td>11</td>\n",
       "      <td>Area</td>\n",
       "      <td>2006.0</td>\n",
       "      <td>1000 Ha</td>\n",
       "      <td>38659.0</td>\n",
       "      <td>Fm</td>\n",
       "      <td>agricultural_area</td>\n",
       "    </tr>\n",
       "    <tr>\n",
       "      <th>2</th>\n",
       "      <td>Afghanistan</td>\n",
       "      <td>11</td>\n",
       "      <td>Area</td>\n",
       "      <td>2005.0</td>\n",
       "      <td>1000 Ha</td>\n",
       "      <td>38515.0</td>\n",
       "      <td>Fm</td>\n",
       "      <td>agricultural_area</td>\n",
       "    </tr>\n",
       "    <tr>\n",
       "      <th>3</th>\n",
       "      <td>Afghanistan</td>\n",
       "      <td>11</td>\n",
       "      <td>Area</td>\n",
       "      <td>2004.0</td>\n",
       "      <td>1000 Ha</td>\n",
       "      <td>38064.0</td>\n",
       "      <td>Fm</td>\n",
       "      <td>agricultural_area</td>\n",
       "    </tr>\n",
       "    <tr>\n",
       "      <th>4</th>\n",
       "      <td>Afghanistan</td>\n",
       "      <td>11</td>\n",
       "      <td>Area</td>\n",
       "      <td>2003.0</td>\n",
       "      <td>1000 Ha</td>\n",
       "      <td>38899.0</td>\n",
       "      <td>Fm</td>\n",
       "      <td>agricultural_area</td>\n",
       "    </tr>\n",
       "  </tbody>\n",
       "</table>\n",
       "</div>"
      ],
      "text/plain": [
       "  country_or_area element_code element    year     unit    value  \\\n",
       "0     Afghanistan           11    Area  2007.0  1000 Ha  38661.0   \n",
       "1     Afghanistan           11    Area  2006.0  1000 Ha  38659.0   \n",
       "2     Afghanistan           11    Area  2005.0  1000 Ha  38515.0   \n",
       "3     Afghanistan           11    Area  2004.0  1000 Ha  38064.0   \n",
       "4     Afghanistan           11    Area  2003.0  1000 Ha  38899.0   \n",
       "\n",
       "  value_footnotes           category  \n",
       "0              Q   agricultural_area  \n",
       "1              Fm  agricultural_area  \n",
       "2              Fm  agricultural_area  \n",
       "3              Fm  agricultural_area  \n",
       "4              Fm  agricultural_area  "
      ]
     },
     "execution_count": 32,
     "metadata": {},
     "output_type": "execute_result"
    }
   ],
   "source": [
    "land = pd.read_csv('data/fao_data_land_data.csv')\n",
    "land.head()"
   ]
  },
  {
   "cell_type": "code",
   "execution_count": 33,
   "metadata": {},
   "outputs": [
    {
     "data": {
      "text/plain": [
       "array(['agricultural_area', 'agricultural_area_irrigated', 'arable_land',\n",
       "       'arable_land_and_permanent_crops', 'country_area', 'fallow_land',\n",
       "       'forest_area', 'inland_water', 'land_area', 'other_land',\n",
       "       'perm_crops_irrigated', 'perm_crops_non_irrigated',\n",
       "       'perm_meadows_pastures_cult_irrig',\n",
       "       'perm_meadows_pastures_cult_non_irrig',\n",
       "       'perm_meadows_pastures_cultivated',\n",
       "       'perm_meadows_pastures_nat_grown', 'permanent_crops',\n",
       "       'permanent_meadows_and_pastures', 'temp_crops_irrigated',\n",
       "       'temp_crops_non_irrigated', 'temp_meadows_pastures_irrigated',\n",
       "       'temp_meadows_pastures_non_irrig', 'temporary_crops',\n",
       "       'temporary_meadows_and_pastures',\n",
       "       'total_area_equipped_for_irrigation'], dtype=object)"
      ]
     },
     "execution_count": 33,
     "metadata": {},
     "output_type": "execute_result"
    }
   ],
   "source": [
    "land.category.unique()"
   ]
  },
  {
   "cell_type": "code",
   "execution_count": 34,
   "metadata": {},
   "outputs": [
    {
     "data": {
      "text/html": [
       "<div>\n",
       "<style scoped>\n",
       "    .dataframe tbody tr th:only-of-type {\n",
       "        vertical-align: middle;\n",
       "    }\n",
       "\n",
       "    .dataframe tbody tr th {\n",
       "        vertical-align: top;\n",
       "    }\n",
       "\n",
       "    .dataframe thead th {\n",
       "        text-align: right;\n",
       "    }\n",
       "</style>\n",
       "<table border=\"1\" class=\"dataframe\">\n",
       "  <thead>\n",
       "    <tr style=\"text-align: right;\">\n",
       "      <th></th>\n",
       "      <th>country_or_area</th>\n",
       "      <th>element_code</th>\n",
       "      <th>element</th>\n",
       "      <th>year</th>\n",
       "      <th>unit</th>\n",
       "      <th>value</th>\n",
       "      <th>value_footnotes</th>\n",
       "      <th>category</th>\n",
       "    </tr>\n",
       "  </thead>\n",
       "  <tbody>\n",
       "    <tr>\n",
       "      <th>60273</th>\n",
       "      <td>China</td>\n",
       "      <td>11</td>\n",
       "      <td>Area</td>\n",
       "      <td>2007.0</td>\n",
       "      <td>1000 Ha</td>\n",
       "      <td>932748.9</td>\n",
       "      <td>E</td>\n",
       "      <td>land_area</td>\n",
       "    </tr>\n",
       "    <tr>\n",
       "      <th>60274</th>\n",
       "      <td>China</td>\n",
       "      <td>11</td>\n",
       "      <td>Area</td>\n",
       "      <td>2006.0</td>\n",
       "      <td>1000 Ha</td>\n",
       "      <td>932748.9</td>\n",
       "      <td>E</td>\n",
       "      <td>land_area</td>\n",
       "    </tr>\n",
       "    <tr>\n",
       "      <th>60275</th>\n",
       "      <td>China</td>\n",
       "      <td>11</td>\n",
       "      <td>Area</td>\n",
       "      <td>2005.0</td>\n",
       "      <td>1000 Ha</td>\n",
       "      <td>932748.8</td>\n",
       "      <td>E</td>\n",
       "      <td>land_area</td>\n",
       "    </tr>\n",
       "    <tr>\n",
       "      <th>60276</th>\n",
       "      <td>China</td>\n",
       "      <td>11</td>\n",
       "      <td>Area</td>\n",
       "      <td>2004.0</td>\n",
       "      <td>1000 Ha</td>\n",
       "      <td>932748.8</td>\n",
       "      <td>E</td>\n",
       "      <td>land_area</td>\n",
       "    </tr>\n",
       "    <tr>\n",
       "      <th>60277</th>\n",
       "      <td>China</td>\n",
       "      <td>11</td>\n",
       "      <td>Area</td>\n",
       "      <td>2003.0</td>\n",
       "      <td>1000 Ha</td>\n",
       "      <td>932748.7</td>\n",
       "      <td>Q</td>\n",
       "      <td>land_area</td>\n",
       "    </tr>\n",
       "  </tbody>\n",
       "</table>\n",
       "</div>"
      ],
      "text/plain": [
       "      country_or_area element_code element    year     unit     value  \\\n",
       "60273           China           11    Area  2007.0  1000 Ha  932748.9   \n",
       "60274           China           11    Area  2006.0  1000 Ha  932748.9   \n",
       "60275           China           11    Area  2005.0  1000 Ha  932748.8   \n",
       "60276           China           11    Area  2004.0  1000 Ha  932748.8   \n",
       "60277           China           11    Area  2003.0  1000 Ha  932748.7   \n",
       "\n",
       "      value_footnotes   category  \n",
       "60273              E   land_area  \n",
       "60274              E   land_area  \n",
       "60275              E   land_area  \n",
       "60276              E   land_area  \n",
       "60277              Q   land_area  "
      ]
     },
     "execution_count": 34,
     "metadata": {},
     "output_type": "execute_result"
    }
   ],
   "source": [
    "land.loc[land.category=='land_area'].loc[land.country_or_area=='China'].head()"
   ]
  },
  {
   "cell_type": "code",
   "execution_count": 35,
   "metadata": {},
   "outputs": [
    {
     "data": {
      "text/plain": [
       "array(['1000 Ha', nan], dtype=object)"
      ]
     },
     "execution_count": 35,
     "metadata": {},
     "output_type": "execute_result"
    }
   ],
   "source": [
    "land.loc[land.category=='land_area'].unit.unique()"
   ]
  },
  {
   "cell_type": "code",
   "execution_count": 40,
   "metadata": {},
   "outputs": [
    {
     "data": {
      "text/html": [
       "<div>\n",
       "<style scoped>\n",
       "    .dataframe tbody tr th:only-of-type {\n",
       "        vertical-align: middle;\n",
       "    }\n",
       "\n",
       "    .dataframe tbody tr th {\n",
       "        vertical-align: top;\n",
       "    }\n",
       "\n",
       "    .dataframe thead th {\n",
       "        text-align: right;\n",
       "    }\n",
       "</style>\n",
       "<table border=\"1\" class=\"dataframe\">\n",
       "  <thead>\n",
       "    <tr style=\"text-align: right;\">\n",
       "      <th></th>\n",
       "      <th>country_or_area</th>\n",
       "      <th>element_code</th>\n",
       "      <th>element</th>\n",
       "      <th>year</th>\n",
       "      <th>unit</th>\n",
       "      <th>value</th>\n",
       "      <th>value_footnotes</th>\n",
       "      <th>category</th>\n",
       "      <th>land_area_x</th>\n",
       "      <th>norm_value</th>\n",
       "      <th>land_area_y</th>\n",
       "      <th>land_area</th>\n",
       "    </tr>\n",
       "  </thead>\n",
       "  <tbody>\n",
       "    <tr>\n",
       "      <th>0</th>\n",
       "      <td>Africa +</td>\n",
       "      <td>11</td>\n",
       "      <td>Stocks</td>\n",
       "      <td>2007.0</td>\n",
       "      <td>No</td>\n",
       "      <td>16199398.0</td>\n",
       "      <td>A</td>\n",
       "      <td>beehives</td>\n",
       "      <td>2964396.4</td>\n",
       "      <td>5.464653</td>\n",
       "      <td>2964396.4</td>\n",
       "      <td>2964396.4</td>\n",
       "    </tr>\n",
       "    <tr>\n",
       "      <th>1</th>\n",
       "      <td>Africa +</td>\n",
       "      <td>11</td>\n",
       "      <td>Stocks</td>\n",
       "      <td>2006.0</td>\n",
       "      <td>No</td>\n",
       "      <td>16214756.0</td>\n",
       "      <td>A</td>\n",
       "      <td>beehives</td>\n",
       "      <td>2964396.4</td>\n",
       "      <td>5.469834</td>\n",
       "      <td>2964396.4</td>\n",
       "      <td>2964396.4</td>\n",
       "    </tr>\n",
       "    <tr>\n",
       "      <th>2</th>\n",
       "      <td>Africa +</td>\n",
       "      <td>11</td>\n",
       "      <td>Stocks</td>\n",
       "      <td>2005.0</td>\n",
       "      <td>No</td>\n",
       "      <td>15362910.0</td>\n",
       "      <td>A</td>\n",
       "      <td>beehives</td>\n",
       "      <td>2964396.4</td>\n",
       "      <td>5.182475</td>\n",
       "      <td>2964396.4</td>\n",
       "      <td>2964396.4</td>\n",
       "    </tr>\n",
       "    <tr>\n",
       "      <th>3</th>\n",
       "      <td>Africa +</td>\n",
       "      <td>11</td>\n",
       "      <td>Stocks</td>\n",
       "      <td>2004.0</td>\n",
       "      <td>No</td>\n",
       "      <td>15803095.0</td>\n",
       "      <td>A</td>\n",
       "      <td>beehives</td>\n",
       "      <td>2964396.5</td>\n",
       "      <td>5.330965</td>\n",
       "      <td>2964396.5</td>\n",
       "      <td>2964396.5</td>\n",
       "    </tr>\n",
       "    <tr>\n",
       "      <th>4</th>\n",
       "      <td>Africa +</td>\n",
       "      <td>11</td>\n",
       "      <td>Stocks</td>\n",
       "      <td>2003.0</td>\n",
       "      <td>No</td>\n",
       "      <td>15465850.0</td>\n",
       "      <td>A</td>\n",
       "      <td>beehives</td>\n",
       "      <td>2964396.5</td>\n",
       "      <td>5.217200</td>\n",
       "      <td>2964396.5</td>\n",
       "      <td>2964396.5</td>\n",
       "    </tr>\n",
       "  </tbody>\n",
       "</table>\n",
       "</div>"
      ],
      "text/plain": [
       "  country_or_area element_code element    year unit       value  \\\n",
       "0        Africa +           11  Stocks  2007.0   No  16199398.0   \n",
       "1        Africa +           11  Stocks  2006.0   No  16214756.0   \n",
       "2        Africa +           11  Stocks  2005.0   No  15362910.0   \n",
       "3        Africa +           11  Stocks  2004.0   No  15803095.0   \n",
       "4        Africa +           11  Stocks  2003.0   No  15465850.0   \n",
       "\n",
       "  value_footnotes  category  land_area_x  norm_value  land_area_y  land_area  \n",
       "0              A   beehives    2964396.4    5.464653    2964396.4  2964396.4  \n",
       "1              A   beehives    2964396.4    5.469834    2964396.4  2964396.4  \n",
       "2              A   beehives    2964396.4    5.182475    2964396.4  2964396.4  \n",
       "3              A   beehives    2964396.5    5.330965    2964396.5  2964396.5  \n",
       "4              A   beehives    2964396.5    5.217200    2964396.5  2964396.5  "
      ]
     },
     "execution_count": 40,
     "metadata": {},
     "output_type": "execute_result"
    }
   ],
   "source": [
    "#compute normalized number of beehives (number of beehives / land area in 1000 Ha)\n",
    "land_area=land.loc[land.category=='land_area']\n",
    "land_area=land_area[['country_or_area','year','value']]\n",
    "land_area.columns=['country_or_area','year','land_area']\n",
    "\n",
    "beehives=pd.merge(beehives,land_area,on=['country_or_area','year'])\n",
    "beehives['norm_value']=beehives['value']/beehives['land_area']\n",
    "beehives.head()"
   ]
  },
  {
   "cell_type": "code",
   "execution_count": 37,
   "metadata": {},
   "outputs": [
    {
     "data": {
      "application/vnd.jupyter.widget-view+json": {
       "model_id": "a4d373cf39ee47ecae0411525791027c",
       "version_major": 2,
       "version_minor": 0
      },
      "text/plain": [
       "interactive(children=(Dropdown(description='year', options=(2007.0, 2006.0, 2005.0, 2004.0, 2003.0, 2002.0, 20…"
      ]
     },
     "metadata": {},
     "output_type": "display_data"
    }
   ],
   "source": [
    "years=beehives['year'].unique()\n",
    "@interact(top=(3,100,1))\n",
    "def normalized_country_ranking_over_year(year = years ,top=10):\n",
    "    #get the country data\n",
    "    bee_year=beehives[[c in countries for c in beehives['country_or_area']]]\n",
    "    #get data of the seected year\n",
    "    bee_year=bee_year.loc[beehives['year']==year]\n",
    "    \n",
    "    #prepare the ranking \n",
    "    bee_year=bee_year.sort_values(by='norm_value',ascending=False)\n",
    "    \n",
    "    #plotting\n",
    "    plt.figure(figsize=(15,top))\n",
    "    plt.barh(bee_year['country_or_area'][:top],bee_year['norm_value'][:top])\n",
    "    plt.xlabel('number of beehives/land area')\n",
    "    plt.title('Number of beehives per 1000Ha\\ntop %d' % top)\n",
    "    plt.gca().invert_yaxis()\n",
    "    plt.xlim(0,250)"
   ]
  },
  {
   "cell_type": "code",
   "execution_count": 38,
   "metadata": {},
   "outputs": [
    {
     "data": {
      "text/plain": [
       "<matplotlib.axes._subplots.AxesSubplot at 0x7f1e6eac7630>"
      ]
     },
     "execution_count": 38,
     "metadata": {},
     "output_type": "execute_result"
    },
    {
     "data": {
      "image/png": "[encoded data removed]",
      "text/plain": [
       "<Figure size 720x1440 with 1 Axes>"
      ]
     },
     "metadata": {
      "needs_background": "light"
     },
     "output_type": "display_data"
    }
   ],
   "source": [
    "show_outliers=False\n",
    "beehives.boxplot(column=['norm_value'],by='year',figsize=(10,20),showfliers=show_outliers,vert=False)"
   ]
  },
  {
   "cell_type": "code",
   "execution_count": 39,
   "metadata": {},
   "outputs": [
    {
     "data": {
      "application/vnd.jupyter.widget-view+json": {
       "model_id": "642c5f8e772746b6b3bcb1ab9821504b",
       "version_major": 2,
       "version_minor": 0
      },
      "text/plain": [
       "interactive(children=(Dropdown(description='year', options=(2007.0, 2006.0, 2005.0, 2004.0, 2003.0, 2002.0, 20…"
      ]
     },
     "metadata": {},
     "output_type": "display_data"
    }
   ],
   "source": [
    "@interact\n",
    "def dist_over_year(year=years):\n",
    "    bee_year=beehives[[c in countries for c in beehives['country_or_area']]]\n",
    "    bee_year=bee_year.loc[beehives['year']==year]\n",
    "    plt.hist(bee_year['norm_value'],bins=20)\n",
    "    plt.yscale('log')\n",
    "    #plt.xscale('log')\n",
    "    #plt.xlim(1e-20,1.2e7)\n",
    "    plt.ylabel('number of countries')\n",
    "    plt.xlabel('number of beehives per 1000 Ha')\n",
    "    plt.title('Normalized beehives distribuion across countries')"
   ]
  },
  {
   "cell_type": "code",
   "execution_count": 97,
   "metadata": {},
   "outputs": [],
   "source": [
    "beehives_onlyCountries = beehives[~beehives.country_or_area.str.contains(\"\\+\", na = False)]"
   ]
  },
  {
   "cell_type": "markdown",
   "metadata": {},
   "source": [
    "Number of Beehives around the world grouped by year "
   ]
  },
  {
   "cell_type": "code",
   "execution_count": 98,
   "metadata": {
    "scrolled": false
   },
   "outputs": [
    {
     "data": {
      "text/plain": [
       "<matplotlib.axes._subplots.AxesSubplot at 0x7f1e68b6bd68>"
      ]
     },
     "execution_count": 98,
     "metadata": {},
     "output_type": "execute_result"
    },
    {
     "data": {
      "image/png": "[encoded data removed]",
      "text/plain": [
       "<Figure size 432x288 with 1 Axes>"
      ]
     },
     "metadata": {
      "needs_background": "light"
     },
     "output_type": "display_data"
    }
   ],
   "source": [
    "beehives_onlyCountries.groupby('year')['value'].apply(lambda x : x.astype(int).sum()).plot()"
   ]
  },
  {
   "cell_type": "code",
   "execution_count": 99,
   "metadata": {},
   "outputs": [],
   "source": [
    "harvest_data = pd.read_csv('data/fao_data_crops_data.csv')\n"
   ]
  },
  {
   "cell_type": "code",
   "execution_count": 100,
   "metadata": {},
   "outputs": [
    {
     "data": {
      "text/html": [
       "<div>\n",
       "<style scoped>\n",
       "    .dataframe tbody tr th:only-of-type {\n",
       "        vertical-align: middle;\n",
       "    }\n",
       "\n",
       "    .dataframe tbody tr th {\n",
       "        vertical-align: top;\n",
       "    }\n",
       "\n",
       "    .dataframe thead th {\n",
       "        text-align: right;\n",
       "    }\n",
       "</style>\n",
       "<table border=\"1\" class=\"dataframe\">\n",
       "  <thead>\n",
       "    <tr style=\"text-align: right;\">\n",
       "      <th></th>\n",
       "      <th>country_or_area</th>\n",
       "      <th>element_code</th>\n",
       "      <th>element</th>\n",
       "      <th>year</th>\n",
       "      <th>unit</th>\n",
       "      <th>value</th>\n",
       "      <th>value_footnotes</th>\n",
       "      <th>category</th>\n",
       "    </tr>\n",
       "  </thead>\n",
       "  <tbody>\n",
       "    <tr>\n",
       "      <th>0</th>\n",
       "      <td>Americas +</td>\n",
       "      <td>31</td>\n",
       "      <td>Area Harvested</td>\n",
       "      <td>2007.0</td>\n",
       "      <td>Ha</td>\n",
       "      <td>49404.0</td>\n",
       "      <td>A</td>\n",
       "      <td>agave_fibres_nes</td>\n",
       "    </tr>\n",
       "    <tr>\n",
       "      <th>1</th>\n",
       "      <td>Americas +</td>\n",
       "      <td>31</td>\n",
       "      <td>Area Harvested</td>\n",
       "      <td>2006.0</td>\n",
       "      <td>Ha</td>\n",
       "      <td>49404.0</td>\n",
       "      <td>A</td>\n",
       "      <td>agave_fibres_nes</td>\n",
       "    </tr>\n",
       "    <tr>\n",
       "      <th>2</th>\n",
       "      <td>Americas +</td>\n",
       "      <td>31</td>\n",
       "      <td>Area Harvested</td>\n",
       "      <td>2005.0</td>\n",
       "      <td>Ha</td>\n",
       "      <td>49404.0</td>\n",
       "      <td>A</td>\n",
       "      <td>agave_fibres_nes</td>\n",
       "    </tr>\n",
       "    <tr>\n",
       "      <th>3</th>\n",
       "      <td>Americas +</td>\n",
       "      <td>31</td>\n",
       "      <td>Area Harvested</td>\n",
       "      <td>2004.0</td>\n",
       "      <td>Ha</td>\n",
       "      <td>49113.0</td>\n",
       "      <td>A</td>\n",
       "      <td>agave_fibres_nes</td>\n",
       "    </tr>\n",
       "    <tr>\n",
       "      <th>4</th>\n",
       "      <td>Americas +</td>\n",
       "      <td>31</td>\n",
       "      <td>Area Harvested</td>\n",
       "      <td>2003.0</td>\n",
       "      <td>Ha</td>\n",
       "      <td>48559.0</td>\n",
       "      <td>A</td>\n",
       "      <td>agave_fibres_nes</td>\n",
       "    </tr>\n",
       "  </tbody>\n",
       "</table>\n",
       "</div>"
      ],
      "text/plain": [
       "  country_or_area element_code         element    year unit    value  \\\n",
       "0      Americas +           31  Area Harvested  2007.0   Ha  49404.0   \n",
       "1      Americas +           31  Area Harvested  2006.0   Ha  49404.0   \n",
       "2      Americas +           31  Area Harvested  2005.0   Ha  49404.0   \n",
       "3      Americas +           31  Area Harvested  2004.0   Ha  49113.0   \n",
       "4      Americas +           31  Area Harvested  2003.0   Ha  48559.0   \n",
       "\n",
       "  value_footnotes          category  \n",
       "0              A   agave_fibres_nes  \n",
       "1              A   agave_fibres_nes  \n",
       "2              A   agave_fibres_nes  \n",
       "3              A   agave_fibres_nes  \n",
       "4              A   agave_fibres_nes  "
      ]
     },
     "execution_count": 100,
     "metadata": {},
     "output_type": "execute_result"
    }
   ],
   "source": [
    "harvest_data.head()"
   ]
  },
  {
   "cell_type": "code",
   "execution_count": 101,
   "metadata": {},
   "outputs": [
    {
     "data": {
      "text/plain": [
       "array(['Area Harvested', 'Yield', 'Production Quantity', nan, 'Seed',\n",
       "       'Gross Production 1999-2001 (1000 I$)',\n",
       "       'Net Production 1999-2001 (1000 I$)', 'Gross PIN (base 1999-2001)',\n",
       "       'Grs per capita PIN (base 1999-2001)', 'Net PIN (base 1999-2001)',\n",
       "       'Net per capita PIN (base 1999-2001)'], dtype=object)"
      ]
     },
     "execution_count": 101,
     "metadata": {},
     "output_type": "execute_result"
    }
   ],
   "source": [
    "harvest_data.element.unique()"
   ]
  },
  {
   "cell_type": "code",
   "execution_count": 102,
   "metadata": {},
   "outputs": [],
   "source": [
    "areaHarvested = harvest_data.loc[harvest_data['element']=='Area Harvested']"
   ]
  },
  {
   "cell_type": "code",
   "execution_count": 103,
   "metadata": {},
   "outputs": [
    {
     "data": {
      "application/vnd.jupyter.widget-view+json": {
       "model_id": "6d5f2d2a291747c6a1aa1dac3074471b",
       "version_major": 2,
       "version_minor": 0
      },
      "text/plain": [
       "interactive(children=(Dropdown(description='country', options=('Albania', 'Algeria', 'Angola', 'Argentina', 'A…"
      ]
     },
     "metadata": {},
     "output_type": "display_data"
    }
   ],
   "source": [
    "@interact\n",
    "def show_beehives_for_country(country=countries):\n",
    "    areaHarvested_country=areaHarvested.loc[areaHarvested['country_or_area']==country]\n",
    "    plt.plot(areaHarvested_country['year'],areaHarvested_country['value'],'-*')\n",
    "    plt.title('Country: '+country)\n",
    "    plt.xlabel('Years')\n",
    "    #plt.ylim(0,1.2e7)\n",
    "    plt.ylabel('Number')\n",
    "    plt.xlim(1960, 2010)"
   ]
  },
  {
   "cell_type": "code",
   "execution_count": 104,
   "metadata": {},
   "outputs": [
    {
     "data": {
      "text/plain": [
       "<matplotlib.axes._subplots.AxesSubplot at 0x7f1e694570b8>"
      ]
     },
     "execution_count": 104,
     "metadata": {},
     "output_type": "execute_result"
    },
    {
     "data": {
      "image/png": "[encoded data removed]",
      "text/plain": [
       "<Figure size 432x288 with 1 Axes>"
      ]
     },
     "metadata": {
      "needs_background": "light"
     },
     "output_type": "display_data"
    }
   ],
   "source": [
    "harvested_onlyCountries = areaHarvested[~areaHarvested.country_or_area.str.contains(\"\\+\", na = False)]\n",
    "harvested_onlyCountries.groupby('year')['value'].apply(lambda x : x.astype(int).sum()).plot()"
   ]
  },
  {
   "cell_type": "code",
   "execution_count": 105,
   "metadata": {},
   "outputs": [
    {
     "data": {
      "application/vnd.jupyter.widget-view+json": {
       "model_id": "71547a4fe2a44874ba0d23ed78f27f32",
       "version_major": 2,
       "version_minor": 0
      },
      "text/plain": [
       "interactive(children=(Dropdown(description='area', options=('Africa +', 'Americas +', 'Asia +', 'Australia and…"
      ]
     },
     "metadata": {},
     "output_type": "display_data"
    }
   ],
   "source": [
    "@interact\n",
    "def show_beehives_for_geo_area(area=geo_areas):\n",
    "    areaHarvested_continent=areaHarvested.loc[areaHarvested['country_or_area']==area]\n",
    "    plt.plot(areaHarvested_continent['year'],areaHarvested_continent['value'],'-*')\n",
    "    plt.title('Geographical area: '+area)\n",
    "    plt.xlabel('Years')\n",
    "    plt.ylabel('Number')\n",
    "    plt.xlim(1960, 2010)"
   ]
  },
  {
   "cell_type": "code",
   "execution_count": null,
   "metadata": {},
   "outputs": [],
   "source": []
  }
 ],
 "metadata": {
  "kernelspec": {
   "display_name": "Python 3",
   "language": "python",
   "name": "python3"
  },
  "language_info": {
   "codemirror_mode": {
    "name": "ipython",
    "version": 3
   },
   "file_extension": ".py",
   "mimetype": "text/x-python",
   "name": "python",
   "nbconvert_exporter": "python",
   "pygments_lexer": "ipython3",
   "version": "3.7.3"
  }
 },
 "nbformat": 4,
 "nbformat_minor": 4
}
